{
 "cells": [
  {
   "cell_type": "markdown",
   "metadata": {
    "toc": true
   },
   "source": [
    "<h1>Table of Contents<span class=\"tocSkip\"></span></h1>\n",
    "<div class=\"toc\"><ul class=\"toc-item\"><li><span><a href=\"#Imports\" data-toc-modified-id=\"Imports-1\"><span class=\"toc-item-num\">1&nbsp;&nbsp;</span>Imports</a></span></li><li><span><a href=\"#Helper-Classes\" data-toc-modified-id=\"Helper-Classes-2\"><span class=\"toc-item-num\">2&nbsp;&nbsp;</span>Helper Classes</a></span></li><li><span><a href=\"#Question-2\" data-toc-modified-id=\"Question-2-3\"><span class=\"toc-item-num\">3&nbsp;&nbsp;</span>Question 2</a></span><ul class=\"toc-item\"><li><span><a href=\"#Importing-Data\" data-toc-modified-id=\"Importing-Data-3.1\"><span class=\"toc-item-num\">3.1&nbsp;&nbsp;</span>Importing Data</a></span><ul class=\"toc-item\"><li><span><a href=\"#Constants\" data-toc-modified-id=\"Constants-3.1.1\"><span class=\"toc-item-num\">3.1.1&nbsp;&nbsp;</span>Constants</a></span></li><li><span><a href=\"#Test-Data\" data-toc-modified-id=\"Test-Data-3.1.2\"><span class=\"toc-item-num\">3.1.2&nbsp;&nbsp;</span>Test Data</a></span></li><li><span><a href=\"#Training-/-Validation-Data\" data-toc-modified-id=\"Training-/-Validation-Data-3.1.3\"><span class=\"toc-item-num\">3.1.3&nbsp;&nbsp;</span>Training / Validation Data</a></span></li></ul></li></ul></li><li><span><a href=\"#Question-2a\" data-toc-modified-id=\"Question-2a-4\"><span class=\"toc-item-num\">4&nbsp;&nbsp;</span>Question 2a</a></span><ul class=\"toc-item\"><li><span><a href=\"#Generalized-Linear-Regression\" data-toc-modified-id=\"Generalized-Linear-Regression-4.1\"><span class=\"toc-item-num\">4.1&nbsp;&nbsp;</span>Generalized Linear Regression</a></span><ul class=\"toc-item\"><li><span><a href=\"#Model-Definition\" data-toc-modified-id=\"Model-Definition-4.1.1\"><span class=\"toc-item-num\">4.1.1&nbsp;&nbsp;</span>Model Definition</a></span></li><li><span><a href=\"#Cross-Validation\" data-toc-modified-id=\"Cross-Validation-4.1.2\"><span class=\"toc-item-num\">4.1.2&nbsp;&nbsp;</span>Cross Validation</a></span></li><li><span><a href=\"#Finding-the-Optimal-Degree\" data-toc-modified-id=\"Finding-the-Optimal-Degree-4.1.3\"><span class=\"toc-item-num\">4.1.3&nbsp;&nbsp;</span>Finding the Optimal Degree</a></span></li><li><span><a href=\"#Loss-on-Test-Set-with-Optimal-Degree\" data-toc-modified-id=\"Loss-on-Test-Set-with-Optimal-Degree-4.1.4\"><span class=\"toc-item-num\">4.1.4&nbsp;&nbsp;</span>Loss on Test Set with Optimal Degree</a></span></li><li><span><a href=\"#Run-Time-Complexity\" data-toc-modified-id=\"Run-Time-Complexity-4.1.5\"><span class=\"toc-item-num\">4.1.5&nbsp;&nbsp;</span>Run Time Complexity</a></span></li></ul></li></ul></li><li><span><a href=\"#Question-2b\" data-toc-modified-id=\"Question-2b-5\"><span class=\"toc-item-num\">5&nbsp;&nbsp;</span>Question 2b</a></span><ul class=\"toc-item\"><li><span><a href=\"#Bayesian-Linear-Regression\" data-toc-modified-id=\"Bayesian-Linear-Regression-5.1\"><span class=\"toc-item-num\">5.1&nbsp;&nbsp;</span>Bayesian Linear Regression</a></span><ul class=\"toc-item\"><li><span><a href=\"#Model-Definition\" data-toc-modified-id=\"Model-Definition-5.1.1\"><span class=\"toc-item-num\">5.1.1&nbsp;&nbsp;</span>Model Definition</a></span></li><li><span><a href=\"#Cross-Validation\" data-toc-modified-id=\"Cross-Validation-5.1.2\"><span class=\"toc-item-num\">5.1.2&nbsp;&nbsp;</span>Cross Validation</a></span></li><li><span><a href=\"#Finding-the-Optimal-Degree\" data-toc-modified-id=\"Finding-the-Optimal-Degree-5.1.3\"><span class=\"toc-item-num\">5.1.3&nbsp;&nbsp;</span>Finding the Optimal Degree</a></span></li><li><span><a href=\"#Loss-on-Test-Set-with-Optimal-Lambda\" data-toc-modified-id=\"Loss-on-Test-Set-with-Optimal-Lambda-5.1.4\"><span class=\"toc-item-num\">5.1.4&nbsp;&nbsp;</span>Loss on Test Set with Optimal Lambda</a></span></li><li><span><a href=\"#Run-Time-Complexity\" data-toc-modified-id=\"Run-Time-Complexity-5.1.5\"><span class=\"toc-item-num\">5.1.5&nbsp;&nbsp;</span>Run Time Complexity</a></span></li><li><span><a href=\"#Discussion\" data-toc-modified-id=\"Discussion-5.1.6\"><span class=\"toc-item-num\">5.1.6&nbsp;&nbsp;</span>Discussion</a></span></li></ul></li></ul></li><li><span><a href=\"#Question-2c\" data-toc-modified-id=\"Question-2c-6\"><span class=\"toc-item-num\">6&nbsp;&nbsp;</span>Question 2c</a></span><ul class=\"toc-item\"><li><span><a href=\"#Gaussian-Process\" data-toc-modified-id=\"Gaussian-Process-6.1\"><span class=\"toc-item-num\">6.1&nbsp;&nbsp;</span>Gaussian Process</a></span><ul class=\"toc-item\"><li><span><a href=\"#Model-Definition\" data-toc-modified-id=\"Model-Definition-6.1.1\"><span class=\"toc-item-num\">6.1.1&nbsp;&nbsp;</span>Model Definition</a></span></li></ul></li><li><span><a href=\"#Identity-Kernel\" data-toc-modified-id=\"Identity-Kernel-6.2\"><span class=\"toc-item-num\">6.2&nbsp;&nbsp;</span>Identity Kernel</a></span></li><li><span><a href=\"#Gaussian-Kernel\" data-toc-modified-id=\"Gaussian-Kernel-6.3\"><span class=\"toc-item-num\">6.3&nbsp;&nbsp;</span>Gaussian Kernel</a></span><ul class=\"toc-item\"><li><span><a href=\"#Cross-Validation\" data-toc-modified-id=\"Cross-Validation-6.3.1\"><span class=\"toc-item-num\">6.3.1&nbsp;&nbsp;</span>Cross Validation</a></span></li><li><span><a href=\"#Finding-the-Optimal-Sigma\" data-toc-modified-id=\"Finding-the-Optimal-Sigma-6.3.2\"><span class=\"toc-item-num\">6.3.2&nbsp;&nbsp;</span>Finding the Optimal Sigma</a></span></li><li><span><a href=\"#Loss-on-Test-set-with-Optimal-Sigma\" data-toc-modified-id=\"Loss-on-Test-set-with-Optimal-Sigma-6.3.3\"><span class=\"toc-item-num\">6.3.3&nbsp;&nbsp;</span>Loss on Test set with Optimal Sigma</a></span></li></ul></li><li><span><a href=\"#Polynomial-Kernel\" data-toc-modified-id=\"Polynomial-Kernel-6.4\"><span class=\"toc-item-num\">6.4&nbsp;&nbsp;</span>Polynomial Kernel</a></span><ul class=\"toc-item\"><li><span><a href=\"#Cross-Validation\" data-toc-modified-id=\"Cross-Validation-6.4.1\"><span class=\"toc-item-num\">6.4.1&nbsp;&nbsp;</span>Cross Validation</a></span></li><li><span><a href=\"#Finding-the-Optimal-Degree\" data-toc-modified-id=\"Finding-the-Optimal-Degree-6.4.2\"><span class=\"toc-item-num\">6.4.2&nbsp;&nbsp;</span>Finding the Optimal Degree</a></span></li><li><span><a href=\"#Loss-on-Test-Set-with-Optimal-Degree\" data-toc-modified-id=\"Loss-on-Test-Set-with-Optimal-Degree-6.4.3\"><span class=\"toc-item-num\">6.4.3&nbsp;&nbsp;</span>Loss on Test Set with Optimal Degree</a></span></li><li><span><a href=\"#Runtime-complexity\" data-toc-modified-id=\"Runtime-complexity-6.4.4\"><span class=\"toc-item-num\">6.4.4&nbsp;&nbsp;</span>Runtime complexity</a></span></li></ul></li></ul></li><li><span><a href=\"#Question-2d\" data-toc-modified-id=\"Question-2d-7\"><span class=\"toc-item-num\">7&nbsp;&nbsp;</span>Question 2d</a></span><ul class=\"toc-item\"><li><span><a href=\"#Neural-Network\" data-toc-modified-id=\"Neural-Network-7.1\"><span class=\"toc-item-num\">7.1&nbsp;&nbsp;</span>Neural Network</a></span><ul class=\"toc-item\"><li><span><a href=\"#Model-Definition\" data-toc-modified-id=\"Model-Definition-7.1.1\"><span class=\"toc-item-num\">7.1.1&nbsp;&nbsp;</span>Model Definition</a></span></li><li><span><a href=\"#Cross-Validation\" data-toc-modified-id=\"Cross-Validation-7.1.2\"><span class=\"toc-item-num\">7.1.2&nbsp;&nbsp;</span>Cross Validation</a></span></li><li><span><a href=\"#Finding-the-optimal-#-of-hidden-nodes\" data-toc-modified-id=\"Finding-the-optimal-#-of-hidden-nodes-7.1.3\"><span class=\"toc-item-num\">7.1.3&nbsp;&nbsp;</span>Finding the optimal # of hidden nodes</a></span></li><li><span><a href=\"#Runtime-Complexity\" data-toc-modified-id=\"Runtime-Complexity-7.1.4\"><span class=\"toc-item-num\">7.1.4&nbsp;&nbsp;</span>Runtime Complexity</a></span></li><li><span><a href=\"#Loss-on-Test-Set-with-Optimal-Nodes\" data-toc-modified-id=\"Loss-on-Test-Set-with-Optimal-Nodes-7.1.5\"><span class=\"toc-item-num\">7.1.5&nbsp;&nbsp;</span>Loss on Test Set with Optimal Nodes</a></span></li></ul></li></ul></li></ul></div>"
   ]
  },
  {
   "cell_type": "markdown",
   "metadata": {},
   "source": [
    "# Imports"
   ]
  },
  {
   "cell_type": "code",
   "execution_count": 2,
   "metadata": {},
   "outputs": [],
   "source": [
    "import pandas as pd\n",
    "import numpy as np\n",
    "from collections import Counter\n",
    "from itertools import groupby\n",
    "from operator import itemgetter\n",
    "from tqdm import tqdm_notebook\n",
    "import matplotlib.pyplot as plt\n",
    "from numpy.linalg import norm\n",
    "from abc import ABC, abstractmethod \n",
    "import time\n",
    "from sklearn.preprocessing import PolynomialFeatures\n",
    "from scipy.stats import multivariate_normal as mv_norm"
   ]
  },
  {
   "cell_type": "markdown",
   "metadata": {},
   "source": [
    "# Helper Classes"
   ]
  },
  {
   "cell_type": "code",
   "execution_count": 3,
   "metadata": {},
   "outputs": [],
   "source": [
    "class DataFetcher:\n",
    "    \"\"\"\n",
    "    DataFetcher: Grabs all csv data as pandas dataframes.\n",
    "    \"\"\"\n",
    "    def __init__(self, directory, X_name, y_name):\n",
    "        self.directory = directory\n",
    "        self.X_name = X_name\n",
    "        self.y_name = y_name\n",
    "        \n",
    "    def _get_training_X_path(self, subset_num):\n",
    "        # 0 <= subset_num <= 9\n",
    "        return './%s/train%s%d.csv' % (self.directory, self.X_name, (subset_num + 1))\n",
    "\n",
    "    def _get_training_y_path(self, subset_num):\n",
    "        # 0 <= subset_num <= 9\n",
    "        return './%s/train%s%d.csv' % (self.directory, self.y_name, (subset_num + 1))\n",
    "\n",
    "    def get_all_training_X_y(self):\n",
    "        training_X_dfs = []\n",
    "        training_y_dfs = []\n",
    "        for i in range(NUM_SUBSETS):\n",
    "            X_path = self._get_training_X_path(i)\n",
    "            y_path = self._get_training_y_path(i)\n",
    "            X_df = pd.read_csv(X_path, header=None)\n",
    "            y_df =  pd.read_csv(y_path, header=None)\n",
    "            training_X_dfs.append(X_df)\n",
    "            training_y_dfs.append(y_df)\n",
    "        \n",
    "        return training_X_dfs, training_y_dfs\n",
    "    \n",
    "    def get_test_X_y(self):\n",
    "        test_X_path = './%s/test%s.csv' % (self.directory, self.X_name)\n",
    "        test_y_path = './%s/test%s.csv' % (self.directory, self.y_name)\n",
    "        test_X_df = pd.read_csv(test_X_path, header=None)\n",
    "        test_y_df = pd.read_csv(test_y_path, header=None)\n",
    "        return test_X_df, test_y_df\n",
    "    \n",
    "class CrossValidationData:\n",
    "    \"\"\"\n",
    "    CrossValidationData: Splits list of training dataframes \n",
    "        into validation & training dataframes.\n",
    "    \"\"\"\n",
    "    def __init__(self, X_dfs, y_dfs):\n",
    "        assert(len(X_dfs) == len(y_dfs))\n",
    "        self.X = X_dfs\n",
    "        self.y = y_dfs\n",
    "        self.num_subsets = len(X_dfs)\n",
    "        \n",
    "    def _split_training_validation(self, dfs, subset_num):\n",
    "        \n",
    "        validation_df = dfs[subset_num]\n",
    "        \n",
    "        training_dfs = dfs[:subset_num] + dfs[subset_num+1:]\n",
    "        training_df = pd.concat(training_dfs, ignore_index=True)\n",
    "      \n",
    "        return [training_df, validation_df]     \n",
    "        \n",
    "    def _get_training_validation_X(self, subset_num):\n",
    "        assert(subset_num < self.num_subsets)\n",
    "        \n",
    "        [training_X, validation_X] = self._split_training_validation(self.X, subset_num)\n",
    "        \n",
    "        return [training_X, validation_X]\n",
    "    \n",
    "    def _get_training_validation_y(self, subset_num):\n",
    "        assert(subset_num < self.num_subsets)\n",
    "        \n",
    "        [training_y, validation_y] = self._split_training_validation(self.y, subset_num)\n",
    "        \n",
    "        return [training_y, validation_y]\n",
    "    \n",
    "    def get_training_validation_X_y(self, subset_num):\n",
    "        [training_X, validation_X] = self._get_training_validation_X(subset_num)\n",
    "        [training_y, validation_y] = self._get_training_validation_y(subset_num)\n",
    "        return [training_X, training_y, validation_X, validation_y]\n",
    "\n",
    "    def get_all_X_y(self):\n",
    "        training_X = pd.concat(self.X, ignore_index=True)\n",
    "        training_y = pd.concat(self.y, ignore_index=True)\n",
    "        return [training_X, training_y]\n",
    "    \n",
    "def get_accuracy(true_labels, predicted_labels):\n",
    "    assert(len(true_labels) == len(predicted_labels))\n",
    "    return sum(1 for y, y_hat in zip(true_labels, predicted_labels) if y == y_hat ) / len(true_labels)\n",
    "\n",
    "class Model(ABC):\n",
    "    \"\"\"\n",
    "    Model -> Abstract base class for the models we will implement, namely \n",
    "            KNN and RidgeRegression.\n",
    "    \"\"\"\n",
    "    def __init__(self, train_X, train_y):\n",
    "        self.train_X = train_X\n",
    "        self.train_y = train_y\n",
    "    \n",
    "    @abstractmethod\n",
    "    def predict(self, x):\n",
    "        pass\n",
    "        \n",
    "    def predict_df(self, X_df):\n",
    "        predictions = X_df.apply(lambda row: self.predict(row), raw=True, axis=1)\n",
    "        return predictions"
   ]
  },
  {
   "cell_type": "markdown",
   "metadata": {},
   "source": [
    "# Question 2\n",
    "\n",
    "## Importing Data\n",
    "\n",
    "### Constants"
   ]
  },
  {
   "cell_type": "code",
   "execution_count": 4,
   "metadata": {},
   "outputs": [],
   "source": [
    "DIR_NAME = 'nonlinear-regression-dataset'\n",
    "X_NAME = 'Input'\n",
    "Y_NAME = 'Target'\n",
    "NUM_SUBSETS = 10\n",
    "SIGMAS = [1,2,3,4,5,6]\n",
    "HIDDEN_NODES = [1,2,3,4,5,6,7,8,9,10]"
   ]
  },
  {
   "cell_type": "markdown",
   "metadata": {},
   "source": [
    "### Test Data"
   ]
  },
  {
   "cell_type": "code",
   "execution_count": 5,
   "metadata": {},
   "outputs": [
    {
     "data": {
      "text/html": [
       "<div>\n",
       "<style scoped>\n",
       "    .dataframe tbody tr th:only-of-type {\n",
       "        vertical-align: middle;\n",
       "    }\n",
       "\n",
       "    .dataframe tbody tr th {\n",
       "        vertical-align: top;\n",
       "    }\n",
       "\n",
       "    .dataframe thead th {\n",
       "        text-align: right;\n",
       "    }\n",
       "</style>\n",
       "<table border=\"1\" class=\"dataframe\">\n",
       "  <thead>\n",
       "    <tr style=\"text-align: right;\">\n",
       "      <th></th>\n",
       "      <th>0</th>\n",
       "      <th>1</th>\n",
       "    </tr>\n",
       "  </thead>\n",
       "  <tbody>\n",
       "    <tr>\n",
       "      <th>0</th>\n",
       "      <td>11</td>\n",
       "      <td>1</td>\n",
       "    </tr>\n",
       "    <tr>\n",
       "      <th>1</th>\n",
       "      <td>2</td>\n",
       "      <td>13</td>\n",
       "    </tr>\n",
       "    <tr>\n",
       "      <th>2</th>\n",
       "      <td>13</td>\n",
       "      <td>11</td>\n",
       "    </tr>\n",
       "    <tr>\n",
       "      <th>3</th>\n",
       "      <td>16</td>\n",
       "      <td>11</td>\n",
       "    </tr>\n",
       "    <tr>\n",
       "      <th>4</th>\n",
       "      <td>10</td>\n",
       "      <td>6</td>\n",
       "    </tr>\n",
       "  </tbody>\n",
       "</table>\n",
       "</div>"
      ],
      "text/plain": [
       "    0   1\n",
       "0  11   1\n",
       "1   2  13\n",
       "2  13  11\n",
       "3  16  11\n",
       "4  10   6"
      ]
     },
     "execution_count": 5,
     "metadata": {},
     "output_type": "execute_result"
    }
   ],
   "source": [
    "DF = DataFetcher(DIR_NAME, X_NAME, Y_NAME)\n",
    "test_X, test_y = DF.get_test_X_y()\n",
    "\n",
    "test_X.head()"
   ]
  },
  {
   "cell_type": "code",
   "execution_count": 6,
   "metadata": {
    "scrolled": true
   },
   "outputs": [
    {
     "data": {
      "text/html": [
       "<div>\n",
       "<style scoped>\n",
       "    .dataframe tbody tr th:only-of-type {\n",
       "        vertical-align: middle;\n",
       "    }\n",
       "\n",
       "    .dataframe tbody tr th {\n",
       "        vertical-align: top;\n",
       "    }\n",
       "\n",
       "    .dataframe thead th {\n",
       "        text-align: right;\n",
       "    }\n",
       "</style>\n",
       "<table border=\"1\" class=\"dataframe\">\n",
       "  <thead>\n",
       "    <tr style=\"text-align: right;\">\n",
       "      <th></th>\n",
       "      <th>0</th>\n",
       "    </tr>\n",
       "  </thead>\n",
       "  <tbody>\n",
       "    <tr>\n",
       "      <th>0</th>\n",
       "      <td>1.604</td>\n",
       "    </tr>\n",
       "    <tr>\n",
       "      <th>1</th>\n",
       "      <td>-0.064</td>\n",
       "    </tr>\n",
       "    <tr>\n",
       "      <th>2</th>\n",
       "      <td>-3.017</td>\n",
       "    </tr>\n",
       "    <tr>\n",
       "      <th>3</th>\n",
       "      <td>-2.354</td>\n",
       "    </tr>\n",
       "    <tr>\n",
       "      <th>4</th>\n",
       "      <td>-0.394</td>\n",
       "    </tr>\n",
       "  </tbody>\n",
       "</table>\n",
       "</div>"
      ],
      "text/plain": [
       "       0\n",
       "0  1.604\n",
       "1 -0.064\n",
       "2 -3.017\n",
       "3 -2.354\n",
       "4 -0.394"
      ]
     },
     "execution_count": 6,
     "metadata": {},
     "output_type": "execute_result"
    }
   ],
   "source": [
    "test_y.head()"
   ]
  },
  {
   "cell_type": "markdown",
   "metadata": {},
   "source": [
    "### Training / Validation Data"
   ]
  },
  {
   "cell_type": "code",
   "execution_count": 7,
   "metadata": {},
   "outputs": [
    {
     "name": "stdout",
     "output_type": "stream",
     "text": [
      "Training X shape: (180, 2)\n"
     ]
    }
   ],
   "source": [
    "training_X_dfs, training_y_dfs = DF.get_all_training_X_y()\n",
    "\n",
    "CVData = CrossValidationData(training_X_dfs, training_y_dfs)\n",
    "\n",
    "print(\"Training X shape: \" + str(CVData.get_training_validation_X_y(0)[0].shape))"
   ]
  },
  {
   "cell_type": "code",
   "execution_count": 8,
   "metadata": {
    "scrolled": false
   },
   "outputs": [
    {
     "name": "stdout",
     "output_type": "stream",
     "text": [
      "Training y shape: (180, 1)\n"
     ]
    }
   ],
   "source": [
    "print(\"Training y shape: \" + str(CVData.get_training_validation_X_y(0)[1].shape))"
   ]
  },
  {
   "cell_type": "code",
   "execution_count": 9,
   "metadata": {
    "scrolled": true
   },
   "outputs": [
    {
     "name": "stdout",
     "output_type": "stream",
     "text": [
      "Validation X shape: (20, 2)\n"
     ]
    }
   ],
   "source": [
    "print(\"Validation X shape: \" + str(CVData.get_training_validation_X_y(0)[2].shape))"
   ]
  },
  {
   "cell_type": "code",
   "execution_count": 10,
   "metadata": {},
   "outputs": [
    {
     "name": "stdout",
     "output_type": "stream",
     "text": [
      "Validation y shape: (20, 1)\n"
     ]
    }
   ],
   "source": [
    "print(\"Validation y shape: \" + str(CVData.get_training_validation_X_y(0)[3].shape))"
   ]
  },
  {
   "cell_type": "markdown",
   "metadata": {},
   "source": [
    "# Question 2a\n",
    "\n",
    "## Generalized Linear Regression\n",
    "\n",
    "### Model Definition"
   ]
  },
  {
   "cell_type": "code",
   "execution_count": 11,
   "metadata": {},
   "outputs": [],
   "source": [
    "class GeneralizedLinearRegression(Model):\n",
    "    \n",
    "    def __init__(self, train_X, train_y, d, lmbda=0):\n",
    "        super().__init__(train_X, train_y)\n",
    "        X_original = train_X.to_numpy()\n",
    "        y = train_y.to_numpy()\n",
    "        \n",
    "        # Convert to new space\n",
    "        poly = PolynomialFeatures(d)\n",
    "        X = poly.fit_transform(X_original)\n",
    "        \n",
    "        # Get inverse of A\n",
    "        A = X.T.dot(X) + lmbda * np.identity(len(X.T))\n",
    "        A_inv = np.linalg.inv(A)\n",
    "        # Get b\n",
    "        b = X.T.dot(y)\n",
    "\n",
    "        # Get w\n",
    "        w = A_inv.dot(b)\n",
    "\n",
    "        # Persist fields\n",
    "        self.w = w\n",
    "        self.lmbda = lmbda\n",
    "        self.poly = poly\n",
    "    \n",
    "\n",
    "    def predict(self, x):\n",
    "        x = self.poly.transform(x.reshape(1, -1)).flatten()\n",
    "        y = np.dot(self.w.T, x)[0]\n",
    "        return y\n",
    "\n",
    "def get_mse_loss(true_values, predicted_values):\n",
    "    assert(len(true_values) == len(predicted_values))\n",
    "    l2_loss = np.mean(np.square(np.subtract(true_values,predicted_values)))\n",
    "    return l2_loss"
   ]
  },
  {
   "cell_type": "markdown",
   "metadata": {},
   "source": [
    "### Cross Validation"
   ]
  },
  {
   "cell_type": "code",
   "execution_count": 12,
   "metadata": {},
   "outputs": [],
   "source": [
    "def perform_GLRM_CV(d):\n",
    "    np.random.seed(42)\n",
    "    \n",
    "    # Perform CV\n",
    "    losses = []\n",
    "    for j in range(NUM_SUBSETS):\n",
    "        train_X, train_y, validation_X, validation_y = CVData.get_training_validation_X_y(j)\n",
    "            \n",
    "        # Create hypothesis\n",
    "        model = GeneralizedLinearRegression(train_X, train_y, d, lmbda=1)\n",
    "        predicted_validation_y = model.predict_df(validation_X)\n",
    "            \n",
    "        # Get accuracy\n",
    "        loss = get_mse_loss(validation_y.values.flatten(), predicted_validation_y.values.flatten())\n",
    "        losses.append(loss)\n",
    "            \n",
    "    avg_loss = np.mean(losses)\n",
    "    return avg_loss"
   ]
  },
  {
   "cell_type": "markdown",
   "metadata": {},
   "source": [
    "### Finding the Optimal Degree"
   ]
  },
  {
   "cell_type": "code",
   "execution_count": 13,
   "metadata": {},
   "outputs": [],
   "source": [
    "t1 = time.time()\n",
    "mse_loss_d1 = perform_GLRM_CV(1)\n",
    "t2 = time.time()\n",
    "mse_loss_d2 = perform_GLRM_CV(2)\n",
    "t3 = time.time()\n",
    "mse_loss_d3 = perform_GLRM_CV(3)\n",
    "t4 = time.time()\n",
    "mse_loss_d4 = perform_GLRM_CV(4)\n",
    "t5 = time.time()"
   ]
  },
  {
   "cell_type": "code",
   "execution_count": 14,
   "metadata": {},
   "outputs": [
    {
     "data": {
      "image/png": "[encoded data removed]",
      "text/plain": [
       "<Figure size 432x288 with 1 Axes>"
      ]
     },
     "metadata": {
      "needs_background": "light"
     },
     "output_type": "display_data"
    }
   ],
   "source": [
    "losses = [mse_loss_d1,mse_loss_d2, mse_loss_d3, mse_loss_d4]\n",
    "plt.plot([1,2,3,4], losses )\n",
    "plt.xlabel('Degree')\n",
    "plt.ylabel('Average L2 Loss')\n",
    "plt.xticks([1,2,3,4])\n",
    "plt.title('Cross Validation')\n",
    "\n",
    "plt.show()"
   ]
  },
  {
   "cell_type": "code",
   "execution_count": 15,
   "metadata": {},
   "outputs": [
    {
     "name": "stdout",
     "output_type": "stream",
     "text": [
      "4\n",
      "The optimal d is 4.000000 with an average mse loss of 0.060250\n"
     ]
    }
   ],
   "source": [
    "optimal_d = np.argsort(losses)[0] + 1\n",
    "print(optimal_d)\n",
    "print(\"The optimal d is %f with an average mse loss of %f\" % (optimal_d, losses[optimal_d-1]))"
   ]
  },
  {
   "cell_type": "markdown",
   "metadata": {},
   "source": [
    "### Loss on Test Set with Optimal Degree"
   ]
  },
  {
   "cell_type": "code",
   "execution_count": 16,
   "metadata": {},
   "outputs": [
    {
     "name": "stdout",
     "output_type": "stream",
     "text": [
      "The loss on the test set is 0.05044037782525286\n"
     ]
    }
   ],
   "source": [
    "training_X, training_y = CVData.get_all_X_y()\n",
    "\n",
    "final_model = GeneralizedLinearRegression(training_X, training_y, optimal_d, lmbda=1)\n",
    "predicted_test_y = final_model.predict_df(test_X)\n",
    "\n",
    "test_loss = get_mse_loss(test_y.values.flatten(), predicted_test_y)\n",
    "print(\"The loss on the test set is \" + str(test_loss))"
   ]
  },
  {
   "cell_type": "markdown",
   "metadata": {},
   "source": [
    "### Run Time Complexity"
   ]
  },
  {
   "cell_type": "code",
   "execution_count": 17,
   "metadata": {},
   "outputs": [
    {
     "name": "stdout",
     "output_type": "stream",
     "text": [
      "Cross Validation Run Time (s) for d = 1: 0.06121087074279785\n",
      "Cross Validation Run Time (s) for d = 2: 0.05336594581604004\n",
      "Cross Validation Run Time (s) for d = 3: 0.06464838981628418\n",
      "Cross Validation Run Time (s) for d = 4: 0.07327580451965332\n"
     ]
    }
   ],
   "source": [
    "print(\"Cross Validation Run Time (s) for d = 1: \" + str(t2-t1))\n",
    "print(\"Cross Validation Run Time (s) for d = 2: \" + str(t3-t2))\n",
    "print(\"Cross Validation Run Time (s) for d = 3: \" + str(t4-t3))\n",
    "print(\"Cross Validation Run Time (s) for d = 4: \" + str(t5-t4))"
   ]
  },
  {
   "cell_type": "markdown",
   "metadata": {},
   "source": [
    "The time complexity of Generalized Linear Regression is cubic in the number of basis functions, $O(n^3)$.\n",
    "\n",
    "This is because we invert the \"A\" matrix in order to solve the system of linear equations defined by Linear Regression. The A matrix is of n x n dimension where n is the number of basis functions.\n",
    "\n",
    "The run times above do not really reflect this time complexity. This could be because of my environment and the variance in processing power. Also, I include the time to predict and to perform other cross validation actions in the clock runtime of the algorithm. Perhaps, we could gain a better insight if I were to just time how long it takes to train. Asymptotically, this should make no difference since training is much more expensive than the other actions."
   ]
  },
  {
   "cell_type": "markdown",
   "metadata": {},
   "source": [
    "# Question 2b\n",
    "\n",
    "## Bayesian Linear Regression \n",
    "\n",
    "### Model Definition"
   ]
  },
  {
   "cell_type": "code",
   "execution_count": 18,
   "metadata": {},
   "outputs": [],
   "source": [
    "class BayesianLinearRegression(Model):\n",
    "    \n",
    "    def __init__(self, train_X, train_y, d):\n",
    "        super().__init__(train_X, train_y)\n",
    "        X_original = train_X.to_numpy()\n",
    "        y = train_y.to_numpy()\n",
    "        \n",
    "        # Convert to new space\n",
    "        poly = PolynomialFeatures(d)\n",
    "        X = poly.fit_transform(X_original)\n",
    "        \n",
    "        # Prior Parameters\n",
    "        prior_mean = 0\n",
    "        prior_cov = np.identity(len(X.T))\n",
    "        \n",
    "        # Likelihood Parameters\n",
    "        std_dev = 1\n",
    "        \n",
    "        # Posterior Parameters\n",
    "        # A\n",
    "        A = ( std_dev ** -2 ) * X.T.dot(X) + np.linalg.inv(prior_cov)\n",
    "        A_inv = np.linalg.inv(A)\n",
    "        \n",
    "        # W bar\n",
    "        w_bar = ( std_dev ** -2 ) * A_inv.dot(X.T.dot(y))\n",
    "\n",
    "        # Persist fields\n",
    "        self.w_bar = w_bar \n",
    "        self.poly = poly\n",
    "        self.X = X\n",
    "        self.A_inv = A_inv\n",
    "    \n",
    "    def predict(self, x):\n",
    "        x = self.poly.transform(x.reshape(1, -1)).flatten()\n",
    "        y = np.dot(self.w_bar.T, x)[0]\n",
    "        return y"
   ]
  },
  {
   "cell_type": "markdown",
   "metadata": {},
   "source": [
    "### Cross Validation"
   ]
  },
  {
   "cell_type": "code",
   "execution_count": 19,
   "metadata": {},
   "outputs": [],
   "source": [
    "def perform_BLRM_CV(d):\n",
    "    np.random.seed(42)\n",
    "    \n",
    "    # Perform CV\n",
    "    losses = []\n",
    "    for j in range(NUM_SUBSETS):\n",
    "        train_X, train_y, validation_X, validation_y = CVData.get_training_validation_X_y(j)\n",
    "            \n",
    "        # Create hypothesis\n",
    "        model = BayesianLinearRegression(train_X, train_y, d)\n",
    "        predicted_validation_y = model.predict_df(validation_X)\n",
    "            \n",
    "        # Get accuracy\n",
    "        loss = get_mse_loss(validation_y.values.flatten(), predicted_validation_y.values.flatten())\n",
    "        losses.append(loss)\n",
    "            \n",
    "    avg_loss = np.mean(losses)\n",
    "    return avg_loss"
   ]
  },
  {
   "cell_type": "markdown",
   "metadata": {},
   "source": [
    "### Finding the Optimal Degree"
   ]
  },
  {
   "cell_type": "code",
   "execution_count": 20,
   "metadata": {},
   "outputs": [],
   "source": [
    "t1 = time.time()\n",
    "mse_loss_d1 = perform_BLRM_CV(1)\n",
    "t2 = time.time()\n",
    "mse_loss_d2 = perform_BLRM_CV(2)\n",
    "t3 = time.time()\n",
    "mse_loss_d3 = perform_BLRM_CV(3)\n",
    "t4 = time.time()\n",
    "mse_loss_d4 = perform_BLRM_CV(4)\n",
    "t5 = time.time()"
   ]
  },
  {
   "cell_type": "code",
   "execution_count": 21,
   "metadata": {},
   "outputs": [
    {
     "data": {
      "image/png": "[encoded data removed]",
      "text/plain": [
       "<Figure size 432x288 with 1 Axes>"
      ]
     },
     "metadata": {
      "needs_background": "light"
     },
     "output_type": "display_data"
    }
   ],
   "source": [
    "losses = [mse_loss_d1,mse_loss_d2, mse_loss_d3, mse_loss_d4]\n",
    "plt.plot([1,2,3,4], losses )\n",
    "plt.xlabel('Degree')\n",
    "plt.ylabel('Average L2 Loss')\n",
    "plt.xticks([1,2,3,4])\n",
    "plt.title('Cross Validation')\n",
    "\n",
    "plt.show()"
   ]
  },
  {
   "cell_type": "code",
   "execution_count": 22,
   "metadata": {},
   "outputs": [
    {
     "name": "stdout",
     "output_type": "stream",
     "text": [
      "4\n",
      "The optimal d is 4.000000 with an average mse loss of 0.060250\n"
     ]
    }
   ],
   "source": [
    "optimal_d = np.argsort(losses)[0] + 1\n",
    "print(optimal_d)\n",
    "print(\"The optimal d is %f with an average mse loss of %f\" % (optimal_d, losses[optimal_d-1]))"
   ]
  },
  {
   "cell_type": "markdown",
   "metadata": {},
   "source": [
    "### Loss on Test Set with Optimal Lambda"
   ]
  },
  {
   "cell_type": "code",
   "execution_count": 23,
   "metadata": {
    "scrolled": true
   },
   "outputs": [
    {
     "name": "stdout",
     "output_type": "stream",
     "text": [
      "The loss on the test set is 0.05044037782525286\n"
     ]
    }
   ],
   "source": [
    "training_X, training_y = CVData.get_all_X_y()\n",
    "\n",
    "final_model = BayesianLinearRegression(training_X, training_y, optimal_d)\n",
    "predicted_test_y = final_model.predict_df(test_X)\n",
    "\n",
    "test_loss = get_mse_loss(test_y.values.flatten(), predicted_test_y)\n",
    "print(\"The loss on the test set is \" + str(test_loss))"
   ]
  },
  {
   "cell_type": "markdown",
   "metadata": {},
   "source": [
    "### Run Time Complexity"
   ]
  },
  {
   "cell_type": "code",
   "execution_count": 24,
   "metadata": {},
   "outputs": [
    {
     "name": "stdout",
     "output_type": "stream",
     "text": [
      "Cross Validation Run Time (s) for d = 1: 0.05828285217285156\n",
      "Cross Validation Run Time (s) for d = 2: 0.0528712272644043\n",
      "Cross Validation Run Time (s) for d = 3: 0.06827592849731445\n",
      "Cross Validation Run Time (s) for d = 4: 0.07222414016723633\n"
     ]
    }
   ],
   "source": [
    "print(\"Cross Validation Run Time (s) for d = 1: \" + str(t2-t1))\n",
    "print(\"Cross Validation Run Time (s) for d = 2: \" + str(t3-t2))\n",
    "print(\"Cross Validation Run Time (s) for d = 3: \" + str(t4-t3))\n",
    "print(\"Cross Validation Run Time (s) for d = 4: \" + str(t5-t4))"
   ]
  },
  {
   "cell_type": "markdown",
   "metadata": {},
   "source": [
    "The time complexity of Bayesian Linear Regression is cubic in the number of basis functions.\n",
    "\n",
    "The run times above reflect this time complexity because as the number of basis functions increase, we see a marked increase in the clock runtime. \n",
    "\n",
    "### Discussion\n",
    "\n",
    "What are the similarities and differences between regularized generalized linear regression and Bayesian\n",
    "generalized linear regression?\n",
    "\n",
    "The two methods are very similar in that they converge to the same result given a Bayesian prior that reflects the penalty term. The two methods are also similar in that they use basis functions to transform X from its input space to a new space where learning takes place.\n",
    "\n",
    "The two methods are very different in their representational capacity. Regularized generalized linear regression fits a hyperplane to the points while penalizing the weights of this hyperplane. Bayesian generalized linear regression takes a Gaussian prior, uses a Gaussian conditional distribution for likelihood, and then computes a posterior distribution over the weights to make predictions. Each facet of the Bayesian model is very intrepretable, could be graphed with contours (for up to 2 weights), and shows how introducing data can reduce our uncertainity in a world of hypotheses by influencing the posterior via the likelihood. \n",
    "\n",
    "They are also different in the way they fundamentally view statistics. Generalized linear regression takes a frequentist approach where we maintain that there are true correct weights and we do the best we can to learn these true weights. The weights found by generalized linear regression is all that is used to form predictions. In contrast, Bayesian linear regression maintains the entire world of hypotheses of weights as potential outcomes. In the Bayesian sense, we do not know if the w we have is the correct one, instead we take a probability distribution over all weights (or hypotheses) in order to create predictions. This means we use the expected value of w, instead of a single precomputed w.\n",
    "\n",
    "It happens to be that when we use Gaussian distributions to model the prior and likelihood, the point estimate for a prediction (the expected value of w dotted with a new incoming point), is the same as the prediction equation for generalized linear regression."
   ]
  },
  {
   "cell_type": "markdown",
   "metadata": {},
   "source": [
    "# Question 2c\n",
    "\n",
    "## Gaussian Process\n",
    "\n",
    "### Model Definition"
   ]
  },
  {
   "cell_type": "code",
   "execution_count": 43,
   "metadata": {},
   "outputs": [],
   "source": [
    "def gram_matrix(X, kernel):\n",
    "    num_points = X.shape[0]\n",
    "    G = np.zeros((num_points, num_points))\n",
    "    for i in range(num_points):\n",
    "        for j in range(num_points):\n",
    "            G[i][j] = kernel(X[i], X[j])\n",
    "    \n",
    "    return G\n",
    "\n",
    "def identity_kernel(x, x_prime):\n",
    "    return x.dot(x_prime)\n",
    "\n",
    "def gaussian_kernel(x, x_prime, sigma):\n",
    "    return np.exp(-(norm(x - x_prime)**2)/(2 * (sigma ** 2)))\n",
    "\n",
    "def polynomial_kernel(x, x_prime, d):\n",
    "    return (x.dot(x_prime) + 1) ** d\n",
    "\n",
    "class GaussianProcess(Model):\n",
    "    \n",
    "    def __init__(self, train_X, train_y, kernel):\n",
    "        super().__init__(train_X, train_y)\n",
    "        X = train_X.to_numpy()\n",
    "        y = train_y.to_numpy()\n",
    "        \n",
    "        std_dev = 1\n",
    "        \n",
    "        # Gram Matrix\n",
    "        K = gram_matrix(X, kernel)\n",
    "        K_inv = np.linalg.inv(K + std_dev * np.identity(len(K)))\n",
    "        \n",
    "        # Persist fields\n",
    "        self.X = X\n",
    "        self.y = y\n",
    "        self.K = K\n",
    "        self.K_inv = K_inv\n",
    "        self.kernel = kernel\n",
    "    \n",
    "    def compute_kernel_dists(self, x_prime):\n",
    "        num_points = self.X.shape[0]\n",
    "        k = np.zeros(num_points)\n",
    "        for i in range(num_points):\n",
    "            k[i] = self.kernel(self.X[i], x_prime)\n",
    "        return k\n",
    "    \n",
    "    def predict(self, x):\n",
    "        k = self.compute_kernel_dists(x)\n",
    "        y = k.dot(self.K_inv).dot(self.y)[0]\n",
    "        return y"
   ]
  },
  {
   "cell_type": "markdown",
   "metadata": {},
   "source": [
    "## Identity Kernel"
   ]
  },
  {
   "cell_type": "code",
   "execution_count": 26,
   "metadata": {},
   "outputs": [
    {
     "name": "stdout",
     "output_type": "stream",
     "text": [
      "The loss on the test set is 3.5906206854485827\n",
      "Run Time (s): 0.07543587684631348\n"
     ]
    }
   ],
   "source": [
    "training_X, training_y = CVData.get_all_X_y()\n",
    "t1 = time.time()\n",
    "identity_kernel_model = GaussianProcess(training_X, training_y, identity_kernel)\n",
    "t2 = time.time()\n",
    "\n",
    "predicted_test_y = identity_kernel_model.predict_df(test_X)\n",
    "test_loss = get_mse_loss(test_y.values.flatten(), predicted_test_y)\n",
    "print(\"The loss on the test set is \" + str(test_loss))\n",
    "print(\"Run Time (s): \" + str(t2-t1))"
   ]
  },
  {
   "cell_type": "markdown",
   "metadata": {},
   "source": [
    "## Gaussian Kernel\n",
    "\n",
    "### Cross Validation"
   ]
  },
  {
   "cell_type": "code",
   "execution_count": 44,
   "metadata": {},
   "outputs": [],
   "source": [
    "def perform_GP_GK_CV():\n",
    "    np.random.seed(42)\n",
    "    \n",
    "    average_losses = []\n",
    "    for sig in tqdm_notebook(SIGMAS):\n",
    "        \n",
    "        # define kernel\n",
    "        def gaussian_kernel_fn(x, x_prime):\n",
    "            return gaussian_kernel(x, x_prime, sig)\n",
    "        \n",
    "        # Perform CV\n",
    "        losses = []\n",
    "        for j in range(NUM_SUBSETS):\n",
    "            train_X, train_y, validation_X, validation_y = CVData.get_training_validation_X_y(j)\n",
    "            \n",
    "            # Create hypothesis\n",
    "            model = GaussianProcess(train_X, train_y, gaussian_kernel_fn)\n",
    "            predicted_validation_y = model.predict_df(validation_X)\n",
    "            \n",
    "            # Get accuracy\n",
    "            loss = get_mse_loss(validation_y.values.flatten(), predicted_validation_y.values.flatten())\n",
    "            losses.append(loss)\n",
    "            \n",
    "        avg_loss = np.mean(losses)\n",
    "        average_losses.append(avg_loss)\n",
    "\n",
    "    return average_losses\n"
   ]
  },
  {
   "cell_type": "markdown",
   "metadata": {},
   "source": [
    "### Finding the Optimal Sigma"
   ]
  },
  {
   "cell_type": "code",
   "execution_count": 45,
   "metadata": {},
   "outputs": [
    {
     "data": {
      "application/vnd.jupyter.widget-view+json": {
       "model_id": "8740176c968c4a0d91d09089635334b8",
       "version_major": 2,
       "version_minor": 0
      },
      "text/plain": [
       "HBox(children=(IntProgress(value=0, max=6), HTML(value='')))"
      ]
     },
     "metadata": {},
     "output_type": "display_data"
    },
    {
     "name": "stdout",
     "output_type": "stream",
     "text": [
      "\n"
     ]
    }
   ],
   "source": [
    "average_losses = perform_GP_GK_CV()"
   ]
  },
  {
   "cell_type": "code",
   "execution_count": 46,
   "metadata": {},
   "outputs": [
    {
     "name": "stdout",
     "output_type": "stream",
     "text": [
      "The optimal sigma is 4.000000 with an average mse loss of 0.057149\n"
     ]
    }
   ],
   "source": [
    "optimal_sigma = SIGMAS[np.argsort(average_losses)[0]]\n",
    "print(\"The optimal sigma is %f with an average mse loss of %f\" % (optimal_sigma, min(average_losses)))"
   ]
  },
  {
   "cell_type": "code",
   "execution_count": 47,
   "metadata": {},
   "outputs": [
    {
     "data": {
      "image/png": "[encoded data removed]",
      "text/plain": [
       "<Figure size 432x288 with 1 Axes>"
      ]
     },
     "metadata": {
      "needs_background": "light"
     },
     "output_type": "display_data"
    }
   ],
   "source": [
    "plt.plot(SIGMAS, average_losses)\n",
    "plt.xlabel('Sigma')\n",
    "plt.ylabel('Average L2 Loss')\n",
    "plt.title('Cross Validation')\n",
    "plt.show()"
   ]
  },
  {
   "cell_type": "markdown",
   "metadata": {},
   "source": [
    "### Loss on Test set with Optimal Sigma"
   ]
  },
  {
   "cell_type": "code",
   "execution_count": 48,
   "metadata": {},
   "outputs": [
    {
     "name": "stdout",
     "output_type": "stream",
     "text": [
      "The loss on the test set is 0.04302516166820031\n",
      "Run Time (s): 0.46358609199523926\n"
     ]
    }
   ],
   "source": [
    "training_X, training_y = CVData.get_all_X_y()\n",
    "t1 = time.time()\n",
    "final_model = GaussianProcess(training_X, training_y, lambda x, x_prime: gaussian_kernel(x, x_prime, optimal_sigma))\n",
    "t2 = time.time()\n",
    "predicted_test_y = final_model.predict_df(test_X)\n",
    "\n",
    "test_loss = get_mse_loss(test_y.values.flatten(), predicted_test_y)\n",
    "print(\"The loss on the test set is \" + str(test_loss))\n",
    "print(\"Run Time (s): \" + str(t2-t1))"
   ]
  },
  {
   "cell_type": "markdown",
   "metadata": {},
   "source": [
    "## Polynomial Kernel\n",
    "\n",
    "### Cross Validation"
   ]
  },
  {
   "cell_type": "code",
   "execution_count": 32,
   "metadata": {},
   "outputs": [],
   "source": [
    "def perform_GP_PK_CV(d):\n",
    "    np.random.seed(42)\n",
    "    \n",
    "    average_losses = []\n",
    "        \n",
    "    # define kernel\n",
    "    def polynomial_kernel_fn(x, x_prime):\n",
    "        return polynomial_kernel(x, x_prime, d)\n",
    "        \n",
    "    # Perform CV\n",
    "    losses = []\n",
    "    for j in range(NUM_SUBSETS):\n",
    "        train_X, train_y, validation_X, validation_y = CVData.get_training_validation_X_y(j)\n",
    "            \n",
    "        # Create hypothesis\n",
    "        model = GaussianProcess(train_X, train_y, polynomial_kernel_fn)\n",
    "        predicted_validation_y = model.predict_df(validation_X)\n",
    "            \n",
    "        # Get accuracy\n",
    "        loss = get_mse_loss(validation_y.values.flatten(), predicted_validation_y.values.flatten())\n",
    "        losses.append(loss)\n",
    "            \n",
    "    avg_loss = np.mean(losses)\n",
    "\n",
    "    return avg_loss\n"
   ]
  },
  {
   "cell_type": "markdown",
   "metadata": {},
   "source": [
    "### Finding the Optimal Degree"
   ]
  },
  {
   "cell_type": "code",
   "execution_count": 33,
   "metadata": {},
   "outputs": [],
   "source": [
    "t1 = time.time()\n",
    "mse_loss_d1 = perform_GP_PK_CV(1)\n",
    "t2 = time.time()\n",
    "mse_loss_d2 = perform_GP_PK_CV(2)\n",
    "t3 = time.time()\n",
    "mse_loss_d3 = perform_GP_PK_CV(3)\n",
    "t4 = time.time()\n",
    "mse_loss_d4 = perform_GP_PK_CV(4)\n",
    "t5 = time.time()"
   ]
  },
  {
   "cell_type": "code",
   "execution_count": 34,
   "metadata": {
    "scrolled": true
   },
   "outputs": [
    {
     "data": {
      "image/png": "[encoded data removed]",
      "text/plain": [
       "<Figure size 432x288 with 1 Axes>"
      ]
     },
     "metadata": {
      "needs_background": "light"
     },
     "output_type": "display_data"
    }
   ],
   "source": [
    "losses = [mse_loss_d1,mse_loss_d2, mse_loss_d3, mse_loss_d4]\n",
    "plt.plot([1,2,3,4], losses )\n",
    "plt.xlabel('Degree')\n",
    "plt.ylabel('Average L2 Loss')\n",
    "plt.xticks([1,2,3,4])\n",
    "plt.title('Cross Validation')\n",
    "plt.show()"
   ]
  },
  {
   "cell_type": "markdown",
   "metadata": {},
   "source": [
    "### Loss on Test Set with Optimal Degree"
   ]
  },
  {
   "cell_type": "code",
   "execution_count": 35,
   "metadata": {
    "scrolled": true
   },
   "outputs": [
    {
     "name": "stdout",
     "output_type": "stream",
     "text": [
      "Run Time (s): 0.11498212814331055\n",
      "The loss on the test set is 0.045769543486000624\n"
     ]
    }
   ],
   "source": [
    "training_X, training_y = CVData.get_all_X_y()\n",
    "\n",
    "t1 = time.time()\n",
    "final_model = GaussianProcess(training_X, training_y, lambda x,y: polynomial_kernel(x, y, optimal_d))\n",
    "t2 = time.time()\n",
    "\n",
    "predicted_test_y = final_model.predict_df(test_X)\n",
    "\n",
    "test_loss = get_mse_loss(test_y.values.flatten(), predicted_test_y)\n",
    "print(\"Run Time (s): \" + str(t2-t1))\n",
    "print(\"The loss on the test set is \" + str(test_loss))"
   ]
  },
  {
   "cell_type": "markdown",
   "metadata": {},
   "source": [
    "### Runtime complexity"
   ]
  },
  {
   "cell_type": "code",
   "execution_count": 36,
   "metadata": {},
   "outputs": [
    {
     "name": "stdout",
     "output_type": "stream",
     "text": [
      "Cross Validation Run Time (s) for d = 1: 0.11498212814331055\n",
      "Cross Validation Run Time (s) for d = 2: -2.095305919647217\n",
      "Cross Validation Run Time (s) for d = 3: 0.91843581199646\n",
      "Cross Validation Run Time (s) for d = 4: 0.889031171798706\n"
     ]
    }
   ],
   "source": [
    "print(\"Cross Validation Run Time (s) for d = 1: \" + str(t2-t1))\n",
    "print(\"Cross Validation Run Time (s) for d = 2: \" + str(t3-t2))\n",
    "print(\"Cross Validation Run Time (s) for d = 3: \" + str(t4-t3))\n",
    "print(\"Cross Validation Run Time (s) for d = 4: \" + str(t5-t4))"
   ]
  },
  {
   "cell_type": "markdown",
   "metadata": {},
   "source": [
    "If we take a look at the clock runtimes above for the identity kernel, the Gaussian kernel, and the polynomial kernel, we see that the identity kernel is the fastest, followed by the polynomial kernel, followed by the Gaussian kernel.\n",
    "\n",
    "The time complexity of training the Gaussian Process model is cubic in the number of training points. This is in stark contrast to Bayesian linear regression and Generalized linear regression. This kernel method uses the kernel to compute the dot product between training points, and so we are never required to transform the data to its actual representation in the transformed space.\n",
    "\n",
    "However, we still have a major difference in clock runtime for each of the different kernels. This is because the kernels themselves have their own complexity which is exacerbated over the cubic complexity over the training points, especially for this small dataset.\n",
    "\n",
    "The Gaussian kernel performs atleast 3n operations while taking the element-wise difference, the norm, the sum, and finally the exponentiation for a n-dimensional input vector. The Identity kernel performs 2n operations. The polynomial kernel performs 2n + d operations. Asymptotically, all three kernels are in $O(n)$ complexity. But at this small scale, we see the effects of the various operations in the runtime."
   ]
  },
  {
   "cell_type": "markdown",
   "metadata": {},
   "source": [
    "# Question 2d\n",
    "\n",
    "## Neural Network\n",
    "### Model Definition"
   ]
  },
  {
   "cell_type": "code",
   "execution_count": 37,
   "metadata": {},
   "outputs": [
    {
     "name": "stderr",
     "output_type": "stream",
     "text": [
      "Using TensorFlow backend.\n"
     ]
    }
   ],
   "source": [
    "from keras.models import Sequential\n",
    "from keras.layers.core import Activation, Dense \n",
    "from keras.optimizers import Adam\n",
    "import keras.backend.tensorflow_backend as KTF\n",
    "from sklearn.metrics import mean_squared_error\n",
    "\n",
    "def bilayer_network(hidden_nodes):\n",
    "        \n",
    "    model = Sequential()\n",
    "\n",
    "    model.add(Dense(hidden_nodes, input_dim=2, activation=\"sigmoid\", name=\"hidden\"))\n",
    "\n",
    "    model.add(Dense(1, activation='linear', name='output'))\n",
    "\n",
    "    return model\n"
   ]
  },
  {
   "cell_type": "markdown",
   "metadata": {},
   "source": [
    "### Cross Validation"
   ]
  },
  {
   "cell_type": "code",
   "execution_count": 38,
   "metadata": {},
   "outputs": [],
   "source": [
    "def perform_NN_CV():\n",
    "    np.random.seed(42)\n",
    "    \n",
    "    average_losses = []\n",
    "    time_per_iteration = []\n",
    "    for num_nodes in tqdm_notebook(HIDDEN_NODES):\n",
    "        t1 = time.time()\n",
    "        # Perform CV\n",
    "        losses = []\n",
    "        for j in range(NUM_SUBSETS):\n",
    "            train_X, train_y, validation_X, validation_y = CVData.get_training_validation_X_y(j)\n",
    "            \n",
    "            # Create hypothesis\n",
    "            model = bilayer_network(num_nodes)\n",
    "            model.compile(optimizer='adam', loss='mse', metrics=['accuracy'])\n",
    "            \n",
    "            model.fit(train_X, train_y, epochs=150, verbose=0, batch_size=10)\n",
    "            predicted_validation_y = model.predict(validation_X)\n",
    "\n",
    "            # Get accuracy\n",
    "            loss = get_mse_loss(validation_y.values.flatten(),predicted_validation_y.flatten()) \n",
    "            losses.append(loss)\n",
    "            \n",
    "        t2 = time.time()\n",
    "        avg_loss = np.mean(losses)\n",
    "        average_losses.append(avg_loss)\n",
    "        time_per_iteration.append(t2-t1)\n",
    "\n",
    "    return average_losses, time_per_iteration"
   ]
  },
  {
   "cell_type": "markdown",
   "metadata": {},
   "source": [
    "### Finding the optimal # of hidden nodes"
   ]
  },
  {
   "cell_type": "code",
   "execution_count": 39,
   "metadata": {},
   "outputs": [
    {
     "data": {
      "application/vnd.jupyter.widget-view+json": {
       "model_id": "8aef5df1848c478783a9c5a4db0a7f68",
       "version_major": 2,
       "version_minor": 0
      },
      "text/plain": [
       "HBox(children=(IntProgress(value=0, max=10), HTML(value='')))"
      ]
     },
     "metadata": {},
     "output_type": "display_data"
    },
    {
     "name": "stderr",
     "output_type": "stream",
     "text": [
      "WARNING: Logging before flag parsing goes to stderr.\n",
      "W0630 22:48:20.222808 4344497600 deprecation_wrapper.py:119] From /usr/local/lib/python3.7/site-packages/keras/backend/tensorflow_backend.py:74: The name tf.get_default_graph is deprecated. Please use tf.compat.v1.get_default_graph instead.\n",
      "\n",
      "W0630 22:48:20.249330 4344497600 deprecation_wrapper.py:119] From /usr/local/lib/python3.7/site-packages/keras/backend/tensorflow_backend.py:517: The name tf.placeholder is deprecated. Please use tf.compat.v1.placeholder instead.\n",
      "\n",
      "W0630 22:48:20.255409 4344497600 deprecation_wrapper.py:119] From /usr/local/lib/python3.7/site-packages/keras/backend/tensorflow_backend.py:4138: The name tf.random_uniform is deprecated. Please use tf.random.uniform instead.\n",
      "\n",
      "W0630 22:48:20.283298 4344497600 deprecation_wrapper.py:119] From /usr/local/lib/python3.7/site-packages/keras/optimizers.py:790: The name tf.train.Optimizer is deprecated. Please use tf.compat.v1.train.Optimizer instead.\n",
      "\n",
      "W0630 22:48:20.496237 4344497600 deprecation_wrapper.py:119] From /usr/local/lib/python3.7/site-packages/keras/backend/tensorflow_backend.py:986: The name tf.assign_add is deprecated. Please use tf.compat.v1.assign_add instead.\n",
      "\n",
      "W0630 22:48:20.555334 4344497600 deprecation_wrapper.py:119] From /usr/local/lib/python3.7/site-packages/keras/backend/tensorflow_backend.py:973: The name tf.assign is deprecated. Please use tf.compat.v1.assign instead.\n",
      "\n"
     ]
    },
    {
     "name": "stdout",
     "output_type": "stream",
     "text": [
      "\n",
      "The optimal number of hidden nodes is 10 with an average mse loss of 0.778351\n"
     ]
    }
   ],
   "source": [
    "average_losses, time_per_iteration = perform_NN_CV()\n",
    "optimal_nodes = HIDDEN_NODES[np.argsort(average_losses)[0]]\n",
    "print(\"The optimal number of hidden nodes is %s with an average mse loss of %f\" % (optimal_nodes, min(average_losses)))"
   ]
  },
  {
   "cell_type": "code",
   "execution_count": 40,
   "metadata": {},
   "outputs": [
    {
     "data": {
      "image/png": "[encoded data removed]",
      "text/plain": [
       "<Figure size 432x288 with 1 Axes>"
      ]
     },
     "metadata": {
      "needs_background": "light"
     },
     "output_type": "display_data"
    }
   ],
   "source": [
    "plt.plot(HIDDEN_NODES, average_losses)\n",
    "plt.xlabel('Number of Hidden Nodes')\n",
    "plt.ylabel('Average L2 Loss')\n",
    "plt.title('Cross Validation')\n",
    "plt.show()"
   ]
  },
  {
   "cell_type": "markdown",
   "metadata": {},
   "source": [
    "### Runtime Complexity"
   ]
  },
  {
   "cell_type": "code",
   "execution_count": 41,
   "metadata": {},
   "outputs": [
    {
     "name": "stdout",
     "output_type": "stream",
     "text": [
      "Cross Validation Run Time (s) for 1 nodes : 24.123227834701538\n",
      "Cross Validation Run Time (s) for 2 nodes : 29.28181791305542\n",
      "Cross Validation Run Time (s) for 3 nodes : 31.126604080200195\n",
      "Cross Validation Run Time (s) for 4 nodes : 36.65745496749878\n",
      "Cross Validation Run Time (s) for 5 nodes : 41.401155948638916\n",
      "Cross Validation Run Time (s) for 6 nodes : 47.95881390571594\n",
      "Cross Validation Run Time (s) for 7 nodes : 54.396154165267944\n",
      "Cross Validation Run Time (s) for 8 nodes : 60.853068828582764\n",
      "Cross Validation Run Time (s) for 9 nodes : 74.93994808197021\n",
      "Cross Validation Run Time (s) for 10 nodes : 88.44564294815063\n"
     ]
    }
   ],
   "source": [
    "for i, runtime in enumerate(time_per_iteration):\n",
    "    print(\"Cross Validation Run Time (s) for %s nodes : \" % (i+1) + str(runtime))"
   ]
  },
  {
   "cell_type": "markdown",
   "metadata": {},
   "source": [
    "For a neural network, we train by utilizing forward and backwards propagation. \n",
    "\n",
    "For each node in the model, we utilize it once in forwards propagation and once in backwards propagation, given automatic differentiation. We use each node atleast once for every training example, in each epoch. So the time complexity of neural network can be interpreted as $O(w * m * e)$ where $w$ is the number of nodes in the neural network, $m$ is the number of training examples, and $e$ is the number of epochs.\n",
    "\n",
    "Looking at only the number of nodes, we see that the runtime is linear in the number of nodes, $O(w)$.\n",
    "\n",
    "This matches our results as the runtime increases by approximately 5-6 seconds per extra hidden node."
   ]
  },
  {
   "cell_type": "markdown",
   "metadata": {},
   "source": [
    "### Loss on Test Set with Optimal Nodes"
   ]
  },
  {
   "cell_type": "code",
   "execution_count": 42,
   "metadata": {},
   "outputs": [
    {
     "name": "stdout",
     "output_type": "stream",
     "text": [
      "_________________________________________________________________\n",
      "Layer (type)                 Output Shape              Param #   \n",
      "=================================================================\n",
      "hidden (Dense)               (None, 10)                30        \n",
      "_________________________________________________________________\n",
      "output (Dense)               (None, 1)                 11        \n",
      "=================================================================\n",
      "Total params: 41\n",
      "Trainable params: 41\n",
      "Non-trainable params: 0\n",
      "_________________________________________________________________\n",
      "The loss on the test set is 0.7125737639221129\n"
     ]
    }
   ],
   "source": [
    "KTF.clear_session() \n",
    "training_X, training_y = CVData.get_all_X_y()\n",
    "model = bilayer_network(optimal_nodes)\n",
    "model.summary()\n",
    "model.compile(optimizer='adam', loss='mse')\n",
    "\n",
    "model.fit(training_X, training_y, epochs=200, verbose=0, batch_size=10)\n",
    "predicted_test_y = model.predict(test_X)\n",
    "\n",
    "test_loss = get_mse_loss(test_y.values.flatten(), predicted_test_y.flatten())\n",
    "print(\"The loss on the test set is \" + str(test_loss))"
   ]
  }
 ],
 "metadata": {
  "kernelspec": {
   "display_name": "csenv",
   "language": "python",
   "name": "csenv"
  },
  "language_info": {
   "codemirror_mode": {
    "name": "ipython",
    "version": 3
   },
   "file_extension": ".py",
   "mimetype": "text/x-python",
   "name": "python",
   "nbconvert_exporter": "python",
   "pygments_lexer": "ipython3",
   "version": "3.7.3"
  },
  "toc": {
   "base_numbering": 1,
   "nav_menu": {},
   "number_sections": true,
   "sideBar": true,
   "skip_h1_title": false,
   "title_cell": "Table of Contents",
   "title_sidebar": "Contents",
   "toc_cell": true,
   "toc_position": {
    "height": "calc(100% - 180px)",
    "left": "10px",
    "top": "150px",
    "width": "336px"
   },
   "toc_section_display": true,
   "toc_window_display": true
  },
  "widgets": {
   "application/vnd.jupyter.widget-state+json": {
    "state": {
     "01ae9f2ab25e4b2aac9ef016d8011c4c": {
      "model_module": "@jupyter-widgets/controls",
      "model_module_version": "1.4.0",
      "model_name": "DescriptionStyleModel",
      "state": {
       "description_width": ""
      }
     },
     "01d41fe596204b9abd8e960d947b8ab8": {
      "model_module": "@jupyter-widgets/base",
      "model_module_version": "1.1.0",
      "model_name": "LayoutModel",
      "state": {}
     },
     "024d62a99cfe435cbe0cc1666ab0d977": {
      "model_module": "@jupyter-widgets/controls",
      "model_module_version": "1.4.0",
      "model_name": "HTMLModel",
      "state": {
       "layout": "IPY_MODEL_15efad729c1441c5880d961f93f3b2c8",
       "style": "IPY_MODEL_6d42d6eae6564caaa1aa49c1621e1db0",
       "value": "100% 6/6 [00:22&lt;00:00,  3.80s/it]"
      }
     },
     "02e35f715afb49ad99f5256009d222af": {
      "model_module": "@jupyter-widgets/controls",
      "model_module_version": "1.4.0",
      "model_name": "DescriptionStyleModel",
      "state": {
       "description_width": ""
      }
     },
     "044d32a24d7d4688b2c1960b2a5e26e9": {
      "model_module": "@jupyter-widgets/controls",
      "model_module_version": "1.4.0",
      "model_name": "HTMLModel",
      "state": {
       "layout": "IPY_MODEL_f7e031c34d9c434d82d212f0914699f0",
       "style": "IPY_MODEL_5c903ec5a91a4e67bb4a27c28ae968cf",
       "value": "100% 6/6 [00:23&lt;00:00,  3.90s/it]"
      }
     },
     "049e48a260914a7e9b1ad4ecc53aecf8": {
      "model_module": "@jupyter-widgets/controls",
      "model_module_version": "1.4.0",
      "model_name": "ProgressStyleModel",
      "state": {
       "description_width": ""
      }
     },
     "0545f45a419544b1a1574749bd4180bd": {
      "model_module": "@jupyter-widgets/base",
      "model_module_version": "1.1.0",
      "model_name": "LayoutModel",
      "state": {}
     },
     "05c7ee86c3534550ab39289ba57554e3": {
      "model_module": "@jupyter-widgets/controls",
      "model_module_version": "1.4.0",
      "model_name": "HTMLModel",
      "state": {
       "layout": "IPY_MODEL_951b1b88415c45938fc8bcf022a85348",
       "style": "IPY_MODEL_e6ac44f68a3046d7a154469da9435ac7",
       "value": "  0% 0/10 [00:00&lt;?, ?it/s]"
      }
     },
     "060d106e54ca41ec9379c0c55312caa9": {
      "model_module": "@jupyter-widgets/base",
      "model_module_version": "1.1.0",
      "model_name": "LayoutModel",
      "state": {}
     },
     "06356ef30a3b4525968bdd4b902ead92": {
      "model_module": "@jupyter-widgets/controls",
      "model_module_version": "1.4.0",
      "model_name": "HTMLModel",
      "state": {
       "layout": "IPY_MODEL_8a09d276bc8f4daa81dd4b33de4fafe4",
       "style": "IPY_MODEL_63ce8c2bc9d04dd7acbcab8ba6a5f29e",
       "value": "100% 10/10 [09:07&lt;00:00, 55.13s/it]"
      }
     },
     "06b0f22c31d04400a56b70e9eb84e70d": {
      "model_module": "@jupyter-widgets/base",
      "model_module_version": "1.1.0",
      "model_name": "LayoutModel",
      "state": {}
     },
     "0834ab67ca2a4213bf1f2e4f4cb3891e": {
      "model_module": "@jupyter-widgets/base",
      "model_module_version": "1.1.0",
      "model_name": "LayoutModel",
      "state": {}
     },
     "084bb899ca5e41a494bf3a3c06c98bf7": {
      "model_module": "@jupyter-widgets/controls",
      "model_module_version": "1.4.0",
      "model_name": "HTMLModel",
      "state": {
       "layout": "IPY_MODEL_1f32ed2dd7a2419189318bca5197220c",
       "style": "IPY_MODEL_536c8f22bce4450f948ed702a6dd53a5",
       "value": "100% 10/10 [03:11&lt;00:00, 18.79s/it]"
      }
     },
     "0881aee5e0b747ab9d06627150194557": {
      "model_module": "@jupyter-widgets/controls",
      "model_module_version": "1.4.0",
      "model_name": "HBoxModel",
      "state": {
       "children": [
        "IPY_MODEL_4e3a05121acf4547bbdfa31d6398412a",
        "IPY_MODEL_b7998b8737984a83bd97c1e21cc48fbc"
       ],
       "layout": "IPY_MODEL_61ba982b74eb45d4a8807f5f9e3184a2"
      }
     },
     "08caf7c3466540e482f4e2d9d003da44": {
      "model_module": "@jupyter-widgets/controls",
      "model_module_version": "1.4.0",
      "model_name": "HBoxModel",
      "state": {
       "children": [
        "IPY_MODEL_27cb1cc7b2714d9c8cd99d7fe00d5e87",
        "IPY_MODEL_bd2b93323e7d4901a91c5e4288e39867"
       ],
       "layout": "IPY_MODEL_d77c2e1fde1443b7bcd04c7b048857dd"
      }
     },
     "0923838d719f4036887e18956b4af983": {
      "model_module": "@jupyter-widgets/controls",
      "model_module_version": "1.4.0",
      "model_name": "DescriptionStyleModel",
      "state": {
       "description_width": ""
      }
     },
     "09605fadd0284d25ac53486571605d0b": {
      "model_module": "@jupyter-widgets/controls",
      "model_module_version": "1.4.0",
      "model_name": "ProgressStyleModel",
      "state": {
       "description_width": ""
      }
     },
     "0961845df05745098aacfe4d39b33a06": {
      "model_module": "@jupyter-widgets/base",
      "model_module_version": "1.1.0",
      "model_name": "LayoutModel",
      "state": {}
     },
     "09b413271d4a44e08ecdb42d5790fed2": {
      "model_module": "@jupyter-widgets/controls",
      "model_module_version": "1.4.0",
      "model_name": "DescriptionStyleModel",
      "state": {
       "description_width": ""
      }
     },
     "0b651e3d794d4a3eae6f5f862d7e4552": {
      "model_module": "@jupyter-widgets/base",
      "model_module_version": "1.1.0",
      "model_name": "LayoutModel",
      "state": {}
     },
     "0c11125078b64443a94c74de859f2786": {
      "model_module": "@jupyter-widgets/controls",
      "model_module_version": "1.4.0",
      "model_name": "HTMLModel",
      "state": {
       "layout": "IPY_MODEL_602af9d392be4c5b8e65176ca48311ee",
       "style": "IPY_MODEL_aa5e59cc370f4c45aaa8969d246ffd7a",
       "value": "100% 10/10 [02:38&lt;00:00, 17.37s/it]"
      }
     },
     "0c2465f96cab487ca244fd1fe59db584": {
      "model_module": "@jupyter-widgets/base",
      "model_module_version": "1.1.0",
      "model_name": "LayoutModel",
      "state": {}
     },
     "0c81e263ca254b7ea0e986f7d270a732": {
      "model_module": "@jupyter-widgets/controls",
      "model_module_version": "1.4.0",
      "model_name": "HBoxModel",
      "state": {
       "children": [
        "IPY_MODEL_bedc5f45accc446aab727f07f1f4aa48",
        "IPY_MODEL_024d62a99cfe435cbe0cc1666ab0d977"
       ],
       "layout": "IPY_MODEL_7fa90f5b527442b0aa04d7f30708ea08"
      }
     },
     "0f99c23921434286b572abc57581c545": {
      "model_module": "@jupyter-widgets/controls",
      "model_module_version": "1.4.0",
      "model_name": "HTMLModel",
      "state": {
       "layout": "IPY_MODEL_b7970803457041ccbc3764df5ee32cf2",
       "style": "IPY_MODEL_1deda857a373486ba7ac7883ad958685",
       "value": "100% 6/6 [00:25&lt;00:00,  4.28s/it]"
      }
     },
     "102668b2630c44e9ad115e06f8be6420": {
      "model_module": "@jupyter-widgets/controls",
      "model_module_version": "1.4.0",
      "model_name": "IntProgressModel",
      "state": {
       "bar_style": "success",
       "layout": "IPY_MODEL_1871fc1864b14dc281cd7e517832b72d",
       "max": 10,
       "style": "IPY_MODEL_26b64e41681e4f278a7acf6d30d69835",
       "value": 10
      }
     },
     "10cfc07a700a48d3b0c7ca1fb99f818d": {
      "model_module": "@jupyter-widgets/base",
      "model_module_version": "1.1.0",
      "model_name": "LayoutModel",
      "state": {}
     },
     "10f6b4c492e846d895b59efe1dfb2c6e": {
      "model_module": "@jupyter-widgets/controls",
      "model_module_version": "1.4.0",
      "model_name": "HTMLModel",
      "state": {
       "layout": "IPY_MODEL_a5229e2ff11a4160996935c76d711bc3",
       "style": "IPY_MODEL_9fc74203b048475989d274b3127ff1ae",
       "value": "100% 10/10 [00:43&lt;00:00,  4.54s/it]"
      }
     },
     "11bc2bfb0bba49e5a1771a180f1a5bf7": {
      "model_module": "@jupyter-widgets/controls",
      "model_module_version": "1.4.0",
      "model_name": "DescriptionStyleModel",
      "state": {
       "description_width": ""
      }
     },
     "123ac9261594495bad09c0614ad683bb": {
      "model_module": "@jupyter-widgets/base",
      "model_module_version": "1.1.0",
      "model_name": "LayoutModel",
      "state": {}
     },
     "1492f14c6e724472aa223534e48524bd": {
      "model_module": "@jupyter-widgets/controls",
      "model_module_version": "1.4.0",
      "model_name": "DescriptionStyleModel",
      "state": {
       "description_width": ""
      }
     },
     "1499ef71c7814bf39af06b7ef118d1da": {
      "model_module": "@jupyter-widgets/controls",
      "model_module_version": "1.4.0",
      "model_name": "ProgressStyleModel",
      "state": {
       "description_width": ""
      }
     },
     "15efad729c1441c5880d961f93f3b2c8": {
      "model_module": "@jupyter-widgets/base",
      "model_module_version": "1.1.0",
      "model_name": "LayoutModel",
      "state": {}
     },
     "178e6f8eb6d54570b4ea31ac5f256d80": {
      "model_module": "@jupyter-widgets/base",
      "model_module_version": "1.1.0",
      "model_name": "LayoutModel",
      "state": {}
     },
     "1871fc1864b14dc281cd7e517832b72d": {
      "model_module": "@jupyter-widgets/base",
      "model_module_version": "1.1.0",
      "model_name": "LayoutModel",
      "state": {}
     },
     "19db0e5efa7249c6b47c32d241588b36": {
      "model_module": "@jupyter-widgets/base",
      "model_module_version": "1.1.0",
      "model_name": "LayoutModel",
      "state": {}
     },
     "1a36bd2b1b5f4d8ba36ff5c965bd4238": {
      "model_module": "@jupyter-widgets/base",
      "model_module_version": "1.1.0",
      "model_name": "LayoutModel",
      "state": {}
     },
     "1a52f2109ad8462ab9c117819de3050b": {
      "model_module": "@jupyter-widgets/base",
      "model_module_version": "1.1.0",
      "model_name": "LayoutModel",
      "state": {}
     },
     "1b13d9013f4046b9a6395d025ec07634": {
      "model_module": "@jupyter-widgets/controls",
      "model_module_version": "1.4.0",
      "model_name": "ProgressStyleModel",
      "state": {
       "description_width": ""
      }
     },
     "1b46bb6d97ef4750a48e61a976c652ce": {
      "model_module": "@jupyter-widgets/controls",
      "model_module_version": "1.4.0",
      "model_name": "HTMLModel",
      "state": {
       "layout": "IPY_MODEL_66f0c32a255441bdb2d3724e075f9a4d",
       "style": "IPY_MODEL_1ce2017644c447fc8f80f84008f9b8c7",
       "value": "  0% 0/10 [00:00&lt;?, ?it/s]"
      }
     },
     "1ba30c2147cb47758e1141447741a647": {
      "model_module": "@jupyter-widgets/controls",
      "model_module_version": "1.4.0",
      "model_name": "ProgressStyleModel",
      "state": {
       "description_width": ""
      }
     },
     "1bb9bcc55eab472e89a1b4b71be2bb93": {
      "model_module": "@jupyter-widgets/controls",
      "model_module_version": "1.4.0",
      "model_name": "HBoxModel",
      "state": {
       "children": [
        "IPY_MODEL_252c7b5c10f948ae8ce4f79801548f9f",
        "IPY_MODEL_b1d97fb6db654327aa820f69d9a3b879"
       ],
       "layout": "IPY_MODEL_b37de797de7e46dd8a098f912b032e27"
      }
     },
     "1bc01835783f4eb5be68d3e464f29b4e": {
      "model_module": "@jupyter-widgets/base",
      "model_module_version": "1.1.0",
      "model_name": "LayoutModel",
      "state": {}
     },
     "1c070e96ab9642ddb5df6c7774f64dea": {
      "model_module": "@jupyter-widgets/controls",
      "model_module_version": "1.4.0",
      "model_name": "DescriptionStyleModel",
      "state": {
       "description_width": ""
      }
     },
     "1c4394cdf64e40279330e305680fb588": {
      "model_module": "@jupyter-widgets/controls",
      "model_module_version": "1.4.0",
      "model_name": "ProgressStyleModel",
      "state": {
       "description_width": ""
      }
     },
     "1c9dee145d8143eab7899b50a507f67c": {
      "model_module": "@jupyter-widgets/controls",
      "model_module_version": "1.4.0",
      "model_name": "HTMLModel",
      "state": {
       "layout": "IPY_MODEL_0834ab67ca2a4213bf1f2e4f4cb3891e",
       "style": "IPY_MODEL_cfa4a53055044f8986ccae01d141d74e",
       "value": "100% 10/10 [03:19&lt;00:00, 20.35s/it]"
      }
     },
     "1ce2017644c447fc8f80f84008f9b8c7": {
      "model_module": "@jupyter-widgets/controls",
      "model_module_version": "1.4.0",
      "model_name": "DescriptionStyleModel",
      "state": {
       "description_width": ""
      }
     },
     "1d73832c1834450a9292e2f9c9fda54e": {
      "model_module": "@jupyter-widgets/controls",
      "model_module_version": "1.4.0",
      "model_name": "IntProgressModel",
      "state": {
       "bar_style": "success",
       "layout": "IPY_MODEL_38e9250045b740c09448f7c73b7717c2",
       "max": 10,
       "style": "IPY_MODEL_eea6030acb9c43a8984d70a786d1728e",
       "value": 10
      }
     },
     "1de05dad7fcd41bf97ae8ddfa4d43868": {
      "model_module": "@jupyter-widgets/controls",
      "model_module_version": "1.4.0",
      "model_name": "HBoxModel",
      "state": {
       "children": [
        "IPY_MODEL_56fb6cb96a554996907e2b69067e0fec",
        "IPY_MODEL_9fc33c7b4a0c4b55ae1f01a495810c80"
       ],
       "layout": "IPY_MODEL_8c8529ffad4a4565871369a73cd543f0"
      }
     },
     "1deda857a373486ba7ac7883ad958685": {
      "model_module": "@jupyter-widgets/controls",
      "model_module_version": "1.4.0",
      "model_name": "DescriptionStyleModel",
      "state": {
       "description_width": ""
      }
     },
     "1e2763b9d5a842a9a3406525d6088a59": {
      "model_module": "@jupyter-widgets/controls",
      "model_module_version": "1.4.0",
      "model_name": "HTMLModel",
      "state": {
       "layout": "IPY_MODEL_f1d0753bf37b4a538f4b714136dbde5e",
       "style": "IPY_MODEL_b855be47a1c046d085a0ba8223495d02",
       "value": "100% 10/10 [03:08&lt;00:00, 18.59s/it]"
      }
     },
     "1ee502187fc04568b1ea7bfb657d41c8": {
      "model_module": "@jupyter-widgets/base",
      "model_module_version": "1.1.0",
      "model_name": "LayoutModel",
      "state": {}
     },
     "1f32ed2dd7a2419189318bca5197220c": {
      "model_module": "@jupyter-widgets/base",
      "model_module_version": "1.1.0",
      "model_name": "LayoutModel",
      "state": {}
     },
     "2107a3c9b2854f928083adf32b8f46e8": {
      "model_module": "@jupyter-widgets/base",
      "model_module_version": "1.1.0",
      "model_name": "LayoutModel",
      "state": {}
     },
     "210be25ca20b4656aee48c0f15305f58": {
      "model_module": "@jupyter-widgets/controls",
      "model_module_version": "1.4.0",
      "model_name": "IntProgressModel",
      "state": {
       "bar_style": "success",
       "layout": "IPY_MODEL_0961845df05745098aacfe4d39b33a06",
       "max": 6,
       "style": "IPY_MODEL_81f5e5732c8f437481dc406bc3bfdbde",
       "value": 6
      }
     },
     "222a529314b740b2a165e612c3548003": {
      "model_module": "@jupyter-widgets/base",
      "model_module_version": "1.1.0",
      "model_name": "LayoutModel",
      "state": {}
     },
     "2245aaf7c746408083b12ae5905910f5": {
      "model_module": "@jupyter-widgets/base",
      "model_module_version": "1.1.0",
      "model_name": "LayoutModel",
      "state": {}
     },
     "252c7b5c10f948ae8ce4f79801548f9f": {
      "model_module": "@jupyter-widgets/controls",
      "model_module_version": "1.4.0",
      "model_name": "IntProgressModel",
      "state": {
       "bar_style": "danger",
       "layout": "IPY_MODEL_e3083ddc0a134c2cb7167366da9888b6",
       "max": 10,
       "style": "IPY_MODEL_1ba30c2147cb47758e1141447741a647"
      }
     },
     "26b64e41681e4f278a7acf6d30d69835": {
      "model_module": "@jupyter-widgets/controls",
      "model_module_version": "1.4.0",
      "model_name": "ProgressStyleModel",
      "state": {
       "description_width": ""
      }
     },
     "26f29a0020794400a1a3591cb37180ec": {
      "model_module": "@jupyter-widgets/controls",
      "model_module_version": "1.4.0",
      "model_name": "ProgressStyleModel",
      "state": {
       "description_width": ""
      }
     },
     "27cb1cc7b2714d9c8cd99d7fe00d5e87": {
      "model_module": "@jupyter-widgets/controls",
      "model_module_version": "1.4.0",
      "model_name": "IntProgressModel",
      "state": {
       "bar_style": "success",
       "layout": "IPY_MODEL_39a31ebfd51e437bb722ea44948720b8",
       "max": 10,
       "style": "IPY_MODEL_8b006733f756404ba13f9d4b679b6f1b",
       "value": 10
      }
     },
     "2a4e95187a034fab80a72e67e1c7d59f": {
      "model_module": "@jupyter-widgets/base",
      "model_module_version": "1.1.0",
      "model_name": "LayoutModel",
      "state": {}
     },
     "2d3abf5735544c21b4d0281c567e3029": {
      "model_module": "@jupyter-widgets/controls",
      "model_module_version": "1.4.0",
      "model_name": "IntProgressModel",
      "state": {
       "bar_style": "success",
       "layout": "IPY_MODEL_4ac2bd931db54c69ba94162527ead160",
       "max": 10,
       "style": "IPY_MODEL_7761f22dd9994b449e1902ea7327b496",
       "value": 10
      }
     },
     "2ff2f56d34ad452ca62cf2f37af45f5b": {
      "model_module": "@jupyter-widgets/controls",
      "model_module_version": "1.4.0",
      "model_name": "ProgressStyleModel",
      "state": {
       "description_width": ""
      }
     },
     "3033e789282746738c771fb6b30c35f3": {
      "model_module": "@jupyter-widgets/controls",
      "model_module_version": "1.4.0",
      "model_name": "HBoxModel",
      "state": {
       "children": [
        "IPY_MODEL_be5adb9253aa478389766589b291d979",
        "IPY_MODEL_ad130843bbbd49e2b9737eddb07b9419"
       ],
       "layout": "IPY_MODEL_d7d1b7324b7c43e4b861c962ef738006"
      }
     },
     "313f816871824067a3cd5d21b6437c5e": {
      "model_module": "@jupyter-widgets/base",
      "model_module_version": "1.1.0",
      "model_name": "LayoutModel",
      "state": {}
     },
     "319b0e167a404cd99e0db88f4182e3f7": {
      "model_module": "@jupyter-widgets/base",
      "model_module_version": "1.1.0",
      "model_name": "LayoutModel",
      "state": {}
     },
     "357608626ee445edbd88b23130fe2b68": {
      "model_module": "@jupyter-widgets/controls",
      "model_module_version": "1.4.0",
      "model_name": "IntProgressModel",
      "state": {
       "bar_style": "success",
       "layout": "IPY_MODEL_cc15f20934f249f6a0365fbf9ca41385",
       "max": 10,
       "style": "IPY_MODEL_a7ff1346055042109fa0bbe1df358366",
       "value": 10
      }
     },
     "36c237f1fe5f4bee99eefdce77e37758": {
      "model_module": "@jupyter-widgets/controls",
      "model_module_version": "1.4.0",
      "model_name": "DescriptionStyleModel",
      "state": {
       "description_width": ""
      }
     },
     "3720edb481c64ee69d88fd8ba56cedde": {
      "model_module": "@jupyter-widgets/controls",
      "model_module_version": "1.4.0",
      "model_name": "ProgressStyleModel",
      "state": {
       "description_width": ""
      }
     },
     "379c69611bdf4c598adba41aa65d5ab6": {
      "model_module": "@jupyter-widgets/base",
      "model_module_version": "1.1.0",
      "model_name": "LayoutModel",
      "state": {}
     },
     "37cfe25c85314629b167bea94ef02760": {
      "model_module": "@jupyter-widgets/base",
      "model_module_version": "1.1.0",
      "model_name": "LayoutModel",
      "state": {}
     },
     "38e9250045b740c09448f7c73b7717c2": {
      "model_module": "@jupyter-widgets/base",
      "model_module_version": "1.1.0",
      "model_name": "LayoutModel",
      "state": {}
     },
     "39a31ebfd51e437bb722ea44948720b8": {
      "model_module": "@jupyter-widgets/base",
      "model_module_version": "1.1.0",
      "model_name": "LayoutModel",
      "state": {}
     },
     "3a91517033d44646ad04c2adbe4a31cf": {
      "model_module": "@jupyter-widgets/base",
      "model_module_version": "1.1.0",
      "model_name": "LayoutModel",
      "state": {}
     },
     "3b3a237400b94776b54596039236b3c3": {
      "model_module": "@jupyter-widgets/base",
      "model_module_version": "1.1.0",
      "model_name": "LayoutModel",
      "state": {}
     },
     "3bdfdb59bf404930b7a607383c2191a6": {
      "model_module": "@jupyter-widgets/controls",
      "model_module_version": "1.4.0",
      "model_name": "HTMLModel",
      "state": {
       "layout": "IPY_MODEL_222a529314b740b2a165e612c3548003",
       "style": "IPY_MODEL_eabe7ed31b6440b7a1687e1aeab422bf",
       "value": "  0% 0/10 [00:00&lt;?, ?it/s]"
      }
     },
     "3c42c951753041b68e2c645677196fb9": {
      "model_module": "@jupyter-widgets/controls",
      "model_module_version": "1.4.0",
      "model_name": "IntProgressModel",
      "state": {
       "bar_style": "success",
       "layout": "IPY_MODEL_1bc01835783f4eb5be68d3e464f29b4e",
       "max": 10,
       "style": "IPY_MODEL_983d9e7cf0734dfe9a7b7c76baafb376",
       "value": 10
      }
     },
     "3c84ad60de394752867525042fb6ecd0": {
      "model_module": "@jupyter-widgets/controls",
      "model_module_version": "1.4.0",
      "model_name": "HTMLModel",
      "state": {
       "layout": "IPY_MODEL_eb34a1f4a32a406babe31f521b2b64cc",
       "style": "IPY_MODEL_9e679f9a8d6a4a68b7554b1f24a7be99",
       "value": "100% 10/10 [00:48&lt;00:00,  4.59s/it]"
      }
     },
     "3c93d1373e154175ae77f1ea1f9739fa": {
      "model_module": "@jupyter-widgets/controls",
      "model_module_version": "1.4.0",
      "model_name": "ProgressStyleModel",
      "state": {
       "description_width": ""
      }
     },
     "3cdf9e8b88c045488942008d8b5bac5d": {
      "model_module": "@jupyter-widgets/controls",
      "model_module_version": "1.4.0",
      "model_name": "HTMLModel",
      "state": {
       "layout": "IPY_MODEL_68908b0936b44631ac3d1b06f95dc02a",
       "style": "IPY_MODEL_dc5c6a8f85fe404b92bb272c0121f4d3",
       "value": "  0% 0/10 [00:00&lt;?, ?it/s]"
      }
     },
     "3de04c0b185f47d1a8205ab8a4765584": {
      "model_module": "@jupyter-widgets/controls",
      "model_module_version": "1.4.0",
      "model_name": "HBoxModel",
      "state": {
       "children": [
        "IPY_MODEL_3c42c951753041b68e2c645677196fb9",
        "IPY_MODEL_06356ef30a3b4525968bdd4b902ead92"
       ],
       "layout": "IPY_MODEL_678f373702854948b63d4a50c3fc9519"
      }
     },
     "3dff8ed982084f80bc79518813ddbc7d": {
      "model_module": "@jupyter-widgets/controls",
      "model_module_version": "1.4.0",
      "model_name": "HTMLModel",
      "state": {
       "layout": "IPY_MODEL_ab24e64993d8468b983a398c3e1c4667",
       "style": "IPY_MODEL_4c2275f3cbad444698341a646a7f291e",
       "value": "100% 10/10 [05:35&lt;00:00, 33.18s/it]"
      }
     },
     "3eb01d2f86c14f03857ebe03bf356f0b": {
      "model_module": "@jupyter-widgets/controls",
      "model_module_version": "1.4.0",
      "model_name": "HBoxModel",
      "state": {
       "children": [
        "IPY_MODEL_4805d04a8a03454582bf817dcc78905d",
        "IPY_MODEL_cb19b7db10004cce8942f03ea0c3bd14"
       ],
       "layout": "IPY_MODEL_989c843937b2497c8f5252c769db8def"
      }
     },
     "3fb488b807c94309a7b697658a237848": {
      "model_module": "@jupyter-widgets/controls",
      "model_module_version": "1.4.0",
      "model_name": "HBoxModel",
      "state": {
       "children": [
        "IPY_MODEL_4dd6c54156c34a159c8570381c480c69",
        "IPY_MODEL_1b46bb6d97ef4750a48e61a976c652ce"
       ],
       "layout": "IPY_MODEL_5375600ae1b34bb088051187e1cfa684"
      }
     },
     "3fd68bd63b1444dc9473bb9287ebaa34": {
      "model_module": "@jupyter-widgets/controls",
      "model_module_version": "1.4.0",
      "model_name": "IntProgressModel",
      "state": {
       "bar_style": "success",
       "layout": "IPY_MODEL_78bba9f13f9844a0aa17a1907a27f384",
       "max": 10,
       "style": "IPY_MODEL_1b13d9013f4046b9a6395d025ec07634",
       "value": 10
      }
     },
     "3ffea830ce674403ae2670212643a696": {
      "model_module": "@jupyter-widgets/controls",
      "model_module_version": "1.4.0",
      "model_name": "DescriptionStyleModel",
      "state": {
       "description_width": ""
      }
     },
     "40827214134f4d64b0f2b4345529517d": {
      "model_module": "@jupyter-widgets/controls",
      "model_module_version": "1.4.0",
      "model_name": "IntProgressModel",
      "state": {
       "bar_style": "success",
       "layout": "IPY_MODEL_379c69611bdf4c598adba41aa65d5ab6",
       "max": 10,
       "style": "IPY_MODEL_94f7e393e48746048faaa77d2919592b",
       "value": 10
      }
     },
     "40bbf370456e42beae18af7c2c9f2d97": {
      "model_module": "@jupyter-widgets/controls",
      "model_module_version": "1.4.0",
      "model_name": "ProgressStyleModel",
      "state": {
       "description_width": ""
      }
     },
     "41823ad4da9c4bd3a921672111635e44": {
      "model_module": "@jupyter-widgets/controls",
      "model_module_version": "1.4.0",
      "model_name": "DescriptionStyleModel",
      "state": {
       "description_width": ""
      }
     },
     "41f57f04320c466bb4bddcfb04d998e2": {
      "model_module": "@jupyter-widgets/base",
      "model_module_version": "1.1.0",
      "model_name": "LayoutModel",
      "state": {}
     },
     "42c47d98b08a4f0f8d7008966ca12a6d": {
      "model_module": "@jupyter-widgets/controls",
      "model_module_version": "1.4.0",
      "model_name": "HBoxModel",
      "state": {
       "children": [
        "IPY_MODEL_3fd68bd63b1444dc9473bb9287ebaa34",
        "IPY_MODEL_95af6e55db104106b836e74395f01419"
       ],
       "layout": "IPY_MODEL_e9d0285eafdc43038227c355f19e012d"
      }
     },
     "42e9382abf6a42b3b1810fa1f74a90ae": {
      "model_module": "@jupyter-widgets/controls",
      "model_module_version": "1.4.0",
      "model_name": "HTMLModel",
      "state": {
       "layout": "IPY_MODEL_95e6c835349249b7b18bbb78468d0542",
       "style": "IPY_MODEL_d159a85cce37473a920790a041765b0a",
       "value": "100% 10/10 [06:06&lt;00:00, 35.79s/it]"
      }
     },
     "43161c468eab417e95582ff187c706bb": {
      "model_module": "@jupyter-widgets/controls",
      "model_module_version": "1.4.0",
      "model_name": "DescriptionStyleModel",
      "state": {
       "description_width": ""
      }
     },
     "43ab385b8b0e4916a1f47b00b7d4aa9e": {
      "model_module": "@jupyter-widgets/controls",
      "model_module_version": "1.4.0",
      "model_name": "HBoxModel",
      "state": {
       "children": [
        "IPY_MODEL_83dc0eb1b3fe49b29599929504dc6a13",
        "IPY_MODEL_10f6b4c492e846d895b59efe1dfb2c6e"
       ],
       "layout": "IPY_MODEL_eb769253c91446c9aabe0e8916b71116"
      }
     },
     "44ee352fcb2f4ce2a1a6c1c6ecc4f491": {
      "model_module": "@jupyter-widgets/base",
      "model_module_version": "1.1.0",
      "model_name": "LayoutModel",
      "state": {}
     },
     "450549505b224fe198d9f7ec662f8e6a": {
      "model_module": "@jupyter-widgets/base",
      "model_module_version": "1.1.0",
      "model_name": "LayoutModel",
      "state": {}
     },
     "4782905e7d1245e391b5b6602d010246": {
      "model_module": "@jupyter-widgets/base",
      "model_module_version": "1.1.0",
      "model_name": "LayoutModel",
      "state": {}
     },
     "4805d04a8a03454582bf817dcc78905d": {
      "model_module": "@jupyter-widgets/controls",
      "model_module_version": "1.4.0",
      "model_name": "IntProgressModel",
      "state": {
       "bar_style": "danger",
       "layout": "IPY_MODEL_c0fec6d23bcc4e5c99a5ce51a4dfc140",
       "max": 10,
       "style": "IPY_MODEL_7e1f60d1ed4d4c87bedb46d06a4e4fdd"
      }
     },
     "4ac2bd931db54c69ba94162527ead160": {
      "model_module": "@jupyter-widgets/base",
      "model_module_version": "1.1.0",
      "model_name": "LayoutModel",
      "state": {}
     },
     "4bb2ffbc733740d3af2587772b9b02c4": {
      "model_module": "@jupyter-widgets/base",
      "model_module_version": "1.1.0",
      "model_name": "LayoutModel",
      "state": {}
     },
     "4c2275f3cbad444698341a646a7f291e": {
      "model_module": "@jupyter-widgets/controls",
      "model_module_version": "1.4.0",
      "model_name": "DescriptionStyleModel",
      "state": {
       "description_width": ""
      }
     },
     "4c356b4406644b348095e7cea60b7b85": {
      "model_module": "@jupyter-widgets/controls",
      "model_module_version": "1.4.0",
      "model_name": "HBoxModel",
      "state": {
       "children": [
        "IPY_MODEL_4d7f7089d2bc4e4491bd7389fc0bd179",
        "IPY_MODEL_3dff8ed982084f80bc79518813ddbc7d"
       ],
       "layout": "IPY_MODEL_9693c13b662d4f93824fad1978f9d8c7"
      }
     },
     "4d3bb041c02147cc9a39972049e739e1": {
      "model_module": "@jupyter-widgets/base",
      "model_module_version": "1.1.0",
      "model_name": "LayoutModel",
      "state": {}
     },
     "4d7f7089d2bc4e4491bd7389fc0bd179": {
      "model_module": "@jupyter-widgets/controls",
      "model_module_version": "1.4.0",
      "model_name": "IntProgressModel",
      "state": {
       "bar_style": "success",
       "layout": "IPY_MODEL_892f76198d7a4cadac0993f27343a7cd",
       "max": 10,
       "style": "IPY_MODEL_71c601740ee541d1a2afba051491443d",
       "value": 10
      }
     },
     "4dd6c54156c34a159c8570381c480c69": {
      "model_module": "@jupyter-widgets/controls",
      "model_module_version": "1.4.0",
      "model_name": "IntProgressModel",
      "state": {
       "bar_style": "danger",
       "layout": "IPY_MODEL_abef271fd5214412bf4d3f43e73bf784",
       "max": 10,
       "style": "IPY_MODEL_9e095c825258483eb3893a074ffcf9ef"
      }
     },
     "4e3a05121acf4547bbdfa31d6398412a": {
      "model_module": "@jupyter-widgets/controls",
      "model_module_version": "1.4.0",
      "model_name": "IntProgressModel",
      "state": {
       "bar_style": "success",
       "layout": "IPY_MODEL_319b0e167a404cd99e0db88f4182e3f7",
       "max": 10,
       "style": "IPY_MODEL_f3f525c422534016a985aaa9e1155ab3",
       "value": 10
      }
     },
     "5072d6f2b2eb46b7b8cb2283e4c2390f": {
      "model_module": "@jupyter-widgets/controls",
      "model_module_version": "1.4.0",
      "model_name": "HBoxModel",
      "state": {
       "children": [
        "IPY_MODEL_54a92e77916343bb837dfcc3aaf3eeb9",
        "IPY_MODEL_509d7a8ba514463192659cdb8ad40efc"
       ],
       "layout": "IPY_MODEL_ad356c0c60344dc29141de8d83e30eb2"
      }
     },
     "509d7a8ba514463192659cdb8ad40efc": {
      "model_module": "@jupyter-widgets/controls",
      "model_module_version": "1.4.0",
      "model_name": "HTMLModel",
      "state": {
       "layout": "IPY_MODEL_a628a06297944d978e0749b65d8c52d3",
       "style": "IPY_MODEL_a455fd6285624503bd38182633d4bd05",
       "value": "100% 10/10 [07:20&lt;00:00, 44.86s/it]"
      }
     },
     "50c05c876ecb4929bc9e357a3599f376": {
      "model_module": "@jupyter-widgets/base",
      "model_module_version": "1.1.0",
      "model_name": "LayoutModel",
      "state": {}
     },
     "51a88c9d75904fdb8b66bb358053e4a9": {
      "model_module": "@jupyter-widgets/controls",
      "model_module_version": "1.4.0",
      "model_name": "ProgressStyleModel",
      "state": {
       "description_width": ""
      }
     },
     "536c8f22bce4450f948ed702a6dd53a5": {
      "model_module": "@jupyter-widgets/controls",
      "model_module_version": "1.4.0",
      "model_name": "DescriptionStyleModel",
      "state": {
       "description_width": ""
      }
     },
     "5375600ae1b34bb088051187e1cfa684": {
      "model_module": "@jupyter-widgets/base",
      "model_module_version": "1.1.0",
      "model_name": "LayoutModel",
      "state": {}
     },
     "5425af7256104a4e8b1f8fb8442279ee": {
      "model_module": "@jupyter-widgets/controls",
      "model_module_version": "1.4.0",
      "model_name": "IntProgressModel",
      "state": {
       "bar_style": "success",
       "layout": "IPY_MODEL_881c760f242b4eb4bafa983b6be72d70",
       "max": 6,
       "style": "IPY_MODEL_ded30db7817a4d7f98ab52b3f1176594",
       "value": 6
      }
     },
     "54a92e77916343bb837dfcc3aaf3eeb9": {
      "model_module": "@jupyter-widgets/controls",
      "model_module_version": "1.4.0",
      "model_name": "IntProgressModel",
      "state": {
       "bar_style": "success",
       "layout": "IPY_MODEL_eab339b9de9c409e9bf9232afcb097fc",
       "max": 10,
       "style": "IPY_MODEL_40bbf370456e42beae18af7c2c9f2d97",
       "value": 10
      }
     },
     "566f425a338b4274921efbc607a4929f": {
      "model_module": "@jupyter-widgets/controls",
      "model_module_version": "1.4.0",
      "model_name": "DescriptionStyleModel",
      "state": {
       "description_width": ""
      }
     },
     "56fb6cb96a554996907e2b69067e0fec": {
      "model_module": "@jupyter-widgets/controls",
      "model_module_version": "1.4.0",
      "model_name": "IntProgressModel",
      "state": {
       "bar_style": "danger",
       "layout": "IPY_MODEL_c16dc415e85a459f9e14c5a033f57553",
       "max": 6,
       "style": "IPY_MODEL_9166b7b07b5f45e1801902cbff074409",
       "value": 3
      }
     },
     "59a20c130d35404b8340a04ab3bc6000": {
      "model_module": "@jupyter-widgets/base",
      "model_module_version": "1.1.0",
      "model_name": "LayoutModel",
      "state": {}
     },
     "5a8d088a38314bb7afae59ceb08d64c2": {
      "model_module": "@jupyter-widgets/controls",
      "model_module_version": "1.4.0",
      "model_name": "DescriptionStyleModel",
      "state": {
       "description_width": ""
      }
     },
     "5c903ec5a91a4e67bb4a27c28ae968cf": {
      "model_module": "@jupyter-widgets/controls",
      "model_module_version": "1.4.0",
      "model_name": "DescriptionStyleModel",
      "state": {
       "description_width": ""
      }
     },
     "5cd6860afc55438d897abc374a19a3c0": {
      "model_module": "@jupyter-widgets/controls",
      "model_module_version": "1.4.0",
      "model_name": "IntProgressModel",
      "state": {
       "bar_style": "success",
       "layout": "IPY_MODEL_1a52f2109ad8462ab9c117819de3050b",
       "max": 10,
       "style": "IPY_MODEL_64babf87a6c648c7a2c3395a1c4655de",
       "value": 10
      }
     },
     "5ed4c4cd64bb400896409638e541a870": {
      "model_module": "@jupyter-widgets/controls",
      "model_module_version": "1.4.0",
      "model_name": "IntProgressModel",
      "state": {
       "bar_style": "danger",
       "layout": "IPY_MODEL_89eaed562e0a41db8a855b6e4a06a163",
       "max": 10,
       "style": "IPY_MODEL_d29dd98b4520494faa25bbe45b007a7e"
      }
     },
     "5efa9194e7634920b3cf977af558f214": {
      "model_module": "@jupyter-widgets/base",
      "model_module_version": "1.1.0",
      "model_name": "LayoutModel",
      "state": {}
     },
     "5fd24280ace54afbab382572814cdabf": {
      "model_module": "@jupyter-widgets/base",
      "model_module_version": "1.1.0",
      "model_name": "LayoutModel",
      "state": {}
     },
     "602af9d392be4c5b8e65176ca48311ee": {
      "model_module": "@jupyter-widgets/base",
      "model_module_version": "1.1.0",
      "model_name": "LayoutModel",
      "state": {}
     },
     "60e7a0188cf84875a1e79b596a260d99": {
      "model_module": "@jupyter-widgets/controls",
      "model_module_version": "1.4.0",
      "model_name": "HBoxModel",
      "state": {
       "children": [
        "IPY_MODEL_6aa7e38e46164e9f90414975fb0014af",
        "IPY_MODEL_3c84ad60de394752867525042fb6ecd0"
       ],
       "layout": "IPY_MODEL_44ee352fcb2f4ce2a1a6c1c6ecc4f491"
      }
     },
     "61ba982b74eb45d4a8807f5f9e3184a2": {
      "model_module": "@jupyter-widgets/base",
      "model_module_version": "1.1.0",
      "model_name": "LayoutModel",
      "state": {}
     },
     "62de9b3afb51468b82a24319487e74bb": {
      "model_module": "@jupyter-widgets/controls",
      "model_module_version": "1.4.0",
      "model_name": "IntProgressModel",
      "state": {
       "bar_style": "success",
       "layout": "IPY_MODEL_d40dc413541843a8bf6e0c7e731b51cc",
       "max": 10,
       "style": "IPY_MODEL_807eba07f6bb4c51afdb037129879bb7",
       "value": 10
      }
     },
     "63ce8c2bc9d04dd7acbcab8ba6a5f29e": {
      "model_module": "@jupyter-widgets/controls",
      "model_module_version": "1.4.0",
      "model_name": "DescriptionStyleModel",
      "state": {
       "description_width": ""
      }
     },
     "649afc02274f4d0a9b573503ce6b3760": {
      "model_module": "@jupyter-widgets/base",
      "model_module_version": "1.1.0",
      "model_name": "LayoutModel",
      "state": {}
     },
     "64babf87a6c648c7a2c3395a1c4655de": {
      "model_module": "@jupyter-widgets/controls",
      "model_module_version": "1.4.0",
      "model_name": "ProgressStyleModel",
      "state": {
       "description_width": ""
      }
     },
     "65730c70e16445eebdd694a78f6f6340": {
      "model_module": "@jupyter-widgets/controls",
      "model_module_version": "1.4.0",
      "model_name": "HTMLModel",
      "state": {
       "layout": "IPY_MODEL_ffa6e9d8794043d0bdc7d7c2cf1d7b8f",
       "style": "IPY_MODEL_fe77be5471384a6bb3b69fcbaf10ed9d",
       "value": "100% 10/10 [08:21&lt;00:00, 63.90s/it]"
      }
     },
     "6602fe97f5d14eeabb270698805bb04d": {
      "model_module": "@jupyter-widgets/controls",
      "model_module_version": "1.4.0",
      "model_name": "ProgressStyleModel",
      "state": {
       "description_width": ""
      }
     },
     "660fbb2a1334486082fd9687d72c6bfb": {
      "model_module": "@jupyter-widgets/base",
      "model_module_version": "1.1.0",
      "model_name": "LayoutModel",
      "state": {}
     },
     "6673bfd061604f31a4a23d1cf3dbe18d": {
      "model_module": "@jupyter-widgets/controls",
      "model_module_version": "1.4.0",
      "model_name": "HBoxModel",
      "state": {
       "children": [
        "IPY_MODEL_bc993cac3a98488b88eed7f182701389",
        "IPY_MODEL_bd015f11a6cf44338a9a125c33e6e189"
       ],
       "layout": "IPY_MODEL_ed5aa310f6274034980d9d30582536c0"
      }
     },
     "66f0c32a255441bdb2d3724e075f9a4d": {
      "model_module": "@jupyter-widgets/base",
      "model_module_version": "1.1.0",
      "model_name": "LayoutModel",
      "state": {}
     },
     "678f373702854948b63d4a50c3fc9519": {
      "model_module": "@jupyter-widgets/base",
      "model_module_version": "1.1.0",
      "model_name": "LayoutModel",
      "state": {}
     },
     "67cd9eb5dd3d4b56bc81d24b5532b54e": {
      "model_module": "@jupyter-widgets/base",
      "model_module_version": "1.1.0",
      "model_name": "LayoutModel",
      "state": {}
     },
     "68908b0936b44631ac3d1b06f95dc02a": {
      "model_module": "@jupyter-widgets/base",
      "model_module_version": "1.1.0",
      "model_name": "LayoutModel",
      "state": {}
     },
     "6942f15065f944b38e4a168121fadaa8": {
      "model_module": "@jupyter-widgets/base",
      "model_module_version": "1.1.0",
      "model_name": "LayoutModel",
      "state": {}
     },
     "6aa7e38e46164e9f90414975fb0014af": {
      "model_module": "@jupyter-widgets/controls",
      "model_module_version": "1.4.0",
      "model_name": "IntProgressModel",
      "state": {
       "bar_style": "success",
       "layout": "IPY_MODEL_7d43749cd5264792aaadd61ff561ff07",
       "max": 10,
       "style": "IPY_MODEL_cc083f03f01147b1992d0a08f496e0c6",
       "value": 10
      }
     },
     "6aec44cc149c486dae1fdba3ddaf2543": {
      "model_module": "@jupyter-widgets/base",
      "model_module_version": "1.1.0",
      "model_name": "LayoutModel",
      "state": {}
     },
     "6d42d6eae6564caaa1aa49c1621e1db0": {
      "model_module": "@jupyter-widgets/controls",
      "model_module_version": "1.4.0",
      "model_name": "DescriptionStyleModel",
      "state": {
       "description_width": ""
      }
     },
     "6d7c4078b2f84a54899e34038a4352e1": {
      "model_module": "@jupyter-widgets/controls",
      "model_module_version": "1.4.0",
      "model_name": "HTMLModel",
      "state": {
       "layout": "IPY_MODEL_cc78a636cea34fd0847f7e629c7338fe",
       "style": "IPY_MODEL_96cea9d629b743bba8d19b0e72d4f4ee",
       "value": "100% 10/10 [07:50&lt;00:00, 61.20s/it]"
      }
     },
     "6dd5db8f59da49a98e7926e5c6d19f50": {
      "model_module": "@jupyter-widgets/controls",
      "model_module_version": "1.4.0",
      "model_name": "HBoxModel",
      "state": {
       "children": [
        "IPY_MODEL_62de9b3afb51468b82a24319487e74bb",
        "IPY_MODEL_a99d24539cfc41579670b1bf1c3a659b"
       ],
       "layout": "IPY_MODEL_41f57f04320c466bb4bddcfb04d998e2"
      }
     },
     "6f7c77024f25412cbbc5cd4eb3d9fec0": {
      "model_module": "@jupyter-widgets/base",
      "model_module_version": "1.1.0",
      "model_name": "LayoutModel",
      "state": {}
     },
     "6fa0bba2020b4a749981d5b98d495cbc": {
      "model_module": "@jupyter-widgets/controls",
      "model_module_version": "1.4.0",
      "model_name": "HBoxModel",
      "state": {
       "children": [
        "IPY_MODEL_40827214134f4d64b0f2b4345529517d",
        "IPY_MODEL_f97bd162cf204f27a2c99264bc68a962"
       ],
       "layout": "IPY_MODEL_0b651e3d794d4a3eae6f5f862d7e4552"
      }
     },
     "70b93f099bd04aecbe8b1a41b5c9b882": {
      "model_module": "@jupyter-widgets/controls",
      "model_module_version": "1.4.0",
      "model_name": "HTMLModel",
      "state": {
       "layout": "IPY_MODEL_a33e3739bd2e498ea995575234ab9e26",
       "style": "IPY_MODEL_d611ff060d5f416790109f8c6cb218b2",
       "value": "100% 10/10 [08:09&lt;00:00, 65.90s/it]"
      }
     },
     "71c601740ee541d1a2afba051491443d": {
      "model_module": "@jupyter-widgets/controls",
      "model_module_version": "1.4.0",
      "model_name": "ProgressStyleModel",
      "state": {
       "description_width": ""
      }
     },
     "7286d336a1f14c7f95c64b071f470283": {
      "model_module": "@jupyter-widgets/controls",
      "model_module_version": "1.4.0",
      "model_name": "HTMLModel",
      "state": {
       "layout": "IPY_MODEL_3b3a237400b94776b54596039236b3c3",
       "style": "IPY_MODEL_11bc2bfb0bba49e5a1771a180f1a5bf7",
       "value": "100% 10/10 [01:31&lt;00:00,  8.79s/it]"
      }
     },
     "72f9b8793d6f43aa9d02ff0536322d34": {
      "model_module": "@jupyter-widgets/controls",
      "model_module_version": "1.4.0",
      "model_name": "HTMLModel",
      "state": {
       "layout": "IPY_MODEL_79ff12f4a6ae4cee8c090c61416e705e",
       "style": "IPY_MODEL_a6410331f5134e0b980612726e26c1fd",
       "value": "100% 10/10 [05:36&lt;00:00, 32.56s/it]"
      }
     },
     "74183d93acd24c5daf8cf59fc223d69b": {
      "model_module": "@jupyter-widgets/base",
      "model_module_version": "1.1.0",
      "model_name": "LayoutModel",
      "state": {}
     },
     "7587921a4f88452e8c3961ea55422568": {
      "model_module": "@jupyter-widgets/controls",
      "model_module_version": "1.4.0",
      "model_name": "IntProgressModel",
      "state": {
       "bar_style": "danger",
       "layout": "IPY_MODEL_f1a30dc2e484456f809dee00a2d86658",
       "max": 10,
       "style": "IPY_MODEL_dbe019a7a5a241ff9cd6b3176180d291"
      }
     },
     "75ab023a3f8a45ba834bdf9e81666e05": {
      "model_module": "@jupyter-widgets/base",
      "model_module_version": "1.1.0",
      "model_name": "LayoutModel",
      "state": {}
     },
     "765fb2a4ba324271b522b4a57e8d1271": {
      "model_module": "@jupyter-widgets/controls",
      "model_module_version": "1.4.0",
      "model_name": "IntProgressModel",
      "state": {
       "bar_style": "success",
       "layout": "IPY_MODEL_4782905e7d1245e391b5b6602d010246",
       "max": 10,
       "style": "IPY_MODEL_9067527a98a3464991492e4c8d495202",
       "value": 10
      }
     },
     "76819dfc64594508ab950bc921e5deda": {
      "model_module": "@jupyter-widgets/base",
      "model_module_version": "1.1.0",
      "model_name": "LayoutModel",
      "state": {}
     },
     "7721447b83d9457496cf10a29f3e63a7": {
      "model_module": "@jupyter-widgets/controls",
      "model_module_version": "1.4.0",
      "model_name": "IntProgressModel",
      "state": {
       "bar_style": "success",
       "layout": "IPY_MODEL_59a20c130d35404b8340a04ab3bc6000",
       "max": 10,
       "style": "IPY_MODEL_09605fadd0284d25ac53486571605d0b",
       "value": 10
      }
     },
     "7761f22dd9994b449e1902ea7327b496": {
      "model_module": "@jupyter-widgets/controls",
      "model_module_version": "1.4.0",
      "model_name": "ProgressStyleModel",
      "state": {
       "description_width": ""
      }
     },
     "77a46bbd8b584ca0b64ec9e53d43ad75": {
      "model_module": "@jupyter-widgets/controls",
      "model_module_version": "1.4.0",
      "model_name": "ProgressStyleModel",
      "state": {
       "description_width": ""
      }
     },
     "78637db92fba4ccb84b4e1fac77672e6": {
      "model_module": "@jupyter-widgets/controls",
      "model_module_version": "1.4.0",
      "model_name": "HBoxModel",
      "state": {
       "children": [
        "IPY_MODEL_d4f6890e20df44baa48994ffe26d90af",
        "IPY_MODEL_3cdf9e8b88c045488942008d8b5bac5d"
       ],
       "layout": "IPY_MODEL_f6dc645a963647879c628634a0b0019a"
      }
     },
     "78bba9f13f9844a0aa17a1907a27f384": {
      "model_module": "@jupyter-widgets/base",
      "model_module_version": "1.1.0",
      "model_name": "LayoutModel",
      "state": {}
     },
     "79e7ae2d402a4b8f976d575962a5b52b": {
      "model_module": "@jupyter-widgets/controls",
      "model_module_version": "1.4.0",
      "model_name": "ProgressStyleModel",
      "state": {
       "description_width": ""
      }
     },
     "79ff12f4a6ae4cee8c090c61416e705e": {
      "model_module": "@jupyter-widgets/base",
      "model_module_version": "1.1.0",
      "model_name": "LayoutModel",
      "state": {}
     },
     "7d43749cd5264792aaadd61ff561ff07": {
      "model_module": "@jupyter-widgets/base",
      "model_module_version": "1.1.0",
      "model_name": "LayoutModel",
      "state": {}
     },
     "7e1f60d1ed4d4c87bedb46d06a4e4fdd": {
      "model_module": "@jupyter-widgets/controls",
      "model_module_version": "1.4.0",
      "model_name": "ProgressStyleModel",
      "state": {
       "description_width": ""
      }
     },
     "7f0bbb249fe04dd1b788cb929acf4f15": {
      "model_module": "@jupyter-widgets/base",
      "model_module_version": "1.1.0",
      "model_name": "LayoutModel",
      "state": {}
     },
     "7f400360b45f48f596b8e96b4207829a": {
      "model_module": "@jupyter-widgets/controls",
      "model_module_version": "1.4.0",
      "model_name": "HBoxModel",
      "state": {
       "children": [
        "IPY_MODEL_5ed4c4cd64bb400896409638e541a870",
        "IPY_MODEL_cb3accdf7fb642b3824129000fbc7281"
       ],
       "layout": "IPY_MODEL_4bb2ffbc733740d3af2587772b9b02c4"
      }
     },
     "7f55cdef661a408eab8876f1636186f8": {
      "model_module": "@jupyter-widgets/controls",
      "model_module_version": "1.4.0",
      "model_name": "DescriptionStyleModel",
      "state": {
       "description_width": ""
      }
     },
     "7fa90f5b527442b0aa04d7f30708ea08": {
      "model_module": "@jupyter-widgets/base",
      "model_module_version": "1.1.0",
      "model_name": "LayoutModel",
      "state": {}
     },
     "807eba07f6bb4c51afdb037129879bb7": {
      "model_module": "@jupyter-widgets/controls",
      "model_module_version": "1.4.0",
      "model_name": "ProgressStyleModel",
      "state": {
       "description_width": ""
      }
     },
     "812138dfa16d4a4885cd92b0a706d880": {
      "model_module": "@jupyter-widgets/base",
      "model_module_version": "1.1.0",
      "model_name": "LayoutModel",
      "state": {}
     },
     "81f5e5732c8f437481dc406bc3bfdbde": {
      "model_module": "@jupyter-widgets/controls",
      "model_module_version": "1.4.0",
      "model_name": "ProgressStyleModel",
      "state": {
       "description_width": ""
      }
     },
     "82e86dafe54d4970ad8b8911685f1855": {
      "model_module": "@jupyter-widgets/base",
      "model_module_version": "1.1.0",
      "model_name": "LayoutModel",
      "state": {}
     },
     "83dc0eb1b3fe49b29599929504dc6a13": {
      "model_module": "@jupyter-widgets/controls",
      "model_module_version": "1.4.0",
      "model_name": "IntProgressModel",
      "state": {
       "bar_style": "success",
       "layout": "IPY_MODEL_a48da93d1adc4f8fbba2fdfb59f7c7c1",
       "max": 10,
       "style": "IPY_MODEL_9a13839e6a2e463a81d62ee974185468",
       "value": 10
      }
     },
     "849b714d4c474d2bb500671b06b186b6": {
      "model_module": "@jupyter-widgets/controls",
      "model_module_version": "1.4.0",
      "model_name": "HBoxModel",
      "state": {
       "children": [
        "IPY_MODEL_ae89e355ff9046b084bd5b4c2e0b2b97",
        "IPY_MODEL_1e2763b9d5a842a9a3406525d6088a59"
       ],
       "layout": "IPY_MODEL_37cfe25c85314629b167bea94ef02760"
      }
     },
     "8558bf73e4464e259f2eff98915f66e8": {
      "model_module": "@jupyter-widgets/controls",
      "model_module_version": "1.4.0",
      "model_name": "HBoxModel",
      "state": {
       "children": [
        "IPY_MODEL_5425af7256104a4e8b1f8fb8442279ee",
        "IPY_MODEL_0f99c23921434286b572abc57581c545"
       ],
       "layout": "IPY_MODEL_123ac9261594495bad09c0614ad683bb"
      }
     },
     "8740176c968c4a0d91d09089635334b8": {
      "model_module": "@jupyter-widgets/controls",
      "model_module_version": "1.4.0",
      "model_name": "HBoxModel",
      "state": {
       "children": [
        "IPY_MODEL_b04c75daa8444bb8a2a34d1149b5cd28",
        "IPY_MODEL_fb0c11ad8cd242299c012beb0e2b3d4a"
       ],
       "layout": "IPY_MODEL_6aec44cc149c486dae1fdba3ddaf2543"
      }
     },
     "878306136f81430893c3d5bec7869289": {
      "model_module": "@jupyter-widgets/controls",
      "model_module_version": "1.4.0",
      "model_name": "HTMLModel",
      "state": {
       "layout": "IPY_MODEL_f63ccfcdc07242e6881600ebcfa44281",
       "style": "IPY_MODEL_f4696ff16de14dcab5f0590ccd330732",
       "value": "100% 10/10 [02:24&lt;00:00, 14.55s/it]"
      }
     },
     "881c760f242b4eb4bafa983b6be72d70": {
      "model_module": "@jupyter-widgets/base",
      "model_module_version": "1.1.0",
      "model_name": "LayoutModel",
      "state": {}
     },
     "892f76198d7a4cadac0993f27343a7cd": {
      "model_module": "@jupyter-widgets/base",
      "model_module_version": "1.1.0",
      "model_name": "LayoutModel",
      "state": {}
     },
     "89885583e61b431f99ae7b5a7a508089": {
      "model_module": "@jupyter-widgets/controls",
      "model_module_version": "1.4.0",
      "model_name": "HTMLModel",
      "state": {
       "layout": "IPY_MODEL_4d3bb041c02147cc9a39972049e739e1",
       "style": "IPY_MODEL_09b413271d4a44e08ecdb42d5790fed2",
       "value": "100% 10/10 [03:22&lt;00:00, 21.09s/it]"
      }
     },
     "89de609f47de451db759b1aaa14ee28d": {
      "model_module": "@jupyter-widgets/base",
      "model_module_version": "1.1.0",
      "model_name": "LayoutModel",
      "state": {}
     },
     "89eaed562e0a41db8a855b6e4a06a163": {
      "model_module": "@jupyter-widgets/base",
      "model_module_version": "1.1.0",
      "model_name": "LayoutModel",
      "state": {}
     },
     "8a09d276bc8f4daa81dd4b33de4fafe4": {
      "model_module": "@jupyter-widgets/base",
      "model_module_version": "1.1.0",
      "model_name": "LayoutModel",
      "state": {}
     },
     "8a1d726bf691464e801650a008c0e9ea": {
      "model_module": "@jupyter-widgets/controls",
      "model_module_version": "1.4.0",
      "model_name": "HTMLModel",
      "state": {
       "layout": "IPY_MODEL_a8345d10826d495fbbc26f48febb27c9",
       "style": "IPY_MODEL_ee55c47e4054428fa81e64ec94dfad40",
       "value": "  0% 0/10 [00:00&lt;?, ?it/s]"
      }
     },
     "8aef5df1848c478783a9c5a4db0a7f68": {
      "model_module": "@jupyter-widgets/controls",
      "model_module_version": "1.4.0",
      "model_name": "HBoxModel",
      "state": {
       "children": [
        "IPY_MODEL_ee1b128d7b804d6ebc2fcd42998d3538",
        "IPY_MODEL_70b93f099bd04aecbe8b1a41b5c9b882"
       ],
       "layout": "IPY_MODEL_10cfc07a700a48d3b0c7ca1fb99f818d"
      }
     },
     "8b006733f756404ba13f9d4b679b6f1b": {
      "model_module": "@jupyter-widgets/controls",
      "model_module_version": "1.4.0",
      "model_name": "ProgressStyleModel",
      "state": {
       "description_width": ""
      }
     },
     "8b62659ec35c4d70a070a1b08c56e48d": {
      "model_module": "@jupyter-widgets/controls",
      "model_module_version": "1.4.0",
      "model_name": "HBoxModel",
      "state": {
       "children": [
        "IPY_MODEL_d4e046c4f6d74103b76ac9a1e01427d0",
        "IPY_MODEL_ee05d1cc49444a6a80cd8a3b96986d5c"
       ],
       "layout": "IPY_MODEL_3a91517033d44646ad04c2adbe4a31cf"
      }
     },
     "8bee58770ed84249a0a1518ae6730aef": {
      "model_module": "@jupyter-widgets/base",
      "model_module_version": "1.1.0",
      "model_name": "LayoutModel",
      "state": {}
     },
     "8c27554a16734a3e8e26aa5918f19f19": {
      "model_module": "@jupyter-widgets/base",
      "model_module_version": "1.1.0",
      "model_name": "LayoutModel",
      "state": {}
     },
     "8c69f8480a7f46c8901db12c2166f363": {
      "model_module": "@jupyter-widgets/base",
      "model_module_version": "1.1.0",
      "model_name": "LayoutModel",
      "state": {}
     },
     "8c8529ffad4a4565871369a73cd543f0": {
      "model_module": "@jupyter-widgets/base",
      "model_module_version": "1.1.0",
      "model_name": "LayoutModel",
      "state": {}
     },
     "8c95811dcbc84b459cdcb628615a5304": {
      "model_module": "@jupyter-widgets/controls",
      "model_module_version": "1.4.0",
      "model_name": "ProgressStyleModel",
      "state": {
       "description_width": ""
      }
     },
     "8cc310d4101a4fb183d7ebdde35eda3f": {
      "model_module": "@jupyter-widgets/base",
      "model_module_version": "1.1.0",
      "model_name": "LayoutModel",
      "state": {}
     },
     "8d32e8ad20044bb0980981eaf13e1db6": {
      "model_module": "@jupyter-widgets/base",
      "model_module_version": "1.1.0",
      "model_name": "LayoutModel",
      "state": {}
     },
     "8e2ecbc0f7af4085a1f83489ef7b4d01": {
      "model_module": "@jupyter-widgets/controls",
      "model_module_version": "1.4.0",
      "model_name": "HBoxModel",
      "state": {
       "children": [
        "IPY_MODEL_210be25ca20b4656aee48c0f15305f58",
        "IPY_MODEL_e1e2d97bb02f46218ffb640d6f621dd0"
       ],
       "layout": "IPY_MODEL_bc07fd6cb3744df794eaceccff662b02"
      }
     },
     "8efce7671a3d4ef8b87d1c4b2ee1a9ed": {
      "model_module": "@jupyter-widgets/base",
      "model_module_version": "1.1.0",
      "model_name": "LayoutModel",
      "state": {}
     },
     "8f7cfcfdff874b72842ea97c64437fe1": {
      "model_module": "@jupyter-widgets/controls",
      "model_module_version": "1.4.0",
      "model_name": "ProgressStyleModel",
      "state": {
       "description_width": ""
      }
     },
     "904339ab5d6045f89347421abd5aae2b": {
      "model_module": "@jupyter-widgets/base",
      "model_module_version": "1.1.0",
      "model_name": "LayoutModel",
      "state": {}
     },
     "9067527a98a3464991492e4c8d495202": {
      "model_module": "@jupyter-widgets/controls",
      "model_module_version": "1.4.0",
      "model_name": "ProgressStyleModel",
      "state": {
       "description_width": ""
      }
     },
     "910b83edd663494596930db7400653aa": {
      "model_module": "@jupyter-widgets/base",
      "model_module_version": "1.1.0",
      "model_name": "LayoutModel",
      "state": {}
     },
     "912118f57cc244e98c0d0c77c37c91e1": {
      "model_module": "@jupyter-widgets/controls",
      "model_module_version": "1.4.0",
      "model_name": "HBoxModel",
      "state": {
       "children": [
        "IPY_MODEL_c5106c208e814463b7e72d595b36c85d",
        "IPY_MODEL_044d32a24d7d4688b2c1960b2a5e26e9"
       ],
       "layout": "IPY_MODEL_f68253fdd14b4f34b676c57295363e82"
      }
     },
     "9166b7b07b5f45e1801902cbff074409": {
      "model_module": "@jupyter-widgets/controls",
      "model_module_version": "1.4.0",
      "model_name": "ProgressStyleModel",
      "state": {
       "description_width": ""
      }
     },
     "92bdc00c0616478d9c54340a46d585db": {
      "model_module": "@jupyter-widgets/controls",
      "model_module_version": "1.4.0",
      "model_name": "HBoxModel",
      "state": {
       "children": [
        "IPY_MODEL_b43cd1f12f46479ab62b9a0573ad3b93",
        "IPY_MODEL_05c7ee86c3534550ab39289ba57554e3"
       ],
       "layout": "IPY_MODEL_0c2465f96cab487ca244fd1fe59db584"
      }
     },
     "93e396fb5d254e89bbbd159325c2963f": {
      "model_module": "@jupyter-widgets/controls",
      "model_module_version": "1.4.0",
      "model_name": "HBoxModel",
      "state": {
       "children": [
        "IPY_MODEL_a270cc63e18c4f8e9eb536c1f03e38a0",
        "IPY_MODEL_42e9382abf6a42b3b1810fa1f74a90ae"
       ],
       "layout": "IPY_MODEL_fa2ddf61ebdc45d3b30ff4def6bd91ec"
      }
     },
     "94f7e393e48746048faaa77d2919592b": {
      "model_module": "@jupyter-widgets/controls",
      "model_module_version": "1.4.0",
      "model_name": "ProgressStyleModel",
      "state": {
       "description_width": ""
      }
     },
     "951b1b88415c45938fc8bcf022a85348": {
      "model_module": "@jupyter-widgets/base",
      "model_module_version": "1.1.0",
      "model_name": "LayoutModel",
      "state": {}
     },
     "95af6e55db104106b836e74395f01419": {
      "model_module": "@jupyter-widgets/controls",
      "model_module_version": "1.4.0",
      "model_name": "HTMLModel",
      "state": {
       "layout": "IPY_MODEL_e835c3f061f74805be9c5bd93a32d6bf",
       "style": "IPY_MODEL_d50635734fe0448b951490af8eb389cf",
       "value": "100% 10/10 [01:33&lt;00:00,  9.04s/it]"
      }
     },
     "95e6c835349249b7b18bbb78468d0542": {
      "model_module": "@jupyter-widgets/base",
      "model_module_version": "1.1.0",
      "model_name": "LayoutModel",
      "state": {}
     },
     "9693c13b662d4f93824fad1978f9d8c7": {
      "model_module": "@jupyter-widgets/base",
      "model_module_version": "1.1.0",
      "model_name": "LayoutModel",
      "state": {}
     },
     "96cea9d629b743bba8d19b0e72d4f4ee": {
      "model_module": "@jupyter-widgets/controls",
      "model_module_version": "1.4.0",
      "model_name": "DescriptionStyleModel",
      "state": {
       "description_width": ""
      }
     },
     "983d9e7cf0734dfe9a7b7c76baafb376": {
      "model_module": "@jupyter-widgets/controls",
      "model_module_version": "1.4.0",
      "model_name": "ProgressStyleModel",
      "state": {
       "description_width": ""
      }
     },
     "989c843937b2497c8f5252c769db8def": {
      "model_module": "@jupyter-widgets/base",
      "model_module_version": "1.1.0",
      "model_name": "LayoutModel",
      "state": {}
     },
     "9a13839e6a2e463a81d62ee974185468": {
      "model_module": "@jupyter-widgets/controls",
      "model_module_version": "1.4.0",
      "model_name": "ProgressStyleModel",
      "state": {
       "description_width": ""
      }
     },
     "9b2d1db58c584fc692b9e33d6c8bd7db": {
      "model_module": "@jupyter-widgets/base",
      "model_module_version": "1.1.0",
      "model_name": "LayoutModel",
      "state": {}
     },
     "9d5c73e70fc5451bb3f57838ca52366a": {
      "model_module": "@jupyter-widgets/controls",
      "model_module_version": "1.4.0",
      "model_name": "IntProgressModel",
      "state": {
       "bar_style": "success",
       "layout": "IPY_MODEL_2a4e95187a034fab80a72e67e1c7d59f",
       "max": 10,
       "style": "IPY_MODEL_79e7ae2d402a4b8f976d575962a5b52b",
       "value": 10
      }
     },
     "9e095c825258483eb3893a074ffcf9ef": {
      "model_module": "@jupyter-widgets/controls",
      "model_module_version": "1.4.0",
      "model_name": "ProgressStyleModel",
      "state": {
       "description_width": ""
      }
     },
     "9e679f9a8d6a4a68b7554b1f24a7be99": {
      "model_module": "@jupyter-widgets/controls",
      "model_module_version": "1.4.0",
      "model_name": "DescriptionStyleModel",
      "state": {
       "description_width": ""
      }
     },
     "9f2042f594bd4dae82578136f439f73d": {
      "model_module": "@jupyter-widgets/controls",
      "model_module_version": "1.4.0",
      "model_name": "HBoxModel",
      "state": {
       "children": [
        "IPY_MODEL_5cd6860afc55438d897abc374a19a3c0",
        "IPY_MODEL_1c9dee145d8143eab7899b50a507f67c"
       ],
       "layout": "IPY_MODEL_a6c692f258db47f09df36dea8cefd2c8"
      }
     },
     "9fc33c7b4a0c4b55ae1f01a495810c80": {
      "model_module": "@jupyter-widgets/controls",
      "model_module_version": "1.4.0",
      "model_name": "HTMLModel",
      "state": {
       "layout": "IPY_MODEL_649afc02274f4d0a9b573503ce6b3760",
       "style": "IPY_MODEL_01ae9f2ab25e4b2aac9ef016d8011c4c",
       "value": " 50% 3/6 [00:13&lt;00:13,  4.38s/it]"
      }
     },
     "9fc74203b048475989d274b3127ff1ae": {
      "model_module": "@jupyter-widgets/controls",
      "model_module_version": "1.4.0",
      "model_name": "DescriptionStyleModel",
      "state": {
       "description_width": ""
      }
     },
     "a0de14ec90bd4eb68bb0fce51ea4adb0": {
      "model_module": "@jupyter-widgets/controls",
      "model_module_version": "1.4.0",
      "model_name": "HBoxModel",
      "state": {
       "children": [
        "IPY_MODEL_102668b2630c44e9ad115e06f8be6420",
        "IPY_MODEL_bef5bc083a09410c97ceceef04e58d96"
       ],
       "layout": "IPY_MODEL_6942f15065f944b38e4a168121fadaa8"
      }
     },
     "a270cc63e18c4f8e9eb536c1f03e38a0": {
      "model_module": "@jupyter-widgets/controls",
      "model_module_version": "1.4.0",
      "model_name": "IntProgressModel",
      "state": {
       "bar_style": "success",
       "layout": "IPY_MODEL_74183d93acd24c5daf8cf59fc223d69b",
       "max": 10,
       "style": "IPY_MODEL_d5458b4ff9084003b5153490c204dfa3",
       "value": 10
      }
     },
     "a33e3739bd2e498ea995575234ab9e26": {
      "model_module": "@jupyter-widgets/base",
      "model_module_version": "1.1.0",
      "model_name": "LayoutModel",
      "state": {}
     },
     "a407a3427b9b4feb8549190016d4e02d": {
      "model_module": "@jupyter-widgets/controls",
      "model_module_version": "1.4.0",
      "model_name": "IntProgressModel",
      "state": {
       "bar_style": "success",
       "layout": "IPY_MODEL_b515717dc01a40db917749f48092f0bd",
       "max": 10,
       "style": "IPY_MODEL_e8bb1b8df1024a34832dbd9e22e5b1aa",
       "value": 10
      }
     },
     "a455fd6285624503bd38182633d4bd05": {
      "model_module": "@jupyter-widgets/controls",
      "model_module_version": "1.4.0",
      "model_name": "DescriptionStyleModel",
      "state": {
       "description_width": ""
      }
     },
     "a48da93d1adc4f8fbba2fdfb59f7c7c1": {
      "model_module": "@jupyter-widgets/base",
      "model_module_version": "1.1.0",
      "model_name": "LayoutModel",
      "state": {}
     },
     "a4e1a6945bc54860b9f0690a2fad413c": {
      "model_module": "@jupyter-widgets/controls",
      "model_module_version": "1.4.0",
      "model_name": "HTMLModel",
      "state": {
       "layout": "IPY_MODEL_d70700ab6a064a51b8d132cf2c4619e5",
       "style": "IPY_MODEL_43161c468eab417e95582ff187c706bb",
       "value": "100% 10/10 [06:15&lt;00:00, 37.42s/it]"
      }
     },
     "a5229e2ff11a4160996935c76d711bc3": {
      "model_module": "@jupyter-widgets/base",
      "model_module_version": "1.1.0",
      "model_name": "LayoutModel",
      "state": {}
     },
     "a5c165f5f2d54e148e4dc6166f9d2b10": {
      "model_module": "@jupyter-widgets/controls",
      "model_module_version": "1.4.0",
      "model_name": "HBoxModel",
      "state": {
       "children": [
        "IPY_MODEL_feba98be9fe14122ba31b80f4952fc1f",
        "IPY_MODEL_878306136f81430893c3d5bec7869289"
       ],
       "layout": "IPY_MODEL_d8b8ff34e0ce4126aac6c39c264fad2d"
      }
     },
     "a628a06297944d978e0749b65d8c52d3": {
      "model_module": "@jupyter-widgets/base",
      "model_module_version": "1.1.0",
      "model_name": "LayoutModel",
      "state": {}
     },
     "a6410331f5134e0b980612726e26c1fd": {
      "model_module": "@jupyter-widgets/controls",
      "model_module_version": "1.4.0",
      "model_name": "DescriptionStyleModel",
      "state": {
       "description_width": ""
      }
     },
     "a6c692f258db47f09df36dea8cefd2c8": {
      "model_module": "@jupyter-widgets/base",
      "model_module_version": "1.1.0",
      "model_name": "LayoutModel",
      "state": {}
     },
     "a7ff1346055042109fa0bbe1df358366": {
      "model_module": "@jupyter-widgets/controls",
      "model_module_version": "1.4.0",
      "model_name": "ProgressStyleModel",
      "state": {
       "description_width": ""
      }
     },
     "a8345d10826d495fbbc26f48febb27c9": {
      "model_module": "@jupyter-widgets/base",
      "model_module_version": "1.1.0",
      "model_name": "LayoutModel",
      "state": {}
     },
     "a99d24539cfc41579670b1bf1c3a659b": {
      "model_module": "@jupyter-widgets/controls",
      "model_module_version": "1.4.0",
      "model_name": "HTMLModel",
      "state": {
       "layout": "IPY_MODEL_904339ab5d6045f89347421abd5aae2b",
       "style": "IPY_MODEL_cc68c83f48304a02b925c26f40ccaf28",
       "value": "100% 10/10 [00:45&lt;00:00,  4.39s/it]"
      }
     },
     "aa5e59cc370f4c45aaa8969d246ffd7a": {
      "model_module": "@jupyter-widgets/controls",
      "model_module_version": "1.4.0",
      "model_name": "DescriptionStyleModel",
      "state": {
       "description_width": ""
      }
     },
     "ab24e64993d8468b983a398c3e1c4667": {
      "model_module": "@jupyter-widgets/base",
      "model_module_version": "1.1.0",
      "model_name": "LayoutModel",
      "state": {}
     },
     "abef271fd5214412bf4d3f43e73bf784": {
      "model_module": "@jupyter-widgets/base",
      "model_module_version": "1.1.0",
      "model_name": "LayoutModel",
      "state": {}
     },
     "ad112df0fa1d4087ae18ae0cf77ab7f5": {
      "model_module": "@jupyter-widgets/controls",
      "model_module_version": "1.4.0",
      "model_name": "DescriptionStyleModel",
      "state": {
       "description_width": ""
      }
     },
     "ad130843bbbd49e2b9737eddb07b9419": {
      "model_module": "@jupyter-widgets/controls",
      "model_module_version": "1.4.0",
      "model_name": "HTMLModel",
      "state": {
       "layout": "IPY_MODEL_e45c686c8ddd42e4a198e6be640cc948",
       "style": "IPY_MODEL_1492f14c6e724472aa223534e48524bd",
       "value": "100% 10/10 [04:09&lt;00:00, 24.47s/it]"
      }
     },
     "ad2402b128e94342a24353e0eb7d007c": {
      "model_module": "@jupyter-widgets/base",
      "model_module_version": "1.1.0",
      "model_name": "LayoutModel",
      "state": {}
     },
     "ad356c0c60344dc29141de8d83e30eb2": {
      "model_module": "@jupyter-widgets/base",
      "model_module_version": "1.1.0",
      "model_name": "LayoutModel",
      "state": {}
     },
     "ae81a37a7d5e48d4994ae19c6e3676cd": {
      "model_module": "@jupyter-widgets/base",
      "model_module_version": "1.1.0",
      "model_name": "LayoutModel",
      "state": {}
     },
     "ae89e355ff9046b084bd5b4c2e0b2b97": {
      "model_module": "@jupyter-widgets/controls",
      "model_module_version": "1.4.0",
      "model_name": "IntProgressModel",
      "state": {
       "bar_style": "success",
       "layout": "IPY_MODEL_50c05c876ecb4929bc9e357a3599f376",
       "max": 10,
       "style": "IPY_MODEL_e6290f75b36245c0b599d8e3619aefe2",
       "value": 10
      }
     },
     "b04c75daa8444bb8a2a34d1149b5cd28": {
      "model_module": "@jupyter-widgets/controls",
      "model_module_version": "1.4.0",
      "model_name": "IntProgressModel",
      "state": {
       "bar_style": "success",
       "layout": "IPY_MODEL_9b2d1db58c584fc692b9e33d6c8bd7db",
       "max": 6,
       "style": "IPY_MODEL_1c4394cdf64e40279330e305680fb588",
       "value": 6
      }
     },
     "b18bede7d0fd446e9c802a808f82b7df": {
      "model_module": "@jupyter-widgets/controls",
      "model_module_version": "1.4.0",
      "model_name": "HBoxModel",
      "state": {
       "children": [
        "IPY_MODEL_765fb2a4ba324271b522b4a57e8d1271",
        "IPY_MODEL_65730c70e16445eebdd694a78f6f6340"
       ],
       "layout": "IPY_MODEL_5fd24280ace54afbab382572814cdabf"
      }
     },
     "b1d97fb6db654327aa820f69d9a3b879": {
      "model_module": "@jupyter-widgets/controls",
      "model_module_version": "1.4.0",
      "model_name": "HTMLModel",
      "state": {
       "layout": "IPY_MODEL_660fbb2a1334486082fd9687d72c6bfb",
       "style": "IPY_MODEL_02e35f715afb49ad99f5256009d222af",
       "value": "  0% 0/10 [00:00&lt;?, ?it/s]"
      }
     },
     "b37de797de7e46dd8a098f912b032e27": {
      "model_module": "@jupyter-widgets/base",
      "model_module_version": "1.1.0",
      "model_name": "LayoutModel",
      "state": {}
     },
     "b43cd1f12f46479ab62b9a0573ad3b93": {
      "model_module": "@jupyter-widgets/controls",
      "model_module_version": "1.4.0",
      "model_name": "IntProgressModel",
      "state": {
       "bar_style": "danger",
       "layout": "IPY_MODEL_01d41fe596204b9abd8e960d947b8ab8",
       "max": 10,
       "style": "IPY_MODEL_ea38c2e94086475f8c5334e296e64cc7"
      }
     },
     "b4c4d4be02104e25b0448a9ec5218a5a": {
      "model_module": "@jupyter-widgets/controls",
      "model_module_version": "1.4.0",
      "model_name": "HBoxModel",
      "state": {
       "children": [
        "IPY_MODEL_fbbd07ff2faf4ec0aab871dc0412075e",
        "IPY_MODEL_8a1d726bf691464e801650a008c0e9ea"
       ],
       "layout": "IPY_MODEL_313f816871824067a3cd5d21b6437c5e"
      }
     },
     "b515717dc01a40db917749f48092f0bd": {
      "model_module": "@jupyter-widgets/base",
      "model_module_version": "1.1.0",
      "model_name": "LayoutModel",
      "state": {}
     },
     "b71e978c8f634f20b368ac96cfaf52c6": {
      "model_module": "@jupyter-widgets/base",
      "model_module_version": "1.1.0",
      "model_name": "LayoutModel",
      "state": {}
     },
     "b7970803457041ccbc3764df5ee32cf2": {
      "model_module": "@jupyter-widgets/base",
      "model_module_version": "1.1.0",
      "model_name": "LayoutModel",
      "state": {}
     },
     "b7998b8737984a83bd97c1e21cc48fbc": {
      "model_module": "@jupyter-widgets/controls",
      "model_module_version": "1.4.0",
      "model_name": "HTMLModel",
      "state": {
       "layout": "IPY_MODEL_dbadb8ab752d49559c155c53282d7c5d",
       "style": "IPY_MODEL_daae7a6c3cdc497a92b9dcf8c0eed1a1",
       "value": "100% 10/10 [00:47&lt;00:00,  4.79s/it]"
      }
     },
     "b855be47a1c046d085a0ba8223495d02": {
      "model_module": "@jupyter-widgets/controls",
      "model_module_version": "1.4.0",
      "model_name": "DescriptionStyleModel",
      "state": {
       "description_width": ""
      }
     },
     "baa5e2ff183648448c767e936e9462c5": {
      "model_module": "@jupyter-widgets/base",
      "model_module_version": "1.1.0",
      "model_name": "LayoutModel",
      "state": {}
     },
     "bc07fd6cb3744df794eaceccff662b02": {
      "model_module": "@jupyter-widgets/base",
      "model_module_version": "1.1.0",
      "model_name": "LayoutModel",
      "state": {}
     },
     "bc993cac3a98488b88eed7f182701389": {
      "model_module": "@jupyter-widgets/controls",
      "model_module_version": "1.4.0",
      "model_name": "IntProgressModel",
      "state": {
       "bar_style": "success",
       "layout": "IPY_MODEL_b71e978c8f634f20b368ac96cfaf52c6",
       "max": 6,
       "style": "IPY_MODEL_049e48a260914a7e9b1ad4ecc53aecf8",
       "value": 6
      }
     },
     "bd015f11a6cf44338a9a125c33e6e189": {
      "model_module": "@jupyter-widgets/controls",
      "model_module_version": "1.4.0",
      "model_name": "HTMLModel",
      "state": {
       "layout": "IPY_MODEL_8bee58770ed84249a0a1518ae6730aef",
       "style": "IPY_MODEL_d5a3936b49824faaab28e3914836ceff",
       "value": "100% 6/6 [00:24&lt;00:00,  4.12s/it]"
      }
     },
     "bd2b93323e7d4901a91c5e4288e39867": {
      "model_module": "@jupyter-widgets/controls",
      "model_module_version": "1.4.0",
      "model_name": "HTMLModel",
      "state": {
       "layout": "IPY_MODEL_812138dfa16d4a4885cd92b0a706d880",
       "style": "IPY_MODEL_5a8d088a38314bb7afae59ceb08d64c2",
       "value": "100% 10/10 [09:24&lt;00:00, 56.83s/it]"
      }
     },
     "be5adb9253aa478389766589b291d979": {
      "model_module": "@jupyter-widgets/controls",
      "model_module_version": "1.4.0",
      "model_name": "IntProgressModel",
      "state": {
       "bar_style": "success",
       "layout": "IPY_MODEL_2245aaf7c746408083b12ae5905910f5",
       "max": 10,
       "style": "IPY_MODEL_2ff2f56d34ad452ca62cf2f37af45f5b",
       "value": 10
      }
     },
     "bedc5f45accc446aab727f07f1f4aa48": {
      "model_module": "@jupyter-widgets/controls",
      "model_module_version": "1.4.0",
      "model_name": "IntProgressModel",
      "state": {
       "bar_style": "success",
       "layout": "IPY_MODEL_0545f45a419544b1a1574749bd4180bd",
       "max": 6,
       "style": "IPY_MODEL_6602fe97f5d14eeabb270698805bb04d",
       "value": 6
      }
     },
     "bef5bc083a09410c97ceceef04e58d96": {
      "model_module": "@jupyter-widgets/controls",
      "model_module_version": "1.4.0",
      "model_name": "HTMLModel",
      "state": {
       "layout": "IPY_MODEL_060d106e54ca41ec9379c0c55312caa9",
       "style": "IPY_MODEL_7f55cdef661a408eab8876f1636186f8",
       "value": "100% 10/10 [03:15&lt;00:00, 19.15s/it]"
      }
     },
     "c0fec6d23bcc4e5c99a5ce51a4dfc140": {
      "model_module": "@jupyter-widgets/base",
      "model_module_version": "1.1.0",
      "model_name": "LayoutModel",
      "state": {}
     },
     "c1318a8236b94097bd8e9df239cf3a9d": {
      "model_module": "@jupyter-widgets/base",
      "model_module_version": "1.1.0",
      "model_name": "LayoutModel",
      "state": {}
     },
     "c16dc415e85a459f9e14c5a033f57553": {
      "model_module": "@jupyter-widgets/base",
      "model_module_version": "1.1.0",
      "model_name": "LayoutModel",
      "state": {}
     },
     "c5106c208e814463b7e72d595b36c85d": {
      "model_module": "@jupyter-widgets/controls",
      "model_module_version": "1.4.0",
      "model_name": "IntProgressModel",
      "state": {
       "bar_style": "success",
       "layout": "IPY_MODEL_baa5e2ff183648448c767e936e9462c5",
       "max": 6,
       "style": "IPY_MODEL_3720edb481c64ee69d88fd8ba56cedde",
       "value": 6
      }
     },
     "c5aced669dce4fd0bfb50e95a83ed609": {
      "model_module": "@jupyter-widgets/controls",
      "model_module_version": "1.4.0",
      "model_name": "IntProgressModel",
      "state": {
       "bar_style": "success",
       "layout": "IPY_MODEL_76819dfc64594508ab950bc921e5deda",
       "max": 10,
       "style": "IPY_MODEL_8f7cfcfdff874b72842ea97c64437fe1",
       "value": 10
      }
     },
     "c6715b2fdd514459a4c7c08eefe90443": {
      "model_module": "@jupyter-widgets/controls",
      "model_module_version": "1.4.0",
      "model_name": "HBoxModel",
      "state": {
       "children": [
        "IPY_MODEL_357608626ee445edbd88b23130fe2b68",
        "IPY_MODEL_dac3e819a38b45a4bde6461da4539113"
       ],
       "layout": "IPY_MODEL_06b0f22c31d04400a56b70e9eb84e70d"
      }
     },
     "cb19b7db10004cce8942f03ea0c3bd14": {
      "model_module": "@jupyter-widgets/controls",
      "model_module_version": "1.4.0",
      "model_name": "HTMLModel",
      "state": {
       "layout": "IPY_MODEL_1a36bd2b1b5f4d8ba36ff5c965bd4238",
       "style": "IPY_MODEL_41823ad4da9c4bd3a921672111635e44",
       "value": "  0% 0/10 [00:00&lt;?, ?it/s]"
      }
     },
     "cb3accdf7fb642b3824129000fbc7281": {
      "model_module": "@jupyter-widgets/controls",
      "model_module_version": "1.4.0",
      "model_name": "HTMLModel",
      "state": {
       "layout": "IPY_MODEL_2107a3c9b2854f928083adf32b8f46e8",
       "style": "IPY_MODEL_e75a2afb20504e65979eaf9c9f23f156",
       "value": "  0% 0/10 [00:00&lt;?, ?it/s]"
      }
     },
     "cc083f03f01147b1992d0a08f496e0c6": {
      "model_module": "@jupyter-widgets/controls",
      "model_module_version": "1.4.0",
      "model_name": "ProgressStyleModel",
      "state": {
       "description_width": ""
      }
     },
     "cc15f20934f249f6a0365fbf9ca41385": {
      "model_module": "@jupyter-widgets/base",
      "model_module_version": "1.1.0",
      "model_name": "LayoutModel",
      "state": {}
     },
     "cc4e4a16af054daca0bfbdda5370204c": {
      "model_module": "@jupyter-widgets/base",
      "model_module_version": "1.1.0",
      "model_name": "LayoutModel",
      "state": {}
     },
     "cc68c83f48304a02b925c26f40ccaf28": {
      "model_module": "@jupyter-widgets/controls",
      "model_module_version": "1.4.0",
      "model_name": "DescriptionStyleModel",
      "state": {
       "description_width": ""
      }
     },
     "cc78a636cea34fd0847f7e629c7338fe": {
      "model_module": "@jupyter-widgets/base",
      "model_module_version": "1.1.0",
      "model_name": "LayoutModel",
      "state": {}
     },
     "cfa4a53055044f8986ccae01d141d74e": {
      "model_module": "@jupyter-widgets/controls",
      "model_module_version": "1.4.0",
      "model_name": "DescriptionStyleModel",
      "state": {
       "description_width": ""
      }
     },
     "d098140f7c954a329b1d947ef13ada01": {
      "model_module": "@jupyter-widgets/controls",
      "model_module_version": "1.4.0",
      "model_name": "HBoxModel",
      "state": {
       "children": [
        "IPY_MODEL_1d73832c1834450a9292e2f9c9fda54e",
        "IPY_MODEL_7286d336a1f14c7f95c64b071f470283"
       ],
       "layout": "IPY_MODEL_75ab023a3f8a45ba834bdf9e81666e05"
      }
     },
     "d159a85cce37473a920790a041765b0a": {
      "model_module": "@jupyter-widgets/controls",
      "model_module_version": "1.4.0",
      "model_name": "DescriptionStyleModel",
      "state": {
       "description_width": ""
      }
     },
     "d29dd98b4520494faa25bbe45b007a7e": {
      "model_module": "@jupyter-widgets/controls",
      "model_module_version": "1.4.0",
      "model_name": "ProgressStyleModel",
      "state": {
       "description_width": ""
      }
     },
     "d40dc413541843a8bf6e0c7e731b51cc": {
      "model_module": "@jupyter-widgets/base",
      "model_module_version": "1.1.0",
      "model_name": "LayoutModel",
      "state": {}
     },
     "d4d53094768548b295f44e81b95adf67": {
      "model_module": "@jupyter-widgets/controls",
      "model_module_version": "1.4.0",
      "model_name": "HBoxModel",
      "state": {
       "children": [
        "IPY_MODEL_7721447b83d9457496cf10a29f3e63a7",
        "IPY_MODEL_a4e1a6945bc54860b9f0690a2fad413c"
       ],
       "layout": "IPY_MODEL_910b83edd663494596930db7400653aa"
      }
     },
     "d4e046c4f6d74103b76ac9a1e01427d0": {
      "model_module": "@jupyter-widgets/controls",
      "model_module_version": "1.4.0",
      "model_name": "IntProgressModel",
      "state": {
       "bar_style": "danger",
       "layout": "IPY_MODEL_8cc310d4101a4fb183d7ebdde35eda3f",
       "max": 10,
       "style": "IPY_MODEL_1499ef71c7814bf39af06b7ef118d1da"
      }
     },
     "d4f6890e20df44baa48994ffe26d90af": {
      "model_module": "@jupyter-widgets/controls",
      "model_module_version": "1.4.0",
      "model_name": "IntProgressModel",
      "state": {
       "bar_style": "danger",
       "layout": "IPY_MODEL_ad2402b128e94342a24353e0eb7d007c",
       "max": 10,
       "style": "IPY_MODEL_26f29a0020794400a1a3591cb37180ec"
      }
     },
     "d50635734fe0448b951490af8eb389cf": {
      "model_module": "@jupyter-widgets/controls",
      "model_module_version": "1.4.0",
      "model_name": "DescriptionStyleModel",
      "state": {
       "description_width": ""
      }
     },
     "d5458b4ff9084003b5153490c204dfa3": {
      "model_module": "@jupyter-widgets/controls",
      "model_module_version": "1.4.0",
      "model_name": "ProgressStyleModel",
      "state": {
       "description_width": ""
      }
     },
     "d5a3936b49824faaab28e3914836ceff": {
      "model_module": "@jupyter-widgets/controls",
      "model_module_version": "1.4.0",
      "model_name": "DescriptionStyleModel",
      "state": {
       "description_width": ""
      }
     },
     "d611ff060d5f416790109f8c6cb218b2": {
      "model_module": "@jupyter-widgets/controls",
      "model_module_version": "1.4.0",
      "model_name": "DescriptionStyleModel",
      "state": {
       "description_width": ""
      }
     },
     "d70700ab6a064a51b8d132cf2c4619e5": {
      "model_module": "@jupyter-widgets/base",
      "model_module_version": "1.1.0",
      "model_name": "LayoutModel",
      "state": {}
     },
     "d77c2e1fde1443b7bcd04c7b048857dd": {
      "model_module": "@jupyter-widgets/base",
      "model_module_version": "1.1.0",
      "model_name": "LayoutModel",
      "state": {}
     },
     "d7d1b7324b7c43e4b861c962ef738006": {
      "model_module": "@jupyter-widgets/base",
      "model_module_version": "1.1.0",
      "model_name": "LayoutModel",
      "state": {}
     },
     "d825b08daf074c80a4d11d32a5257a01": {
      "model_module": "@jupyter-widgets/controls",
      "model_module_version": "1.4.0",
      "model_name": "HBoxModel",
      "state": {
       "children": [
        "IPY_MODEL_7587921a4f88452e8c3961ea55422568",
        "IPY_MODEL_3bdfdb59bf404930b7a607383c2191a6"
       ],
       "layout": "IPY_MODEL_67cd9eb5dd3d4b56bc81d24b5532b54e"
      }
     },
     "d8b8ff34e0ce4126aac6c39c264fad2d": {
      "model_module": "@jupyter-widgets/base",
      "model_module_version": "1.1.0",
      "model_name": "LayoutModel",
      "state": {}
     },
     "d9126cf29a9448198c7e53bc4d37c8fb": {
      "model_module": "@jupyter-widgets/controls",
      "model_module_version": "1.4.0",
      "model_name": "HBoxModel",
      "state": {
       "children": [
        "IPY_MODEL_9d5c73e70fc5451bb3f57838ca52366a",
        "IPY_MODEL_89885583e61b431f99ae7b5a7a508089"
       ],
       "layout": "IPY_MODEL_82e86dafe54d4970ad8b8911685f1855"
      }
     },
     "daae7a6c3cdc497a92b9dcf8c0eed1a1": {
      "model_module": "@jupyter-widgets/controls",
      "model_module_version": "1.4.0",
      "model_name": "DescriptionStyleModel",
      "state": {
       "description_width": ""
      }
     },
     "dac3e819a38b45a4bde6461da4539113": {
      "model_module": "@jupyter-widgets/controls",
      "model_module_version": "1.4.0",
      "model_name": "HTMLModel",
      "state": {
       "layout": "IPY_MODEL_7f0bbb249fe04dd1b788cb929acf4f15",
       "style": "IPY_MODEL_36c237f1fe5f4bee99eefdce77e37758",
       "value": "100% 10/10 [03:11&lt;00:00, 18.93s/it]"
      }
     },
     "dbadb8ab752d49559c155c53282d7c5d": {
      "model_module": "@jupyter-widgets/base",
      "model_module_version": "1.1.0",
      "model_name": "LayoutModel",
      "state": {}
     },
     "dbe019a7a5a241ff9cd6b3176180d291": {
      "model_module": "@jupyter-widgets/controls",
      "model_module_version": "1.4.0",
      "model_name": "ProgressStyleModel",
      "state": {
       "description_width": ""
      }
     },
     "dc5c6a8f85fe404b92bb272c0121f4d3": {
      "model_module": "@jupyter-widgets/controls",
      "model_module_version": "1.4.0",
      "model_name": "DescriptionStyleModel",
      "state": {
       "description_width": ""
      }
     },
     "ded30db7817a4d7f98ab52b3f1176594": {
      "model_module": "@jupyter-widgets/controls",
      "model_module_version": "1.4.0",
      "model_name": "ProgressStyleModel",
      "state": {
       "description_width": ""
      }
     },
     "e1e2d97bb02f46218ffb640d6f621dd0": {
      "model_module": "@jupyter-widgets/controls",
      "model_module_version": "1.4.0",
      "model_name": "HTMLModel",
      "state": {
       "layout": "IPY_MODEL_ae81a37a7d5e48d4994ae19c6e3676cd",
       "style": "IPY_MODEL_0923838d719f4036887e18956b4af983",
       "value": "100% 6/6 [00:23&lt;00:00,  3.93s/it]"
      }
     },
     "e247c17c933443a3963a55a2151c09e6": {
      "model_module": "@jupyter-widgets/controls",
      "model_module_version": "1.4.0",
      "model_name": "ProgressStyleModel",
      "state": {
       "description_width": ""
      }
     },
     "e3083ddc0a134c2cb7167366da9888b6": {
      "model_module": "@jupyter-widgets/base",
      "model_module_version": "1.1.0",
      "model_name": "LayoutModel",
      "state": {}
     },
     "e3ba0e7586b44c18bb5cfe35a2eb3010": {
      "model_module": "@jupyter-widgets/controls",
      "model_module_version": "1.4.0",
      "model_name": "IntProgressModel",
      "state": {
       "bar_style": "success",
       "layout": "IPY_MODEL_19db0e5efa7249c6b47c32d241588b36",
       "max": 10,
       "style": "IPY_MODEL_77a46bbd8b584ca0b64ec9e53d43ad75",
       "value": 10
      }
     },
     "e45c686c8ddd42e4a198e6be640cc948": {
      "model_module": "@jupyter-widgets/base",
      "model_module_version": "1.1.0",
      "model_name": "LayoutModel",
      "state": {}
     },
     "e6290f75b36245c0b599d8e3619aefe2": {
      "model_module": "@jupyter-widgets/controls",
      "model_module_version": "1.4.0",
      "model_name": "ProgressStyleModel",
      "state": {
       "description_width": ""
      }
     },
     "e6ac44f68a3046d7a154469da9435ac7": {
      "model_module": "@jupyter-widgets/controls",
      "model_module_version": "1.4.0",
      "model_name": "DescriptionStyleModel",
      "state": {
       "description_width": ""
      }
     },
     "e75a2afb20504e65979eaf9c9f23f156": {
      "model_module": "@jupyter-widgets/controls",
      "model_module_version": "1.4.0",
      "model_name": "DescriptionStyleModel",
      "state": {
       "description_width": ""
      }
     },
     "e835c3f061f74805be9c5bd93a32d6bf": {
      "model_module": "@jupyter-widgets/base",
      "model_module_version": "1.1.0",
      "model_name": "LayoutModel",
      "state": {}
     },
     "e84ae45ba2104e08940b68c14b78e3ee": {
      "model_module": "@jupyter-widgets/controls",
      "model_module_version": "1.4.0",
      "model_name": "HBoxModel",
      "state": {
       "children": [
        "IPY_MODEL_a407a3427b9b4feb8549190016d4e02d",
        "IPY_MODEL_72f9b8793d6f43aa9d02ff0536322d34"
       ],
       "layout": "IPY_MODEL_1ee502187fc04568b1ea7bfb657d41c8"
      }
     },
     "e8bb1b8df1024a34832dbd9e22e5b1aa": {
      "model_module": "@jupyter-widgets/controls",
      "model_module_version": "1.4.0",
      "model_name": "ProgressStyleModel",
      "state": {
       "description_width": ""
      }
     },
     "e905a5df7a84429f9f3f28407e7fd9e3": {
      "model_module": "@jupyter-widgets/base",
      "model_module_version": "1.1.0",
      "model_name": "LayoutModel",
      "state": {}
     },
     "e9d0285eafdc43038227c355f19e012d": {
      "model_module": "@jupyter-widgets/base",
      "model_module_version": "1.1.0",
      "model_name": "LayoutModel",
      "state": {}
     },
     "ea38c2e94086475f8c5334e296e64cc7": {
      "model_module": "@jupyter-widgets/controls",
      "model_module_version": "1.4.0",
      "model_name": "ProgressStyleModel",
      "state": {
       "description_width": ""
      }
     },
     "eab339b9de9c409e9bf9232afcb097fc": {
      "model_module": "@jupyter-widgets/base",
      "model_module_version": "1.1.0",
      "model_name": "LayoutModel",
      "state": {}
     },
     "eabe7ed31b6440b7a1687e1aeab422bf": {
      "model_module": "@jupyter-widgets/controls",
      "model_module_version": "1.4.0",
      "model_name": "DescriptionStyleModel",
      "state": {
       "description_width": ""
      }
     },
     "eb16a11a14ab416ea90e09c2bacd83fe": {
      "model_module": "@jupyter-widgets/controls",
      "model_module_version": "1.4.0",
      "model_name": "HBoxModel",
      "state": {
       "children": [
        "IPY_MODEL_c5aced669dce4fd0bfb50e95a83ed609",
        "IPY_MODEL_edc1fc60589b47b484d4e1f4a07eb536"
       ],
       "layout": "IPY_MODEL_e905a5df7a84429f9f3f28407e7fd9e3"
      }
     },
     "eb34a1f4a32a406babe31f521b2b64cc": {
      "model_module": "@jupyter-widgets/base",
      "model_module_version": "1.1.0",
      "model_name": "LayoutModel",
      "state": {}
     },
     "eb769253c91446c9aabe0e8916b71116": {
      "model_module": "@jupyter-widgets/base",
      "model_module_version": "1.1.0",
      "model_name": "LayoutModel",
      "state": {}
     },
     "ed4eb9dd44db40719f3a7631016bc3b6": {
      "model_module": "@jupyter-widgets/controls",
      "model_module_version": "1.4.0",
      "model_name": "HBoxModel",
      "state": {
       "children": [
        "IPY_MODEL_2d3abf5735544c21b4d0281c567e3029",
        "IPY_MODEL_0c11125078b64443a94c74de859f2786"
       ],
       "layout": "IPY_MODEL_8d32e8ad20044bb0980981eaf13e1db6"
      }
     },
     "ed51cd3953344051891828dafad1f368": {
      "model_module": "@jupyter-widgets/controls",
      "model_module_version": "1.4.0",
      "model_name": "HBoxModel",
      "state": {
       "children": [
        "IPY_MODEL_e3ba0e7586b44c18bb5cfe35a2eb3010",
        "IPY_MODEL_6d7c4078b2f84a54899e34038a4352e1"
       ],
       "layout": "IPY_MODEL_8c69f8480a7f46c8901db12c2166f363"
      }
     },
     "ed5aa310f6274034980d9d30582536c0": {
      "model_module": "@jupyter-widgets/base",
      "model_module_version": "1.1.0",
      "model_name": "LayoutModel",
      "state": {}
     },
     "edc1fc60589b47b484d4e1f4a07eb536": {
      "model_module": "@jupyter-widgets/controls",
      "model_module_version": "1.4.0",
      "model_name": "HTMLModel",
      "state": {
       "layout": "IPY_MODEL_6f7c77024f25412cbbc5cd4eb3d9fec0",
       "style": "IPY_MODEL_1c070e96ab9642ddb5df6c7774f64dea",
       "value": "100% 10/10 [04:30&lt;00:00, 26.14s/it]"
      }
     },
     "ee05d1cc49444a6a80cd8a3b96986d5c": {
      "model_module": "@jupyter-widgets/controls",
      "model_module_version": "1.4.0",
      "model_name": "HTMLModel",
      "state": {
       "layout": "IPY_MODEL_89de609f47de451db759b1aaa14ee28d",
       "style": "IPY_MODEL_566f425a338b4274921efbc607a4929f",
       "value": "  0% 0/10 [00:00&lt;?, ?it/s]"
      }
     },
     "ee1b128d7b804d6ebc2fcd42998d3538": {
      "model_module": "@jupyter-widgets/controls",
      "model_module_version": "1.4.0",
      "model_name": "IntProgressModel",
      "state": {
       "bar_style": "success",
       "layout": "IPY_MODEL_178e6f8eb6d54570b4ea31ac5f256d80",
       "max": 10,
       "style": "IPY_MODEL_8c95811dcbc84b459cdcb628615a5304",
       "value": 10
      }
     },
     "ee55c47e4054428fa81e64ec94dfad40": {
      "model_module": "@jupyter-widgets/controls",
      "model_module_version": "1.4.0",
      "model_name": "DescriptionStyleModel",
      "state": {
       "description_width": ""
      }
     },
     "eea6030acb9c43a8984d70a786d1728e": {
      "model_module": "@jupyter-widgets/controls",
      "model_module_version": "1.4.0",
      "model_name": "ProgressStyleModel",
      "state": {
       "description_width": ""
      }
     },
     "ef8e4da0a4ca421a8d4d7af0c7bd2aef": {
      "model_module": "@jupyter-widgets/controls",
      "model_module_version": "1.4.0",
      "model_name": "IntProgressModel",
      "state": {
       "bar_style": "success",
       "layout": "IPY_MODEL_cc4e4a16af054daca0bfbdda5370204c",
       "max": 10,
       "style": "IPY_MODEL_e247c17c933443a3963a55a2151c09e6",
       "value": 10
      }
     },
     "f1a30dc2e484456f809dee00a2d86658": {
      "model_module": "@jupyter-widgets/base",
      "model_module_version": "1.1.0",
      "model_name": "LayoutModel",
      "state": {}
     },
     "f1d0753bf37b4a538f4b714136dbde5e": {
      "model_module": "@jupyter-widgets/base",
      "model_module_version": "1.1.0",
      "model_name": "LayoutModel",
      "state": {}
     },
     "f3f525c422534016a985aaa9e1155ab3": {
      "model_module": "@jupyter-widgets/controls",
      "model_module_version": "1.4.0",
      "model_name": "ProgressStyleModel",
      "state": {
       "description_width": ""
      }
     },
     "f4696ff16de14dcab5f0590ccd330732": {
      "model_module": "@jupyter-widgets/controls",
      "model_module_version": "1.4.0",
      "model_name": "DescriptionStyleModel",
      "state": {
       "description_width": ""
      }
     },
     "f4b5db36567f4aa69700826bba69b773": {
      "model_module": "@jupyter-widgets/controls",
      "model_module_version": "1.4.0",
      "model_name": "HBoxModel",
      "state": {
       "children": [
        "IPY_MODEL_ef8e4da0a4ca421a8d4d7af0c7bd2aef",
        "IPY_MODEL_084bb899ca5e41a494bf3a3c06c98bf7"
       ],
       "layout": "IPY_MODEL_450549505b224fe198d9f7ec662f8e6a"
      }
     },
     "f63ccfcdc07242e6881600ebcfa44281": {
      "model_module": "@jupyter-widgets/base",
      "model_module_version": "1.1.0",
      "model_name": "LayoutModel",
      "state": {}
     },
     "f68253fdd14b4f34b676c57295363e82": {
      "model_module": "@jupyter-widgets/base",
      "model_module_version": "1.1.0",
      "model_name": "LayoutModel",
      "state": {}
     },
     "f6dc645a963647879c628634a0b0019a": {
      "model_module": "@jupyter-widgets/base",
      "model_module_version": "1.1.0",
      "model_name": "LayoutModel",
      "state": {}
     },
     "f7e031c34d9c434d82d212f0914699f0": {
      "model_module": "@jupyter-widgets/base",
      "model_module_version": "1.1.0",
      "model_name": "LayoutModel",
      "state": {}
     },
     "f97bd162cf204f27a2c99264bc68a962": {
      "model_module": "@jupyter-widgets/controls",
      "model_module_version": "1.4.0",
      "model_name": "HTMLModel",
      "state": {
       "layout": "IPY_MODEL_8c27554a16734a3e8e26aa5918f19f19",
       "style": "IPY_MODEL_3ffea830ce674403ae2670212643a696",
       "value": "100% 10/10 [00:42&lt;00:00,  4.35s/it]"
      }
     },
     "fa2ddf61ebdc45d3b30ff4def6bd91ec": {
      "model_module": "@jupyter-widgets/base",
      "model_module_version": "1.1.0",
      "model_name": "LayoutModel",
      "state": {}
     },
     "fb0c11ad8cd242299c012beb0e2b3d4a": {
      "model_module": "@jupyter-widgets/controls",
      "model_module_version": "1.4.0",
      "model_name": "HTMLModel",
      "state": {
       "layout": "IPY_MODEL_8efce7671a3d4ef8b87d1c4b2ee1a9ed",
       "style": "IPY_MODEL_ad112df0fa1d4087ae18ae0cf77ab7f5",
       "value": "100% 6/6 [00:24&lt;00:00,  4.12s/it]"
      }
     },
     "fbbd07ff2faf4ec0aab871dc0412075e": {
      "model_module": "@jupyter-widgets/controls",
      "model_module_version": "1.4.0",
      "model_name": "IntProgressModel",
      "state": {
       "bar_style": "danger",
       "layout": "IPY_MODEL_c1318a8236b94097bd8e9df239cf3a9d",
       "max": 10,
       "style": "IPY_MODEL_3c93d1373e154175ae77f1ea1f9739fa"
      }
     },
     "fe77be5471384a6bb3b69fcbaf10ed9d": {
      "model_module": "@jupyter-widgets/controls",
      "model_module_version": "1.4.0",
      "model_name": "DescriptionStyleModel",
      "state": {
       "description_width": ""
      }
     },
     "feba98be9fe14122ba31b80f4952fc1f": {
      "model_module": "@jupyter-widgets/controls",
      "model_module_version": "1.4.0",
      "model_name": "IntProgressModel",
      "state": {
       "bar_style": "success",
       "layout": "IPY_MODEL_5efa9194e7634920b3cf977af558f214",
       "max": 10,
       "style": "IPY_MODEL_51a88c9d75904fdb8b66bb358053e4a9",
       "value": 10
      }
     },
     "ffa6e9d8794043d0bdc7d7c2cf1d7b8f": {
      "model_module": "@jupyter-widgets/base",
      "model_module_version": "1.1.0",
      "model_name": "LayoutModel",
      "state": {}
     }
    },
    "version_major": 2,
    "version_minor": 0
   }
  }
 },
 "nbformat": 4,
 "nbformat_minor": 2
}
