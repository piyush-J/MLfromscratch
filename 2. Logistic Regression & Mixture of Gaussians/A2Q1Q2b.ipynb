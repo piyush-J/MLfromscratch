{
 "cells": [
  {
   "cell_type": "markdown",
   "metadata": {
    "toc": true
   },
   "source": [
    "<h1>Table of Contents<span class=\"tocSkip\"></span></h1>\n",
    "<div class=\"toc\"><ul class=\"toc-item\"><li><span><a href=\"#Imports\" data-toc-modified-id=\"Imports-1\"><span class=\"toc-item-num\">1&nbsp;&nbsp;</span>Imports</a></span></li><li><span><a href=\"#Helper-Classes\" data-toc-modified-id=\"Helper-Classes-2\"><span class=\"toc-item-num\">2&nbsp;&nbsp;</span>Helper Classes</a></span></li><li><span><a href=\"#Question-1\" data-toc-modified-id=\"Question-1-3\"><span class=\"toc-item-num\">3&nbsp;&nbsp;</span>Question 1</a></span><ul class=\"toc-item\"><li><span><a href=\"#Importing-Data\" data-toc-modified-id=\"Importing-Data-3.1\"><span class=\"toc-item-num\">3.1&nbsp;&nbsp;</span>Importing Data</a></span><ul class=\"toc-item\"><li><span><a href=\"#Constants\" data-toc-modified-id=\"Constants-3.1.1\"><span class=\"toc-item-num\">3.1.1&nbsp;&nbsp;</span>Constants</a></span></li><li><span><a href=\"#Test-Data\" data-toc-modified-id=\"Test-Data-3.1.2\"><span class=\"toc-item-num\">3.1.2&nbsp;&nbsp;</span>Test Data</a></span></li><li><span><a href=\"#Training-/-Validation-Data\" data-toc-modified-id=\"Training-/-Validation-Data-3.1.3\"><span class=\"toc-item-num\">3.1.3&nbsp;&nbsp;</span>Training / Validation Data</a></span></li></ul></li><li><span><a href=\"#Mixture-of-Gaussians\" data-toc-modified-id=\"Mixture-of-Gaussians-3.2\"><span class=\"toc-item-num\">3.2&nbsp;&nbsp;</span>Mixture of Gaussians</a></span><ul class=\"toc-item\"><li><span><a href=\"#Model-Definition\" data-toc-modified-id=\"Model-Definition-3.2.1\"><span class=\"toc-item-num\">3.2.1&nbsp;&nbsp;</span>Model Definition</a></span></li><li><span><a href=\"#Test-&amp;-Train-Accuracy\" data-toc-modified-id=\"Test-&amp;-Train-Accuracy-3.2.2\"><span class=\"toc-item-num\">3.2.2&nbsp;&nbsp;</span>Test &amp; Train Accuracy</a></span></li><li><span><a href=\"#Parameters\" data-toc-modified-id=\"Parameters-3.2.3\"><span class=\"toc-item-num\">3.2.3&nbsp;&nbsp;</span>Parameters</a></span></li></ul></li><li><span><a href=\"#Logistic-Regression\" data-toc-modified-id=\"Logistic-Regression-3.3\"><span class=\"toc-item-num\">3.3&nbsp;&nbsp;</span>Logistic Regression</a></span><ul class=\"toc-item\"><li><span><a href=\"#Model-Definition\" data-toc-modified-id=\"Model-Definition-3.3.1\"><span class=\"toc-item-num\">3.3.1&nbsp;&nbsp;</span>Model Definition</a></span></li><li><span><a href=\"#Cross-Validation\" data-toc-modified-id=\"Cross-Validation-3.3.2\"><span class=\"toc-item-num\">3.3.2&nbsp;&nbsp;</span>Cross Validation</a></span></li><li><span><a href=\"#Finding-the-Optimal-Lambda\" data-toc-modified-id=\"Finding-the-Optimal-Lambda-3.3.3\"><span class=\"toc-item-num\">3.3.3&nbsp;&nbsp;</span>Finding the Optimal Lambda</a></span></li><li><span><a href=\"#Test-&amp;-Train-Accuracy-with-Optimal-Lambda\" data-toc-modified-id=\"Test-&amp;-Train-Accuracy-with-Optimal-Lambda-3.3.4\"><span class=\"toc-item-num\">3.3.4&nbsp;&nbsp;</span>Test &amp; Train Accuracy with Optimal Lambda</a></span></li><li><span><a href=\"#Parameters\" data-toc-modified-id=\"Parameters-3.3.5\"><span class=\"toc-item-num\">3.3.5&nbsp;&nbsp;</span>Parameters</a></span></li></ul></li><li><span><a href=\"#Discussion\" data-toc-modified-id=\"Discussion-3.4\"><span class=\"toc-item-num\">3.4&nbsp;&nbsp;</span>Discussion</a></span></li></ul></li><li><span><a href=\"#Question-2b\" data-toc-modified-id=\"Question-2b-4\"><span class=\"toc-item-num\">4&nbsp;&nbsp;</span>Question 2b</a></span><ul class=\"toc-item\"><li><span><a href=\"#Experiment\" data-toc-modified-id=\"Experiment-4.1\"><span class=\"toc-item-num\">4.1&nbsp;&nbsp;</span>Experiment</a></span></li></ul></li></ul></div>"
   ]
  },
  {
   "cell_type": "markdown",
   "metadata": {},
   "source": [
    "# Imports"
   ]
  },
  {
   "cell_type": "code",
   "execution_count": 1,
   "metadata": {},
   "outputs": [],
   "source": [
    "import pandas as pd\n",
    "import numpy as np\n",
    "from collections import Counter\n",
    "from itertools import groupby\n",
    "from operator import itemgetter\n",
    "from tqdm import tqdm_notebook\n",
    "import matplotlib.pyplot as plt\n",
    "from numpy.linalg import norm\n",
    "from abc import ABC, abstractmethod \n",
    "import time"
   ]
  },
  {
   "cell_type": "markdown",
   "metadata": {},
   "source": [
    "# Helper Classes"
   ]
  },
  {
   "cell_type": "code",
   "execution_count": 2,
   "metadata": {},
   "outputs": [],
   "source": [
    "class DataFetcher:\n",
    "    \"\"\"\n",
    "    DataFetcher: Grabs all csv data as pandas dataframes.\n",
    "    \"\"\"\n",
    "    def __init__(self, directory, X_name, y_name):\n",
    "        self.directory = directory\n",
    "        self.X_name = X_name\n",
    "        self.y_name = y_name\n",
    "        \n",
    "    def _get_training_X_path(self, subset_num):\n",
    "        # 0 <= subset_num <= 9\n",
    "        return './%s/train%s%d.csv' % (self.directory, self.X_name, (subset_num + 1))\n",
    "\n",
    "    def _get_training_y_path(self, subset_num):\n",
    "        # 0 <= subset_num <= 9\n",
    "        return './%s/train%s%d.csv' % (self.directory, self.y_name, (subset_num + 1))\n",
    "\n",
    "    def get_all_training_X_y(self):\n",
    "        training_X_dfs = []\n",
    "        training_y_dfs = []\n",
    "        for i in range(NUM_SUBSETS):\n",
    "            X_path = self._get_training_X_path(i)\n",
    "            y_path = self._get_training_y_path(i)\n",
    "            X_df = pd.read_csv(X_path, header=None)\n",
    "            y_df =  pd.read_csv(y_path, header=None)\n",
    "            training_X_dfs.append(X_df)\n",
    "            training_y_dfs.append(y_df)\n",
    "        \n",
    "        return training_X_dfs, training_y_dfs\n",
    "    \n",
    "    def get_test_X_y(self):\n",
    "        test_X_path = './%s/test%s.csv' % (self.directory, self.X_name)\n",
    "        test_y_path = './%s/test%s.csv' % (self.directory, self.y_name)\n",
    "        test_X_df = pd.read_csv(test_X_path, header=None)\n",
    "        test_y_df = pd.read_csv(test_y_path, header=None)\n",
    "        return test_X_df, test_y_df\n",
    "    \n",
    "class CrossValidationData:\n",
    "    \"\"\"\n",
    "    CrossValidationData: Splits list of training dataframes \n",
    "        into validation & training dataframes.\n",
    "    \"\"\"\n",
    "    def __init__(self, X_dfs, y_dfs):\n",
    "        assert(len(X_dfs) == len(y_dfs))\n",
    "        self.X = X_dfs\n",
    "        self.y = y_dfs\n",
    "        self.num_subsets = len(X_dfs)\n",
    "        \n",
    "    def _split_training_validation(self, dfs, subset_num):\n",
    "        \n",
    "        validation_df = dfs[subset_num]\n",
    "        \n",
    "        training_dfs = dfs[:subset_num] + dfs[subset_num+1:]\n",
    "        training_df = pd.concat(training_dfs, ignore_index=True)\n",
    "      \n",
    "        return [training_df, validation_df]     \n",
    "        \n",
    "    def _get_training_validation_X(self, subset_num):\n",
    "        assert(subset_num < self.num_subsets)\n",
    "        \n",
    "        [training_X, validation_X] = self._split_training_validation(self.X, subset_num)\n",
    "        \n",
    "        return [training_X, validation_X]\n",
    "    \n",
    "    def _get_training_validation_y(self, subset_num):\n",
    "        assert(subset_num < self.num_subsets)\n",
    "        \n",
    "        [training_y, validation_y] = self._split_training_validation(self.y, subset_num)\n",
    "        \n",
    "        return [training_y, validation_y]\n",
    "    \n",
    "    def get_training_validation_X_y(self, subset_num):\n",
    "        [training_X, validation_X] = self._get_training_validation_X(subset_num)\n",
    "        [training_y, validation_y] = self._get_training_validation_y(subset_num)\n",
    "        return [training_X, training_y, validation_X, validation_y]\n",
    "\n",
    "    def get_all_X_y(self):\n",
    "        training_X = pd.concat(self.X, ignore_index=True)\n",
    "        training_y = pd.concat(self.y, ignore_index=True)\n",
    "        return [training_X, training_y]\n",
    "    \n",
    "def get_accuracy(true_labels, predicted_labels):\n",
    "    assert(len(true_labels) == len(predicted_labels))\n",
    "    return sum(1 for y, y_hat in zip(true_labels, predicted_labels) if y == y_hat ) / len(true_labels)\n",
    "\n",
    "class Model(ABC):\n",
    "    \"\"\"\n",
    "    Model -> Abstract base class for the models we will implement, namely \n",
    "            KNN and RidgeRegression.\n",
    "    \"\"\"\n",
    "    def __init__(self, train_X, train_y):\n",
    "        self.train_X = train_X\n",
    "        self.train_y = train_y\n",
    "    \n",
    "    @abstractmethod\n",
    "    def predict(self, x):\n",
    "        pass\n",
    "        \n",
    "    def predict_df(self, X_df):\n",
    "        predictions = X_df.apply(lambda row: self.predict(row), raw=True, axis=1)\n",
    "        return predictions"
   ]
  },
  {
   "cell_type": "markdown",
   "metadata": {},
   "source": [
    "# Question 1\n",
    "\n",
    "## Importing Data\n",
    "\n",
    "### Constants"
   ]
  },
  {
   "cell_type": "code",
   "execution_count": 3,
   "metadata": {},
   "outputs": [],
   "source": [
    "DIR_NAME = 'knn-dataset'\n",
    "X_NAME = 'Data'\n",
    "Y_NAME = 'Labels'\n",
    "NUM_SUBSETS = 10\n",
    "POSITIVE_LABEL = 6\n",
    "NEGATIVE_LABEL = 5\n",
    "LAMBDAS = [1000, 2000, 3000, 4000, 5000, 6000, 7000, 8000, 9000, 10000, 11000, 12000, 13000, 14000, 15000]"
   ]
  },
  {
   "cell_type": "markdown",
   "metadata": {},
   "source": [
    "### Test Data"
   ]
  },
  {
   "cell_type": "code",
   "execution_count": 4,
   "metadata": {},
   "outputs": [
    {
     "data": {
      "text/html": [
       "<div>\n",
       "<style scoped>\n",
       "    .dataframe tbody tr th:only-of-type {\n",
       "        vertical-align: middle;\n",
       "    }\n",
       "\n",
       "    .dataframe tbody tr th {\n",
       "        vertical-align: top;\n",
       "    }\n",
       "\n",
       "    .dataframe thead th {\n",
       "        text-align: right;\n",
       "    }\n",
       "</style>\n",
       "<table border=\"1\" class=\"dataframe\">\n",
       "  <thead>\n",
       "    <tr style=\"text-align: right;\">\n",
       "      <th></th>\n",
       "      <th>0</th>\n",
       "      <th>1</th>\n",
       "      <th>2</th>\n",
       "      <th>3</th>\n",
       "      <th>4</th>\n",
       "      <th>5</th>\n",
       "      <th>6</th>\n",
       "      <th>7</th>\n",
       "      <th>8</th>\n",
       "      <th>9</th>\n",
       "      <th>...</th>\n",
       "      <th>54</th>\n",
       "      <th>55</th>\n",
       "      <th>56</th>\n",
       "      <th>57</th>\n",
       "      <th>58</th>\n",
       "      <th>59</th>\n",
       "      <th>60</th>\n",
       "      <th>61</th>\n",
       "      <th>62</th>\n",
       "      <th>63</th>\n",
       "    </tr>\n",
       "  </thead>\n",
       "  <tbody>\n",
       "    <tr>\n",
       "      <th>0</th>\n",
       "      <td>0</td>\n",
       "      <td>0</td>\n",
       "      <td>0</td>\n",
       "      <td>1</td>\n",
       "      <td>13</td>\n",
       "      <td>10</td>\n",
       "      <td>0</td>\n",
       "      <td>0</td>\n",
       "      <td>0</td>\n",
       "      <td>8</td>\n",
       "      <td>...</td>\n",
       "      <td>16</td>\n",
       "      <td>0</td>\n",
       "      <td>0</td>\n",
       "      <td>0</td>\n",
       "      <td>4</td>\n",
       "      <td>0</td>\n",
       "      <td>14</td>\n",
       "      <td>0</td>\n",
       "      <td>15</td>\n",
       "      <td>0</td>\n",
       "    </tr>\n",
       "    <tr>\n",
       "      <th>1</th>\n",
       "      <td>0</td>\n",
       "      <td>0</td>\n",
       "      <td>0</td>\n",
       "      <td>0</td>\n",
       "      <td>0</td>\n",
       "      <td>7</td>\n",
       "      <td>0</td>\n",
       "      <td>0</td>\n",
       "      <td>0</td>\n",
       "      <td>0</td>\n",
       "      <td>...</td>\n",
       "      <td>16</td>\n",
       "      <td>0</td>\n",
       "      <td>0</td>\n",
       "      <td>0</td>\n",
       "      <td>0</td>\n",
       "      <td>0</td>\n",
       "      <td>2</td>\n",
       "      <td>11</td>\n",
       "      <td>12</td>\n",
       "      <td>0</td>\n",
       "    </tr>\n",
       "    <tr>\n",
       "      <th>2</th>\n",
       "      <td>16</td>\n",
       "      <td>11</td>\n",
       "      <td>5</td>\n",
       "      <td>16</td>\n",
       "      <td>15</td>\n",
       "      <td>16</td>\n",
       "      <td>16</td>\n",
       "      <td>16</td>\n",
       "      <td>16</td>\n",
       "      <td>16</td>\n",
       "      <td>...</td>\n",
       "      <td>14</td>\n",
       "      <td>16</td>\n",
       "      <td>16</td>\n",
       "      <td>16</td>\n",
       "      <td>16</td>\n",
       "      <td>16</td>\n",
       "      <td>16</td>\n",
       "      <td>16</td>\n",
       "      <td>16</td>\n",
       "      <td>0</td>\n",
       "    </tr>\n",
       "    <tr>\n",
       "      <th>3</th>\n",
       "      <td>0</td>\n",
       "      <td>0</td>\n",
       "      <td>7</td>\n",
       "      <td>16</td>\n",
       "      <td>2</td>\n",
       "      <td>2</td>\n",
       "      <td>0</td>\n",
       "      <td>0</td>\n",
       "      <td>0</td>\n",
       "      <td>1</td>\n",
       "      <td>...</td>\n",
       "      <td>11</td>\n",
       "      <td>0</td>\n",
       "      <td>0</td>\n",
       "      <td>0</td>\n",
       "      <td>0</td>\n",
       "      <td>9</td>\n",
       "      <td>9</td>\n",
       "      <td>0</td>\n",
       "      <td>0</td>\n",
       "      <td>0</td>\n",
       "    </tr>\n",
       "    <tr>\n",
       "      <th>4</th>\n",
       "      <td>0</td>\n",
       "      <td>0</td>\n",
       "      <td>0</td>\n",
       "      <td>7</td>\n",
       "      <td>0</td>\n",
       "      <td>0</td>\n",
       "      <td>0</td>\n",
       "      <td>0</td>\n",
       "      <td>0</td>\n",
       "      <td>0</td>\n",
       "      <td>...</td>\n",
       "      <td>0</td>\n",
       "      <td>0</td>\n",
       "      <td>0</td>\n",
       "      <td>0</td>\n",
       "      <td>0</td>\n",
       "      <td>13</td>\n",
       "      <td>14</td>\n",
       "      <td>12</td>\n",
       "      <td>0</td>\n",
       "      <td>0</td>\n",
       "    </tr>\n",
       "  </tbody>\n",
       "</table>\n",
       "<p>5 rows × 64 columns</p>\n",
       "</div>"
      ],
      "text/plain": [
       "   0   1   2   3   4   5   6   7   8   9   ...  54  55  56  57  58  59  60  \\\n",
       "0   0   0   0   1  13  10   0   0   0   8  ...  16   0   0   0   4   0  14   \n",
       "1   0   0   0   0   0   7   0   0   0   0  ...  16   0   0   0   0   0   2   \n",
       "2  16  11   5  16  15  16  16  16  16  16  ...  14  16  16  16  16  16  16   \n",
       "3   0   0   7  16   2   2   0   0   0   1  ...  11   0   0   0   0   9   9   \n",
       "4   0   0   0   7   0   0   0   0   0   0  ...   0   0   0   0   0  13  14   \n",
       "\n",
       "   61  62  63  \n",
       "0   0  15   0  \n",
       "1  11  12   0  \n",
       "2  16  16   0  \n",
       "3   0   0   0  \n",
       "4  12   0   0  \n",
       "\n",
       "[5 rows x 64 columns]"
      ]
     },
     "execution_count": 4,
     "metadata": {},
     "output_type": "execute_result"
    }
   ],
   "source": [
    "DF = DataFetcher(DIR_NAME, X_NAME, Y_NAME)\n",
    "test_X, test_y = DF.get_test_X_y()\n",
    "\n",
    "test_X.head()"
   ]
  },
  {
   "cell_type": "code",
   "execution_count": 5,
   "metadata": {
    "scrolled": true
   },
   "outputs": [
    {
     "data": {
      "text/html": [
       "<div>\n",
       "<style scoped>\n",
       "    .dataframe tbody tr th:only-of-type {\n",
       "        vertical-align: middle;\n",
       "    }\n",
       "\n",
       "    .dataframe tbody tr th {\n",
       "        vertical-align: top;\n",
       "    }\n",
       "\n",
       "    .dataframe thead th {\n",
       "        text-align: right;\n",
       "    }\n",
       "</style>\n",
       "<table border=\"1\" class=\"dataframe\">\n",
       "  <thead>\n",
       "    <tr style=\"text-align: right;\">\n",
       "      <th></th>\n",
       "      <th>0</th>\n",
       "    </tr>\n",
       "  </thead>\n",
       "  <tbody>\n",
       "    <tr>\n",
       "      <th>0</th>\n",
       "      <td>6</td>\n",
       "    </tr>\n",
       "    <tr>\n",
       "      <th>1</th>\n",
       "      <td>6</td>\n",
       "    </tr>\n",
       "    <tr>\n",
       "      <th>2</th>\n",
       "      <td>5</td>\n",
       "    </tr>\n",
       "    <tr>\n",
       "      <th>3</th>\n",
       "      <td>6</td>\n",
       "    </tr>\n",
       "    <tr>\n",
       "      <th>4</th>\n",
       "      <td>6</td>\n",
       "    </tr>\n",
       "  </tbody>\n",
       "</table>\n",
       "</div>"
      ],
      "text/plain": [
       "   0\n",
       "0  6\n",
       "1  6\n",
       "2  5\n",
       "3  6\n",
       "4  6"
      ]
     },
     "execution_count": 5,
     "metadata": {},
     "output_type": "execute_result"
    }
   ],
   "source": [
    "test_y.head()"
   ]
  },
  {
   "cell_type": "markdown",
   "metadata": {},
   "source": [
    "### Training / Validation Data"
   ]
  },
  {
   "cell_type": "code",
   "execution_count": 6,
   "metadata": {},
   "outputs": [
    {
     "name": "stdout",
     "output_type": "stream",
     "text": [
      "Training X shape: (900, 64)\n"
     ]
    }
   ],
   "source": [
    "training_X_dfs, training_y_dfs = DF.get_all_training_X_y()\n",
    "\n",
    "CVData = CrossValidationData(training_X_dfs, training_y_dfs)\n",
    "\n",
    "print(\"Training X shape: \" + str(CVData.get_training_validation_X_y(0)[0].shape))"
   ]
  },
  {
   "cell_type": "code",
   "execution_count": 7,
   "metadata": {
    "scrolled": false
   },
   "outputs": [
    {
     "name": "stdout",
     "output_type": "stream",
     "text": [
      "Training y shape: (900, 1)\n"
     ]
    }
   ],
   "source": [
    "print(\"Training y shape: \" + str(CVData.get_training_validation_X_y(0)[1].shape))"
   ]
  },
  {
   "cell_type": "code",
   "execution_count": 8,
   "metadata": {
    "scrolled": true
   },
   "outputs": [
    {
     "name": "stdout",
     "output_type": "stream",
     "text": [
      "Validation X shape: (100, 64)\n"
     ]
    }
   ],
   "source": [
    "print(\"Validation X shape: \" + str(CVData.get_training_validation_X_y(0)[2].shape))"
   ]
  },
  {
   "cell_type": "code",
   "execution_count": 9,
   "metadata": {},
   "outputs": [
    {
     "name": "stdout",
     "output_type": "stream",
     "text": [
      "Validation y shape: (100, 1)\n"
     ]
    }
   ],
   "source": [
    "print(\"Validation y shape: \" + str(CVData.get_training_validation_X_y(0)[3].shape))"
   ]
  },
  {
   "cell_type": "markdown",
   "metadata": {},
   "source": [
    "## Mixture of Gaussians\n",
    "\n",
    "### Model Definition"
   ]
  },
  {
   "cell_type": "code",
   "execution_count": 10,
   "metadata": {},
   "outputs": [],
   "source": [
    "class GaussianMixture(Model):\n",
    "    \n",
    "    def __init__(self, train_X, train_y, positive_label, negative_label):\n",
    "        super().__init__(train_X, train_y)\n",
    "        self.positive_label = positive_label\n",
    "        self.negative_label = negative_label\n",
    "        \n",
    "        # MLE Estimates for parameters\n",
    "        y_list = train_y.values.flatten().tolist()\n",
    "        pi = sum([1 if y == positive_label else 0 for y in y_list]) / len(y_list)\n",
    "        \n",
    "        # for mew 1, mew 2, split train X into positive negative groups and take average vector\n",
    "        positive_indices = [ind for ind, y in enumerate(y_list) if y == positive_label]\n",
    "        negative_indices = [ind for ind, y in enumerate(y_list) if y != positive_label]\n",
    "        \n",
    "        n1 = len(positive_indices)\n",
    "        n2 = len(negative_indices)\n",
    "        \n",
    "        N = n1 + n2\n",
    "        \n",
    "        positive_X_df = train_X.iloc[positive_indices]\n",
    "        negative_X_df = train_X.iloc[negative_indices]\n",
    "        \n",
    "        mu_1 = positive_X_df.mean()\n",
    "        mu_2 = negative_X_df.mean()\n",
    "        \n",
    "        positive_X = positive_X_df.to_numpy()\n",
    "        negative_X = negative_X_df.to_numpy()\n",
    "\n",
    "        positive_X_dists = positive_X_df.to_numpy() - mu_1.to_numpy()\n",
    "        negative_X_dists = negative_X_df.to_numpy() - mu_2.to_numpy()\n",
    "\n",
    "        s1 = positive_X_dists.T.dot(positive_X_dists) / n1\n",
    "        s2 = negative_X_dists.T.dot(negative_X_dists) / n2\n",
    "\n",
    "        cov = (n1/N) * s1 + (n2/N) * s2\n",
    "        \n",
    "        cov_inv = np.linalg.inv(cov)\n",
    "        \n",
    "        w = cov_inv.dot(mu_1 - mu_2)\n",
    "        w_0 = -(1/2) * mu_1.T.dot(cov_inv).dot(mu_1) + (1/2) * mu_2.T.dot(cov_inv).dot(mu_2) + np.log(pi/ (1-pi))\n",
    "\n",
    "        self.pi = pi\n",
    "        self.n1 = n1\n",
    "        self.n2 = n2\n",
    "        self.mu_1 = mu_1\n",
    "        self.mu_2 = mu_2\n",
    "        self.cov = cov\n",
    "        self.w = w\n",
    "        self.w_0 = w_0\n",
    "        \n",
    "    def predict_prob(self, x):\n",
    "        logit_odds = self.w.dot(x) + self.w_0\n",
    "        prob = 1 / (1 + np.exp(-logit_odds))        \n",
    "        return prob\n",
    "    \n",
    "    def predict(self, x):\n",
    "        prob = self.predict_prob(x)\n",
    "        if prob > 0.5:\n",
    "            return self.positive_label\n",
    "        else:\n",
    "            return self.negative_label"
   ]
  },
  {
   "cell_type": "markdown",
   "metadata": {},
   "source": [
    "### Test & Train Accuracy"
   ]
  },
  {
   "cell_type": "code",
   "execution_count": 11,
   "metadata": {},
   "outputs": [
    {
     "name": "stdout",
     "output_type": "stream",
     "text": [
      "Train Accuracy: 0.884000\n",
      "Test Accuracy: 0.890909\n",
      "Training Time: 0.006109952926635742\n"
     ]
    }
   ],
   "source": [
    "train_X, train_y = CVData.get_all_X_y()\n",
    "\n",
    "# Create hypothesis\n",
    "t1 = time.time()\n",
    "model = GaussianMixture(train_X, train_y, POSITIVE_LABEL, NEGATIVE_LABEL)\n",
    "t2 = time.time()\n",
    "\n",
    "# Train Accuracy \n",
    "predicted_train_y = model.predict_df(train_X)\n",
    "train_accuracy = get_accuracy(train_y.values.flatten(), predicted_train_y.values.flatten())\n",
    "\n",
    "# Test Accuracy\n",
    "predicted_test_y = model.predict_df(test_X)\n",
    "test_accuracy = get_accuracy(test_y.values.flatten(), predicted_test_y.values.flatten())\n",
    "\n",
    "print(\"Train Accuracy: %f\" % train_accuracy)\n",
    "print(\"Test Accuracy: %f\" % test_accuracy)\n",
    "print(\"Training Time: \" + str(t2-t1))"
   ]
  },
  {
   "cell_type": "markdown",
   "metadata": {},
   "source": [
    "### Parameters"
   ]
  },
  {
   "cell_type": "code",
   "execution_count": 12,
   "metadata": {},
   "outputs": [
    {
     "name": "stdout",
     "output_type": "stream",
     "text": [
      "pi = 0.500000\n",
      "mu_1 = [ 5.158  4.954  5.654  9.55   8.618  5.482  5.478  4.896  4.782  4.75\n",
      "  8.194 10.272  7.03   5.272  4.864  4.736  4.864  5.058  9.814  8.438\n",
      "  4.92   5.068  4.762  4.882  4.686  5.76  10.572  8.02   6.306  5.47\n",
      "  5.154  4.664  4.988  6.278 10.67   9.814  9.532  8.804  5.84   4.588\n",
      "  4.832  5.732 10.402  9.132  7.756  9.324  8.338  4.732  4.704  5.334\n",
      "  9.224  9.968  7.304  9.668  8.934  4.968  4.932  5.002  5.84   9.202\n",
      " 10.99   9.72   6.41   5.186]\n",
      "mu_2 = [ 4.846  4.902  8.28   9.858 10.68   9.342  6.198  4.602  4.978  5.998\n",
      " 10.498  9.662  8.448  7.66   5.322  4.412  4.438  6.36  10.02   6.84\n",
      "  5.6    4.764  4.436  4.366  4.758  6.392 10.126  9.514  7.924  6.302\n",
      "  4.532  4.64   4.812  5.274  7.596  7.948  8.518  7.668  5.634  4.226\n",
      "  4.612  4.718  4.924  5.762  7.362  8.612  5.764  4.408  4.29   5.038\n",
      "  7.032  7.762  8.782  7.908  5.516  4.548  4.456  4.758  8.606 10.226\n",
      "  8.702  6.198  5.002  4.944]\n",
      "diag(cov) = [40.06966  39.82214  43.393942 42.766668 40.430838 42.431356 43.962156\n",
      " 35.76039  37.639996 39.744748 41.88718  42.250886 43.980198 40.399208\n",
      " 39.59391  37.22228  35.94983  40.826518 42.785502 46.726278 39.7868\n",
      " 38.79184  35.49763  36.49206  36.55942  40.446368 40.62147  46.540702\n",
      " 45.725294 43.487948 37.28763  36.988752 37.872256 42.13782  41.990942\n",
      " 44.39835  45.407326 45.28368  42.051222 32.90459  37.272616 39.713326\n",
      " 40.32731  44.527966 46.29971  43.68424  43.72803  35.242856 35.657142\n",
      " 40.4655   44.1844   44.524166 46.08703  44.612656 43.811694 38.729336\n",
      " 37.56372  37.560716 45.240582 42.59006  42.565548 43.998198 42.671948\n",
      " 40.080134]\n"
     ]
    }
   ],
   "source": [
    "print(\"pi = %f\" % model.pi)\n",
    "print(\"mu_1 = \" + str(model.mu_1.to_numpy()))\n",
    "print(\"mu_2 = \" + str(model.mu_2.to_numpy()))\n",
    "print(\"diag(cov) = \" + str(np.diag(model.cov)))"
   ]
  },
  {
   "cell_type": "markdown",
   "metadata": {},
   "source": [
    "## Logistic Regression\n",
    "\n",
    "### Model Definition"
   ]
  },
  {
   "cell_type": "code",
   "execution_count": 13,
   "metadata": {},
   "outputs": [],
   "source": [
    "class LogisticRegression(Model):\n",
    "    def __init__(self, train_X, train_y, positive_label, negative_label, lmbda=0,  max_iters=10, threshold=0.01, train_intercept=True):\n",
    "        super().__init__(train_X, train_y)\n",
    "        self.positive_label = positive_label\n",
    "        self.negative_label = negative_label\n",
    "        self.lmbda = lmbda\n",
    "        self.max_iters = max_iters\n",
    "        self.threshold = threshold\n",
    "        self.train_intercept = train_intercept\n",
    "        \n",
    "        X = train_X.to_numpy()\n",
    "        y = train_y.to_numpy()\n",
    "        \n",
    "        # y's as 1 & 0's\n",
    "        y = [1 if y_i == positive_label else 0 for y_i in y]\n",
    "\n",
    "        # Add column of ones\n",
    "        if train_intercept:\n",
    "            X = np.insert(X, 0, np.ones(len(X)), axis=1)\n",
    "        \n",
    "        self.X = X\n",
    "        self.y = y\n",
    "        \n",
    "        self.w = np.zeros(X.shape[1])\n",
    "        \n",
    "        self._train(self.X, self.w, self.y)\n",
    "    \n",
    "    def _sigmoid(self, odds):\n",
    "        prob = 1 / (1 + np.exp(-odds))\n",
    "        return prob\n",
    "    \n",
    "    def _gradient(self, X, w, y):\n",
    "        weighted_values = X.dot(w)\n",
    "\n",
    "        probabilities = np.apply_along_axis(self._sigmoid, 0, weighted_values)\n",
    "\n",
    "        return X.T.dot(probabilities - y) + self.lmbda * w\n",
    "    \n",
    "    def _inverse_proba(self, prob):\n",
    "        return 1 - prob\n",
    "    \n",
    "    def _R(self, X, w):\n",
    "        weighted_values = X.dot(w)\n",
    "        \n",
    "        probabilities = np.apply_along_axis(self._sigmoid, 0, weighted_values)\n",
    "        inv_probabilities = np.apply_along_axis(self._inverse_proba, 0, probabilities)\n",
    "\n",
    "        return np.diag(np.multiply(probabilities, inv_probabilities))\n",
    "    \n",
    "    def _hessian(self, X, w):\n",
    "        R = self._R(X, w)\n",
    "        H = X.T.dot(R).dot(X)\n",
    "        return H + self.lmbda * np.identity(len(H))\n",
    "    \n",
    "    def _train(self, X, w, y):\n",
    "        iters = 0\n",
    "        while(True):\n",
    "            if iters >= self.max_iters:\n",
    "                break\n",
    "            \n",
    "            gradient = self._gradient(X, w, y)\n",
    "            hessian = self._hessian(X, w)\n",
    "            hessian_inv = np.linalg.inv(hessian)\n",
    "            \n",
    "            w_new = w - hessian_inv.dot(gradient)\n",
    "            \n",
    "            dist = norm(w_new - w)\n",
    "            \n",
    "            w = w_new\n",
    "\n",
    "            if dist < self.threshold:\n",
    "                break\n",
    "\n",
    "            iters += 1\n",
    "\n",
    "        self.w = w\n",
    "        \n",
    "    def predict_prob(self, x):\n",
    "        if self.train_intercept:\n",
    "            x = np.insert(x, 0, 1)\n",
    "        odds = self.w.dot(x) \n",
    "        return self._sigmoid(odds)\n",
    "    \n",
    "    def predict(self, x):\n",
    "        prob = self.predict_prob(x)\n",
    "        if prob > 0.5:\n",
    "            return self.positive_label\n",
    "        else:\n",
    "            return self.negative_label"
   ]
  },
  {
   "cell_type": "markdown",
   "metadata": {},
   "source": [
    "### Cross Validation"
   ]
  },
  {
   "cell_type": "code",
   "execution_count": 14,
   "metadata": {},
   "outputs": [],
   "source": [
    "def perform_logreg_CV():\n",
    "\n",
    "    average_accuracies = []\n",
    "    for lmbda in tqdm_notebook(LAMBDAS):\n",
    "        # Perform CV\n",
    "        accuracies = []\n",
    "        for j in range(NUM_SUBSETS):\n",
    "            train_X, train_y, validation_X, validation_y = CVData.get_training_validation_X_y(j)\n",
    "            \n",
    "            # Create hypothesis\n",
    "            model = LogisticRegression(train_X, train_y, POSITIVE_LABEL, NEGATIVE_LABEL, lmbda)\n",
    "            predicted_validation_y = model.predict_df(validation_X)\n",
    "\n",
    "            # Get accuracy\n",
    "            accuracy = get_accuracy(validation_y.values.flatten(), predicted_validation_y.values.flatten())\n",
    "            accuracies.append(accuracy)\n",
    "\n",
    "        avg_accuracy = np.mean(accuracies)\n",
    "        average_accuracies.append(avg_accuracy)\n",
    "\n",
    "    return average_accuracies"
   ]
  },
  {
   "cell_type": "markdown",
   "metadata": {},
   "source": [
    "### Finding the Optimal Lambda"
   ]
  },
  {
   "cell_type": "code",
   "execution_count": 15,
   "metadata": {},
   "outputs": [
    {
     "data": {
      "application/vnd.jupyter.widget-view+json": {
       "model_id": "a1448d539c1b4993af53c2e82ffd6513",
       "version_major": 2,
       "version_minor": 0
      },
      "text/plain": [
       "HBox(children=(IntProgress(value=0, max=15), HTML(value='')))"
      ]
     },
     "metadata": {},
     "output_type": "display_data"
    },
    {
     "name": "stdout",
     "output_type": "stream",
     "text": [
      "\n",
      "The optimal lambda is 9000.000000 with an average accuracy of 0.887000\n"
     ]
    }
   ],
   "source": [
    "cv_accuracies = perform_logreg_CV()\n",
    "optimal_lambda = LAMBDAS[np.argsort(cv_accuracies)[-1]]\n",
    "print(\"The optimal lambda is %f with an average accuracy of %f\" % (optimal_lambda, max(cv_accuracies)))"
   ]
  },
  {
   "cell_type": "code",
   "execution_count": 16,
   "metadata": {
    "scrolled": true
   },
   "outputs": [
    {
     "data": {
      "image/png": "[encoded data removed]",
      "text/plain": [
       "<Figure size 432x288 with 1 Axes>"
      ]
     },
     "metadata": {
      "needs_background": "light"
     },
     "output_type": "display_data"
    }
   ],
   "source": [
    "plt.plot(LAMBDAS, cv_accuracies)\n",
    "plt.xlabel('Lambda')\n",
    "plt.ylabel('Average Accuracy')\n",
    "plt.title('Cross Validation')\n",
    "plt.show()"
   ]
  },
  {
   "cell_type": "markdown",
   "metadata": {},
   "source": [
    "### Test & Train Accuracy with Optimal Lambda"
   ]
  },
  {
   "cell_type": "code",
   "execution_count": 17,
   "metadata": {},
   "outputs": [
    {
     "name": "stdout",
     "output_type": "stream",
     "text": [
      "Train Accuracy: 0.893000\n",
      "Test Accuracy: 0.900000\n",
      "Training Time (s): 0.020524978637695312\n"
     ]
    }
   ],
   "source": [
    "train_X, train_y = CVData.get_all_X_y()\n",
    "\n",
    "# Create hypothesis\n",
    "t1 = time.time()\n",
    "model = LogisticRegression(train_X, train_y, POSITIVE_LABEL, NEGATIVE_LABEL, optimal_lambda)\n",
    "t2 = time.time()\n",
    "\n",
    "# Train Accuracy \n",
    "predicted_train_y = model.predict_df(train_X)\n",
    "train_accuracy = get_accuracy(train_y.values.flatten(), predicted_train_y.values.flatten())\n",
    "\n",
    "# Test Accuracy\n",
    "predicted_test_y = model.predict_df(test_X)\n",
    "test_accuracy = get_accuracy(test_y.values.flatten(), predicted_test_y.values.flatten())\n",
    "\n",
    "print(\"Train Accuracy: %f\" % train_accuracy)\n",
    "print(\"Test Accuracy: %f\" % test_accuracy)\n",
    "print(\"Training Time (s): \" + str(t2-t1))"
   ]
  },
  {
   "cell_type": "markdown",
   "metadata": {},
   "source": [
    "### Parameters"
   ]
  },
  {
   "cell_type": "code",
   "execution_count": 18,
   "metadata": {},
   "outputs": [
    {
     "name": "stdout",
     "output_type": "stream",
     "text": [
      "w_0 = -0.0007261238590916078\n",
      "w = [ 0.00228753 -0.00218262 -0.02499607 -0.00677616 -0.02156872 -0.04263319\n",
      " -0.00888297 -0.00031574 -0.00933602 -0.01046375 -0.02821003  0.00133734\n",
      " -0.01630065 -0.03102114 -0.00421849  0.00478879  0.00057688 -0.01515247\n",
      " -0.00717007  0.0115508  -0.0079005   0.00312802  0.00437815  0.00472446\n",
      " -0.0051537  -0.00910076  0.00018878 -0.01708027 -0.01901705 -0.0054421\n",
      "  0.00678872 -0.00122225 -0.0034087   0.00794875  0.02455587  0.01430453\n",
      "  0.00313639  0.01047607  0.00224912  0.00508369  0.00246666  0.00583231\n",
      "  0.05520182  0.0299953  -0.00031288 -0.00124383  0.01620232  0.00140322\n",
      " -0.00097509  0.00852071  0.0171887   0.01673538 -0.01840872  0.01219147\n",
      "  0.02774324  0.00128359  0.00540749  0.00557576 -0.03186668 -0.01486028\n",
      "  0.01550594  0.02840391  0.00908849  0.00305927]\n"
     ]
    }
   ],
   "source": [
    "print(\"w_0 = \" + str(model.w[0]))\n",
    "print(\"w = \" + str(model.w[1:]))"
   ]
  },
  {
   "cell_type": "markdown",
   "metadata": {},
   "source": [
    "## Discussion\n",
    "\n",
    "1. **Compare the number of parameters for Gaussian Mixtures and Logistic Regression.**\n",
    "\n",
    "The parameters of the Gaussian Mixture model are π, $μ_1$, $μ_2$, Σ. \n",
    "\n",
    "For an input space in $R^n$, $μ_1$ and $μ_2$ are both n-dimensional, π is scalar, and Σ is an n x n matrix. Σ has a symmetrical upper and lower triangle. Thus, all the parameters are:\n",
    "\n",
    "- π\n",
    "- $μ_{1i}$ for $0 < i < n$\n",
    "- $μ_{2i}$ for $0 < i < n$\n",
    "- $Σ_{ij}$ for $0 < i < n, 0 < j < n, i <= j$\n",
    "\n",
    "They each correspond to:\n",
    "\n",
    "- 1 parameter\n",
    "- n parameters\n",
    "- n parameters\n",
    "- 1 + 2 + ... + n = n * (n + 1) / 2 parameters\n",
    "\n",
    "The total number of parameters in the Gaussian Mixture model is $\\frac{n^2}{2} + \\frac{5n}{2} + 1$\n",
    "\n",
    "For our data in the 64-dimensional digits dataset, this equals 2209 parameters.\n",
    "\n",
    "The parameters of the Logistic Regression model is w and $w_0$ where w is n dimensional and $w_0$ is scalar.\n",
    "\n",
    "Thus, the total number of parameters in the Logistic Regression model is n + 1. \n",
    "\n",
    "For our data above, this equals 65 parameters.\n",
    "\n",
    "The Gaussian Mixture model is heavily parameterized in comparison to the Logistic Regression model. This shows that the Gaussian Mixture model has less degress of freedom. This makes sense because the Logistic Regression model can represent any conditional distribution $P(x|C_i)$ in the exponential family, where the Gaussian Mixture model only represents one of these possibilities (the Gaussian conditional). \n",
    "\n",
    "2. **Compare the amount of computation for both models.**\n",
    "\n",
    "There are two areas where computation is involved: the complexity involved to learn the parameters, and the complexity involved to predict a value. We will consider both in our analsyis as the computational complexity of learning, and the computational complexity of prediction.\n",
    "\n",
    "Let's consider the complexity of learning as the asymptotic computational complexity of calculating the parameters as a function of the dimensionality of the data, n, and the number of training samples, m.\n",
    "\n",
    "For the Gaussian Mixture model, we calculate π by finding the proportion of points that belongs to a class. This is an $O(m)$ operation. We calculate $μ_1$ by taking the average across each dimension for all the points in a class. This is an $O(mn)$ operation. WLOG, this also applies to to $μ_2$. To calculate the covariance matrix we subtract each mean from $X_{y=c_{1}}$ and $X_{y=c_{2}}$ respectively and taking $X^TX$ for each and combining them. Subtracting the mean can be done in $O(m)$ and calculating $X^TX$ can be done by taking a dot product of two m dimensional vectors for n^2 positions in the resulting matrix, an $O(mn^2)$ operation. So, the covariance can be calculated in $O(m) + O(mn^2) = O(mn^2)$.\n",
    "\n",
    "Finally, combining the above complexities, $O(m) + O(mn) + O(mn^2) = O(mn^2)$ is the computational complexity of learning for the Gaussian Mixture model.\n",
    "\n",
    "The computational complexity of prediction for the Gaussian Mixture model is simply to take the weights learned and dot them with the input vector and then apply a sigmoid transformation. This is done in $O(n)$.\n",
    "\n",
    "Now, let's consider the complexity of learning for the logistic regression model. Let's assume that 10 iterations is sufficient for convergence. \n",
    "\n",
    "In each iteration, we calculate the hessian, we calculate the gradient, we find the inverse of the hessian, dot the inverse by the gradient, and subtract the result from w to find the new w.\n",
    "\n",
    "To calculate the hessian, we calculate $X^TRX + λI$ where R is a diagonal matrix with m non-zero elements that represent each training sample's sigmoid probability ($σ_i$) multiplied by its inverse probability ($1-σ_i$). R is calculated in $O(mn)$ since each of the m elements is calculated from the dot product of two n dimensional vectors. To calculate $X^TR$, each column is multiplied by a diagonal element of R. Thus, the computational complexity is $O(mn)$. Then to calculate $X^TRX$ from the previous step, it will take $O(mn^2)$. We know this from our results involving calculating the covariance matrix in the Gaussian Mixture model case. Finally, to add the regularization term is an $O(n)$ operation. In summary, calculating the hessian is an $O(mn) + O(mn^2) + O(n)= O(mn^2) $ operation.\n",
    "\n",
    "To calculate the gradient, we take all the difference between sigmoid probabilities for each training sample and the y label and dot that with X and add the regularization term. This takes $O(mn) + O(mn) + O(n) = O(mn)$ time.\n",
    "\n",
    "To calculate the inverse of the n x n hessian matrix, it takes $O(n^3)$. I'm using the result here for the time complexity of naive Gaussian elimination, documented here: http://mathforum.org/library/drmath/view/51908.html. I don't think the goal of this assignment is to discuss the time complexity of Gaussian elimination, so I will use this result freely.\n",
    "\n",
    "The time complexity of learning for the Logistic Regression model is then $O(mn^2) + O(mn) + O(n^3) = O(mn^2) + O(n^3)$. If $m > n$, which should really be true if you want meaningful results, then the time complexity is simply $O(mn^2)$.\n",
    "\n",
    "The time complexity of prediction for the Logistic Regression model is the same as the Gaussian result at $O(n)$.\n",
    "\n",
    "In summary, the time complexity of learning for Gaussian Mixture models and Logistic Regression is $O(mn^2)$ and the time complexity of prediction for both is $O(n)$.\n",
    "\n",
    "In wall clock time, the results for training both models are as follows:\n",
    "\n",
    "Gaussian Mixture: 0.0048 seconds\n",
    "\n",
    "Logistic Regression: 0.0176 seconds\n",
    "\n",
    "These values may vary from the ones above, since I just took the ones I got on this specific run of the notebook.\n",
    "\n",
    "The wall clock times make sense because the logistic regression does up to 10 more iterations, with each iteration in $O(mn^2)$. These finite iterations make no difference to the asymptotic complexity, but in wall clock time the difference is clear.\n",
    "\n",
    "3. **Compare the results for both models.**\n",
    "\n",
    "The Gaussian Mixture model gave us:\n",
    "\n",
    "Train Accuracy: 0.884000\n",
    "Test Accuracy: 0.890909\n",
    "\n",
    "The Logistic Regression model gave us:\n",
    "\n",
    "Train Accuracy: 0.894000\n",
    "Test Accuracy: 0.900000\n",
    "\n",
    "The logistic regression model fits the data slightly better.\n",
    "\n",
    "4. **Compare the expressivity of KNN and linear seperators. Discuss under what circumstances each type of seperator is expected to perform best.**\n",
    "\n",
    "K-Nearest Neighbours is able to express complex non-linear hypotheses as a function of the training data. In KNN, the input space is partitioned with various degrees of smoothing as we increase k. KNN's decision boundary can take on any form since it is non-parametric.\n",
    "\n",
    "KNN is expected to do well if the training data is very representative of the true distribution. Although, if there are many training points, this may result in decreased speed when forming predictions since many more comparisons need to be made. KNN evaluates all features as equally important (has no concept of feature importance), so if this is not true, KNN may not be well suited to the problem. KNN is also not suited to the problem if there are linearities between features, since KNN does not capture these.\n",
    "\n",
    "The Gaussian Mixture model is able to express hypotheses with a linear decision boundary between two classes of data that are conditionally normally distributed around $μ_1$ and $μ_2$ with the same covariance matrix of Σ.\n",
    "\n",
    "The Gaussian Mixture model is expcted to perform best if the conditional normality conditions are satisfied and both classes have the same covariance matrix. The model can work best when the two classes can be linearly seperated. The model is effective at capturing linearity between features. The model is also robust to irrelevant features since it can assign those features a weight close to zero if they are less important.\n",
    "\n",
    "The Logistic Regression model is able to express hypotheses with a linear decision boundary between two classes of data that are conditionally distributed according to some unknown exponential distribution. This model is effective for data that is linearly seperable and follows some exponential distribution. The model is effective at capturing linearities between features and is also robust to irrelevant features. Logistic Regression should be used when there is a strong belief that the features are dependent on the class, and the features of both classes are different from one another. \n",
    "\n",
    "5. **What can explain the results of KNN in comparison to Gaussian Mixtures and Logistic Regression.**\n",
    "\n",
    "KNN gave us a test accuracy of 0.727 where both Gaussian Mixture and Logistic Regression gave us close to 0.9 test accuracy. The linear seperators vastly outperformed KNN. \n",
    "\n",
    "The reason for this can be understood by taking a look what the data represents. Each feature represents the number of dark pixels found in a 4x4 patch. Each feature is spatially correlated to one another. For the digits 5 and 6, we would expect that some features in tandem could define a 5, where the prescence of other features in tandem could represent a 6. We expect the features to have linearities between each other. KNN is unable to capture these linearities, where the linear seperators are able to create a linear decision boundary defined between features. \n",
    "\n",
    "Furthermore, we would expect some features to be more important than other features. For example, if we superimpose a 5 on top of a 6, we can tell that most of the shape may be identical except for the bottom left of the 6 and the the 5. This may lead these specific feature to be more important than the rest. Generally, we would also expect the features along the perimeter of the image to also be less important.\n",
    "\n",
    "We can verify this by taking a look at the weights we learned. In the logistic regression model, the 8th weight represents the weight for the feature in the top right corner of the image. This value is -9.17977578e-06. This is the lowest magnitude value from all the features. The linear seperators are able to learn this feature is less important where the KNN model gives this feature the same importance.\n",
    "\n",
    "These factors contribute to the linear seperators outperforming KNN on this dataset."
   ]
  },
  {
   "cell_type": "markdown",
   "metadata": {},
   "source": [
    "# Question 2b\n",
    "\n",
    "Consider a set of data D that is linearly seperable. \n",
    "\n",
    "In a logistic regression, we minimize the negative log likelihood to form a linear decision boundary. For the data D, the weights, $w$, that would minimize the negative log likelihood form a decision boundary, $w^Tx = 0$, that linearly seperates the data D perfectly, and whose weights tend to infinity. \n",
    "\n",
    "The reason for this is as follows: Imagine that we have weights w for a linear boundary that accomplishes perfect classification on D. We can minimize the negative log likelihood further by multiplying all the weights by some c. This will keep the boundary in the same place but increase the magnitude of $w^Tx$ for any points. Thus, the sigmoid function will tend to a step function or threshold function with each iteration. With each iteration, we expect the magnitude of weights to increase.\n",
    "\n",
    "Using this knowledge, we can conduct an experiment to see if the training data is linearly seperable. We should train a logistic regression classifier on the training data and check to see if the mode has 100% on the train set. If it is true, we can confirm that the data is linearly seperable. A training accuracy of 100% is enough to prove the data is linearly seperable since the linear decision boundary classifies each point perfectly. For interest, I would like to also take a look at the weights themselves as well as I increase the number of iterations.\n",
    "\n",
    "A natural question is what should our regularization parameter be? \n",
    "\n",
    "For a linearly seperable dataset, regularization should not matter since the magnitude of the weights only affects how the sigmoid function looks and should not alter the linear boundary from its optimum. \n",
    "\n",
    "However, we want to avoid a hessian matrix with no inverse so we will use a small value for lambda in the logistic regression.\n",
    "\n",
    "## Experiment"
   ]
  },
  {
   "cell_type": "code",
   "execution_count": 19,
   "metadata": {},
   "outputs": [
    {
     "data": {
      "application/vnd.jupyter.widget-view+json": {
       "model_id": "b81f28d8aba64fa881f1a7a327af9eec",
       "version_major": 2,
       "version_minor": 0
      },
      "text/plain": [
       "HBox(children=(IntProgress(value=0, max=4), HTML(value='')))"
      ]
     },
     "metadata": {},
     "output_type": "display_data"
    },
    {
     "name": "stdout",
     "output_type": "stream",
     "text": [
      "\n"
     ]
    }
   ],
   "source": [
    "train_X, train_y = CVData.get_all_X_y()\n",
    "\n",
    "NUM_ITERS = [10, 20, 30, 40]\n",
    "\n",
    "weight_norms = []\n",
    "train_accuracies = []\n",
    "\n",
    "for num in tqdm_notebook(NUM_ITERS):\n",
    "    \n",
    "    # Create hypothesis\n",
    "    model = LogisticRegression(train_X, train_y, POSITIVE_LABEL, NEGATIVE_LABEL, 10, max_iters=num, threshold=0.001)\n",
    "\n",
    "    # Train Accuracy \n",
    "    predicted_train_y = model.predict_df(train_X)\n",
    "    train_accuracy = get_accuracy(train_y.values.flatten(), predicted_train_y.values.flatten())\n",
    "\n",
    "    train_accuracies.append(train_accuracy)\n",
    "    weight_norms.append(norm(model.w))\n",
    "\n"
   ]
  },
  {
   "cell_type": "code",
   "execution_count": 20,
   "metadata": {},
   "outputs": [
    {
     "data": {
      "image/png": "[encoded data removed]",
      "text/plain": [
       "<Figure size 432x288 with 1 Axes>"
      ]
     },
     "metadata": {
      "needs_background": "light"
     },
     "output_type": "display_data"
    }
   ],
   "source": [
    "plt.plot(NUM_ITERS, train_accuracies)\n",
    "plt.xlabel('Number of Iterations')\n",
    "plt.ylabel('Accuracy')\n",
    "plt.title('Test Set Accuracy')\n",
    "plt.show()"
   ]
  },
  {
   "cell_type": "code",
   "execution_count": 21,
   "metadata": {},
   "outputs": [
    {
     "data": {
      "image/png": "[encoded data removed]",
      "text/plain": [
       "<Figure size 432x288 with 1 Axes>"
      ]
     },
     "metadata": {
      "needs_background": "light"
     },
     "output_type": "display_data"
    }
   ],
   "source": [
    "plt.plot(NUM_ITERS, weight_norms)\n",
    "plt.xlabel('Number of Iterations')\n",
    "plt.ylabel('Magnitude')\n",
    "plt.title('Weight Norm')\n",
    "plt.show()"
   ]
  },
  {
   "cell_type": "markdown",
   "metadata": {},
   "source": [
    "From the above graphs, it is clear that the training set is not linearly seperable.\n",
    "\n",
    "The accuracy does not reach 100% and the weights do not increase as we expect them to, instead the logistic regression converges to certain weights, and the train accuracy is below 0.9."
   ]
  }
 ],
 "metadata": {
  "kernelspec": {
   "display_name": "csenv",
   "language": "python",
   "name": "csenv"
  },
  "toc": {
   "base_numbering": 1,
   "nav_menu": {},
   "number_sections": true,
   "sideBar": true,
   "skip_h1_title": false,
   "title_cell": "Table of Contents",
   "title_sidebar": "Contents",
   "toc_cell": true,
   "toc_position": {
    "height": "calc(100% - 180px)",
    "left": "10px",
    "top": "150px",
    "width": "336px"
   },
   "toc_section_display": true,
   "toc_window_display": true
  },
  "widgets": {
   "application/vnd.jupyter.widget-state+json": {
    "state": {
     "069fd1fdbf8f40da9dcdf00b394b63bc": {
      "model_module": "@jupyter-widgets/controls",
      "model_module_version": "1.4.0",
      "model_name": "HTMLModel",
      "state": {
       "layout": "IPY_MODEL_9b33c89d49e043079d8ff040d21bb733",
       "style": "IPY_MODEL_75b3b1f021be431380839e1d5f80eb2c",
       "value": "100% 4/4 [00:00&lt;00:00, 14.86it/s]"
      }
     },
     "070630fcd29c441686452e7441f3f245": {
      "model_module": "@jupyter-widgets/controls",
      "model_module_version": "1.4.0",
      "model_name": "HBoxModel",
      "state": {
       "children": [
        "IPY_MODEL_cfa95ddf84a343de8049b4a0b6203f68",
        "IPY_MODEL_dd296ff948814848b9258f5413b6b184"
       ],
       "layout": "IPY_MODEL_885285f0593f41ab80f4dfea26a3d131"
      }
     },
     "07dae2e367814867b118b61caf8a4eaf": {
      "model_module": "@jupyter-widgets/base",
      "model_module_version": "1.1.0",
      "model_name": "LayoutModel",
      "state": {}
     },
     "0b554088ad2349c18f664dbf1590cf54": {
      "model_module": "@jupyter-widgets/controls",
      "model_module_version": "1.4.0",
      "model_name": "DescriptionStyleModel",
      "state": {
       "description_width": ""
      }
     },
     "1c866f88fbf44599a56a2011bde7710a": {
      "model_module": "@jupyter-widgets/controls",
      "model_module_version": "1.4.0",
      "model_name": "DescriptionStyleModel",
      "state": {
       "description_width": ""
      }
     },
     "2297d64a145d4c8bb1a76c603c0baf0a": {
      "model_module": "@jupyter-widgets/controls",
      "model_module_version": "1.4.0",
      "model_name": "IntProgressModel",
      "state": {
       "bar_style": "success",
       "layout": "IPY_MODEL_3fa3f87a10784a8d9fb4c0dfb84a3fc5",
       "max": 4,
       "style": "IPY_MODEL_3164fc5f012f4ffca624a7dff35d8300",
       "value": 4
      }
     },
     "2525f9facb6b493b8fadcaa0e5885a72": {
      "model_module": "@jupyter-widgets/controls",
      "model_module_version": "1.4.0",
      "model_name": "ProgressStyleModel",
      "state": {
       "description_width": ""
      }
     },
     "2bb3c078e21a4d5fa4d0668a3c8efd27": {
      "model_module": "@jupyter-widgets/base",
      "model_module_version": "1.1.0",
      "model_name": "LayoutModel",
      "state": {}
     },
     "2bf94a89d33b4b7ba271f4652255d682": {
      "model_module": "@jupyter-widgets/base",
      "model_module_version": "1.1.0",
      "model_name": "LayoutModel",
      "state": {}
     },
     "2f08ca71f47c45ac849a5e16c7ce8580": {
      "model_module": "@jupyter-widgets/controls",
      "model_module_version": "1.4.0",
      "model_name": "HTMLModel",
      "state": {
       "layout": "IPY_MODEL_a850f9015bc74fdca2c09cbb484dd4f0",
       "style": "IPY_MODEL_3ba7f1ce837945d3a14135a3ba9b1b70",
       "value": "100% 4/4 [00:00&lt;00:00, 14.25it/s]"
      }
     },
     "30a0dfa873754096bc2505b99247263f": {
      "model_module": "@jupyter-widgets/base",
      "model_module_version": "1.1.0",
      "model_name": "LayoutModel",
      "state": {}
     },
     "3164fc5f012f4ffca624a7dff35d8300": {
      "model_module": "@jupyter-widgets/controls",
      "model_module_version": "1.4.0",
      "model_name": "ProgressStyleModel",
      "state": {
       "description_width": ""
      }
     },
     "3314d5ef3cb04735b1ee8a8b74797b08": {
      "model_module": "@jupyter-widgets/base",
      "model_module_version": "1.1.0",
      "model_name": "LayoutModel",
      "state": {}
     },
     "35633c78954241a7ba33c98fe81b8cd1": {
      "model_module": "@jupyter-widgets/controls",
      "model_module_version": "1.4.0",
      "model_name": "DescriptionStyleModel",
      "state": {
       "description_width": ""
      }
     },
     "3628e3942e604f3d8926c3867213130d": {
      "model_module": "@jupyter-widgets/base",
      "model_module_version": "1.1.0",
      "model_name": "LayoutModel",
      "state": {}
     },
     "37f8278cbbba4ee1bf212c9c1d19dcff": {
      "model_module": "@jupyter-widgets/controls",
      "model_module_version": "1.4.0",
      "model_name": "IntProgressModel",
      "state": {
       "bar_style": "success",
       "layout": "IPY_MODEL_e431e7010dd241b7b3aa85b60b271386",
       "max": 4,
       "style": "IPY_MODEL_2525f9facb6b493b8fadcaa0e5885a72",
       "value": 4
      }
     },
     "3ba7f1ce837945d3a14135a3ba9b1b70": {
      "model_module": "@jupyter-widgets/controls",
      "model_module_version": "1.4.0",
      "model_name": "DescriptionStyleModel",
      "state": {
       "description_width": ""
      }
     },
     "3fa3f87a10784a8d9fb4c0dfb84a3fc5": {
      "model_module": "@jupyter-widgets/base",
      "model_module_version": "1.1.0",
      "model_name": "LayoutModel",
      "state": {}
     },
     "423b2bf6c9cc4cc285364a20432b09f0": {
      "model_module": "@jupyter-widgets/controls",
      "model_module_version": "1.4.0",
      "model_name": "ProgressStyleModel",
      "state": {
       "description_width": ""
      }
     },
     "4409319d49ef4a3fa07c6663e0e9e5c5": {
      "model_module": "@jupyter-widgets/controls",
      "model_module_version": "1.4.0",
      "model_name": "IntProgressModel",
      "state": {
       "bar_style": "success",
       "layout": "IPY_MODEL_e52eb4cc1c0b417ebc266ee46eb9e1cb",
       "max": 4,
       "style": "IPY_MODEL_78a837765f704d66b38497606d56de0f",
       "value": 4
      }
     },
     "4b1b0163b5464c7cab543022be045420": {
      "model_module": "@jupyter-widgets/controls",
      "model_module_version": "1.4.0",
      "model_name": "HTMLModel",
      "state": {
       "layout": "IPY_MODEL_30a0dfa873754096bc2505b99247263f",
       "style": "IPY_MODEL_d060b9d90c8749349f99c86691814e59",
       "value": "100% 4/4 [00:00&lt;00:00, 14.80it/s]"
      }
     },
     "4d604dccf9284b7ead93fc24bfa99ca8": {
      "model_module": "@jupyter-widgets/controls",
      "model_module_version": "1.4.0",
      "model_name": "IntProgressModel",
      "state": {
       "bar_style": "success",
       "layout": "IPY_MODEL_5bcca0abd6cb467c95e4bbfbc8e94cd1",
       "max": 15,
       "style": "IPY_MODEL_5bb3b1722ef9416f8f21756d2ba51a5d",
       "value": 15
      }
     },
     "4e376083c13541a6a77742f0610880c6": {
      "model_module": "@jupyter-widgets/base",
      "model_module_version": "1.1.0",
      "model_name": "LayoutModel",
      "state": {}
     },
     "4f8841462e5b41bb80318c9f2ee877f3": {
      "model_module": "@jupyter-widgets/controls",
      "model_module_version": "1.4.0",
      "model_name": "HTMLModel",
      "state": {
       "layout": "IPY_MODEL_8b61ddc39abb45d7b508d8ae8da3a5ed",
       "style": "IPY_MODEL_65b17584bded4c619dabdedad44805a9",
       "value": "100% 15/15 [00:02&lt;00:00,  8.06it/s]"
      }
     },
     "5942d978f3f7476784a8cae98d7a1359": {
      "model_module": "@jupyter-widgets/base",
      "model_module_version": "1.1.0",
      "model_name": "LayoutModel",
      "state": {}
     },
     "5bb3b1722ef9416f8f21756d2ba51a5d": {
      "model_module": "@jupyter-widgets/controls",
      "model_module_version": "1.4.0",
      "model_name": "ProgressStyleModel",
      "state": {
       "description_width": ""
      }
     },
     "5bcca0abd6cb467c95e4bbfbc8e94cd1": {
      "model_module": "@jupyter-widgets/base",
      "model_module_version": "1.1.0",
      "model_name": "LayoutModel",
      "state": {}
     },
     "61405267ed22498f98e85ba01ed166a5": {
      "model_module": "@jupyter-widgets/controls",
      "model_module_version": "1.4.0",
      "model_name": "IntProgressModel",
      "state": {
       "bar_style": "success",
       "layout": "IPY_MODEL_2bb3c078e21a4d5fa4d0668a3c8efd27",
       "max": 15,
       "style": "IPY_MODEL_e0163c429f45473384549678591e0fa9",
       "value": 15
      }
     },
     "65b17584bded4c619dabdedad44805a9": {
      "model_module": "@jupyter-widgets/controls",
      "model_module_version": "1.4.0",
      "model_name": "DescriptionStyleModel",
      "state": {
       "description_width": ""
      }
     },
     "697aff7ce2b64f4095d4a6a998dd018c": {
      "model_module": "@jupyter-widgets/controls",
      "model_module_version": "1.4.0",
      "model_name": "HTMLModel",
      "state": {
       "layout": "IPY_MODEL_fa3d2eb8611247949058e2e085827e9c",
       "style": "IPY_MODEL_1c866f88fbf44599a56a2011bde7710a",
       "value": "100% 15/15 [00:02&lt;00:00,  7.00it/s]"
      }
     },
     "6a5726147460447fa748275a970aeade": {
      "model_module": "@jupyter-widgets/controls",
      "model_module_version": "1.4.0",
      "model_name": "HBoxModel",
      "state": {
       "children": [
        "IPY_MODEL_37f8278cbbba4ee1bf212c9c1d19dcff",
        "IPY_MODEL_4b1b0163b5464c7cab543022be045420"
       ],
       "layout": "IPY_MODEL_3314d5ef3cb04735b1ee8a8b74797b08"
      }
     },
     "716808e9a0f1466997908b10ec2e1e99": {
      "model_module": "@jupyter-widgets/controls",
      "model_module_version": "1.4.0",
      "model_name": "IntProgressModel",
      "state": {
       "bar_style": "success",
       "layout": "IPY_MODEL_3628e3942e604f3d8926c3867213130d",
       "max": 4,
       "style": "IPY_MODEL_423b2bf6c9cc4cc285364a20432b09f0",
       "value": 4
      }
     },
     "75b3b1f021be431380839e1d5f80eb2c": {
      "model_module": "@jupyter-widgets/controls",
      "model_module_version": "1.4.0",
      "model_name": "DescriptionStyleModel",
      "state": {
       "description_width": ""
      }
     },
     "78a837765f704d66b38497606d56de0f": {
      "model_module": "@jupyter-widgets/controls",
      "model_module_version": "1.4.0",
      "model_name": "ProgressStyleModel",
      "state": {
       "description_width": ""
      }
     },
     "7c67b6df138b4f418fa32c9784d9f10c": {
      "model_module": "@jupyter-widgets/controls",
      "model_module_version": "1.4.0",
      "model_name": "HTMLModel",
      "state": {
       "layout": "IPY_MODEL_b7e3b14c61b8444a84869d84c962ee2d",
       "style": "IPY_MODEL_35633c78954241a7ba33c98fe81b8cd1",
       "value": "100% 4/4 [00:00&lt;00:00, 16.61it/s]"
      }
     },
     "82bb05f129874e5b92b81d78aeb399b1": {
      "model_module": "@jupyter-widgets/base",
      "model_module_version": "1.1.0",
      "model_name": "LayoutModel",
      "state": {}
     },
     "8517e0f6324247b7bdcc1cf8ab7f2ee3": {
      "model_module": "@jupyter-widgets/base",
      "model_module_version": "1.1.0",
      "model_name": "LayoutModel",
      "state": {}
     },
     "885285f0593f41ab80f4dfea26a3d131": {
      "model_module": "@jupyter-widgets/base",
      "model_module_version": "1.1.0",
      "model_name": "LayoutModel",
      "state": {}
     },
     "8b61ddc39abb45d7b508d8ae8da3a5ed": {
      "model_module": "@jupyter-widgets/base",
      "model_module_version": "1.1.0",
      "model_name": "LayoutModel",
      "state": {}
     },
     "91793fc6d43e432498d1bb58a8a83acd": {
      "model_module": "@jupyter-widgets/base",
      "model_module_version": "1.1.0",
      "model_name": "LayoutModel",
      "state": {}
     },
     "91ebf83757504c68be6451e4fea418d4": {
      "model_module": "@jupyter-widgets/controls",
      "model_module_version": "1.4.0",
      "model_name": "HBoxModel",
      "state": {
       "children": [
        "IPY_MODEL_61405267ed22498f98e85ba01ed166a5",
        "IPY_MODEL_4f8841462e5b41bb80318c9f2ee877f3"
       ],
       "layout": "IPY_MODEL_82bb05f129874e5b92b81d78aeb399b1"
      }
     },
     "9370b3ef4f34454da60d8ee136a57448": {
      "model_module": "@jupyter-widgets/controls",
      "model_module_version": "1.4.0",
      "model_name": "DescriptionStyleModel",
      "state": {
       "description_width": ""
      }
     },
     "93b9437ffb204d39bfca3d3f6be04a3b": {
      "model_module": "@jupyter-widgets/controls",
      "model_module_version": "1.4.0",
      "model_name": "HBoxModel",
      "state": {
       "children": [
        "IPY_MODEL_dc90d2523c76410ea760fd545412c75f",
        "IPY_MODEL_7c67b6df138b4f418fa32c9784d9f10c"
       ],
       "layout": "IPY_MODEL_f0ec0397132c4f708cc28fa900b7efbc"
      }
     },
     "9b33c89d49e043079d8ff040d21bb733": {
      "model_module": "@jupyter-widgets/base",
      "model_module_version": "1.1.0",
      "model_name": "LayoutModel",
      "state": {}
     },
     "9e8c9d17eb3e4348bf9b0cc5e72c0cba": {
      "model_module": "@jupyter-widgets/controls",
      "model_module_version": "1.4.0",
      "model_name": "DescriptionStyleModel",
      "state": {
       "description_width": ""
      }
     },
     "9fbcd7f35d5a492784b62662f2daeb89": {
      "model_module": "@jupyter-widgets/base",
      "model_module_version": "1.1.0",
      "model_name": "LayoutModel",
      "state": {}
     },
     "a1448d539c1b4993af53c2e82ffd6513": {
      "model_module": "@jupyter-widgets/controls",
      "model_module_version": "1.4.0",
      "model_name": "HBoxModel",
      "state": {
       "children": [
        "IPY_MODEL_4d604dccf9284b7ead93fc24bfa99ca8",
        "IPY_MODEL_697aff7ce2b64f4095d4a6a998dd018c"
       ],
       "layout": "IPY_MODEL_2bf94a89d33b4b7ba271f4652255d682"
      }
     },
     "a34ba2ea2a6d4516adfac42d9e8d2458": {
      "model_module": "@jupyter-widgets/controls",
      "model_module_version": "1.4.0",
      "model_name": "ProgressStyleModel",
      "state": {
       "description_width": ""
      }
     },
     "a4aa1e1644814056afb941dc635fefd9": {
      "model_module": "@jupyter-widgets/controls",
      "model_module_version": "1.4.0",
      "model_name": "ProgressStyleModel",
      "state": {
       "description_width": ""
      }
     },
     "a5ff581541484859b8a55999b34699ba": {
      "model_module": "@jupyter-widgets/controls",
      "model_module_version": "1.4.0",
      "model_name": "HBoxModel",
      "state": {
       "children": [
        "IPY_MODEL_e8bd21d868a74162b12bd615434ca568",
        "IPY_MODEL_f1eb770ddeae4cf8a8fb6ea3ba758e35"
       ],
       "layout": "IPY_MODEL_07dae2e367814867b118b61caf8a4eaf"
      }
     },
     "a850f9015bc74fdca2c09cbb484dd4f0": {
      "model_module": "@jupyter-widgets/base",
      "model_module_version": "1.1.0",
      "model_name": "LayoutModel",
      "state": {}
     },
     "b7e3b14c61b8444a84869d84c962ee2d": {
      "model_module": "@jupyter-widgets/base",
      "model_module_version": "1.1.0",
      "model_name": "LayoutModel",
      "state": {}
     },
     "b81f28d8aba64fa881f1a7a327af9eec": {
      "model_module": "@jupyter-widgets/controls",
      "model_module_version": "1.4.0",
      "model_name": "HBoxModel",
      "state": {
       "children": [
        "IPY_MODEL_716808e9a0f1466997908b10ec2e1e99",
        "IPY_MODEL_c0ba5cc516cf47cab9526122fb19368c"
       ],
       "layout": "IPY_MODEL_f753bdbf644245338f43cdfa4a69e4bf"
      }
     },
     "bd3362181bf1444fa53c7d0eb93bb695": {
      "model_module": "@jupyter-widgets/base",
      "model_module_version": "1.1.0",
      "model_name": "LayoutModel",
      "state": {}
     },
     "c0ba5cc516cf47cab9526122fb19368c": {
      "model_module": "@jupyter-widgets/controls",
      "model_module_version": "1.4.0",
      "model_name": "HTMLModel",
      "state": {
       "layout": "IPY_MODEL_4e376083c13541a6a77742f0610880c6",
       "style": "IPY_MODEL_9e8c9d17eb3e4348bf9b0cc5e72c0cba",
       "value": "100% 4/4 [00:00&lt;00:00, 14.72it/s]"
      }
     },
     "cfa95ddf84a343de8049b4a0b6203f68": {
      "model_module": "@jupyter-widgets/controls",
      "model_module_version": "1.4.0",
      "model_name": "IntProgressModel",
      "state": {
       "bar_style": "success",
       "layout": "IPY_MODEL_9fbcd7f35d5a492784b62662f2daeb89",
       "max": 4,
       "style": "IPY_MODEL_a4aa1e1644814056afb941dc635fefd9",
       "value": 4
      }
     },
     "d060b9d90c8749349f99c86691814e59": {
      "model_module": "@jupyter-widgets/controls",
      "model_module_version": "1.4.0",
      "model_name": "DescriptionStyleModel",
      "state": {
       "description_width": ""
      }
     },
     "d6e8aa5647ed4d4aadd0a3c49f71bc11": {
      "model_module": "@jupyter-widgets/base",
      "model_module_version": "1.1.0",
      "model_name": "LayoutModel",
      "state": {}
     },
     "d8faa2ec73364fd981c0f640d546664b": {
      "model_module": "@jupyter-widgets/controls",
      "model_module_version": "1.4.0",
      "model_name": "HBoxModel",
      "state": {
       "children": [
        "IPY_MODEL_2297d64a145d4c8bb1a76c603c0baf0a",
        "IPY_MODEL_2f08ca71f47c45ac849a5e16c7ce8580"
       ],
       "layout": "IPY_MODEL_d6e8aa5647ed4d4aadd0a3c49f71bc11"
      }
     },
     "d9075255184343869835ff2d5c74eea5": {
      "model_module": "@jupyter-widgets/controls",
      "model_module_version": "1.4.0",
      "model_name": "HBoxModel",
      "state": {
       "children": [
        "IPY_MODEL_4409319d49ef4a3fa07c6663e0e9e5c5",
        "IPY_MODEL_069fd1fdbf8f40da9dcdf00b394b63bc"
       ],
       "layout": "IPY_MODEL_8517e0f6324247b7bdcc1cf8ab7f2ee3"
      }
     },
     "dc90d2523c76410ea760fd545412c75f": {
      "model_module": "@jupyter-widgets/controls",
      "model_module_version": "1.4.0",
      "model_name": "IntProgressModel",
      "state": {
       "bar_style": "success",
       "layout": "IPY_MODEL_bd3362181bf1444fa53c7d0eb93bb695",
       "max": 4,
       "style": "IPY_MODEL_a34ba2ea2a6d4516adfac42d9e8d2458",
       "value": 4
      }
     },
     "dd296ff948814848b9258f5413b6b184": {
      "model_module": "@jupyter-widgets/controls",
      "model_module_version": "1.4.0",
      "model_name": "HTMLModel",
      "state": {
       "layout": "IPY_MODEL_91793fc6d43e432498d1bb58a8a83acd",
       "style": "IPY_MODEL_0b554088ad2349c18f664dbf1590cf54",
       "value": "100% 4/4 [00:00&lt;00:00, 13.44it/s]"
      }
     },
     "e0163c429f45473384549678591e0fa9": {
      "model_module": "@jupyter-widgets/controls",
      "model_module_version": "1.4.0",
      "model_name": "ProgressStyleModel",
      "state": {
       "description_width": ""
      }
     },
     "e431e7010dd241b7b3aa85b60b271386": {
      "model_module": "@jupyter-widgets/base",
      "model_module_version": "1.1.0",
      "model_name": "LayoutModel",
      "state": {}
     },
     "e52eb4cc1c0b417ebc266ee46eb9e1cb": {
      "model_module": "@jupyter-widgets/base",
      "model_module_version": "1.1.0",
      "model_name": "LayoutModel",
      "state": {}
     },
     "e8bd21d868a74162b12bd615434ca568": {
      "model_module": "@jupyter-widgets/controls",
      "model_module_version": "1.4.0",
      "model_name": "IntProgressModel",
      "state": {
       "bar_style": "success",
       "layout": "IPY_MODEL_5942d978f3f7476784a8cae98d7a1359",
       "max": 4,
       "style": "IPY_MODEL_f63a44b01fed46c3b74ade582f2773f4",
       "value": 4
      }
     },
     "f0ec0397132c4f708cc28fa900b7efbc": {
      "model_module": "@jupyter-widgets/base",
      "model_module_version": "1.1.0",
      "model_name": "LayoutModel",
      "state": {}
     },
     "f1eb770ddeae4cf8a8fb6ea3ba758e35": {
      "model_module": "@jupyter-widgets/controls",
      "model_module_version": "1.4.0",
      "model_name": "HTMLModel",
      "state": {
       "layout": "IPY_MODEL_fd8158a6ce274b0d816e49252036b12c",
       "style": "IPY_MODEL_9370b3ef4f34454da60d8ee136a57448",
       "value": "100% 4/4 [00:00&lt;00:00, 22.11it/s]"
      }
     },
     "f63a44b01fed46c3b74ade582f2773f4": {
      "model_module": "@jupyter-widgets/controls",
      "model_module_version": "1.4.0",
      "model_name": "ProgressStyleModel",
      "state": {
       "description_width": ""
      }
     },
     "f753bdbf644245338f43cdfa4a69e4bf": {
      "model_module": "@jupyter-widgets/base",
      "model_module_version": "1.1.0",
      "model_name": "LayoutModel",
      "state": {}
     },
     "fa3d2eb8611247949058e2e085827e9c": {
      "model_module": "@jupyter-widgets/base",
      "model_module_version": "1.1.0",
      "model_name": "LayoutModel",
      "state": {}
     },
     "fd8158a6ce274b0d816e49252036b12c": {
      "model_module": "@jupyter-widgets/base",
      "model_module_version": "1.1.0",
      "model_name": "LayoutModel",
      "state": {}
     }
    },
    "version_major": 2,
    "version_minor": 0
   }
  }
 },
 "nbformat": 4,
 "nbformat_minor": 2
}
