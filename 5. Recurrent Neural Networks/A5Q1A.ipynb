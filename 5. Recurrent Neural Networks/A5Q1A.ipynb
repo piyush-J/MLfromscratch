{
 "cells": [
  {
   "cell_type": "markdown",
   "metadata": {
    "toc": true
   },
   "source": [
    "<h1>Table of Contents<span class=\"tocSkip\"></span></h1>\n",
    "<div class=\"toc\"><ul class=\"toc-item\"><li><span><a href=\"#Question-1\" data-toc-modified-id=\"Question-1-1\"><span class=\"toc-item-num\">1&nbsp;&nbsp;</span>Question 1</a></span><ul class=\"toc-item\"><li><span><a href=\"#Imports\" data-toc-modified-id=\"Imports-1.1\"><span class=\"toc-item-num\">1.1&nbsp;&nbsp;</span>Imports</a></span></li><li><span><a href=\"#Getting-the-Data\" data-toc-modified-id=\"Getting-the-Data-1.2\"><span class=\"toc-item-num\">1.2&nbsp;&nbsp;</span>Getting the Data</a></span></li></ul></li><li><span><a href=\"#Part-A\" data-toc-modified-id=\"Part-A-2\"><span class=\"toc-item-num\">2&nbsp;&nbsp;</span>Part A</a></span><ul class=\"toc-item\"><li><span><a href=\"#Linear-Hidden-Units\" data-toc-modified-id=\"Linear-Hidden-Units-2.1\"><span class=\"toc-item-num\">2.1&nbsp;&nbsp;</span>Linear Hidden Units</a></span><ul class=\"toc-item\"><li><span><a href=\"#Model-Definition\" data-toc-modified-id=\"Model-Definition-2.1.1\"><span class=\"toc-item-num\">2.1.1&nbsp;&nbsp;</span>Model Definition</a></span></li><li><span><a href=\"#Model-Training\" data-toc-modified-id=\"Model-Training-2.1.2\"><span class=\"toc-item-num\">2.1.2&nbsp;&nbsp;</span>Model Training</a></span></li><li><span><a href=\"#Evaluating-Results\" data-toc-modified-id=\"Evaluating-Results-2.1.3\"><span class=\"toc-item-num\">2.1.3&nbsp;&nbsp;</span>Evaluating Results</a></span></li></ul></li><li><span><a href=\"#GRU-Units\" data-toc-modified-id=\"GRU-Units-2.2\"><span class=\"toc-item-num\">2.2&nbsp;&nbsp;</span>GRU Units</a></span><ul class=\"toc-item\"><li><span><a href=\"#Model-Definition\" data-toc-modified-id=\"Model-Definition-2.2.1\"><span class=\"toc-item-num\">2.2.1&nbsp;&nbsp;</span>Model Definition</a></span></li><li><span><a href=\"#Model-Training\" data-toc-modified-id=\"Model-Training-2.2.2\"><span class=\"toc-item-num\">2.2.2&nbsp;&nbsp;</span>Model Training</a></span></li><li><span><a href=\"#Evaluating-Results\" data-toc-modified-id=\"Evaluating-Results-2.2.3\"><span class=\"toc-item-num\">2.2.3&nbsp;&nbsp;</span>Evaluating Results</a></span></li></ul></li><li><span><a href=\"#LSTM-Units\" data-toc-modified-id=\"LSTM-Units-2.3\"><span class=\"toc-item-num\">2.3&nbsp;&nbsp;</span>LSTM Units</a></span><ul class=\"toc-item\"><li><span><a href=\"#Model-Definition\" data-toc-modified-id=\"Model-Definition-2.3.1\"><span class=\"toc-item-num\">2.3.1&nbsp;&nbsp;</span>Model Definition</a></span></li><li><span><a href=\"#Model-Training\" data-toc-modified-id=\"Model-Training-2.3.2\"><span class=\"toc-item-num\">2.3.2&nbsp;&nbsp;</span>Model Training</a></span></li><li><span><a href=\"#Evaluating-Results\" data-toc-modified-id=\"Evaluating-Results-2.3.3\"><span class=\"toc-item-num\">2.3.3&nbsp;&nbsp;</span>Evaluating Results</a></span></li></ul></li><li><span><a href=\"#Comparing-Types-of-Units\" data-toc-modified-id=\"Comparing-Types-of-Units-2.4\"><span class=\"toc-item-num\">2.4&nbsp;&nbsp;</span>Comparing Types of Units</a></span></li></ul></li><li><span><a href=\"#Discussion\" data-toc-modified-id=\"Discussion-3\"><span class=\"toc-item-num\">3&nbsp;&nbsp;</span>Discussion</a></span></li></ul></div>"
   ]
  },
  {
   "cell_type": "markdown",
   "metadata": {
    "colab_type": "text",
    "id": "26XkfSD0LMH2"
   },
   "source": [
    "# Question 1\n",
    "\n",
    "## Imports"
   ]
  },
  {
   "cell_type": "code",
   "execution_count": 0,
   "metadata": {
    "colab": {},
    "colab_type": "code",
    "id": "P6jROxz8LbPi"
   },
   "outputs": [],
   "source": [
    "from __future__ import unicode_literals, print_function, division\n",
    "from io import open\n",
    "import glob\n",
    "import os\n",
    "import random\n",
    "import unicodedata\n",
    "import string\n",
    "import math\n",
    "import torch\n",
    "import torch.nn as nn\n",
    "from torch.autograd import Variable\n",
    "import time\n",
    "import matplotlib.pyplot as plt\n",
    "import matplotlib.ticker as ticker\n",
    "\n",
    "%matplotlib inline"
   ]
  },
  {
   "cell_type": "markdown",
   "metadata": {
    "colab_type": "text",
    "id": "S6OyODDPLbqB"
   },
   "source": [
    "## Getting the Data"
   ]
  },
  {
   "cell_type": "code",
   "execution_count": 3,
   "metadata": {
    "colab": {
     "base_uri": "https://localhost:8080/",
     "height": 578
    },
    "colab_type": "code",
    "id": "JuMhLCVADmNf",
    "outputId": "20d916d1-88e6-4ce0-c5aa-d7ea832b9837"
   },
   "outputs": [
    {
     "name": "stdout",
     "output_type": "stream",
     "text": [
      "--2019-07-27 14:01:52--  https://download.pytorch.org/tutorial/data.zip\n",
      "Resolving download.pytorch.org (download.pytorch.org)... 13.225.166.83, 13.225.166.79, 13.225.166.66, ...\n",
      "Connecting to download.pytorch.org (download.pytorch.org)|13.225.166.83|:443... connected.\n",
      "HTTP request sent, awaiting response... 200 OK\n",
      "Length: 2882130 (2.7M) [application/zip]\n",
      "Saving to: ‘data.zip’\n",
      "\n",
      "data.zip            100%[===================>]   2.75M  --.-KB/s    in 0.05s   \n",
      "\n",
      "2019-07-27 14:01:58 (60.7 MB/s) - ‘data.zip’ saved [2882130/2882130]\n",
      "\n",
      "Archive:  data.zip\n",
      "   creating: data/\n",
      "  inflating: data/eng-fra.txt        \n",
      "   creating: data/names/\n",
      "  inflating: data/names/Arabic.txt   \n",
      "  inflating: data/names/Chinese.txt  \n",
      "  inflating: data/names/Czech.txt    \n",
      "  inflating: data/names/Dutch.txt    \n",
      "  inflating: data/names/English.txt  \n",
      "  inflating: data/names/French.txt   \n",
      "  inflating: data/names/German.txt   \n",
      "  inflating: data/names/Greek.txt    \n",
      "  inflating: data/names/Irish.txt    \n",
      "  inflating: data/names/Italian.txt  \n",
      "  inflating: data/names/Japanese.txt  \n",
      "  inflating: data/names/Korean.txt   \n",
      "  inflating: data/names/Polish.txt   \n",
      "  inflating: data/names/Portuguese.txt  \n",
      "  inflating: data/names/Russian.txt  \n",
      "  inflating: data/names/Scottish.txt  \n",
      "  inflating: data/names/Spanish.txt  \n",
      "  inflating: data/names/Vietnamese.txt  \n"
     ]
    }
   ],
   "source": [
    "!wget https://download.pytorch.org/tutorial/data.zip\n",
    "!unzip data.zip"
   ]
  },
  {
   "cell_type": "code",
   "execution_count": 0,
   "metadata": {
    "colab": {},
    "colab_type": "code",
    "id": "LZzyHnYDLxhl"
   },
   "outputs": [],
   "source": [
    "class DataLoader: \n",
    "    \n",
    "    def __init__(self):\n",
    "        \n",
    "        all_letters = string.ascii_letters + \" .,;'\"\n",
    "        n_letters = len(all_letters)\n",
    "        self.n_letters = n_letters\n",
    "        self.all_letters = all_letters\n",
    "        \n",
    "        # Build the category_lines dictionary, a list of names per language\n",
    "        category_lines = {}\n",
    "        train_data = {}\n",
    "        test_data = {}\n",
    "        all_categories = []\n",
    "        \n",
    "        for filename in self.findFiles('data/names/*.txt'):\n",
    "            category = os.path.splitext(os.path.basename(filename))[0]\n",
    "            all_categories.append(category)\n",
    "            lines = self.readLines(filename)\n",
    "            random.shuffle(lines)\n",
    "            train_data[category] = lines[0:int(math.floor(0.8*len(lines)))]\n",
    "            test_data[category] = lines[int(math.floor(0.8*len(lines)))+1:]\n",
    "            category_lines[category] = lines\n",
    "\n",
    "        n_categories = len(all_categories)\n",
    "        \n",
    "        self.n_categories = n_categories\n",
    "        self.train_data = train_data\n",
    "        self.test_data = test_data\n",
    "        self.all_categories = all_categories\n",
    "\n",
    "            \n",
    "    def findFiles(self, path):\n",
    "        return glob.glob(path)\n",
    "    \n",
    "    # Turn a Unicode string to plain ASCII, thanks to http://stackoverflow.com/a/518232/2809427\n",
    "    def unicodeToAscii(self, s):\n",
    "        return ''.join(\n",
    "            c for c in unicodedata.normalize('NFD', s)\n",
    "            if unicodedata.category(c) != 'Mn'\n",
    "            and c in self.all_letters\n",
    "        )\n",
    "\n",
    "    # Read a file and split into lines\n",
    "    def readLines(self, filename):\n",
    "        lines = open(filename, encoding='utf-8').read().strip().split('\\n')\n",
    "        return [self.unicodeToAscii(line) for line in lines]\n",
    "\n",
    "    def categoryFromOutput(self, output):\n",
    "        top_n, top_i = output.topk(1)\n",
    "        category_i = top_i[0].item()\n",
    "        return self.all_categories[category_i], category_i\n",
    "\n",
    "    def randomChoice(self, l):\n",
    "        return l[random.randint(0, len(l) - 1)]\n",
    "\n",
    "    def randomTrainingExample(self):\n",
    "        category = self.randomChoice(self.all_categories)\n",
    "        line = self.randomChoice(self.train_data[category])\n",
    "        category_tensor = torch.tensor([self.all_categories.index(category)], dtype=torch.long)\n",
    "        line_tensor = self.lineToTensor(line)\n",
    "        return category, line, category_tensor, line_tensor\n",
    "    \n",
    "    def randomTrainingExample2(self):\n",
    "        category, line = self.randomTrainingPair()\n",
    "        category_tensor = self.categoryTensor(category)\n",
    "        input_line_tensor = self.inputTensor(line)\n",
    "        target_line_tensor = self.targetTensor(line)\n",
    "        return category_tensor, input_line_tensor, target_line_tensor\n",
    "    \n",
    "    def randomTrainingPair(self):\n",
    "        category = self.randomChoice(self.all_categories)\n",
    "        line = self.randomChoice(self.train_data[category])\n",
    "        return category, line    \n",
    "    \n",
    "    # Find letter index from all_letters, e.g. \"a\" = 0\n",
    "    def letterToIndex(self, letter):\n",
    "        return self.all_letters.find(letter)\n",
    "\n",
    "    # Just for demonstration, turn a letter into a <1 x n_letters> Tensor\n",
    "    def letterToTensor(self, letter):\n",
    "        tensor = torch.zeros(1, self.n_letters)\n",
    "        tensor[0][self.letterToIndex(letter)] = 1\n",
    "        return tensor\n",
    "\n",
    "    # Turn a line into a <line_length x 1 x n_letters>,\n",
    "    # or an array of one-hot letter vectors\n",
    "    def lineToTensor(self, line):\n",
    "        tensor = torch.zeros(len(line), 1, self.n_letters)\n",
    "        for li, letter in enumerate(line):\n",
    "            tensor[li][0][self.letterToIndex(letter)] = 1\n",
    "        return tensor\n",
    "    \n",
    "    # One-hot vector for category\n",
    "    def categoryTensor(self, category):\n",
    "        li = self.all_categories.index(category)\n",
    "        tensor = torch.zeros(1, self.n_categories)\n",
    "        tensor[0][li] = 1\n",
    "        return tensor\n",
    "\n",
    "    # One-hot matrix of first to last letters (not including EOS) for input\n",
    "    def inputTensor(self, line):\n",
    "        tensor = torch.zeros(len(line), 1, self.n_letters)\n",
    "        for li in range(len(line)):\n",
    "            letter = line[li]\n",
    "            tensor[li][0][self.all_letters.find(letter)] = 1\n",
    "        return tensor\n",
    "\n",
    "    # LongTensor of second letter to end (EOS) for target\n",
    "    def targetTensor(self, line):\n",
    "        letter_indexes = [self.all_letters.find(line[li]) for li in range(1, len(line))]\n",
    "        letter_indexes.append(self.n_letters - 1) # EOS\n",
    "        return torch.LongTensor(letter_indexes)\n",
    "\n",
    "DL = DataLoader()"
   ]
  },
  {
   "cell_type": "code",
   "execution_count": 38,
   "metadata": {
    "colab": {
     "base_uri": "https://localhost:8080/",
     "height": 102
    },
    "colab_type": "code",
    "id": "XRadtsOCMGwl",
    "outputId": "dd1e2beb-e762-490d-a58d-a92794fac89a"
   },
   "outputs": [
    {
     "name": "stdout",
     "output_type": "stream",
     "text": [
      "tensor([[0., 0., 0., 0., 0., 0., 0., 0., 0., 0., 0., 0., 0., 0., 0., 0., 0., 0.,\n",
      "         0., 0., 0., 0., 0., 0., 0., 0., 0., 0., 0., 0., 0., 0., 0., 0., 0., 1.,\n",
      "         0., 0., 0., 0., 0., 0., 0., 0., 0., 0., 0., 0., 0., 0., 0., 0., 0., 0.,\n",
      "         0., 0., 0.]])\n",
      "torch.Size([5, 1, 57])\n"
     ]
    }
   ],
   "source": [
    "print(DL.letterToTensor('J'))\n",
    "\n",
    "print(DL.lineToTensor('Jones').size())"
   ]
  },
  {
   "cell_type": "markdown",
   "metadata": {
    "colab_type": "text",
    "id": "182_UKXRMQjs"
   },
   "source": [
    "# Part A\n",
    "\n",
    "## Linear Hidden Units\n",
    "\n",
    "### Model Definition"
   ]
  },
  {
   "cell_type": "code",
   "execution_count": 0,
   "metadata": {
    "colab": {},
    "colab_type": "code",
    "id": "C13Oj0uIMNqX"
   },
   "outputs": [],
   "source": [
    "class RNN(nn.Module):\n",
    "    def __init__(self, hidden_size, DL=DL):\n",
    "        super(RNN, self).__init__()\n",
    "        input_size = DL.n_letters\n",
    "        output_size = DL.n_categories\n",
    "        \n",
    "        self.hidden_size = hidden_size\n",
    "\n",
    "        self.i2h = nn.Linear(input_size + hidden_size, hidden_size)\n",
    "        self.i2o = nn.Linear(input_size + hidden_size, output_size)\n",
    "        self.softmax = nn.LogSoftmax(dim=1)\n",
    "        \n",
    "        self.learning_rate = 0.005\n",
    "        self.criterion = nn.NLLLoss()\n",
    "        self.DL = DL\n",
    "\n",
    "    def forward(self, input, hidden):\n",
    "        combined = torch.cat((input, hidden), 1)\n",
    "        hidden = self.i2h(combined)\n",
    "        output = self.i2o(combined)\n",
    "        output = self.softmax(output)\n",
    "        return output, hidden\n",
    "\n",
    "    def initHidden(self):\n",
    "        return torch.zeros(1, self.hidden_size)\n",
    "   \n",
    "    def timeSince(self, since):\n",
    "        now = time.time()\n",
    "        s = now - since\n",
    "        m = math.floor(s / 60)\n",
    "        s -= m * 60\n",
    "        return '%dm %ds' % (m, s)\n",
    "\n",
    "    # Just return an output given a line\n",
    "    def evaluate(self, line_tensor):\n",
    "        hidden = self.initHidden()\n",
    "        for i in range(line_tensor.size()[0]):\n",
    "            output, hidden = self(line_tensor[i], hidden)\n",
    "        return output\n",
    "    \n",
    "    def train_single(self, category_tensor, line_tensor):\n",
    "        hidden = self.initHidden()\n",
    "\n",
    "        self.zero_grad()\n",
    "\n",
    "        for i in range(line_tensor.size()[0]):\n",
    "            output, hidden = self(line_tensor[i], hidden)\n",
    "\n",
    "        loss = self.criterion(output, category_tensor)\n",
    "        loss.backward()\n",
    "\n",
    "        # Add parameters' gradients to their values, multiplied by learning rate\n",
    "        for p in self.parameters():\n",
    "            p.data.add_(-self.learning_rate, p.grad.data)\n",
    "\n",
    "        return output, loss.item()\n",
    "        \n",
    "    def train(self):\n",
    "        \n",
    "        n_iters = 100000\n",
    "        print_every = 5000\n",
    "        plot_every = 1000\n",
    "\n",
    "        # Keep track of losses for plotting\n",
    "        current_loss = 0\n",
    "        all_losses = []\n",
    "        all_test_losses = []\n",
    "\n",
    "        start = time.time()\n",
    "\n",
    "        for iter in range(1, n_iters + 1):\n",
    "            category, line, category_tensor, line_tensor = self.DL.randomTrainingExample()\n",
    "            output, loss = self.train_single(category_tensor, line_tensor)\n",
    "            current_loss += loss\n",
    "\n",
    "            # Print iter number, loss, name and guess\n",
    "            if iter % print_every == 0:\n",
    "                guess, guess_i = self.DL.categoryFromOutput(output)\n",
    "                correct = '✓' if guess == category else '✗ (%s)' % category\n",
    "                print('%d %d%% (%s) %.4f %s / %s %s' % (iter, iter / n_iters * 100, self.timeSince(start), loss, line, guess, correct))\n",
    "\n",
    "            # Add current loss avg to list of losses\n",
    "            if iter % plot_every == 0:\n",
    "                all_losses.append(current_loss / plot_every)\n",
    "                current_loss = 0\n",
    "\n",
    "            # Compute loss based on test data\n",
    "            if iter % plot_every == 0:\n",
    "                test_loss = 0\n",
    "                n_test_instances = 0\n",
    "                for category in self.DL.all_categories:\n",
    "                    category_tensor = Variable(torch.LongTensor([self.DL.all_categories.index(category)]))\n",
    "                    n_test_instances = n_test_instances + len(self.DL.test_data[category])\n",
    "                    for line in self.DL.test_data[category]:\n",
    "                        line_tensor = Variable(self.DL.lineToTensor(line))\n",
    "                        output = self.evaluate(line_tensor)\n",
    "                        test_loss = test_loss + self.criterion(output, category_tensor)\n",
    "                all_test_losses.append(test_loss.item() / n_test_instances)\n",
    "\n",
    "        return all_test_losses\n",
    "    \n",
    "    def results(self):\n",
    "        # Keep track of correct guesses in a confusion matrix\n",
    "        confusion = torch.zeros(self.DL.n_categories, self.DL.n_categories)\n",
    "        n_confusion = 10000\n",
    "\n",
    "        # Go through a bunch of examples and record which are correctly guessed\n",
    "        for i in range(n_confusion):\n",
    "            category, line, category_tensor, line_tensor = DL.randomTrainingExample()\n",
    "            output = self.evaluate(line_tensor)\n",
    "            guess, guess_i = self.DL.categoryFromOutput(output)\n",
    "            category_i = self.DL.all_categories.index(category)\n",
    "            confusion[category_i][guess_i] += 1\n",
    "\n",
    "        # Normalize by dividing every row by its sum\n",
    "        for i in range(self.DL.n_categories):\n",
    "            confusion[i] = confusion[i] / confusion[i].sum()\n",
    "\n",
    "        # Set up plot\n",
    "        fig = plt.figure()\n",
    "        ax = fig.add_subplot(111)\n",
    "        cax = ax.matshow(confusion.numpy())\n",
    "        fig.colorbar(cax)\n",
    "\n",
    "        # Set up axes\n",
    "        ax.set_xticklabels([''] + self.DL.all_categories, rotation=90)\n",
    "        ax.set_yticklabels([''] + self.DL.all_categories)\n",
    "\n",
    "        # Force label at every tick\n",
    "        ax.xaxis.set_major_locator(ticker.MultipleLocator(1))\n",
    "        ax.yaxis.set_major_locator(ticker.MultipleLocator(1))\n",
    "\n",
    "        # sphinx_gallery_thumbnail_number = 2\n",
    "        plt.show()\n",
    "        \n",
    "\n",
    "N_HIDDEN = 128\n",
    "rnn = RNN(N_HIDDEN)"
   ]
  },
  {
   "cell_type": "markdown",
   "metadata": {
    "colab_type": "text",
    "id": "dlt_fIQiM367"
   },
   "source": [
    "### Model Training"
   ]
  },
  {
   "cell_type": "code",
   "execution_count": 11,
   "metadata": {
    "colab": {
     "base_uri": "https://localhost:8080/",
     "height": 357
    },
    "colab_type": "code",
    "id": "bKX7H7DyMP0v",
    "outputId": "2ae68ae5-0ad3-4d08-f1c2-717b6feace8b"
   },
   "outputs": [
    {
     "name": "stdout",
     "output_type": "stream",
     "text": [
      "5000 5% (0m 14s) 2.4896 Ho / Vietnamese ✗ (Korean)\n",
      "10000 10% (0m 30s) 1.0001 Hong / Chinese ✓\n",
      "15000 15% (0m 46s) 1.8045 Lavigne / French ✓\n",
      "20000 20% (1m 2s) 2.3289 Manfredonia / Czech ✗ (Italian)\n",
      "25000 25% (1m 18s) 2.1007 Huie / Korean ✗ (Chinese)\n",
      "30000 30% (1m 34s) 2.6183 Crawford / French ✗ (Scottish)\n",
      "35000 35% (1m 50s) 0.1296 Makuda / Japanese ✓\n",
      "40000 40% (2m 6s) 2.6555 Abel / German ✗ (Spanish)\n",
      "45000 45% (2m 22s) 1.7697 Nam / Chinese ✗ (Korean)\n",
      "50000 50% (2m 38s) 1.9677 Garcia / Spanish ✗ (Portuguese)\n",
      "55000 55% (2m 54s) 2.4109 Kennedy / English ✗ (Scottish)\n",
      "60000 60% (3m 10s) 1.4149 Stieber / German ✓\n",
      "65000 65% (3m 26s) 4.1351 Ogtrop / English ✗ (Dutch)\n",
      "70000 70% (3m 42s) 0.9099 Mai / Vietnamese ✗ (Chinese)\n",
      "75000 75% (3m 58s) 1.8242 Bibitinsky / Polish ✗ (Russian)\n",
      "80000 80% (4m 14s) 0.1549 Gomolka / Polish ✓\n",
      "85000 85% (4m 30s) 1.0520 Walther / German ✓\n",
      "90000 90% (4m 46s) 0.2181 Khouri / Arabic ✓\n",
      "95000 95% (5m 2s) 2.8072 Montana / Arabic ✗ (Italian)\n",
      "100000 100% (5m 18s) 0.3999 Yap / Chinese ✓\n"
     ]
    }
   ],
   "source": [
    "lhu_test_losses = rnn.train()"
   ]
  },
  {
   "cell_type": "markdown",
   "metadata": {
    "colab_type": "text",
    "id": "6jMuwSxmOFSg"
   },
   "source": [
    "### Evaluating Results"
   ]
  },
  {
   "cell_type": "code",
   "execution_count": 7,
   "metadata": {
    "colab": {
     "base_uri": "https://localhost:8080/",
     "height": 321
    },
    "colab_type": "code",
    "id": "AQBiOpRbOEg1",
    "outputId": "83e7cd09-7377-496d-8cd0-7891c4cbc656"
   },
   "outputs": [
    {
     "data": {
      "image/png": "[encoded data removed]",
      "text/plain": [
       "<Figure size 432x288 with 2 Axes>"
      ]
     },
     "metadata": {
      "tags": []
     },
     "output_type": "display_data"
    }
   ],
   "source": [
    "rnn.results()"
   ]
  },
  {
   "cell_type": "markdown",
   "metadata": {
    "colab_type": "text",
    "id": "jMpToyxRhEs3"
   },
   "source": [
    "## GRU Units\n",
    "\n",
    "### Model Definition"
   ]
  },
  {
   "cell_type": "code",
   "execution_count": 0,
   "metadata": {
    "colab": {},
    "colab_type": "code",
    "id": "aRHRWOsQhBu6"
   },
   "outputs": [],
   "source": [
    "class RNN_GRU(nn.Module):\n",
    "\n",
    "    def __init__(self, hidden_size, DL=DL):\n",
    "        super(RNN_GRU, self).__init__()\n",
    "        \n",
    "        input_size = DL.n_letters\n",
    "        output_size = DL.n_categories\n",
    "        \n",
    "        self.hidden_size = hidden_size\n",
    "\n",
    "        self.ih2h = nn.GRU(input_size, hidden_size, batch_first=True)\n",
    "        self.h2o = nn.Linear(hidden_size, output_size)\n",
    "        self.softmax = nn.LogSoftmax(dim=1)\n",
    "        self.output_size = output_size\n",
    "        self.input_size = input_size\n",
    "        \n",
    "        self.learning_rate = 0.005\n",
    "        self.criterion = nn.NLLLoss()\n",
    "        self.DL = DL\n",
    "\n",
    "    def forward(self, input, hidden):\n",
    "        input = input.view(1,1,self.input_size)\n",
    "        hidden = hidden.view(1,1,self.hidden_size)\n",
    "        output, hidden = self.ih2h(input, hidden)\n",
    "        output = output.view(1, self.hidden_size)\n",
    "        output = self.h2o(output)\n",
    "        output = self.softmax(output)\n",
    "        return output, hidden\n",
    "\n",
    "    def initHidden(self):\n",
    "        return torch.zeros(1, self.hidden_size)\n",
    "   \n",
    "    def timeSince(self, since):\n",
    "        now = time.time()\n",
    "        s = now - since\n",
    "        m = math.floor(s / 60)\n",
    "        s -= m * 60\n",
    "        return '%dm %ds' % (m, s)\n",
    "\n",
    "    # Just return an output given a line\n",
    "    def evaluate(self, line_tensor):\n",
    "        hidden = self.initHidden()\n",
    "        for i in range(line_tensor.size()[0]):\n",
    "            output, hidden = self(line_tensor[i], hidden)\n",
    "        return output\n",
    "    \n",
    "    def train_single(self, category_tensor, line_tensor):\n",
    "        hidden = self.initHidden()\n",
    "\n",
    "        self.zero_grad()\n",
    "\n",
    "        for i in range(line_tensor.size()[0]):\n",
    "            output, hidden = self(line_tensor[i], hidden)\n",
    "\n",
    "        loss = self.criterion(output, category_tensor)\n",
    "        loss.backward()\n",
    "\n",
    "        # Add parameters' gradients to their values, multiplied by learning rate\n",
    "        for p in self.parameters():\n",
    "            p.data.add_(-self.learning_rate, p.grad.data)\n",
    "\n",
    "        return output, loss.item()\n",
    "        \n",
    "    def train(self):\n",
    "        \n",
    "        n_iters = 100000\n",
    "        print_every = 5000\n",
    "        plot_every = 1000\n",
    "\n",
    "        # Keep track of losses for plotting\n",
    "        current_loss = 0\n",
    "        all_losses = []\n",
    "        all_test_losses = []\n",
    "\n",
    "        start = time.time()\n",
    "\n",
    "        for iter in range(1, n_iters + 1):\n",
    "            category, line, category_tensor, line_tensor = self.DL.randomTrainingExample()\n",
    "            output, loss = self.train_single(category_tensor, line_tensor)\n",
    "            current_loss += loss\n",
    "\n",
    "            # Print iter number, loss, name and guess\n",
    "            if iter % print_every == 0:\n",
    "                guess, guess_i = self.DL.categoryFromOutput(output)\n",
    "                correct = '✓' if guess == category else '✗ (%s)' % category\n",
    "                print('%d %d%% (%s) %.4f %s / %s %s' % (iter, iter / n_iters * 100, self.timeSince(start), loss, line, guess, correct))\n",
    "\n",
    "            # Add current loss avg to list of losses\n",
    "            if iter % plot_every == 0:\n",
    "                all_losses.append(current_loss / plot_every)\n",
    "                current_loss = 0\n",
    "\n",
    "            # Compute loss based on test data\n",
    "            if iter % plot_every == 0:\n",
    "                test_loss = 0\n",
    "                n_test_instances = 0\n",
    "                for category in self.DL.all_categories:\n",
    "                    category_tensor = Variable(torch.LongTensor([self.DL.all_categories.index(category)]))\n",
    "                    n_test_instances = n_test_instances + len(self.DL.test_data[category])\n",
    "                    for line in self.DL.test_data[category]:\n",
    "                        line_tensor = Variable(self.DL.lineToTensor(line))\n",
    "                        output = self.evaluate(line_tensor)\n",
    "                        test_loss = test_loss + self.criterion(output, category_tensor)\n",
    "                all_test_losses.append(test_loss.item() / n_test_instances)\n",
    "\n",
    "        return all_test_losses\n",
    "    \n",
    "    def results(self):\n",
    "        # Keep track of correct guesses in a confusion matrix\n",
    "        confusion = torch.zeros(self.DL.n_categories, self.DL.n_categories)\n",
    "        n_confusion = 10000\n",
    "\n",
    "        # Go through a bunch of examples and record which are correctly guessed\n",
    "        for i in range(n_confusion):\n",
    "            category, line, category_tensor, line_tensor = DL.randomTrainingExample()\n",
    "            output = self.evaluate(line_tensor)\n",
    "            guess, guess_i = self.DL.categoryFromOutput(output)\n",
    "            category_i = self.DL.all_categories.index(category)\n",
    "            confusion[category_i][guess_i] += 1\n",
    "\n",
    "        # Normalize by dividing every row by its sum\n",
    "        for i in range(self.DL.n_categories):\n",
    "            confusion[i] = confusion[i] / confusion[i].sum()\n",
    "\n",
    "        # Set up plot\n",
    "        fig = plt.figure()\n",
    "        ax = fig.add_subplot(111)\n",
    "        cax = ax.matshow(confusion.numpy())\n",
    "        fig.colorbar(cax)\n",
    "\n",
    "        # Set up axes\n",
    "        ax.set_xticklabels([''] + self.DL.all_categories, rotation=90)\n",
    "        ax.set_yticklabels([''] + self.DL.all_categories)\n",
    "\n",
    "        # Force label at every tick\n",
    "        ax.xaxis.set_major_locator(ticker.MultipleLocator(1))\n",
    "        ax.yaxis.set_major_locator(ticker.MultipleLocator(1))\n",
    "\n",
    "        # sphinx_gallery_thumbnail_number = 2\n",
    "        plt.show()\n",
    "        \n",
    "N_HIDDEN = 128\n",
    "rnn_gru = RNN_GRU(N_HIDDEN)"
   ]
  },
  {
   "cell_type": "markdown",
   "metadata": {
    "colab_type": "text",
    "id": "HideDE9xhBu9"
   },
   "source": [
    "### Model Training"
   ]
  },
  {
   "cell_type": "code",
   "execution_count": 31,
   "metadata": {
    "colab": {
     "base_uri": "https://localhost:8080/",
     "height": 357
    },
    "colab_type": "code",
    "id": "ZWRY3W2TIcbS",
    "outputId": "cde66c95-6d86-4ea5-b41a-931f39631d32"
   },
   "outputs": [
    {
     "name": "stdout",
     "output_type": "stream",
     "text": [
      "5000 5% (0m 41s) 2.9618 Forsythe / French ✗ (English)\n",
      "10000 10% (1m 29s) 2.9009 Botros / Greek ✗ (Arabic)\n",
      "15000 15% (2m 17s) 2.2637 Heel / Dutch ✓\n",
      "20000 20% (3m 5s) 2.8099 Meadhra / Japanese ✗ (Irish)\n",
      "25000 25% (3m 52s) 1.7218 Falco / Italian ✓\n",
      "30000 30% (4m 39s) 0.9727 Shi / Chinese ✓\n",
      "35000 35% (5m 27s) 0.8531 Pefanis / Greek ✓\n",
      "40000 40% (6m 14s) 1.5187 An / Korean ✗ (Vietnamese)\n",
      "45000 45% (7m 1s) 2.8268 Giersig / Scottish ✗ (Czech)\n",
      "50000 50% (7m 48s) 2.0756 Macclelland / Scottish ✗ (Irish)\n",
      "55000 55% (8m 36s) 0.0182 Mikhalychev / Russian ✓\n",
      "60000 60% (9m 23s) 2.0115 Colman / Scottish ✗ (Irish)\n",
      "65000 65% (10m 10s) 2.9866 Schmied / German ✗ (Czech)\n",
      "70000 70% (10m 57s) 0.6512 Faure / French ✓\n",
      "75000 75% (11m 44s) 2.4365 Wallace / French ✗ (Scottish)\n",
      "80000 80% (12m 31s) 1.8031 Sierzant / Dutch ✗ (Polish)\n",
      "85000 85% (13m 18s) 1.0318 Houtem / Dutch ✓\n",
      "90000 90% (14m 5s) 0.4173 Sebastino / Italian ✓\n",
      "95000 95% (14m 52s) 2.4977 Arce / French ✗ (Spanish)\n",
      "100000 100% (15m 40s) 0.7384 Murray / Scottish ✓\n"
     ]
    }
   ],
   "source": [
    "gru_test_losses = rnn_gru.train()"
   ]
  },
  {
   "cell_type": "markdown",
   "metadata": {
    "colab_type": "text",
    "id": "Cc_4HYElhBvH"
   },
   "source": [
    "### Evaluating Results"
   ]
  },
  {
   "cell_type": "code",
   "execution_count": 10,
   "metadata": {
    "colab": {
     "base_uri": "https://localhost:8080/",
     "height": 321
    },
    "colab_type": "code",
    "id": "PtEhHc06hBvI",
    "outputId": "6bd53cdd-e011-490c-da80-ec658987b63d"
   },
   "outputs": [
    {
     "data": {
      "image/png": "[encoded data removed]",
      "text/plain": [
       "<Figure size 432x288 with 2 Axes>"
      ]
     },
     "metadata": {
      "tags": []
     },
     "output_type": "display_data"
    }
   ],
   "source": [
    "rnn_gru.results()"
   ]
  },
  {
   "cell_type": "markdown",
   "metadata": {
    "colab_type": "text",
    "id": "xt-SxEYUh1jQ"
   },
   "source": [
    "## LSTM Units\n",
    "\n",
    "### Model Definition"
   ]
  },
  {
   "cell_type": "code",
   "execution_count": 0,
   "metadata": {
    "colab": {},
    "colab_type": "code",
    "id": "fyLCXNl6hzIx"
   },
   "outputs": [],
   "source": [
    "class RNN_LSTM(nn.Module):\n",
    "\n",
    "    def __init__(self, hidden_size, DL=DL):\n",
    "        super(RNN_LSTM, self).__init__()\n",
    "        \n",
    "        input_size = DL.n_letters\n",
    "        output_size = DL.n_categories\n",
    "        \n",
    "        self.hidden_size = hidden_size\n",
    "\n",
    "        self.ih2h = nn.LSTM(input_size, hidden_size, 1, batch_first=True)\n",
    "        self.h2o = nn.Linear(hidden_size, output_size)\n",
    "        self.softmax = nn.LogSoftmax(dim=1)\n",
    "        self.output_size = output_size\n",
    "        self.input_size = input_size\n",
    "        self.batch_size = 1\n",
    "        self.lstm_layers = 1\n",
    "        \n",
    "        self.learning_rate = 0.005\n",
    "        self.criterion = nn.NLLLoss()\n",
    "        self.DL = DL\n",
    "\n",
    "    def forward(self, input, hidden):\n",
    "        input = input.view(1,1,self.input_size)\n",
    "        output, hidden = self.ih2h(input, hidden)\n",
    "        output = output.view(1, self.hidden_size)\n",
    "        output = self.h2o(output)\n",
    "        output = self.softmax(output)\n",
    "        return output, hidden\n",
    "    \n",
    "    \n",
    "    def initHidden(self):\n",
    "        return (torch.zeros(self.lstm_layers, self.batch_size, self.hidden_size),\n",
    "                torch.zeros(self.lstm_layers, self.batch_size, self.hidden_size))\n",
    "    \n",
    "#     def initHidden(self):\n",
    "#         return torch.zeros(1, self.hidden_size)\n",
    "   \n",
    "    def timeSince(self, since):\n",
    "        now = time.time()\n",
    "        s = now - since\n",
    "        m = math.floor(s / 60)\n",
    "        s -= m * 60\n",
    "        return '%dm %ds' % (m, s)\n",
    "\n",
    "    # Just return an output given a line\n",
    "    def evaluate(self, line_tensor):\n",
    "        hidden = self.initHidden()\n",
    "        for i in range(line_tensor.size()[0]):\n",
    "            output, hidden = self(line_tensor[i], hidden)\n",
    "        return output\n",
    "    \n",
    "    def train_single(self, category_tensor, line_tensor):\n",
    "        hidden = self.initHidden()\n",
    "\n",
    "        self.zero_grad()\n",
    "\n",
    "        for i in range(line_tensor.size()[0]):\n",
    "            output, hidden = self(line_tensor[i], hidden)\n",
    "\n",
    "        loss = self.criterion(output, category_tensor)\n",
    "        loss.backward()\n",
    "\n",
    "        # Add parameters' gradients to their values, multiplied by learning rate\n",
    "        for p in self.parameters():\n",
    "            p.data.add_(-self.learning_rate, p.grad.data)\n",
    "\n",
    "        return output, loss.item()\n",
    "        \n",
    "    def train(self):\n",
    "        \n",
    "        n_iters = 100000\n",
    "        print_every = 5000\n",
    "        plot_every = 1000\n",
    "\n",
    "        # Keep track of losses for plotting\n",
    "        current_loss = 0\n",
    "        all_losses = []\n",
    "        all_test_losses = []\n",
    "\n",
    "        start = time.time()\n",
    "\n",
    "        for iter in range(1, n_iters + 1):\n",
    "            category, line, category_tensor, line_tensor = self.DL.randomTrainingExample()\n",
    "            output, loss = self.train_single(category_tensor, line_tensor)\n",
    "            current_loss += loss\n",
    "\n",
    "            # Print iter number, loss, name and guess\n",
    "            if iter % print_every == 0:\n",
    "                guess, guess_i = self.DL.categoryFromOutput(output)\n",
    "                correct = '✓' if guess == category else '✗ (%s)' % category\n",
    "                print('%d %d%% (%s) %.4f %s / %s %s' % (iter, iter / n_iters * 100, self.timeSince(start), loss, line, guess, correct))\n",
    "\n",
    "            # Add current loss avg to list of losses\n",
    "            if iter % plot_every == 0:\n",
    "                all_losses.append(current_loss / plot_every)\n",
    "                current_loss = 0\n",
    "\n",
    "            # Compute loss based on test data\n",
    "            if iter % plot_every == 0:\n",
    "                test_loss = 0\n",
    "                n_test_instances = 0\n",
    "                for category in self.DL.all_categories:\n",
    "                    category_tensor = Variable(torch.LongTensor([self.DL.all_categories.index(category)]))\n",
    "                    n_test_instances = n_test_instances + len(self.DL.test_data[category])\n",
    "                    for line in self.DL.test_data[category]:\n",
    "                        line_tensor = Variable(self.DL.lineToTensor(line))\n",
    "                        output = self.evaluate(line_tensor)\n",
    "                        test_loss = test_loss + self.criterion(output, category_tensor)\n",
    "                all_test_losses.append(test_loss.item() / n_test_instances)\n",
    "\n",
    "        return all_test_losses\n",
    "    \n",
    "    def results(self):\n",
    "        # Keep track of correct guesses in a confusion matrix\n",
    "        confusion = torch.zeros(self.DL.n_categories, self.DL.n_categories)\n",
    "        n_confusion = 10000\n",
    "\n",
    "        # Go through a bunch of examples and record which are correctly guessed\n",
    "        for i in range(n_confusion):\n",
    "            category, line, category_tensor, line_tensor = DL.randomTrainingExample()\n",
    "            output = self.evaluate(line_tensor)\n",
    "            guess, guess_i = self.DL.categoryFromOutput(output)\n",
    "            category_i = self.DL.all_categories.index(category)\n",
    "            confusion[category_i][guess_i] += 1\n",
    "\n",
    "        # Normalize by dividing every row by its sum\n",
    "        for i in range(self.DL.n_categories):\n",
    "            confusion[i] = confusion[i] / confusion[i].sum()\n",
    "\n",
    "        # Set up plot\n",
    "        fig = plt.figure()\n",
    "        ax = fig.add_subplot(111)\n",
    "        cax = ax.matshow(confusion.numpy())\n",
    "        fig.colorbar(cax)\n",
    "\n",
    "        # Set up axes\n",
    "        ax.set_xticklabels([''] + self.DL.all_categories, rotation=90)\n",
    "        ax.set_yticklabels([''] + self.DL.all_categories)\n",
    "\n",
    "        # Force label at every tick\n",
    "        ax.xaxis.set_major_locator(ticker.MultipleLocator(1))\n",
    "        ax.yaxis.set_major_locator(ticker.MultipleLocator(1))\n",
    "\n",
    "        # sphinx_gallery_thumbnail_number = 2\n",
    "        plt.show()\n",
    "        \n",
    "N_HIDDEN = 128\n",
    "rnn_lstm = RNN_LSTM(N_HIDDEN)"
   ]
  },
  {
   "cell_type": "markdown",
   "metadata": {
    "colab_type": "text",
    "id": "6lzyAQc7hzIz"
   },
   "source": [
    "### Model Training"
   ]
  },
  {
   "cell_type": "code",
   "execution_count": 33,
   "metadata": {
    "colab": {
     "base_uri": "https://localhost:8080/",
     "height": 357
    },
    "colab_type": "code",
    "id": "vo0zEi95hzI0",
    "outputId": "db3094c4-cce8-4bd0-c04c-daa211118b26"
   },
   "outputs": [
    {
     "name": "stdout",
     "output_type": "stream",
     "text": [
      "5000 5% (0m 43s) 2.8740 Ebner / Scottish ✗ (German)\n",
      "10000 10% (1m 33s) 2.9420 Siemon / Irish ✗ (German)\n",
      "15000 15% (2m 23s) 2.7527 Bishara / Arabic ✓\n",
      "20000 20% (3m 14s) 2.8638 Ghanem / Russian ✗ (Arabic)\n",
      "25000 25% (4m 4s) 2.9518 Savona / Japanese ✗ (Italian)\n",
      "30000 30% (4m 54s) 2.4037 Braden / German ✗ (Irish)\n",
      "35000 35% (5m 44s) 2.4703 Uberti / Scottish ✗ (Italian)\n",
      "40000 40% (6m 34s) 2.3213 Chicken / Irish ✗ (Czech)\n",
      "45000 45% (7m 24s) 1.1692 Rim / Korean ✓\n",
      "50000 50% (8m 14s) 1.6317 Travere / German ✗ (French)\n",
      "55000 55% (9m 4s) 1.0900 Dam / Vietnamese ✓\n",
      "60000 60% (9m 54s) 0.4112 Ziemniak / Polish ✓\n",
      "65000 65% (10m 43s) 1.5563 Vo / Korean ✗ (Vietnamese)\n",
      "70000 70% (11m 33s) 1.0133 Nikolaou / Greek ✓\n",
      "75000 75% (12m 23s) 2.0175 Nader / German ✗ (Arabic)\n",
      "80000 80% (13m 12s) 2.5788 Simoes / Greek ✗ (Portuguese)\n",
      "85000 85% (14m 2s) 1.2426 Liang / Vietnamese ✗ (Chinese)\n",
      "90000 90% (14m 52s) 0.4530 Barros / Portuguese ✓\n",
      "95000 95% (15m 42s) 0.4735 Alvarez / Spanish ✓\n",
      "100000 100% (16m 32s) 0.5138 Thao / Vietnamese ✓\n"
     ]
    }
   ],
   "source": [
    "lstm_test_losses = rnn_lstm.train()"
   ]
  },
  {
   "cell_type": "markdown",
   "metadata": {
    "colab_type": "text",
    "id": "1a3ZkiyOhzI8"
   },
   "source": [
    "### Evaluating Results"
   ]
  },
  {
   "cell_type": "code",
   "execution_count": 0,
   "metadata": {
    "colab": {},
    "colab_type": "code",
    "id": "aDdqKCbshzI-"
   },
   "outputs": [],
   "source": [
    "rnn_lstm.results()"
   ]
  },
  {
   "cell_type": "markdown",
   "metadata": {
    "colab_type": "text",
    "id": "CYxBXl2347PU"
   },
   "source": [
    "## Comparing Types of Units"
   ]
  },
  {
   "cell_type": "code",
   "execution_count": 34,
   "metadata": {
    "colab": {
     "base_uri": "https://localhost:8080/",
     "height": 404
    },
    "colab_type": "code",
    "id": "V5v_pwDT4_YG",
    "outputId": "130e38bd-ee6a-448e-8f9b-3f3339027c98"
   },
   "outputs": [
    {
     "data": {
      "image/png": "[encoded data removed]",
      "text/plain": [
       "<Figure size 1440x432 with 1 Axes>"
      ]
     },
     "metadata": {
      "tags": []
     },
     "output_type": "display_data"
    }
   ],
   "source": [
    "plt.figure(figsize=(20, 6))\n",
    "\n",
    "plt.plot(lhu_test_losses)\n",
    "plt.plot(gru_test_losses)\n",
    "plt.plot(lstm_test_losses)\n",
    "\n",
    "plt.xlabel('# of iterations (thousands)')\n",
    "plt.ylabel('Negative Log Likelihood')\n",
    "plt.title('Test Loss')\n",
    "\n",
    "plt.legend(['Linear', 'GRU', 'LSTM'], loc='upper left')\n",
    "\n",
    "plt.show()"
   ]
  },
  {
   "cell_type": "markdown",
   "metadata": {
    "colab_type": "text",
    "id": "R-FTQqENLvxr"
   },
   "source": [
    "# Discussion\n",
    "\n",
    "All the models converge to a similar loss on the test set. However, the RNN with linear units converges the fastest, followed by the GRU units and then the LSTM units.\n",
    "\n",
    "The names are usually short so the GRU and LSTM units provide no obvious advantage in terms of capturing long range depedencies. Since there are not many steps in the sequence, the linear units do not suffer from vanishing gradients and are able to capture the name sequence well throughout the hidden state. They are also less parameters to learn for the linear units so it trains faster.\n",
    "\n",
    "The LSTM units converges slower than the GRU units. The GRU units have access to the entire hidden state at every step while the LSTM uses the output gate to control what parts of the hidden state to allow the next step to access. The LSTM also has to learn when to forget and when to preserve the previous cells inputs. In this way, the LSTM has more parameters and could take longer to converge to the right parameters for capturing the short term dependencies in the names in different languages."
   ]
  }
 ],
 "metadata": {
  "accelerator": "GPU",
  "colab": {
   "collapsed_sections": [],
   "name": "A5Q1A.ipynb",
   "provenance": [],
   "version": "0.3.2"
  },
  "kernelspec": {
   "display_name": "Python 3",
   "language": "python",
   "name": "python3"
  },
  "language_info": {
   "codemirror_mode": {
    "name": "ipython",
    "version": 3
   },
   "file_extension": ".py",
   "mimetype": "text/x-python",
   "name": "python",
   "nbconvert_exporter": "python",
   "pygments_lexer": "ipython3",
   "version": "3.7.3"
  },
  "toc": {
   "base_numbering": 1,
   "nav_menu": {},
   "number_sections": true,
   "sideBar": true,
   "skip_h1_title": false,
   "title_cell": "Table of Contents",
   "title_sidebar": "Contents",
   "toc_cell": true,
   "toc_position": {},
   "toc_section_display": true,
   "toc_window_display": true
  }
 },
 "nbformat": 4,
 "nbformat_minor": 1
}
