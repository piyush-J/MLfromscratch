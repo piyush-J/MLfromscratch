{
 "cells": [
  {
   "cell_type": "markdown",
   "metadata": {
    "toc": true
   },
   "source": [
    "<h1>Table of Contents<span class=\"tocSkip\"></span></h1>\n",
    "<div class=\"toc\"><ul class=\"toc-item\"><li><span><a href=\"#Imports\" data-toc-modified-id=\"Imports-1\"><span class=\"toc-item-num\">1&nbsp;&nbsp;</span>Imports</a></span></li><li><span><a href=\"#Helper-Classes\" data-toc-modified-id=\"Helper-Classes-2\"><span class=\"toc-item-num\">2&nbsp;&nbsp;</span>Helper Classes</a></span></li><li><span><a href=\"#Question-1\" data-toc-modified-id=\"Question-1-3\"><span class=\"toc-item-num\">3&nbsp;&nbsp;</span>Question 1</a></span><ul class=\"toc-item\"><li><span><a href=\"#Importing-Data\" data-toc-modified-id=\"Importing-Data-3.1\"><span class=\"toc-item-num\">3.1&nbsp;&nbsp;</span>Importing Data</a></span><ul class=\"toc-item\"><li><span><a href=\"#Constants\" data-toc-modified-id=\"Constants-3.1.1\"><span class=\"toc-item-num\">3.1.1&nbsp;&nbsp;</span>Constants</a></span></li><li><span><a href=\"#Test-Data\" data-toc-modified-id=\"Test-Data-3.1.2\"><span class=\"toc-item-num\">3.1.2&nbsp;&nbsp;</span>Test Data</a></span></li><li><span><a href=\"#Training-/-Validation-Data\" data-toc-modified-id=\"Training-/-Validation-Data-3.1.3\"><span class=\"toc-item-num\">3.1.3&nbsp;&nbsp;</span>Training / Validation Data</a></span></li></ul></li><li><span><a href=\"#K-Nearest-Neighbours\" data-toc-modified-id=\"K-Nearest-Neighbours-3.2\"><span class=\"toc-item-num\">3.2&nbsp;&nbsp;</span>K Nearest Neighbours</a></span></li><li><span><a href=\"#Cross-Validation\" data-toc-modified-id=\"Cross-Validation-3.3\"><span class=\"toc-item-num\">3.3&nbsp;&nbsp;</span>Cross Validation</a></span></li><li><span><a href=\"#Finding-the-Optimal-K\" data-toc-modified-id=\"Finding-the-Optimal-K-3.4\"><span class=\"toc-item-num\">3.4&nbsp;&nbsp;</span>Finding the Optimal K</a></span></li><li><span><a href=\"#Sanity-Check\" data-toc-modified-id=\"Sanity-Check-3.5\"><span class=\"toc-item-num\">3.5&nbsp;&nbsp;</span>Sanity Check</a></span></li><li><span><a href=\"#Accuracy-on-Test-Set-with-Optimal-K\" data-toc-modified-id=\"Accuracy-on-Test-Set-with-Optimal-K-3.6\"><span class=\"toc-item-num\">3.6&nbsp;&nbsp;</span>Accuracy on Test Set with Optimal K</a></span></li></ul></li><li><span><a href=\"#Question-2\" data-toc-modified-id=\"Question-2-4\"><span class=\"toc-item-num\">4&nbsp;&nbsp;</span>Question 2</a></span><ul class=\"toc-item\"><li><span><a href=\"#Importing-Data\" data-toc-modified-id=\"Importing-Data-4.1\"><span class=\"toc-item-num\">4.1&nbsp;&nbsp;</span>Importing Data</a></span><ul class=\"toc-item\"><li><span><a href=\"#Constants\" data-toc-modified-id=\"Constants-4.1.1\"><span class=\"toc-item-num\">4.1.1&nbsp;&nbsp;</span>Constants</a></span></li><li><span><a href=\"#Test-Data\" data-toc-modified-id=\"Test-Data-4.1.2\"><span class=\"toc-item-num\">4.1.2&nbsp;&nbsp;</span>Test Data</a></span></li><li><span><a href=\"#Training-/-Validation-Data\" data-toc-modified-id=\"Training-/-Validation-Data-4.1.3\"><span class=\"toc-item-num\">4.1.3&nbsp;&nbsp;</span>Training / Validation Data</a></span></li></ul></li><li><span><a href=\"#Ridge-Regression\" data-toc-modified-id=\"Ridge-Regression-4.2\"><span class=\"toc-item-num\">4.2&nbsp;&nbsp;</span>Ridge Regression</a></span></li><li><span><a href=\"#Cross-Validation\" data-toc-modified-id=\"Cross-Validation-4.3\"><span class=\"toc-item-num\">4.3&nbsp;&nbsp;</span>Cross Validation</a></span></li><li><span><a href=\"#Finding-the-Optimal-Lambda\" data-toc-modified-id=\"Finding-the-Optimal-Lambda-4.4\"><span class=\"toc-item-num\">4.4&nbsp;&nbsp;</span>Finding the Optimal Lambda</a></span></li><li><span><a href=\"#Sanity-Check\" data-toc-modified-id=\"Sanity-Check-4.5\"><span class=\"toc-item-num\">4.5&nbsp;&nbsp;</span>Sanity Check</a></span></li><li><span><a href=\"#Loss-on-Test-Set-with-Optimal-Lambda\" data-toc-modified-id=\"Loss-on-Test-Set-with-Optimal-Lambda-4.6\"><span class=\"toc-item-num\">4.6&nbsp;&nbsp;</span>Loss on Test Set with Optimal Lambda</a></span></li></ul></li><li><span><a href=\"#Summary\" data-toc-modified-id=\"Summary-5\"><span class=\"toc-item-num\">5&nbsp;&nbsp;</span>Summary</a></span></li></ul></div>"
   ]
  },
  {
   "cell_type": "markdown",
   "metadata": {},
   "source": [
    "# Imports"
   ]
  },
  {
   "cell_type": "code",
   "execution_count": 1,
   "metadata": {},
   "outputs": [
    {
     "ename": "ImportError",
     "evalue": "cannot import name ABC",
     "output_type": "error",
     "traceback": [
      "\u001b[0;31m---------------------------------------------------------------------------\u001b[0m",
      "\u001b[0;31mImportError\u001b[0m                               Traceback (most recent call last)",
      "\u001b[0;32m<ipython-input-1-a38742f4d111>\u001b[0m in \u001b[0;36m<module>\u001b[0;34m()\u001b[0m\n\u001b[1;32m      7\u001b[0m \u001b[0;32mimport\u001b[0m \u001b[0mmatplotlib\u001b[0m\u001b[0;34m.\u001b[0m\u001b[0mpyplot\u001b[0m \u001b[0;32mas\u001b[0m \u001b[0mplt\u001b[0m\u001b[0;34m\u001b[0m\u001b[0m\n\u001b[1;32m      8\u001b[0m \u001b[0;32mfrom\u001b[0m \u001b[0mnumpy\u001b[0m\u001b[0;34m.\u001b[0m\u001b[0mlinalg\u001b[0m \u001b[0;32mimport\u001b[0m \u001b[0mnorm\u001b[0m\u001b[0;34m\u001b[0m\u001b[0m\n\u001b[0;32m----> 9\u001b[0;31m \u001b[0;32mfrom\u001b[0m \u001b[0mabc\u001b[0m \u001b[0;32mimport\u001b[0m \u001b[0mABC\u001b[0m\u001b[0;34m,\u001b[0m \u001b[0mabstractmethod\u001b[0m\u001b[0;34m\u001b[0m\u001b[0m\n\u001b[0m",
      "\u001b[0;31mImportError\u001b[0m: cannot import name ABC"
     ]
    }
   ],
   "source": [
    "import pandas as pd\n",
    "import numpy as np\n",
    "from collections import Counter\n",
    "from itertools import groupby\n",
    "from operator import itemgetter\n",
    "from tqdm import tqdm_notebook\n",
    "import matplotlib.pyplot as plt\n",
    "from numpy.linalg import norm\n",
    "from abc import ABC, abstractmethod "
   ]
  },
  {
   "cell_type": "markdown",
   "metadata": {},
   "source": [
    "# Helper Classes"
   ]
  },
  {
   "cell_type": "code",
   "execution_count": 2,
   "metadata": {},
   "outputs": [],
   "source": [
    "class DataFetcher:\n",
    "    \"\"\"\n",
    "    DataFetcher: Grabs all csv data as pandas dataframes.\n",
    "    \"\"\"\n",
    "    def __init__(self, directory, X_name, y_name):\n",
    "        self.directory = directory\n",
    "        self.X_name = X_name\n",
    "        self.y_name = y_name\n",
    "        \n",
    "    def _get_training_X_path(self, subset_num):\n",
    "        # 0 <= subset_num <= 9\n",
    "        return './%s/train%s%d.csv' % (self.directory, self.X_name, (subset_num + 1))\n",
    "\n",
    "    def _get_training_y_path(self, subset_num):\n",
    "        # 0 <= subset_num <= 9\n",
    "        return './%s/train%s%d.csv' % (self.directory, self.y_name, (subset_num + 1))\n",
    "\n",
    "    def get_all_training_X_y(self):\n",
    "        training_X_dfs = []\n",
    "        training_y_dfs = []\n",
    "        for i in range(NUM_SUBSETS):\n",
    "            X_path = self._get_training_X_path(i)\n",
    "            y_path = self._get_training_y_path(i)\n",
    "            X_df = pd.read_csv(X_path, header=None)\n",
    "            y_df =  pd.read_csv(y_path, header=None)\n",
    "            training_X_dfs.append(X_df)\n",
    "            training_y_dfs.append(y_df)\n",
    "        \n",
    "        return training_X_dfs, training_y_dfs\n",
    "    \n",
    "    def get_test_X_y(self):\n",
    "        test_X_path = './%s/test%s.csv' % (self.directory, self.X_name)\n",
    "        test_y_path = './%s/test%s.csv' % (self.directory, self.y_name)\n",
    "        test_X_df = pd.read_csv(test_X_path, header=None)\n",
    "        test_y_df = pd.read_csv(test_y_path, header=None)\n",
    "        return test_X_df, test_y_df\n",
    "    \n",
    "class CrossValidationData:\n",
    "    \"\"\"\n",
    "    CrossValidationData: Splits list of training dataframes \n",
    "        into validation & training dataframes.\n",
    "    \"\"\"\n",
    "    def __init__(self, X_dfs, y_dfs):\n",
    "        assert(len(X_dfs) == len(y_dfs))\n",
    "        self.X = X_dfs\n",
    "        self.y = y_dfs\n",
    "        self.num_subsets = len(X_dfs)\n",
    "        \n",
    "    def _split_training_validation(self, dfs, subset_num):\n",
    "        \n",
    "        validation_df = dfs[subset_num]\n",
    "        \n",
    "        training_dfs = dfs[:subset_num] + dfs[subset_num+1:]\n",
    "        training_df = pd.concat(training_dfs, ignore_index=True)\n",
    "      \n",
    "        return [training_df, validation_df]     \n",
    "        \n",
    "    def _get_training_validation_X(self, subset_num):\n",
    "        assert(subset_num < self.num_subsets)\n",
    "        \n",
    "        [training_X, validation_X] = self._split_training_validation(self.X, subset_num)\n",
    "        \n",
    "        return [training_X, validation_X]\n",
    "    \n",
    "    def _get_training_validation_y(self, subset_num):\n",
    "        assert(subset_num < self.num_subsets)\n",
    "        \n",
    "        [training_y, validation_y] = self._split_training_validation(self.y, subset_num)\n",
    "        \n",
    "        return [training_y, validation_y]\n",
    "    \n",
    "    def get_training_validation_X_y(self, subset_num):\n",
    "        [training_X, validation_X] = self._get_training_validation_X(subset_num)\n",
    "        [training_y, validation_y] = self._get_training_validation_y(subset_num)\n",
    "        return [training_X, training_y, validation_X, validation_y]\n",
    "\n",
    "    def get_all_X_y(self):\n",
    "        training_X = pd.concat(self.X, ignore_index=True)\n",
    "        training_y = pd.concat(self.y, ignore_index=True)\n",
    "        return [training_X, training_y]\n",
    "        \n",
    "class Model(ABC):\n",
    "    \"\"\"\n",
    "    Model -> Abstract base class for the models we will implement, namely \n",
    "            KNN and RidgeRegression.\n",
    "    \"\"\"\n",
    "    def __init__(self, train_X, train_y):\n",
    "        self.train_X = train_X\n",
    "        self.train_y = train_y\n",
    "    \n",
    "    @abstractmethod\n",
    "    def predict(self, x):\n",
    "        pass\n",
    "        \n",
    "    def predict_df(self, X_df):\n",
    "        predictions = X_df.apply(lambda row: self.predict(row), raw=True, axis=1)\n",
    "        return predictions"
   ]
  },
  {
   "cell_type": "markdown",
   "metadata": {},
   "source": [
    "# Question 1\n",
    "\n",
    "## Importing Data\n",
    "\n",
    "### Constants"
   ]
  },
  {
   "cell_type": "code",
   "execution_count": 3,
   "metadata": {
    "scrolled": true
   },
   "outputs": [],
   "source": [
    "KNN_DIR_NAME = 'knn-dataset'\n",
    "KNN_X_NAME = 'Data'\n",
    "KNN_Y_NAME = 'Labels'\n",
    "NUM_SUBSETS = 10\n",
    "MAX_NEIGHBOURS = 30"
   ]
  },
  {
   "cell_type": "markdown",
   "metadata": {},
   "source": [
    "### Test Data"
   ]
  },
  {
   "cell_type": "code",
   "execution_count": 4,
   "metadata": {},
   "outputs": [
    {
     "data": {
      "text/html": [
       "<div>\n",
       "<style scoped>\n",
       "    .dataframe tbody tr th:only-of-type {\n",
       "        vertical-align: middle;\n",
       "    }\n",
       "\n",
       "    .dataframe tbody tr th {\n",
       "        vertical-align: top;\n",
       "    }\n",
       "\n",
       "    .dataframe thead th {\n",
       "        text-align: right;\n",
       "    }\n",
       "</style>\n",
       "<table border=\"1\" class=\"dataframe\">\n",
       "  <thead>\n",
       "    <tr style=\"text-align: right;\">\n",
       "      <th></th>\n",
       "      <th>0</th>\n",
       "      <th>1</th>\n",
       "      <th>2</th>\n",
       "      <th>3</th>\n",
       "      <th>4</th>\n",
       "      <th>5</th>\n",
       "      <th>6</th>\n",
       "      <th>7</th>\n",
       "      <th>8</th>\n",
       "      <th>9</th>\n",
       "      <th>...</th>\n",
       "      <th>54</th>\n",
       "      <th>55</th>\n",
       "      <th>56</th>\n",
       "      <th>57</th>\n",
       "      <th>58</th>\n",
       "      <th>59</th>\n",
       "      <th>60</th>\n",
       "      <th>61</th>\n",
       "      <th>62</th>\n",
       "      <th>63</th>\n",
       "    </tr>\n",
       "  </thead>\n",
       "  <tbody>\n",
       "    <tr>\n",
       "      <th>0</th>\n",
       "      <td>0</td>\n",
       "      <td>0</td>\n",
       "      <td>0</td>\n",
       "      <td>1</td>\n",
       "      <td>13</td>\n",
       "      <td>10</td>\n",
       "      <td>0</td>\n",
       "      <td>0</td>\n",
       "      <td>0</td>\n",
       "      <td>8</td>\n",
       "      <td>...</td>\n",
       "      <td>16</td>\n",
       "      <td>0</td>\n",
       "      <td>0</td>\n",
       "      <td>0</td>\n",
       "      <td>4</td>\n",
       "      <td>0</td>\n",
       "      <td>14</td>\n",
       "      <td>0</td>\n",
       "      <td>15</td>\n",
       "      <td>0</td>\n",
       "    </tr>\n",
       "    <tr>\n",
       "      <th>1</th>\n",
       "      <td>0</td>\n",
       "      <td>0</td>\n",
       "      <td>0</td>\n",
       "      <td>0</td>\n",
       "      <td>0</td>\n",
       "      <td>7</td>\n",
       "      <td>0</td>\n",
       "      <td>0</td>\n",
       "      <td>0</td>\n",
       "      <td>0</td>\n",
       "      <td>...</td>\n",
       "      <td>16</td>\n",
       "      <td>0</td>\n",
       "      <td>0</td>\n",
       "      <td>0</td>\n",
       "      <td>0</td>\n",
       "      <td>0</td>\n",
       "      <td>2</td>\n",
       "      <td>11</td>\n",
       "      <td>12</td>\n",
       "      <td>0</td>\n",
       "    </tr>\n",
       "    <tr>\n",
       "      <th>2</th>\n",
       "      <td>16</td>\n",
       "      <td>11</td>\n",
       "      <td>5</td>\n",
       "      <td>16</td>\n",
       "      <td>15</td>\n",
       "      <td>16</td>\n",
       "      <td>16</td>\n",
       "      <td>16</td>\n",
       "      <td>16</td>\n",
       "      <td>16</td>\n",
       "      <td>...</td>\n",
       "      <td>14</td>\n",
       "      <td>16</td>\n",
       "      <td>16</td>\n",
       "      <td>16</td>\n",
       "      <td>16</td>\n",
       "      <td>16</td>\n",
       "      <td>16</td>\n",
       "      <td>16</td>\n",
       "      <td>16</td>\n",
       "      <td>0</td>\n",
       "    </tr>\n",
       "    <tr>\n",
       "      <th>3</th>\n",
       "      <td>0</td>\n",
       "      <td>0</td>\n",
       "      <td>7</td>\n",
       "      <td>16</td>\n",
       "      <td>2</td>\n",
       "      <td>2</td>\n",
       "      <td>0</td>\n",
       "      <td>0</td>\n",
       "      <td>0</td>\n",
       "      <td>1</td>\n",
       "      <td>...</td>\n",
       "      <td>11</td>\n",
       "      <td>0</td>\n",
       "      <td>0</td>\n",
       "      <td>0</td>\n",
       "      <td>0</td>\n",
       "      <td>9</td>\n",
       "      <td>9</td>\n",
       "      <td>0</td>\n",
       "      <td>0</td>\n",
       "      <td>0</td>\n",
       "    </tr>\n",
       "    <tr>\n",
       "      <th>4</th>\n",
       "      <td>0</td>\n",
       "      <td>0</td>\n",
       "      <td>0</td>\n",
       "      <td>7</td>\n",
       "      <td>0</td>\n",
       "      <td>0</td>\n",
       "      <td>0</td>\n",
       "      <td>0</td>\n",
       "      <td>0</td>\n",
       "      <td>0</td>\n",
       "      <td>...</td>\n",
       "      <td>0</td>\n",
       "      <td>0</td>\n",
       "      <td>0</td>\n",
       "      <td>0</td>\n",
       "      <td>0</td>\n",
       "      <td>13</td>\n",
       "      <td>14</td>\n",
       "      <td>12</td>\n",
       "      <td>0</td>\n",
       "      <td>0</td>\n",
       "    </tr>\n",
       "  </tbody>\n",
       "</table>\n",
       "<p>5 rows × 64 columns</p>\n",
       "</div>"
      ],
      "text/plain": [
       "   0   1   2   3   4   5   6   7   8   9   ...  54  55  56  57  58  59  60  \\\n",
       "0   0   0   0   1  13  10   0   0   0   8  ...  16   0   0   0   4   0  14   \n",
       "1   0   0   0   0   0   7   0   0   0   0  ...  16   0   0   0   0   0   2   \n",
       "2  16  11   5  16  15  16  16  16  16  16  ...  14  16  16  16  16  16  16   \n",
       "3   0   0   7  16   2   2   0   0   0   1  ...  11   0   0   0   0   9   9   \n",
       "4   0   0   0   7   0   0   0   0   0   0  ...   0   0   0   0   0  13  14   \n",
       "\n",
       "   61  62  63  \n",
       "0   0  15   0  \n",
       "1  11  12   0  \n",
       "2  16  16   0  \n",
       "3   0   0   0  \n",
       "4  12   0   0  \n",
       "\n",
       "[5 rows x 64 columns]"
      ]
     },
     "execution_count": 4,
     "metadata": {},
     "output_type": "execute_result"
    }
   ],
   "source": [
    "KNN_DataFetcher = DataFetcher(KNN_DIR_NAME, KNN_X_NAME, KNN_Y_NAME)\n",
    "test_X, test_y = KNN_DataFetcher.get_test_X_y()\n",
    "\n",
    "test_X.head()"
   ]
  },
  {
   "cell_type": "code",
   "execution_count": 5,
   "metadata": {
    "scrolled": true
   },
   "outputs": [
    {
     "data": {
      "text/html": [
       "<div>\n",
       "<style scoped>\n",
       "    .dataframe tbody tr th:only-of-type {\n",
       "        vertical-align: middle;\n",
       "    }\n",
       "\n",
       "    .dataframe tbody tr th {\n",
       "        vertical-align: top;\n",
       "    }\n",
       "\n",
       "    .dataframe thead th {\n",
       "        text-align: right;\n",
       "    }\n",
       "</style>\n",
       "<table border=\"1\" class=\"dataframe\">\n",
       "  <thead>\n",
       "    <tr style=\"text-align: right;\">\n",
       "      <th></th>\n",
       "      <th>0</th>\n",
       "    </tr>\n",
       "  </thead>\n",
       "  <tbody>\n",
       "    <tr>\n",
       "      <th>0</th>\n",
       "      <td>6</td>\n",
       "    </tr>\n",
       "    <tr>\n",
       "      <th>1</th>\n",
       "      <td>6</td>\n",
       "    </tr>\n",
       "    <tr>\n",
       "      <th>2</th>\n",
       "      <td>5</td>\n",
       "    </tr>\n",
       "    <tr>\n",
       "      <th>3</th>\n",
       "      <td>6</td>\n",
       "    </tr>\n",
       "    <tr>\n",
       "      <th>4</th>\n",
       "      <td>6</td>\n",
       "    </tr>\n",
       "  </tbody>\n",
       "</table>\n",
       "</div>"
      ],
      "text/plain": [
       "   0\n",
       "0  6\n",
       "1  6\n",
       "2  5\n",
       "3  6\n",
       "4  6"
      ]
     },
     "execution_count": 5,
     "metadata": {},
     "output_type": "execute_result"
    }
   ],
   "source": [
    "test_y.head()"
   ]
  },
  {
   "cell_type": "markdown",
   "metadata": {},
   "source": [
    "### Training / Validation Data"
   ]
  },
  {
   "cell_type": "code",
   "execution_count": 6,
   "metadata": {},
   "outputs": [
    {
     "name": "stdout",
     "output_type": "stream",
     "text": [
      "Training X shape: (900, 64)\n"
     ]
    }
   ],
   "source": [
    "training_X_dfs, training_y_dfs = KNN_DataFetcher.get_all_training_X_y()\n",
    "\n",
    "KNN_CVData = CrossValidationData(training_X_dfs, training_y_dfs)\n",
    "\n",
    "print(\"Training X shape: \" + str(KNN_CVData.get_training_validation_X_y(0)[0].shape))"
   ]
  },
  {
   "cell_type": "code",
   "execution_count": 7,
   "metadata": {
    "scrolled": false
   },
   "outputs": [
    {
     "name": "stdout",
     "output_type": "stream",
     "text": [
      "Training y shape: (900, 1)\n"
     ]
    }
   ],
   "source": [
    "print(\"Training y shape: \" + str(KNN_CVData.get_training_validation_X_y(0)[1].shape))"
   ]
  },
  {
   "cell_type": "code",
   "execution_count": 8,
   "metadata": {
    "scrolled": true
   },
   "outputs": [
    {
     "name": "stdout",
     "output_type": "stream",
     "text": [
      "Validation X shape: (100, 64)\n"
     ]
    }
   ],
   "source": [
    "print(\"Validation X shape: \" + str(KNN_CVData.get_training_validation_X_y(0)[2].shape))"
   ]
  },
  {
   "cell_type": "code",
   "execution_count": 9,
   "metadata": {},
   "outputs": [
    {
     "name": "stdout",
     "output_type": "stream",
     "text": [
      "Validation y shape: (100, 1)\n"
     ]
    }
   ],
   "source": [
    "print(\"Validation y shape: \" + str(KNN_CVData.get_training_validation_X_y(0)[3].shape))"
   ]
  },
  {
   "cell_type": "markdown",
   "metadata": {},
   "source": [
    "## K Nearest Neighbours"
   ]
  },
  {
   "cell_type": "code",
   "execution_count": 10,
   "metadata": {},
   "outputs": [],
   "source": [
    "def get_majority_element(x):\n",
    "    c = Counter(x)\n",
    "    counts = c.most_common()\n",
    "    grouped_counts = [list(group) for key, group in groupby(counts, itemgetter(1))]\n",
    "    top_group = grouped_counts[0]\n",
    "    \n",
    "    # Let's break ties at random\n",
    "    value, count = top_group[np.random.randint(len(top_group))]\n",
    "\n",
    "    return value\n",
    "\n",
    "\n",
    "class KNearestNeighbours(Model):\n",
    "    \n",
    "    def __init__(self, train_X, train_y, k):\n",
    "        super().__init__(train_X, train_y)\n",
    "        self.k = k\n",
    "        \n",
    "    def predict(self, x):\n",
    "        # Get L2 Distances\n",
    "        distances = norm(self.train_X.to_numpy() - x.T, axis=1)\n",
    "\n",
    "        # Find K nearest neighbours\n",
    "        closest = np.argsort(distances)[:self.k]\n",
    "        \n",
    "        # Get labels\n",
    "        closest_labels = self.train_y.iloc[closest, :].values.flatten().tolist()\n",
    "        \n",
    "        # Get majority element\n",
    "        majority_value = get_majority_element(closest_labels)\n",
    "\n",
    "        return majority_value\n",
    "\n",
    "def get_accuracy(true_labels, predicted_labels):\n",
    "    assert(len(true_labels) == len(predicted_labels))\n",
    "    return sum(1 for y, y_hat in zip(true_labels, predicted_labels) if y == y_hat ) / len(true_labels)"
   ]
  },
  {
   "cell_type": "markdown",
   "metadata": {},
   "source": [
    "## Cross Validation"
   ]
  },
  {
   "cell_type": "code",
   "execution_count": 11,
   "metadata": {},
   "outputs": [],
   "source": [
    "def perform_knn_CV():\n",
    "    np.random.seed(42)\n",
    "    \n",
    "    average_accuracies = []\n",
    "    for i in tqdm_notebook(range(MAX_NEIGHBOURS)):\n",
    "        k = i + 1\n",
    "\n",
    "        # Perform CV\n",
    "        accuracies = []\n",
    "        for j in range(NUM_SUBSETS):\n",
    "            train_X, train_y, validation_X, validation_y = KNN_CVData.get_training_validation_X_y(j)\n",
    "            \n",
    "            # Create hypothesis\n",
    "            model = KNearestNeighbours(train_X, train_y, k)\n",
    "            predicted_validation_y = model.predict_df(validation_X)\n",
    "\n",
    "            # Get accuracy\n",
    "            accuracy = get_accuracy(validation_y.values.flatten(), predicted_validation_y.values.flatten())\n",
    "\n",
    "            accuracies.append(accuracy)\n",
    "\n",
    "        avg_accuracy = np.mean(accuracies)\n",
    "        average_accuracies.append(avg_accuracy)\n",
    "\n",
    "    return average_accuracies"
   ]
  },
  {
   "cell_type": "markdown",
   "metadata": {},
   "source": [
    "## Finding the Optimal K"
   ]
  },
  {
   "cell_type": "code",
   "execution_count": 12,
   "metadata": {},
   "outputs": [
    {
     "data": {
      "application/vnd.jupyter.widget-view+json": {
       "model_id": "ddd8d016b5744ff4af31b46cb0420def",
       "version_major": 2,
       "version_minor": 0
      },
      "text/html": [
       "<p>Failed to display Jupyter Widget of type <code>HBox</code>.</p>\n",
       "<p>\n",
       "  If you're reading this message in the Jupyter Notebook or JupyterLab Notebook, it may mean\n",
       "  that the widgets JavaScript is still loading. If this message persists, it\n",
       "  likely means that the widgets JavaScript library is either not installed or\n",
       "  not enabled. See the <a href=\"https://ipywidgets.readthedocs.io/en/stable/user_install.html\">Jupyter\n",
       "  Widgets Documentation</a> for setup instructions.\n",
       "</p>\n",
       "<p>\n",
       "  If you're reading this message in another frontend (for example, a static\n",
       "  rendering on GitHub or <a href=\"https://nbviewer.jupyter.org/\">NBViewer</a>),\n",
       "  it may mean that your frontend doesn't currently support widgets.\n",
       "</p>\n"
      ],
      "text/plain": [
       "HBox(children=(IntProgress(value=0, max=30), HTML(value='')))"
      ]
     },
     "metadata": {},
     "output_type": "display_data"
    },
    {
     "name": "stdout",
     "output_type": "stream",
     "text": [
      "\n"
     ]
    }
   ],
   "source": [
    "average_accuracies = perform_knn_CV()"
   ]
  },
  {
   "cell_type": "code",
   "execution_count": 13,
   "metadata": {},
   "outputs": [
    {
     "data": {
      "image/png": "[encoded data removed]",
      "text/plain": [
       "<matplotlib.figure.Figure at 0x119b5b470>"
      ]
     },
     "metadata": {},
     "output_type": "display_data"
    }
   ],
   "source": [
    "plt.plot(range(1, MAX_NEIGHBOURS + 1), average_accuracies)\n",
    "plt.xlabel('K')\n",
    "plt.ylabel('Average Accuracy')\n",
    "plt.title('Cross Validation')\n",
    "plt.show()"
   ]
  },
  {
   "cell_type": "code",
   "execution_count": 14,
   "metadata": {},
   "outputs": [
    {
     "name": "stdout",
     "output_type": "stream",
     "text": [
      "The optimal K is 19 with an accuracy of 0.815000\n"
     ]
    }
   ],
   "source": [
    "optimal_K = np.argsort(average_accuracies)[-1] + 1\n",
    "print(\"The optimal K is %d with an accuracy of %f\" % (optimal_K, max(average_accuracies)))"
   ]
  },
  {
   "cell_type": "markdown",
   "metadata": {},
   "source": [
    "## Sanity Check"
   ]
  },
  {
   "cell_type": "code",
   "execution_count": 15,
   "metadata": {},
   "outputs": [
    {
     "data": {
      "application/vnd.jupyter.widget-view+json": {
       "model_id": "f97e7fa496a04e4d9e103b560b35abbd",
       "version_major": 2,
       "version_minor": 0
      },
      "text/html": [
       "<p>Failed to display Jupyter Widget of type <code>HBox</code>.</p>\n",
       "<p>\n",
       "  If you're reading this message in the Jupyter Notebook or JupyterLab Notebook, it may mean\n",
       "  that the widgets JavaScript is still loading. If this message persists, it\n",
       "  likely means that the widgets JavaScript library is either not installed or\n",
       "  not enabled. See the <a href=\"https://ipywidgets.readthedocs.io/en/stable/user_install.html\">Jupyter\n",
       "  Widgets Documentation</a> for setup instructions.\n",
       "</p>\n",
       "<p>\n",
       "  If you're reading this message in another frontend (for example, a static\n",
       "  rendering on GitHub or <a href=\"https://nbviewer.jupyter.org/\">NBViewer</a>),\n",
       "  it may mean that your frontend doesn't currently support widgets.\n",
       "</p>\n"
      ],
      "text/plain": [
       "HBox(children=(IntProgress(value=0, max=30), HTML(value='')))"
      ]
     },
     "metadata": {},
     "output_type": "display_data"
    },
    {
     "name": "stderr",
     "output_type": "stream",
     "text": [
      "/usr/local/lib/python3.6/site-packages/ipykernel_launcher.py:17: DataConversionWarning: A column-vector y was passed when a 1d array was expected. Please change the shape of y to (n_samples, ), for example using ravel().\n"
     ]
    },
    {
     "name": "stdout",
     "output_type": "stream",
     "text": [
      "\n",
      "The optimal K found by sklearn is 19\n"
     ]
    },
    {
     "data": {
      "image/png": "[encoded data removed]",
      "text/plain": [
       "<matplotlib.figure.Figure at 0x11be3cef0>"
      ]
     },
     "metadata": {},
     "output_type": "display_data"
    }
   ],
   "source": [
    "from sklearn.neighbors import KNeighborsClassifier\n",
    "\n",
    "def perform_sklearn_knn_CV():\n",
    "    np.random.seed(42)\n",
    "    \n",
    "    average_accuracies = []\n",
    "    for i in tqdm_notebook(range(MAX_NEIGHBOURS)):\n",
    "        k = i + 1\n",
    "\n",
    "        # Perform CV\n",
    "        accuracies = []\n",
    "        for j in range(NUM_SUBSETS):\n",
    "            train_X, train_y, validation_X, validation_y = KNN_CVData.get_training_validation_X_y(j)\n",
    "\n",
    "            # Create hypothesis\n",
    "            model = KNeighborsClassifier(n_neighbors=k, algorithm=\"brute\")\n",
    "            model.fit(train_X, train_y) \n",
    "            predicted_y = model.predict(validation_X)\n",
    "\n",
    "            # Get accuracy\n",
    "            accuracy = get_accuracy(validation_y.values.flatten(), predicted_y.flatten())\n",
    "            accuracies.append(accuracy)\n",
    "\n",
    "        avg_accuracy = np.mean(accuracies)\n",
    "        average_accuracies.append(avg_accuracy)\n",
    "\n",
    "    return average_accuracies\n",
    "\n",
    "average_accuracies = perform_sklearn_knn_CV()\n",
    "optimal_sklearn_K = np.argsort(average_accuracies)[-1] + 1\n",
    "print(\"The optimal K found by sklearn is %d\" % optimal_sklearn_K)\n",
    "plt.plot(range(1, MAX_NEIGHBOURS + 1), average_accuracies)\n",
    "plt.xlabel('K')\n",
    "plt.ylabel('Average Accuracy')\n",
    "plt.title('Cross Validation - Sklearn')\n",
    "plt.show()"
   ]
  },
  {
   "cell_type": "markdown",
   "metadata": {},
   "source": [
    "Sklearn agrees with our previous findings that the optimal K is 19.\n",
    "\n",
    "This optimal K is determined by the algorithm in the slides that suggests we should pick the arg max parameter.\n",
    "\n",
    "I would argue that in this case, some of the more simpler hypothesis (lower k) achieve comparable performance to k=19. We may be overfitting on the intricacies of the cross validation data. But we'll follow the algorithm given in class and continue with k=19."
   ]
  },
  {
   "cell_type": "markdown",
   "metadata": {},
   "source": [
    "## Accuracy on Test Set with Optimal K"
   ]
  },
  {
   "cell_type": "code",
   "execution_count": 16,
   "metadata": {},
   "outputs": [
    {
     "name": "stdout",
     "output_type": "stream",
     "text": [
      "The accuracy on the test set is 0.7272727272727273\n"
     ]
    }
   ],
   "source": [
    "training_X, training_y = KNN_CVData.get_all_X_y()\n",
    "\n",
    "final_KNN_model = KNearestNeighbours(training_X, training_y, optimal_K)\n",
    "predicted_test_y = final_KNN_model.predict_df(test_X)\n",
    "\n",
    "test_accuracy = get_accuracy(test_y.values, predicted_test_y)\n",
    "print(\"The accuracy on the test set is \" + str(test_accuracy))"
   ]
  },
  {
   "cell_type": "markdown",
   "metadata": {},
   "source": [
    "# Question 2\n",
    "\n",
    "## Importing Data\n",
    "\n",
    "### Constants"
   ]
  },
  {
   "cell_type": "code",
   "execution_count": 17,
   "metadata": {},
   "outputs": [],
   "source": [
    "RR_DIR_NAME = 'regression-dataset'\n",
    "RR_X_NAME = 'Input'\n",
    "RR_Y_NAME = 'Target'\n",
    "NUM_SUBSETS = 10\n",
    "LAMBDAS = [0, 0.1, 0.2, 0.3, 0.4, 0.5, 0.6, 0.7, 0.8, 0.9,\n",
    "          1.0, 1.1, 1.2, 1.3, 1.4, 1.5, 1.6, 1.7, 1.8, 1.9,\n",
    "          2.0, 2.1, 2.2, 2.3, 2.4, 2.5, 2.6, 2.7, 2.8, 2.9, \n",
    "          3.0, 3.1, 3.2, 3.3, 3.4, 3.5, 3.6, 3.7, 3.8, 3.9, \n",
    "           4.0]"
   ]
  },
  {
   "cell_type": "markdown",
   "metadata": {},
   "source": [
    "### Test Data"
   ]
  },
  {
   "cell_type": "code",
   "execution_count": 18,
   "metadata": {},
   "outputs": [
    {
     "data": {
      "text/html": [
       "<div>\n",
       "<style scoped>\n",
       "    .dataframe tbody tr th:only-of-type {\n",
       "        vertical-align: middle;\n",
       "    }\n",
       "\n",
       "    .dataframe tbody tr th {\n",
       "        vertical-align: top;\n",
       "    }\n",
       "\n",
       "    .dataframe thead th {\n",
       "        text-align: right;\n",
       "    }\n",
       "</style>\n",
       "<table border=\"1\" class=\"dataframe\">\n",
       "  <thead>\n",
       "    <tr style=\"text-align: right;\">\n",
       "      <th></th>\n",
       "      <th>0</th>\n",
       "      <th>1</th>\n",
       "    </tr>\n",
       "  </thead>\n",
       "  <tbody>\n",
       "    <tr>\n",
       "      <th>0</th>\n",
       "      <td>-0.091029</td>\n",
       "      <td>0.319734</td>\n",
       "    </tr>\n",
       "    <tr>\n",
       "      <th>1</th>\n",
       "      <td>-0.186198</td>\n",
       "      <td>0.049163</td>\n",
       "    </tr>\n",
       "    <tr>\n",
       "      <th>2</th>\n",
       "      <td>0.125210</td>\n",
       "      <td>0.168324</td>\n",
       "    </tr>\n",
       "    <tr>\n",
       "      <th>3</th>\n",
       "      <td>0.132876</td>\n",
       "      <td>0.456690</td>\n",
       "    </tr>\n",
       "    <tr>\n",
       "      <th>4</th>\n",
       "      <td>0.271013</td>\n",
       "      <td>-0.074715</td>\n",
       "    </tr>\n",
       "  </tbody>\n",
       "</table>\n",
       "</div>"
      ],
      "text/plain": [
       "          0         1\n",
       "0 -0.091029  0.319734\n",
       "1 -0.186198  0.049163\n",
       "2  0.125210  0.168324\n",
       "3  0.132876  0.456690\n",
       "4  0.271013 -0.074715"
      ]
     },
     "execution_count": 18,
     "metadata": {},
     "output_type": "execute_result"
    }
   ],
   "source": [
    "RR_DataFetcher = DataFetcher(RR_DIR_NAME, RR_X_NAME, RR_Y_NAME)\n",
    "test_X, test_y = RR_DataFetcher.get_test_X_y()\n",
    "\n",
    "test_X.head()"
   ]
  },
  {
   "cell_type": "code",
   "execution_count": 19,
   "metadata": {},
   "outputs": [
    {
     "data": {
      "text/html": [
       "<div>\n",
       "<style scoped>\n",
       "    .dataframe tbody tr th:only-of-type {\n",
       "        vertical-align: middle;\n",
       "    }\n",
       "\n",
       "    .dataframe tbody tr th {\n",
       "        vertical-align: top;\n",
       "    }\n",
       "\n",
       "    .dataframe thead th {\n",
       "        text-align: right;\n",
       "    }\n",
       "</style>\n",
       "<table border=\"1\" class=\"dataframe\">\n",
       "  <thead>\n",
       "    <tr style=\"text-align: right;\">\n",
       "      <th></th>\n",
       "      <th>0</th>\n",
       "    </tr>\n",
       "  </thead>\n",
       "  <tbody>\n",
       "    <tr>\n",
       "      <th>0</th>\n",
       "      <td>0.556061</td>\n",
       "    </tr>\n",
       "    <tr>\n",
       "      <th>1</th>\n",
       "      <td>0.808884</td>\n",
       "    </tr>\n",
       "    <tr>\n",
       "      <th>2</th>\n",
       "      <td>0.558628</td>\n",
       "    </tr>\n",
       "    <tr>\n",
       "      <th>3</th>\n",
       "      <td>-0.914613</td>\n",
       "    </tr>\n",
       "    <tr>\n",
       "      <th>4</th>\n",
       "      <td>-0.628796</td>\n",
       "    </tr>\n",
       "  </tbody>\n",
       "</table>\n",
       "</div>"
      ],
      "text/plain": [
       "          0\n",
       "0  0.556061\n",
       "1  0.808884\n",
       "2  0.558628\n",
       "3 -0.914613\n",
       "4 -0.628796"
      ]
     },
     "execution_count": 19,
     "metadata": {},
     "output_type": "execute_result"
    }
   ],
   "source": [
    "test_y.head()"
   ]
  },
  {
   "cell_type": "markdown",
   "metadata": {},
   "source": [
    "### Training / Validation Data"
   ]
  },
  {
   "cell_type": "code",
   "execution_count": 20,
   "metadata": {},
   "outputs": [
    {
     "name": "stdout",
     "output_type": "stream",
     "text": [
      "Training X shape: (180, 2)\n"
     ]
    }
   ],
   "source": [
    "training_X_dfs, training_y_dfs = RR_DataFetcher.get_all_training_X_y()\n",
    "\n",
    "RR_CVData = CrossValidationData(training_X_dfs, training_y_dfs)\n",
    "\n",
    "print(\"Training X shape: \" + str(RR_CVData.get_training_validation_X_y(0)[0].shape))"
   ]
  },
  {
   "cell_type": "code",
   "execution_count": 21,
   "metadata": {
    "scrolled": false
   },
   "outputs": [
    {
     "name": "stdout",
     "output_type": "stream",
     "text": [
      "Training y shape: (180, 1)\n"
     ]
    }
   ],
   "source": [
    "print(\"Training y shape: \" + str(RR_CVData.get_training_validation_X_y(0)[1].shape))"
   ]
  },
  {
   "cell_type": "code",
   "execution_count": 22,
   "metadata": {
    "scrolled": true
   },
   "outputs": [
    {
     "name": "stdout",
     "output_type": "stream",
     "text": [
      "Validation X shape: (20, 2)\n"
     ]
    }
   ],
   "source": [
    "print(\"Validation X shape: \" + str(RR_CVData.get_training_validation_X_y(0)[2].shape))"
   ]
  },
  {
   "cell_type": "code",
   "execution_count": 23,
   "metadata": {},
   "outputs": [
    {
     "name": "stdout",
     "output_type": "stream",
     "text": [
      "Validation y shape: (20, 1)\n"
     ]
    }
   ],
   "source": [
    "print(\"Validation y shape: \" + str(RR_CVData.get_training_validation_X_y(0)[3].shape))"
   ]
  },
  {
   "cell_type": "markdown",
   "metadata": {},
   "source": [
    "## Ridge Regression"
   ]
  },
  {
   "cell_type": "code",
   "execution_count": 24,
   "metadata": {},
   "outputs": [],
   "source": [
    "class RidgeRegression(Model):\n",
    "\n",
    "    def __init__(self, train_X, train_y, lmbda=0):\n",
    "        super().__init__(train_X, train_y)\n",
    "        X = train_X.to_numpy()\n",
    "        y = train_y.to_numpy()\n",
    "\n",
    "        # Add column of ones\n",
    "        X = np.insert(X, 0, np.ones(len(X)), axis=1)\n",
    "\n",
    "        self.lmbda = lmbda\n",
    "        \n",
    "        # Get inverse of A\n",
    "        A = X.T.dot(X) + lmbda * np.identity(len(X.T))\n",
    "        A_inv = np.linalg.inv(A)\n",
    "\n",
    "        # Get b\n",
    "        b = X.T.dot(y)\n",
    "\n",
    "        # Get w\n",
    "        w = A_inv.dot(b)\n",
    "\n",
    "        self.w = w\n",
    "\n",
    "    def predict(self, x):\n",
    "        x = np.insert(x, 0, 1)\n",
    "        y = np.dot(self.w.T, x)[0]\n",
    "        return y\n",
    "\n",
    "def get_mse_loss(true_values, predicted_values):\n",
    "    assert(len(true_values) == len(predicted_values))\n",
    "    l2_loss = np.mean(np.square(np.subtract(true_values,predicted_values)))\n",
    "    return l2_loss"
   ]
  },
  {
   "cell_type": "markdown",
   "metadata": {},
   "source": [
    "## Cross Validation"
   ]
  },
  {
   "cell_type": "code",
   "execution_count": 25,
   "metadata": {},
   "outputs": [],
   "source": [
    "def perform_regression_CV():\n",
    "    np.random.seed(42)\n",
    "    \n",
    "    average_losses = []\n",
    "    for lmbda in tqdm_notebook(LAMBDAS):\n",
    "\n",
    "        # Perform CV\n",
    "        losses = []\n",
    "        for j in range(NUM_SUBSETS):\n",
    "            train_X, train_y, validation_X, validation_y = RR_CVData.get_training_validation_X_y(j)\n",
    "            \n",
    "            # Create hypothesis\n",
    "            model = RidgeRegression(train_X, train_y, lmbda)\n",
    "            predicted_validation_y = model.predict_df(validation_X)\n",
    "            \n",
    "            # Get accuracy\n",
    "            loss = get_mse_loss(validation_y.values.flatten(), predicted_validation_y.values.flatten())\n",
    "            losses.append(loss)\n",
    "            \n",
    "        avg_loss = np.mean(losses)\n",
    "        average_losses.append(avg_loss)\n",
    "\n",
    "    return average_losses"
   ]
  },
  {
   "cell_type": "markdown",
   "metadata": {},
   "source": [
    "## Finding the Optimal Lambda"
   ]
  },
  {
   "cell_type": "code",
   "execution_count": 26,
   "metadata": {},
   "outputs": [
    {
     "data": {
      "application/vnd.jupyter.widget-view+json": {
       "model_id": "50be5d3e49d94ac3a7c4f613da3cc499",
       "version_major": 2,
       "version_minor": 0
      },
      "text/html": [
       "<p>Failed to display Jupyter Widget of type <code>HBox</code>.</p>\n",
       "<p>\n",
       "  If you're reading this message in the Jupyter Notebook or JupyterLab Notebook, it may mean\n",
       "  that the widgets JavaScript is still loading. If this message persists, it\n",
       "  likely means that the widgets JavaScript library is either not installed or\n",
       "  not enabled. See the <a href=\"https://ipywidgets.readthedocs.io/en/stable/user_install.html\">Jupyter\n",
       "  Widgets Documentation</a> for setup instructions.\n",
       "</p>\n",
       "<p>\n",
       "  If you're reading this message in another frontend (for example, a static\n",
       "  rendering on GitHub or <a href=\"https://nbviewer.jupyter.org/\">NBViewer</a>),\n",
       "  it may mean that your frontend doesn't currently support widgets.\n",
       "</p>\n"
      ],
      "text/plain": [
       "HBox(children=(IntProgress(value=0, max=41), HTML(value='')))"
      ]
     },
     "metadata": {},
     "output_type": "display_data"
    },
    {
     "name": "stdout",
     "output_type": "stream",
     "text": [
      "\n"
     ]
    }
   ],
   "source": [
    "average_losses = perform_regression_CV()"
   ]
  },
  {
   "cell_type": "code",
   "execution_count": 27,
   "metadata": {},
   "outputs": [
    {
     "name": "stdout",
     "output_type": "stream",
     "text": [
      "The optimal lambda is 1.300000 with an average mse loss of 1.346067\n"
     ]
    }
   ],
   "source": [
    "optimal_lambda = LAMBDAS[np.argsort(average_losses)[0]]\n",
    "print(\"The optimal lambda is %f with an average mse loss of %f\" % (optimal_lambda, min(average_losses)))"
   ]
  },
  {
   "cell_type": "code",
   "execution_count": 28,
   "metadata": {},
   "outputs": [
    {
     "data": {
      "image/png": "[encoded data removed]",
      "text/plain": [
       "<matplotlib.figure.Figure at 0x11db444e0>"
      ]
     },
     "metadata": {},
     "output_type": "display_data"
    }
   ],
   "source": [
    "plt.plot(LAMBDAS, average_losses)\n",
    "plt.xlabel('Lambda')\n",
    "plt.ylabel('Average L2 Loss')\n",
    "plt.title('Cross Validation')\n",
    "plt.show()"
   ]
  },
  {
   "cell_type": "markdown",
   "metadata": {},
   "source": [
    "The best lambda is 1.3. This minimizes the L2 loss the most from our range of lambdas."
   ]
  },
  {
   "cell_type": "markdown",
   "metadata": {},
   "source": [
    "## Sanity Check"
   ]
  },
  {
   "cell_type": "code",
   "execution_count": 29,
   "metadata": {
    "scrolled": true
   },
   "outputs": [
    {
     "data": {
      "application/vnd.jupyter.widget-view+json": {
       "model_id": "9f5d8b9b5b4e4d85881d7aa6bf830b3f",
       "version_major": 2,
       "version_minor": 0
      },
      "text/html": [
       "<p>Failed to display Jupyter Widget of type <code>HBox</code>.</p>\n",
       "<p>\n",
       "  If you're reading this message in the Jupyter Notebook or JupyterLab Notebook, it may mean\n",
       "  that the widgets JavaScript is still loading. If this message persists, it\n",
       "  likely means that the widgets JavaScript library is either not installed or\n",
       "  not enabled. See the <a href=\"https://ipywidgets.readthedocs.io/en/stable/user_install.html\">Jupyter\n",
       "  Widgets Documentation</a> for setup instructions.\n",
       "</p>\n",
       "<p>\n",
       "  If you're reading this message in another frontend (for example, a static\n",
       "  rendering on GitHub or <a href=\"https://nbviewer.jupyter.org/\">NBViewer</a>),\n",
       "  it may mean that your frontend doesn't currently support widgets.\n",
       "</p>\n"
      ],
      "text/plain": [
       "HBox(children=(IntProgress(value=0, max=41), HTML(value='')))"
      ]
     },
     "metadata": {},
     "output_type": "display_data"
    },
    {
     "name": "stdout",
     "output_type": "stream",
     "text": [
      "\n"
     ]
    },
    {
     "data": {
      "image/png": "[encoded data removed]",
      "text/plain": [
       "<matplotlib.figure.Figure at 0x11e006ef0>"
      ]
     },
     "metadata": {},
     "output_type": "display_data"
    }
   ],
   "source": [
    "from sklearn.linear_model import Ridge\n",
    "\n",
    "def perform_regression_CV_sklearn():\n",
    "    np.random.seed(42)\n",
    "    \n",
    "    average_losses = []\n",
    "    for lmbda in tqdm_notebook(LAMBDAS):\n",
    "\n",
    "        # Perform CV\n",
    "        losses = []\n",
    "        for j in range(NUM_SUBSETS):\n",
    "            train_X, train_y, validation_X, validation_y = RR_CVData.get_training_validation_X_y(j)\n",
    "\n",
    "            # Create hypothesis\n",
    "            clf = Ridge(alpha=lmbda, solver=\"cholesky\", fit_intercept=True)\n",
    "            clf.fit(train_X, train_y)\n",
    "            predicted_y = clf.predict(validation_X)\n",
    "            \n",
    "            # Get l2 loss\n",
    "            loss = get_mse_loss(validation_y.values.flatten(), predicted_y.flatten())\n",
    "            losses.append(loss)\n",
    "            \n",
    "        avg_loss = np.mean(losses)\n",
    "        average_losses.append(avg_loss)\n",
    "\n",
    "    return average_losses\n",
    "\n",
    "avg_losses = perform_regression_CV_sklearn()\n",
    "\n",
    "plt.plot(LAMBDAS, avg_losses)\n",
    "plt.xlabel('Lambda')\n",
    "plt.ylabel('Average L2 Loss')\n",
    "plt.title('Cross Validation - Using Sklearn')\n",
    "plt.show()"
   ]
  },
  {
   "cell_type": "markdown",
   "metadata": {},
   "source": [
    "Sklearn agrees with our findings. Let's create the model with our desired hyperparameters, trained on the entire train set & let's test it out on the test set."
   ]
  },
  {
   "cell_type": "markdown",
   "metadata": {},
   "source": [
    "## Loss on Test Set with Optimal Lambda"
   ]
  },
  {
   "cell_type": "code",
   "execution_count": 30,
   "metadata": {},
   "outputs": [
    {
     "name": "stdout",
     "output_type": "stream",
     "text": [
      "The loss on the test set is 1.4361103474411636\n"
     ]
    }
   ],
   "source": [
    "training_X, training_y = RR_CVData.get_all_X_y()\n",
    "\n",
    "final_model = RidgeRegression(training_X, training_y, lmbda=optimal_lambda)\n",
    "predicted_test_y = final_model.predict_df(test_X)\n",
    "\n",
    "test_loss = get_mse_loss(test_y.values.flatten(), predicted_test_y)\n",
    "print(\"The loss on the test set is \" + str(test_loss))"
   ]
  },
  {
   "cell_type": "markdown",
   "metadata": {},
   "source": [
    "# Summary\n",
    "\n",
    "**K Nearest Neighbours**\n",
    "\n",
    "The optimal K is 19 with an average accuracy of 0.815 during cross-validation, and a final test set accuracy of  0.727.\n",
    "\n",
    "**Ridge Regression**\n",
    "\n",
    "The optimal lambda is 1.3 with an average MSE loss of 1.346 during cross-validation, and a final test set MSE loss of 1.436.\n"
   ]
  }
 ],
 "metadata": {
  "kernelspec": {
   "display_name": "csenv",
   "language": "python",
   "name": "csenv"
  },
  "language_info": {
   "codemirror_mode": {
    "name": "ipython",
    "version": 3
   },
   "file_extension": ".py",
   "mimetype": "text/x-python",
   "name": "python",
   "nbconvert_exporter": "python",
   "pygments_lexer": "ipython3",
   "version": "3.7.3"
  },
  "toc": {
   "base_numbering": 1,
   "nav_menu": {},
   "number_sections": true,
   "sideBar": true,
   "skip_h1_title": false,
   "title_cell": "Table of Contents",
   "title_sidebar": "Contents",
   "toc_cell": true,
   "toc_position": {
    "height": "calc(100% - 180px)",
    "left": "10px",
    "top": "150px",
    "width": "336px"
   },
   "toc_section_display": true,
   "toc_window_display": true
  },
  "widgets": {
   "application/vnd.jupyter.widget-state+json": {
    "state": {
     "0206fcfe62f4457898bdf2ece8ec7ee8": {
      "model_module": "@jupyter-widgets/base",
      "model_module_version": "1.0.0",
      "model_name": "LayoutModel",
      "state": {}
     },
     "02b97111654948caab33746e10b4513c": {
      "model_module": "@jupyter-widgets/controls",
      "model_module_version": "1.1.0",
      "model_name": "ProgressStyleModel",
      "state": {
       "description_width": ""
      }
     },
     "036ad343576a4951ae4b5ef826851dab": {
      "model_module": "@jupyter-widgets/controls",
      "model_module_version": "1.1.0",
      "model_name": "HBoxModel",
      "state": {
       "children": [
        "IPY_MODEL_b2b873938b0d4c93a1bf93b5b3c52a9a",
        "IPY_MODEL_f7f3f522d234498981d7eb16b7d16579"
       ],
       "layout": "IPY_MODEL_046f1e633d12473db905e66ef4ae5885"
      }
     },
     "046f1e633d12473db905e66ef4ae5885": {
      "model_module": "@jupyter-widgets/base",
      "model_module_version": "1.0.0",
      "model_name": "LayoutModel",
      "state": {}
     },
     "04dadb0650b044b18f110f418d3d3914": {
      "model_module": "@jupyter-widgets/base",
      "model_module_version": "1.0.0",
      "model_name": "LayoutModel",
      "state": {}
     },
     "058574d28fc5488e8d14cd1cc261f28f": {
      "model_module": "@jupyter-widgets/controls",
      "model_module_version": "1.1.0",
      "model_name": "ProgressStyleModel",
      "state": {
       "description_width": ""
      }
     },
     "0610fb1339664cde9a484a4c51de0e1a": {
      "model_module": "@jupyter-widgets/base",
      "model_module_version": "1.0.0",
      "model_name": "LayoutModel",
      "state": {}
     },
     "0646a3d79c2c45299dbf1d49d51f8035": {
      "model_module": "@jupyter-widgets/base",
      "model_module_version": "1.0.0",
      "model_name": "LayoutModel",
      "state": {}
     },
     "06aa552fe1b2459fb0951a1c786dc13e": {
      "model_module": "@jupyter-widgets/controls",
      "model_module_version": "1.1.0",
      "model_name": "IntProgressModel",
      "state": {
       "bar_style": "success",
       "layout": "IPY_MODEL_3e574a2ac22240c6ada07b6cffefc8ae",
       "max": 41,
       "style": "IPY_MODEL_bff3c45d8de6403c919357c12d55494e",
       "value": 41
      }
     },
     "080cb2f2167c44709c0e1f888156ead2": {
      "model_module": "@jupyter-widgets/base",
      "model_module_version": "1.0.0",
      "model_name": "LayoutModel",
      "state": {}
     },
     "08a97204510e40d79a49d2b447c6aaf7": {
      "model_module": "@jupyter-widgets/base",
      "model_module_version": "1.0.0",
      "model_name": "LayoutModel",
      "state": {}
     },
     "08b13a976b564a50bcac00c482bbc21a": {
      "model_module": "@jupyter-widgets/controls",
      "model_module_version": "1.1.0",
      "model_name": "HTMLModel",
      "state": {
       "layout": "IPY_MODEL_1aa33c3117d44cbd808558240c246740",
       "style": "IPY_MODEL_e7100e5023b340238d0441f8ade8bc3f",
       "value": "100% 41/41 [00:01&lt;00:00, 26.49it/s]"
      }
     },
     "08e643936b0c48f6b1da208b34e6c7d9": {
      "model_module": "@jupyter-widgets/controls",
      "model_module_version": "1.1.0",
      "model_name": "DescriptionStyleModel",
      "state": {
       "description_width": ""
      }
     },
     "091b70682a5c4ab799caa5871793bd52": {
      "model_module": "@jupyter-widgets/controls",
      "model_module_version": "1.1.0",
      "model_name": "ProgressStyleModel",
      "state": {
       "description_width": ""
      }
     },
     "09fc5e7496b04e6bb2bb42451be2eef3": {
      "model_module": "@jupyter-widgets/controls",
      "model_module_version": "1.1.0",
      "model_name": "HBoxModel",
      "state": {
       "children": [
        "IPY_MODEL_06aa552fe1b2459fb0951a1c786dc13e",
        "IPY_MODEL_475666e578114aae9226f6a723996a4d"
       ],
       "layout": "IPY_MODEL_cb21e89709fa47a1bb68792c9487ea10"
      }
     },
     "0a17bba10ccd4e4c9969c321d90fb20f": {
      "model_module": "@jupyter-widgets/base",
      "model_module_version": "1.0.0",
      "model_name": "LayoutModel",
      "state": {}
     },
     "0a42d39b150340d7a7c8ede08cdc2e07": {
      "model_module": "@jupyter-widgets/base",
      "model_module_version": "1.0.0",
      "model_name": "LayoutModel",
      "state": {}
     },
     "0aedab6848e14124b1b40e84f6e9728a": {
      "model_module": "@jupyter-widgets/controls",
      "model_module_version": "1.1.0",
      "model_name": "IntProgressModel",
      "state": {
       "bar_style": "danger",
       "layout": "IPY_MODEL_7b88eee2b6064c7481dfc4bd00b1ffa2",
       "max": 30,
       "style": "IPY_MODEL_66bed0e6aac84b78928f879cdcfdc3ae",
       "value": 13
      }
     },
     "0b8db65db4c34933bd2ef05fc5b94dee": {
      "model_module": "@jupyter-widgets/base",
      "model_module_version": "1.0.0",
      "model_name": "LayoutModel",
      "state": {}
     },
     "0d067638ea5542dc83d15ddffa776630": {
      "model_module": "@jupyter-widgets/controls",
      "model_module_version": "1.1.0",
      "model_name": "DescriptionStyleModel",
      "state": {
       "description_width": ""
      }
     },
     "0d3ad477b69547b2a89742ffe2f0cd50": {
      "model_module": "@jupyter-widgets/base",
      "model_module_version": "1.0.0",
      "model_name": "LayoutModel",
      "state": {}
     },
     "0dbfd0e87d9c4865abe11ab302bd2563": {
      "model_module": "@jupyter-widgets/controls",
      "model_module_version": "1.1.0",
      "model_name": "ProgressStyleModel",
      "state": {
       "description_width": ""
      }
     },
     "0e602291cf3e40e6a079e8e6586106f9": {
      "model_module": "@jupyter-widgets/controls",
      "model_module_version": "1.1.0",
      "model_name": "HBoxModel",
      "state": {
       "children": [
        "IPY_MODEL_18b5090b8c1e4e3ebf2d6ecccf7b385e",
        "IPY_MODEL_d8485667a7e94e60805657b4fc90aa6b"
       ],
       "layout": "IPY_MODEL_04dadb0650b044b18f110f418d3d3914"
      }
     },
     "0e74934335a5423dbf952700d58c5089": {
      "model_module": "@jupyter-widgets/controls",
      "model_module_version": "1.1.0",
      "model_name": "HBoxModel",
      "state": {
       "children": [
        "IPY_MODEL_51adfb0d63be48bcbf581f53299460c0",
        "IPY_MODEL_f160743d9b7e46ff970f0c7a850f7cdb"
       ],
       "layout": "IPY_MODEL_157d43b477784dcbb397e9d1cfd16adf"
      }
     },
     "0f138947133a438ea84313c13853c044": {
      "model_module": "@jupyter-widgets/base",
      "model_module_version": "1.0.0",
      "model_name": "LayoutModel",
      "state": {}
     },
     "10c366dd7d024f9885011188bf9d7939": {
      "model_module": "@jupyter-widgets/controls",
      "model_module_version": "1.1.0",
      "model_name": "DescriptionStyleModel",
      "state": {
       "description_width": ""
      }
     },
     "10f889b4506340e48885bc35e3e0140c": {
      "model_module": "@jupyter-widgets/base",
      "model_module_version": "1.0.0",
      "model_name": "LayoutModel",
      "state": {}
     },
     "1147f14d3f5a40e691512ca5c141c3bb": {
      "model_module": "@jupyter-widgets/controls",
      "model_module_version": "1.1.0",
      "model_name": "ProgressStyleModel",
      "state": {
       "description_width": ""
      }
     },
     "116c3762f7914b68a1e7e48c3dffd63f": {
      "model_module": "@jupyter-widgets/base",
      "model_module_version": "1.0.0",
      "model_name": "LayoutModel",
      "state": {}
     },
     "121c0855a2d24d61942f51a50c1e5c29": {
      "model_module": "@jupyter-widgets/base",
      "model_module_version": "1.0.0",
      "model_name": "LayoutModel",
      "state": {}
     },
     "12286ab5cbde48389f550d19a85d9da9": {
      "model_module": "@jupyter-widgets/controls",
      "model_module_version": "1.1.0",
      "model_name": "HBoxModel",
      "state": {
       "children": [
        "IPY_MODEL_8c522823db734702b1951158f1eac82b",
        "IPY_MODEL_b86413a0eec642bfafbc6f4ca456348f"
       ],
       "layout": "IPY_MODEL_d66f636ffe974fd18773d3c400bf95f8"
      }
     },
     "1305426fd58e488e94f67ede24e0f7a2": {
      "model_module": "@jupyter-widgets/controls",
      "model_module_version": "1.1.0",
      "model_name": "HBoxModel",
      "state": {
       "children": [
        "IPY_MODEL_ddf05137d182489dbc962d5cd15c1c54",
        "IPY_MODEL_b52d3ca2ee86454ba3ac9d63bfc314c2"
       ],
       "layout": "IPY_MODEL_96b454f3e0d84903961117588078bd54"
      }
     },
     "136e0da47eee46868b0631c8fbea5bea": {
      "model_module": "@jupyter-widgets/controls",
      "model_module_version": "1.1.0",
      "model_name": "HBoxModel",
      "state": {
       "children": [
        "IPY_MODEL_8afffba1027a45cc92b1bf62a4266cb0",
        "IPY_MODEL_3512b63df1104f77ae8a874363cbb904"
       ],
       "layout": "IPY_MODEL_223c3ed168bc489d9601cb312bd5e7d2"
      }
     },
     "1417566d83c74b77b3fa9538b1fb4a76": {
      "model_module": "@jupyter-widgets/controls",
      "model_module_version": "1.1.0",
      "model_name": "ProgressStyleModel",
      "state": {
       "description_width": ""
      }
     },
     "157d43b477784dcbb397e9d1cfd16adf": {
      "model_module": "@jupyter-widgets/base",
      "model_module_version": "1.0.0",
      "model_name": "LayoutModel",
      "state": {}
     },
     "16b5102b2dcb496aa154c09f8ca357f9": {
      "model_module": "@jupyter-widgets/base",
      "model_module_version": "1.0.0",
      "model_name": "LayoutModel",
      "state": {}
     },
     "16edc8a58bef4f07a384694c1e5b5201": {
      "model_module": "@jupyter-widgets/controls",
      "model_module_version": "1.1.0",
      "model_name": "HTMLModel",
      "state": {
       "layout": "IPY_MODEL_b2024691bc2a4266aa1d62a6721b67e7",
       "style": "IPY_MODEL_89842751bb72479a8bd29ab112b33971",
       "value": "100% 41/41 [00:01&lt;00:00, 34.89it/s]"
      }
     },
     "1726618816b948dea8ba5df41693ed54": {
      "model_module": "@jupyter-widgets/base",
      "model_module_version": "1.0.0",
      "model_name": "LayoutModel",
      "state": {}
     },
     "17a52a6b419d480da6f2cd2205fe53ed": {
      "model_module": "@jupyter-widgets/controls",
      "model_module_version": "1.1.0",
      "model_name": "HTMLModel",
      "state": {
       "layout": "IPY_MODEL_734b0d53213f4d71b4109c76553db211",
       "style": "IPY_MODEL_2bb949e58d5848738dcfc7f6691790ea",
       "value": "100% 30/30 [00:01&lt;00:00, 19.50it/s]"
      }
     },
     "1837f1d24c9a439c918d17efe2d2433a": {
      "model_module": "@jupyter-widgets/base",
      "model_module_version": "1.0.0",
      "model_name": "LayoutModel",
      "state": {}
     },
     "185e82d483ce4c26a3fcccbc2160419a": {
      "model_module": "@jupyter-widgets/base",
      "model_module_version": "1.0.0",
      "model_name": "LayoutModel",
      "state": {}
     },
     "18b5090b8c1e4e3ebf2d6ecccf7b385e": {
      "model_module": "@jupyter-widgets/controls",
      "model_module_version": "1.1.0",
      "model_name": "IntProgressModel",
      "state": {
       "bar_style": "success",
       "layout": "IPY_MODEL_954b96ab94344c998ffaaf62056e98f9",
       "max": 41,
       "style": "IPY_MODEL_c894c914894149c9bcff3f618e4e3af0",
       "value": 41
      }
     },
     "194d4bc6a5ae4417927f101821c088e3": {
      "model_module": "@jupyter-widgets/controls",
      "model_module_version": "1.1.0",
      "model_name": "ProgressStyleModel",
      "state": {
       "description_width": ""
      }
     },
     "1aa33c3117d44cbd808558240c246740": {
      "model_module": "@jupyter-widgets/base",
      "model_module_version": "1.0.0",
      "model_name": "LayoutModel",
      "state": {}
     },
     "1adf935f31364cb8bab671094a9b7925": {
      "model_module": "@jupyter-widgets/base",
      "model_module_version": "1.0.0",
      "model_name": "LayoutModel",
      "state": {}
     },
     "1afed38fd6a3403b84982528e8008c51": {
      "model_module": "@jupyter-widgets/base",
      "model_module_version": "1.0.0",
      "model_name": "LayoutModel",
      "state": {}
     },
     "1c2fe8fb5ddc4825adaea7f2aecf1bb9": {
      "model_module": "@jupyter-widgets/controls",
      "model_module_version": "1.1.0",
      "model_name": "DescriptionStyleModel",
      "state": {
       "description_width": ""
      }
     },
     "1c35199b09f04937855a10da9ac22fcb": {
      "model_module": "@jupyter-widgets/base",
      "model_module_version": "1.0.0",
      "model_name": "LayoutModel",
      "state": {}
     },
     "1c8c2df6c36341a19bb0066f83fb8f02": {
      "model_module": "@jupyter-widgets/controls",
      "model_module_version": "1.1.0",
      "model_name": "DescriptionStyleModel",
      "state": {
       "description_width": ""
      }
     },
     "1cc01da6762849178a10e91c17b07071": {
      "model_module": "@jupyter-widgets/base",
      "model_module_version": "1.0.0",
      "model_name": "LayoutModel",
      "state": {}
     },
     "1db3dff689bd42f78eb1991e8b6b52e6": {
      "model_module": "@jupyter-widgets/controls",
      "model_module_version": "1.1.0",
      "model_name": "HBoxModel",
      "state": {
       "children": [
        "IPY_MODEL_b6c45586772e44a7bd4b90050b7c3f8d",
        "IPY_MODEL_47c77244ce4044348774101a7fb49500"
       ],
       "layout": "IPY_MODEL_5c9eb68dda504b3fb9df130d0658077c"
      }
     },
     "1e40e0ecad2541239b8e85abeb898d3e": {
      "model_module": "@jupyter-widgets/base",
      "model_module_version": "1.0.0",
      "model_name": "LayoutModel",
      "state": {}
     },
     "20b086e0d5eb416386a58205523745b0": {
      "model_module": "@jupyter-widgets/controls",
      "model_module_version": "1.1.0",
      "model_name": "IntProgressModel",
      "state": {
       "bar_style": "danger",
       "layout": "IPY_MODEL_5d7815526e214bae8e876598a483018f",
       "max": 30,
       "style": "IPY_MODEL_4eefc45faa9f4ee4b687d5cef8b09936"
      }
     },
     "21450883e8a642708ecccdf2f5b4bb87": {
      "model_module": "@jupyter-widgets/base",
      "model_module_version": "1.0.0",
      "model_name": "LayoutModel",
      "state": {}
     },
     "21f1c5c4834542b98741add219322ef1": {
      "model_module": "@jupyter-widgets/base",
      "model_module_version": "1.0.0",
      "model_name": "LayoutModel",
      "state": {}
     },
     "21f7e3858f3d407499ea523550772e0d": {
      "model_module": "@jupyter-widgets/controls",
      "model_module_version": "1.1.0",
      "model_name": "HTMLModel",
      "state": {
       "layout": "IPY_MODEL_8af9f92c877142a0b4660d46e43a9fa2",
       "style": "IPY_MODEL_ddfc53b6b95449b7989c1bdf36b44a0a",
       "value": "  0% 0/30 [00:00&lt;?, ?it/s]"
      }
     },
     "223c3ed168bc489d9601cb312bd5e7d2": {
      "model_module": "@jupyter-widgets/base",
      "model_module_version": "1.0.0",
      "model_name": "LayoutModel",
      "state": {}
     },
     "22be968416e8412f9d084c2312e8d6c7": {
      "model_module": "@jupyter-widgets/controls",
      "model_module_version": "1.1.0",
      "model_name": "HBoxModel",
      "state": {
       "children": [
        "IPY_MODEL_20b086e0d5eb416386a58205523745b0",
        "IPY_MODEL_e29f37a9bb464ba5ad5564088e566d2b"
       ],
       "layout": "IPY_MODEL_d0eb2de6f5b94a8abfdccadeb1851ac4"
      }
     },
     "23681f0d28394cbc8bd8ec855f51e611": {
      "model_module": "@jupyter-widgets/base",
      "model_module_version": "1.0.0",
      "model_name": "LayoutModel",
      "state": {}
     },
     "238a6830d3a5434ea8067b5abddda302": {
      "model_module": "@jupyter-widgets/base",
      "model_module_version": "1.0.0",
      "model_name": "LayoutModel",
      "state": {}
     },
     "24a52a8fe11a4eb5a177b82a8a615a22": {
      "model_module": "@jupyter-widgets/controls",
      "model_module_version": "1.1.0",
      "model_name": "IntProgressModel",
      "state": {
       "bar_style": "success",
       "layout": "IPY_MODEL_d52c9758487b435c92c856e78f8d8822",
       "max": 30,
       "style": "IPY_MODEL_5fb19646b51a4b07aaac9f064555ee32",
       "value": 30
      }
     },
     "24ef891505f144e7a0f9a47df31ab0b3": {
      "model_module": "@jupyter-widgets/controls",
      "model_module_version": "1.1.0",
      "model_name": "IntProgressModel",
      "state": {
       "bar_style": "danger",
       "layout": "IPY_MODEL_eafa0c4be39d4d7180e55408b04d4a00",
       "max": 41,
       "style": "IPY_MODEL_b7c17089339e48dd80c3f175cb6419c0"
      }
     },
     "262c6264912f46e1a9589a21aed4e4ed": {
      "model_module": "@jupyter-widgets/controls",
      "model_module_version": "1.1.0",
      "model_name": "HTMLModel",
      "state": {
       "layout": "IPY_MODEL_51c22cbe7a48421ab05eaf7ff858a482",
       "style": "IPY_MODEL_267670a88f7548a994793caa9c80da0e",
       "value": "100% 41/41 [00:02&lt;00:00, 18.91it/s]"
      }
     },
     "267670a88f7548a994793caa9c80da0e": {
      "model_module": "@jupyter-widgets/controls",
      "model_module_version": "1.1.0",
      "model_name": "DescriptionStyleModel",
      "state": {
       "description_width": ""
      }
     },
     "26bef1d9bce845aca4176c084e2feac8": {
      "model_module": "@jupyter-widgets/controls",
      "model_module_version": "1.1.0",
      "model_name": "ProgressStyleModel",
      "state": {
       "description_width": ""
      }
     },
     "28095ac4a39440fc885608201a291e99": {
      "model_module": "@jupyter-widgets/controls",
      "model_module_version": "1.1.0",
      "model_name": "HBoxModel",
      "state": {
       "children": [
        "IPY_MODEL_d6bdf48a306b40269d08fca4caad122a",
        "IPY_MODEL_bf7cee5342e443c88cf997af5d97a245"
       ],
       "layout": "IPY_MODEL_3589ad6d09174946806f7100780403db"
      }
     },
     "289b776d562241e4b9b91e22935c3094": {
      "model_module": "@jupyter-widgets/controls",
      "model_module_version": "1.1.0",
      "model_name": "ProgressStyleModel",
      "state": {
       "description_width": ""
      }
     },
     "298f2bf4890b415192ca8ddcd4eed799": {
      "model_module": "@jupyter-widgets/controls",
      "model_module_version": "1.1.0",
      "model_name": "HTMLModel",
      "state": {
       "layout": "IPY_MODEL_185e82d483ce4c26a3fcccbc2160419a",
       "style": "IPY_MODEL_e1e9aaba48c642f38b54faa7a2cd60e8",
       "value": "100% 41/41 [00:01&lt;00:00, 32.93it/s]"
      }
     },
     "2a8474cadd354475a3135b628f7f746f": {
      "model_module": "@jupyter-widgets/base",
      "model_module_version": "1.0.0",
      "model_name": "LayoutModel",
      "state": {}
     },
     "2b77a5c4520740c5952ed955a71e379c": {
      "model_module": "@jupyter-widgets/controls",
      "model_module_version": "1.1.0",
      "model_name": "HTMLModel",
      "state": {
       "layout": "IPY_MODEL_64b7d2f8700946a0952596001bf9b08c",
       "style": "IPY_MODEL_51270ca5b6d445f38772b90f8f9e8e4d",
       "value": "  0% 0/30 [00:00&lt;?, ?it/s]"
      }
     },
     "2bb949e58d5848738dcfc7f6691790ea": {
      "model_module": "@jupyter-widgets/controls",
      "model_module_version": "1.1.0",
      "model_name": "DescriptionStyleModel",
      "state": {
       "description_width": ""
      }
     },
     "2c817c29d01a4a749c2b1d64458f46de": {
      "model_module": "@jupyter-widgets/base",
      "model_module_version": "1.0.0",
      "model_name": "LayoutModel",
      "state": {}
     },
     "2d45d852243545a181d714124e732465": {
      "model_module": "@jupyter-widgets/controls",
      "model_module_version": "1.1.0",
      "model_name": "ProgressStyleModel",
      "state": {
       "description_width": ""
      }
     },
     "2d9b13dcb24d4f4bbda7c41c692b2d8b": {
      "model_module": "@jupyter-widgets/controls",
      "model_module_version": "1.1.0",
      "model_name": "DescriptionStyleModel",
      "state": {
       "description_width": ""
      }
     },
     "2da643661c9e4fd484fc5a28b9ae8d0f": {
      "model_module": "@jupyter-widgets/controls",
      "model_module_version": "1.1.0",
      "model_name": "HTMLModel",
      "state": {
       "layout": "IPY_MODEL_1afed38fd6a3403b84982528e8008c51",
       "style": "IPY_MODEL_0d067638ea5542dc83d15ddffa776630",
       "value": "  0% 0/30 [00:00&lt;?, ?it/s]"
      }
     },
     "2e12eca5ddb1460eb46c38e8022439e9": {
      "model_module": "@jupyter-widgets/controls",
      "model_module_version": "1.1.0",
      "model_name": "HTMLModel",
      "state": {
       "layout": "IPY_MODEL_5567992baad64a4ba7770abca3d59727",
       "style": "IPY_MODEL_f8a238c3263c4ed98f0d8a415c9f0e7a",
       "value": "  0% 0/41 [00:00&lt;?, ?it/s]"
      }
     },
     "2e8a7c0329274c0fbb00e058d32cbac0": {
      "model_module": "@jupyter-widgets/controls",
      "model_module_version": "1.1.0",
      "model_name": "ProgressStyleModel",
      "state": {
       "description_width": ""
      }
     },
     "2eb5e95e2ef0423d84b047f7daf29b5e": {
      "model_module": "@jupyter-widgets/controls",
      "model_module_version": "1.1.0",
      "model_name": "ProgressStyleModel",
      "state": {
       "description_width": ""
      }
     },
     "309c3c9966994707be40268ded2cc377": {
      "model_module": "@jupyter-widgets/controls",
      "model_module_version": "1.1.0",
      "model_name": "HBoxModel",
      "state": {
       "children": [
        "IPY_MODEL_c29b3cc4991a461794c1003657c6dff6",
        "IPY_MODEL_ea7badef0b0f45519c3ccf128d569e01"
       ],
       "layout": "IPY_MODEL_0206fcfe62f4457898bdf2ece8ec7ee8"
      }
     },
     "31bccd44db9e43d5854b9d66127e734f": {
      "model_module": "@jupyter-widgets/base",
      "model_module_version": "1.0.0",
      "model_name": "LayoutModel",
      "state": {}
     },
     "31d5731e2b3449849e1008fad8701838": {
      "model_module": "@jupyter-widgets/base",
      "model_module_version": "1.0.0",
      "model_name": "LayoutModel",
      "state": {}
     },
     "3297bc7bed544ce08bf315a2a642f7d1": {
      "model_module": "@jupyter-widgets/controls",
      "model_module_version": "1.1.0",
      "model_name": "DescriptionStyleModel",
      "state": {
       "description_width": ""
      }
     },
     "32c15923a47b4b58972f20ce8e509147": {
      "model_module": "@jupyter-widgets/controls",
      "model_module_version": "1.1.0",
      "model_name": "HTMLModel",
      "state": {
       "layout": "IPY_MODEL_16b5102b2dcb496aa154c09f8ca357f9",
       "style": "IPY_MODEL_7753f597daf04db3b34bbf274981939b",
       "value": "100% 30/30 [00:01&lt;00:00, 22.03it/s]"
      }
     },
     "32eb3e20795e45708a4fa63bd2e41ea9": {
      "model_module": "@jupyter-widgets/base",
      "model_module_version": "1.0.0",
      "model_name": "LayoutModel",
      "state": {}
     },
     "3352fda540c2431ba39d3c1954fbf5ac": {
      "model_module": "@jupyter-widgets/controls",
      "model_module_version": "1.1.0",
      "model_name": "DescriptionStyleModel",
      "state": {
       "description_width": ""
      }
     },
     "33cb520e195e44f19bad2cb117a925ab": {
      "model_module": "@jupyter-widgets/controls",
      "model_module_version": "1.1.0",
      "model_name": "IntProgressModel",
      "state": {
       "bar_style": "success",
       "layout": "IPY_MODEL_b3c9b49256bd4f4fb2b439e12d5fd00a",
       "max": 41,
       "style": "IPY_MODEL_437159f3dfec41298879fdacde2cdbe3",
       "value": 41
      }
     },
     "348bfa2e977e46f2b1a5f9104904f4fd": {
      "model_module": "@jupyter-widgets/controls",
      "model_module_version": "1.1.0",
      "model_name": "IntProgressModel",
      "state": {
       "bar_style": "success",
       "layout": "IPY_MODEL_f8c35c67b84f4c20a5bac03b1ad44565",
       "max": 41,
       "style": "IPY_MODEL_9de26d85a54248d2bcec9757942b98b3",
       "value": 41
      }
     },
     "3512b63df1104f77ae8a874363cbb904": {
      "model_module": "@jupyter-widgets/controls",
      "model_module_version": "1.1.0",
      "model_name": "HTMLModel",
      "state": {
       "layout": "IPY_MODEL_69a97ffe3b70482f9970cacab61bf4ad",
       "style": "IPY_MODEL_f8ed5c552f1d44b3ad43d0bcb7e6d2eb",
       "value": "100% 41/41 [00:01&lt;00:00, 34.20it/s]"
      }
     },
     "3589ad6d09174946806f7100780403db": {
      "model_module": "@jupyter-widgets/base",
      "model_module_version": "1.0.0",
      "model_name": "LayoutModel",
      "state": {}
     },
     "364d931d8df54e089e803c431046fdbd": {
      "model_module": "@jupyter-widgets/base",
      "model_module_version": "1.0.0",
      "model_name": "LayoutModel",
      "state": {}
     },
     "381cbbd20b7441638b39ef9ca6f7f9ff": {
      "model_module": "@jupyter-widgets/controls",
      "model_module_version": "1.1.0",
      "model_name": "IntProgressModel",
      "state": {
       "bar_style": "success",
       "layout": "IPY_MODEL_5e1bdcb45bd5490d93175d9e520c3d22",
       "max": 41,
       "style": "IPY_MODEL_9f2da83569da469ebc6fc728484beae7",
       "value": 41
      }
     },
     "3881f28bd5a84011a4c17ae185d9123e": {
      "model_module": "@jupyter-widgets/base",
      "model_module_version": "1.0.0",
      "model_name": "LayoutModel",
      "state": {}
     },
     "3901c7adc3084a6d9d32e3c92674eec2": {
      "model_module": "@jupyter-widgets/controls",
      "model_module_version": "1.1.0",
      "model_name": "ProgressStyleModel",
      "state": {
       "description_width": ""
      }
     },
     "3916666659474902969e5849a72a93c6": {
      "model_module": "@jupyter-widgets/controls",
      "model_module_version": "1.1.0",
      "model_name": "HBoxModel",
      "state": {
       "children": [
        "IPY_MODEL_a8d66ab4250841b8ba3c903e734c145e",
        "IPY_MODEL_2da643661c9e4fd484fc5a28b9ae8d0f"
       ],
       "layout": "IPY_MODEL_69342cfd5a264ae5829c750aba0b6f4b"
      }
     },
     "39ab1f3036ed44af81e90228eb05e3c4": {
      "model_module": "@jupyter-widgets/controls",
      "model_module_version": "1.1.0",
      "model_name": "DescriptionStyleModel",
      "state": {
       "description_width": ""
      }
     },
     "39bbdb39ce6b436fa46f315c8415b647": {
      "model_module": "@jupyter-widgets/base",
      "model_module_version": "1.0.0",
      "model_name": "LayoutModel",
      "state": {}
     },
     "3a034d179d5c44baaa6dd9838fdc283a": {
      "model_module": "@jupyter-widgets/base",
      "model_module_version": "1.0.0",
      "model_name": "LayoutModel",
      "state": {}
     },
     "3a8b6c37294c4d8b91ffdd2b0135f94c": {
      "model_module": "@jupyter-widgets/controls",
      "model_module_version": "1.1.0",
      "model_name": "HTMLModel",
      "state": {
       "layout": "IPY_MODEL_786dea337d184f12a20d52f134a2f378",
       "style": "IPY_MODEL_8b34c05ee7d44129adf3633470090b88",
       "value": "  0% 0/30 [00:00&lt;?, ?it/s]"
      }
     },
     "3b64086fb67a4e099cc6580646d94016": {
      "model_module": "@jupyter-widgets/controls",
      "model_module_version": "1.1.0",
      "model_name": "DescriptionStyleModel",
      "state": {
       "description_width": ""
      }
     },
     "3baa29d214cd408ea6915dcf17f0a55e": {
      "model_module": "@jupyter-widgets/controls",
      "model_module_version": "1.1.0",
      "model_name": "HTMLModel",
      "state": {
       "layout": "IPY_MODEL_8a17f7c2ea014e50b1fb021e4152364e",
       "style": "IPY_MODEL_60a4f9154cef4e6ea5cd39640548aee1",
       "value": "100% 41/41 [00:01&lt;00:00, 29.93it/s]"
      }
     },
     "3c357ffe5d064f13a4a613e3cb1b930c": {
      "model_module": "@jupyter-widgets/controls",
      "model_module_version": "1.1.0",
      "model_name": "ProgressStyleModel",
      "state": {
       "description_width": ""
      }
     },
     "3c42e67ddcc94b8493a35c7eaa450971": {
      "model_module": "@jupyter-widgets/controls",
      "model_module_version": "1.1.0",
      "model_name": "HTMLModel",
      "state": {
       "layout": "IPY_MODEL_3f71ff90eb714e11bc25091cc3b73294",
       "style": "IPY_MODEL_a2850911db954233babfea3071c3b9b1",
       "value": "100% 41/41 [00:01&lt;00:00, 21.71it/s]"
      }
     },
     "3d91ba23210e4dfcba6dabf53d3b5efe": {
      "model_module": "@jupyter-widgets/base",
      "model_module_version": "1.0.0",
      "model_name": "LayoutModel",
      "state": {}
     },
     "3e28c18cf7434205b5e575e1071eb0f2": {
      "model_module": "@jupyter-widgets/controls",
      "model_module_version": "1.1.0",
      "model_name": "IntProgressModel",
      "state": {
       "bar_style": "success",
       "layout": "IPY_MODEL_b3b763fa9abf43ddaa4f394b73a4d697",
       "max": 41,
       "style": "IPY_MODEL_fdc8e9baffb54631bc0cb5c907b944d4",
       "value": 41
      }
     },
     "3e574a2ac22240c6ada07b6cffefc8ae": {
      "model_module": "@jupyter-widgets/base",
      "model_module_version": "1.0.0",
      "model_name": "LayoutModel",
      "state": {}
     },
     "3f71ff90eb714e11bc25091cc3b73294": {
      "model_module": "@jupyter-widgets/base",
      "model_module_version": "1.0.0",
      "model_name": "LayoutModel",
      "state": {}
     },
     "403b96dd210947ce9e85c9e465cb94f7": {
      "model_module": "@jupyter-widgets/controls",
      "model_module_version": "1.1.0",
      "model_name": "HTMLModel",
      "state": {
       "layout": "IPY_MODEL_febc28993ead45b89fb0e9ee4b0dbf24",
       "style": "IPY_MODEL_a11098dd013648d7bf691dc5a4bb61af",
       "value": "100% 41/41 [00:02&lt;00:00, 15.05it/s]"
      }
     },
     "4050ac47b3e34360a16ae592c783a4f0": {
      "model_module": "@jupyter-widgets/base",
      "model_module_version": "1.0.0",
      "model_name": "LayoutModel",
      "state": {}
     },
     "40b6d1f6670d4b71ad9b58114664ba62": {
      "model_module": "@jupyter-widgets/controls",
      "model_module_version": "1.1.0",
      "model_name": "HTMLModel",
      "state": {
       "layout": "IPY_MODEL_b1de27ebe86a4a3c8d4040cfe5971f70",
       "style": "IPY_MODEL_ec23ab605a9f4531a129cd5f2fec5024",
       "value": "100% 41/41 [00:01&lt;00:00, 26.80it/s]"
      }
     },
     "4182806755e0434e9cbdb3b27df9506c": {
      "model_module": "@jupyter-widgets/controls",
      "model_module_version": "1.1.0",
      "model_name": "HBoxModel",
      "state": {
       "children": [
        "IPY_MODEL_348bfa2e977e46f2b1a5f9104904f4fd",
        "IPY_MODEL_3c42e67ddcc94b8493a35c7eaa450971"
       ],
       "layout": "IPY_MODEL_f6327bc3260d4d2eaf09aca93a57d6c2"
      }
     },
     "42b6a53a7a4745c1be8e9b7edf17196b": {
      "model_module": "@jupyter-widgets/controls",
      "model_module_version": "1.1.0",
      "model_name": "ProgressStyleModel",
      "state": {
       "description_width": ""
      }
     },
     "437159f3dfec41298879fdacde2cdbe3": {
      "model_module": "@jupyter-widgets/controls",
      "model_module_version": "1.1.0",
      "model_name": "ProgressStyleModel",
      "state": {
       "description_width": ""
      }
     },
     "461c6ff88fe54e7887e11b956a8ad09f": {
      "model_module": "@jupyter-widgets/base",
      "model_module_version": "1.0.0",
      "model_name": "LayoutModel",
      "state": {}
     },
     "475666e578114aae9226f6a723996a4d": {
      "model_module": "@jupyter-widgets/controls",
      "model_module_version": "1.1.0",
      "model_name": "HTMLModel",
      "state": {
       "layout": "IPY_MODEL_21450883e8a642708ecccdf2f5b4bb87",
       "style": "IPY_MODEL_c36830a703024058ab9ba3dcad79f2a9",
       "value": "100% 41/41 [00:01&lt;00:00, 30.56it/s]"
      }
     },
     "4773034632b34304a75c6311d0640a7f": {
      "model_module": "@jupyter-widgets/base",
      "model_module_version": "1.0.0",
      "model_name": "LayoutModel",
      "state": {}
     },
     "47c77244ce4044348774101a7fb49500": {
      "model_module": "@jupyter-widgets/controls",
      "model_module_version": "1.1.0",
      "model_name": "HTMLModel",
      "state": {
       "layout": "IPY_MODEL_bfec4db4dd2b446da821b4d78287fa01",
       "style": "IPY_MODEL_e721519642124b88a7420ba382530137",
       "value": "  0% 0/41 [00:00&lt;?, ?it/s]"
      }
     },
     "47d53ac61e8b48b5b92b9500683c5129": {
      "model_module": "@jupyter-widgets/controls",
      "model_module_version": "1.1.0",
      "model_name": "HBoxModel",
      "state": {
       "children": [
        "IPY_MODEL_3e28c18cf7434205b5e575e1071eb0f2",
        "IPY_MODEL_7983ecad98254e05a08bfa6f8011438e"
       ],
       "layout": "IPY_MODEL_ceac7707c5f2445dafa4104f8867e48f"
      }
     },
     "4841d86cf22e4e2f90292ac5b17f392c": {
      "model_module": "@jupyter-widgets/base",
      "model_module_version": "1.0.0",
      "model_name": "LayoutModel",
      "state": {}
     },
     "48f01e3169e54cd3be0451466b39f09c": {
      "model_module": "@jupyter-widgets/controls",
      "model_module_version": "1.1.0",
      "model_name": "IntProgressModel",
      "state": {
       "bar_style": "danger",
       "layout": "IPY_MODEL_be0ee428c4db42b99288e29dcc74c926",
       "max": 30,
       "style": "IPY_MODEL_2d45d852243545a181d714124e732465"
      }
     },
     "49d319f518f4486e93b774bcec3d7cf1": {
      "model_module": "@jupyter-widgets/base",
      "model_module_version": "1.0.0",
      "model_name": "LayoutModel",
      "state": {}
     },
     "4c0edc0d03cd434bbfefa90a6c2bd8a4": {
      "model_module": "@jupyter-widgets/base",
      "model_module_version": "1.0.0",
      "model_name": "LayoutModel",
      "state": {}
     },
     "4cbd970fadb04708b42d7fce7ce5c38d": {
      "model_module": "@jupyter-widgets/controls",
      "model_module_version": "1.1.0",
      "model_name": "IntProgressModel",
      "state": {
       "bar_style": "success",
       "layout": "IPY_MODEL_562b0f5b63b942849125d7bdc8aaf338",
       "max": 41,
       "style": "IPY_MODEL_2eb5e95e2ef0423d84b047f7daf29b5e",
       "value": 41
      }
     },
     "4deb7a7989d34beeac3b795c3b4a7ad0": {
      "model_module": "@jupyter-widgets/controls",
      "model_module_version": "1.1.0",
      "model_name": "ProgressStyleModel",
      "state": {
       "description_width": ""
      }
     },
     "4e4dc7809a804ea78ab266288cdcac20": {
      "model_module": "@jupyter-widgets/base",
      "model_module_version": "1.0.0",
      "model_name": "LayoutModel",
      "state": {}
     },
     "4eefc45faa9f4ee4b687d5cef8b09936": {
      "model_module": "@jupyter-widgets/controls",
      "model_module_version": "1.1.0",
      "model_name": "ProgressStyleModel",
      "state": {
       "description_width": ""
      }
     },
     "50be5d3e49d94ac3a7c4f613da3cc499": {
      "model_module": "@jupyter-widgets/controls",
      "model_module_version": "1.1.0",
      "model_name": "HBoxModel",
      "state": {
       "children": [
        "IPY_MODEL_bebf8676f4a644a4a7779f1940a66d9c",
        "IPY_MODEL_ea977314e8c84bb2b6ab8f5f55e09624"
       ],
       "layout": "IPY_MODEL_23681f0d28394cbc8bd8ec855f51e611"
      }
     },
     "5119dbc3d117425db472a2f8b6ae3218": {
      "model_module": "@jupyter-widgets/controls",
      "model_module_version": "1.1.0",
      "model_name": "HBoxModel",
      "state": {
       "children": [
        "IPY_MODEL_e7e151a53b55479f835bd2d4423fbb06",
        "IPY_MODEL_21f7e3858f3d407499ea523550772e0d"
       ],
       "layout": "IPY_MODEL_b05cc5ffb1bd4acfb58a8b1d888133e8"
      }
     },
     "51270ca5b6d445f38772b90f8f9e8e4d": {
      "model_module": "@jupyter-widgets/controls",
      "model_module_version": "1.1.0",
      "model_name": "DescriptionStyleModel",
      "state": {
       "description_width": ""
      }
     },
     "51adfb0d63be48bcbf581f53299460c0": {
      "model_module": "@jupyter-widgets/controls",
      "model_module_version": "1.1.0",
      "model_name": "IntProgressModel",
      "state": {
       "bar_style": "success",
       "layout": "IPY_MODEL_121c0855a2d24d61942f51a50c1e5c29",
       "max": 41,
       "style": "IPY_MODEL_54ef7d035b4b48a0b5772c963133bcf1",
       "value": 41
      }
     },
     "51c22cbe7a48421ab05eaf7ff858a482": {
      "model_module": "@jupyter-widgets/base",
      "model_module_version": "1.0.0",
      "model_name": "LayoutModel",
      "state": {}
     },
     "52258731db214deea791f4b9a0d4f8c8": {
      "model_module": "@jupyter-widgets/controls",
      "model_module_version": "1.1.0",
      "model_name": "ProgressStyleModel",
      "state": {
       "description_width": ""
      }
     },
     "53f3610889dd471d82327baa93451c0b": {
      "model_module": "@jupyter-widgets/controls",
      "model_module_version": "1.1.0",
      "model_name": "DescriptionStyleModel",
      "state": {
       "description_width": ""
      }
     },
     "544323fc699f40eab9ee1220dbebfd32": {
      "model_module": "@jupyter-widgets/controls",
      "model_module_version": "1.1.0",
      "model_name": "IntProgressModel",
      "state": {
       "bar_style": "danger",
       "layout": "IPY_MODEL_ba068f1aff104f2fb1905783f8d05b64",
       "max": 30,
       "style": "IPY_MODEL_d10ea7d9cf1e4990827b0288ac6bec6f"
      }
     },
     "54ef7d035b4b48a0b5772c963133bcf1": {
      "model_module": "@jupyter-widgets/controls",
      "model_module_version": "1.1.0",
      "model_name": "ProgressStyleModel",
      "state": {
       "description_width": ""
      }
     },
     "55128309a85e4661aee500483b656533": {
      "model_module": "@jupyter-widgets/controls",
      "model_module_version": "1.1.0",
      "model_name": "HTMLModel",
      "state": {
       "layout": "IPY_MODEL_1cc01da6762849178a10e91c17b07071",
       "style": "IPY_MODEL_39ab1f3036ed44af81e90228eb05e3c4",
       "value": "  0% 0/30 [00:00&lt;?, ?it/s]"
      }
     },
     "5567992baad64a4ba7770abca3d59727": {
      "model_module": "@jupyter-widgets/base",
      "model_module_version": "1.0.0",
      "model_name": "LayoutModel",
      "state": {}
     },
     "5581cd0b43cd4f40b257092d22851d52": {
      "model_module": "@jupyter-widgets/base",
      "model_module_version": "1.0.0",
      "model_name": "LayoutModel",
      "state": {}
     },
     "558669fe0fd54b1a9ef18e20fdbf0f46": {
      "model_module": "@jupyter-widgets/controls",
      "model_module_version": "1.1.0",
      "model_name": "DescriptionStyleModel",
      "state": {
       "description_width": ""
      }
     },
     "562b0f5b63b942849125d7bdc8aaf338": {
      "model_module": "@jupyter-widgets/base",
      "model_module_version": "1.0.0",
      "model_name": "LayoutModel",
      "state": {}
     },
     "57635f9221934e3e8a898e0361ef7918": {
      "model_module": "@jupyter-widgets/controls",
      "model_module_version": "1.1.0",
      "model_name": "HTMLModel",
      "state": {
       "layout": "IPY_MODEL_49d319f518f4486e93b774bcec3d7cf1",
       "style": "IPY_MODEL_ffe76efe508640cd8df9d0bbfeaadc87",
       "value": "  0% 0/30 [00:00&lt;?, ?it/s]"
      }
     },
     "585537637add4b2c8dffd2257f3678af": {
      "model_module": "@jupyter-widgets/base",
      "model_module_version": "1.0.0",
      "model_name": "LayoutModel",
      "state": {}
     },
     "59b3712e4d3e45e786afbcbcada7edd8": {
      "model_module": "@jupyter-widgets/controls",
      "model_module_version": "1.1.0",
      "model_name": "HBoxModel",
      "state": {
       "children": [
        "IPY_MODEL_7d53fb70e8c84453aca2d0f81ade4d70",
        "IPY_MODEL_96a8553b282146fd8022f665bde82dbf"
       ],
       "layout": "IPY_MODEL_2c817c29d01a4a749c2b1d64458f46de"
      }
     },
     "5a53aee9d31d45e681441a3acd70980d": {
      "model_module": "@jupyter-widgets/controls",
      "model_module_version": "1.1.0",
      "model_name": "DescriptionStyleModel",
      "state": {
       "description_width": ""
      }
     },
     "5c2c6d23faa04baaafc809ed4929e193": {
      "model_module": "@jupyter-widgets/base",
      "model_module_version": "1.0.0",
      "model_name": "LayoutModel",
      "state": {}
     },
     "5c9eb68dda504b3fb9df130d0658077c": {
      "model_module": "@jupyter-widgets/base",
      "model_module_version": "1.0.0",
      "model_name": "LayoutModel",
      "state": {}
     },
     "5ce1f9bb49964396b2f00cc8af6f0c44": {
      "model_module": "@jupyter-widgets/controls",
      "model_module_version": "1.1.0",
      "model_name": "DescriptionStyleModel",
      "state": {
       "description_width": ""
      }
     },
     "5d7815526e214bae8e876598a483018f": {
      "model_module": "@jupyter-widgets/base",
      "model_module_version": "1.0.0",
      "model_name": "LayoutModel",
      "state": {}
     },
     "5d87d8a171e04fcb99db3e936f4913a6": {
      "model_module": "@jupyter-widgets/controls",
      "model_module_version": "1.1.0",
      "model_name": "IntProgressModel",
      "state": {
       "bar_style": "success",
       "layout": "IPY_MODEL_c7eec37affbd491cb87401e76419222f",
       "max": 41,
       "style": "IPY_MODEL_709cdc4db76e4ff09a7355f96a19dd68",
       "value": 41
      }
     },
     "5e1bdcb45bd5490d93175d9e520c3d22": {
      "model_module": "@jupyter-widgets/base",
      "model_module_version": "1.0.0",
      "model_name": "LayoutModel",
      "state": {}
     },
     "5e35b28e8a07450893fb42ca3a306870": {
      "model_module": "@jupyter-widgets/controls",
      "model_module_version": "1.1.0",
      "model_name": "IntProgressModel",
      "state": {
       "bar_style": "success",
       "layout": "IPY_MODEL_618ab756a54c4320a15824122bd316f1",
       "max": 30,
       "style": "IPY_MODEL_a43fa9c1e9224f9491d2e1ce908412f2",
       "value": 30
      }
     },
     "5fb19646b51a4b07aaac9f064555ee32": {
      "model_module": "@jupyter-widgets/controls",
      "model_module_version": "1.1.0",
      "model_name": "ProgressStyleModel",
      "state": {
       "description_width": ""
      }
     },
     "5fcbe9c049f6452f8886476eb3601bd6": {
      "model_module": "@jupyter-widgets/base",
      "model_module_version": "1.0.0",
      "model_name": "LayoutModel",
      "state": {}
     },
     "601e1fd22a764e9eb7916e09a66644d7": {
      "model_module": "@jupyter-widgets/controls",
      "model_module_version": "1.1.0",
      "model_name": "HBoxModel",
      "state": {
       "children": [
        "IPY_MODEL_4cbd970fadb04708b42d7fce7ce5c38d",
        "IPY_MODEL_262c6264912f46e1a9589a21aed4e4ed"
       ],
       "layout": "IPY_MODEL_4c0edc0d03cd434bbfefa90a6c2bd8a4"
      }
     },
     "605877e612c2458c9d6e3fb5b8042d23": {
      "model_module": "@jupyter-widgets/controls",
      "model_module_version": "1.1.0",
      "model_name": "HTMLModel",
      "state": {
       "layout": "IPY_MODEL_7d1543d638f146319d536d7224443866",
       "style": "IPY_MODEL_ce7ea71f18194689b19e1c7eda52023b",
       "value": "100% 41/41 [00:02&lt;00:00, 17.80it/s]"
      }
     },
     "60a4f9154cef4e6ea5cd39640548aee1": {
      "model_module": "@jupyter-widgets/controls",
      "model_module_version": "1.1.0",
      "model_name": "DescriptionStyleModel",
      "state": {
       "description_width": ""
      }
     },
     "60f769047eb0475d9f7686104d164fef": {
      "model_module": "@jupyter-widgets/base",
      "model_module_version": "1.0.0",
      "model_name": "LayoutModel",
      "state": {}
     },
     "61166a0c1d9543a2afc3c0afcc03079f": {
      "model_module": "@jupyter-widgets/controls",
      "model_module_version": "1.1.0",
      "model_name": "HBoxModel",
      "state": {
       "children": [
        "IPY_MODEL_68c9d51538cb48ca9729440794a5ba9f",
        "IPY_MODEL_a18b44fc170f4c3dba00e28aab484a71"
       ],
       "layout": "IPY_MODEL_1726618816b948dea8ba5df41693ed54"
      }
     },
     "616cec472be14a0b9856d04156a6d74b": {
      "model_module": "@jupyter-widgets/controls",
      "model_module_version": "1.1.0",
      "model_name": "HTMLModel",
      "state": {
       "layout": "IPY_MODEL_0646a3d79c2c45299dbf1d49d51f8035",
       "style": "IPY_MODEL_fd0adb100f7c462c8e7a68cbf206b672",
       "value": "100% 41/41 [00:01&lt;00:00, 30.04it/s]"
      }
     },
     "6179de7540cd450092bce089d28c4b74": {
      "model_module": "@jupyter-widgets/controls",
      "model_module_version": "1.1.0",
      "model_name": "HBoxModel",
      "state": {
       "children": [
        "IPY_MODEL_24ef891505f144e7a0f9a47df31ab0b3",
        "IPY_MODEL_2e12eca5ddb1460eb46c38e8022439e9"
       ],
       "layout": "IPY_MODEL_461c6ff88fe54e7887e11b956a8ad09f"
      }
     },
     "618ab756a54c4320a15824122bd316f1": {
      "model_module": "@jupyter-widgets/base",
      "model_module_version": "1.0.0",
      "model_name": "LayoutModel",
      "state": {}
     },
     "61fb88974f82483ba3717a6ffcb96dfb": {
      "model_module": "@jupyter-widgets/base",
      "model_module_version": "1.0.0",
      "model_name": "LayoutModel",
      "state": {}
     },
     "622992f451c5441c9cb8f875d580809d": {
      "model_module": "@jupyter-widgets/base",
      "model_module_version": "1.0.0",
      "model_name": "LayoutModel",
      "state": {}
     },
     "62f69c412cd74d7a93bd3308f7066f2a": {
      "model_module": "@jupyter-widgets/base",
      "model_module_version": "1.0.0",
      "model_name": "LayoutModel",
      "state": {}
     },
     "62fb90521af84739ae21c82c85ffd9cb": {
      "model_module": "@jupyter-widgets/controls",
      "model_module_version": "1.1.0",
      "model_name": "HBoxModel",
      "state": {
       "children": [
        "IPY_MODEL_e81317a3f6c941cca7b7e9a7eb51405f",
        "IPY_MODEL_d4a10e80fd3743bba60e193100491a86"
       ],
       "layout": "IPY_MODEL_62f69c412cd74d7a93bd3308f7066f2a"
      }
     },
     "64b7d2f8700946a0952596001bf9b08c": {
      "model_module": "@jupyter-widgets/base",
      "model_module_version": "1.0.0",
      "model_name": "LayoutModel",
      "state": {}
     },
     "64dfe0f56f7640ef9444165c87e55348": {
      "model_module": "@jupyter-widgets/controls",
      "model_module_version": "1.1.0",
      "model_name": "DescriptionStyleModel",
      "state": {
       "description_width": ""
      }
     },
     "660a0754e59643ef9bac6e0a7ec9dd96": {
      "model_module": "@jupyter-widgets/controls",
      "model_module_version": "1.1.0",
      "model_name": "ProgressStyleModel",
      "state": {
       "description_width": ""
      }
     },
     "66bed0e6aac84b78928f879cdcfdc3ae": {
      "model_module": "@jupyter-widgets/controls",
      "model_module_version": "1.1.0",
      "model_name": "ProgressStyleModel",
      "state": {
       "description_width": ""
      }
     },
     "672c77e4aa4c42b7a5bd501a122ff1b5": {
      "model_module": "@jupyter-widgets/controls",
      "model_module_version": "1.1.0",
      "model_name": "HBoxModel",
      "state": {
       "children": [
        "IPY_MODEL_db59bbb1282e42368a7ee0b957710895",
        "IPY_MODEL_40b6d1f6670d4b71ad9b58114664ba62"
       ],
       "layout": "IPY_MODEL_705b1c20e46c4a60b901f74453c6a79c"
      }
     },
     "67c7b3d6daf140e9acf419975ac7a479": {
      "model_module": "@jupyter-widgets/controls",
      "model_module_version": "1.1.0",
      "model_name": "DescriptionStyleModel",
      "state": {
       "description_width": ""
      }
     },
     "6893a493ba874c9f827fdcd193f06709": {
      "model_module": "@jupyter-widgets/base",
      "model_module_version": "1.0.0",
      "model_name": "LayoutModel",
      "state": {}
     },
     "68c9d51538cb48ca9729440794a5ba9f": {
      "model_module": "@jupyter-widgets/controls",
      "model_module_version": "1.1.0",
      "model_name": "IntProgressModel",
      "state": {
       "bar_style": "success",
       "layout": "IPY_MODEL_bd0f407761264de1a24b9898bac6a1b7",
       "max": 41,
       "style": "IPY_MODEL_e1fc708561364e37aabf008e620428ef",
       "value": 41
      }
     },
     "69342cfd5a264ae5829c750aba0b6f4b": {
      "model_module": "@jupyter-widgets/base",
      "model_module_version": "1.0.0",
      "model_name": "LayoutModel",
      "state": {}
     },
     "69a97ffe3b70482f9970cacab61bf4ad": {
      "model_module": "@jupyter-widgets/base",
      "model_module_version": "1.0.0",
      "model_name": "LayoutModel",
      "state": {}
     },
     "6a99adeeb0cc4169b0b9cf80ecf2990a": {
      "model_module": "@jupyter-widgets/controls",
      "model_module_version": "1.1.0",
      "model_name": "ProgressStyleModel",
      "state": {
       "description_width": ""
      }
     },
     "6af3532eedd34339a2aaafa22166e8fe": {
      "model_module": "@jupyter-widgets/base",
      "model_module_version": "1.0.0",
      "model_name": "LayoutModel",
      "state": {}
     },
     "6d01a63aa64e4aeda17f33ac2f6dabe3": {
      "model_module": "@jupyter-widgets/controls",
      "model_module_version": "1.1.0",
      "model_name": "HTMLModel",
      "state": {
       "layout": "IPY_MODEL_9034cbe730d74ecc8640799260c98d57",
       "style": "IPY_MODEL_c9b85d36756e410a84e482c8482cd3a1",
       "value": "100% 30/30 [00:03&lt;00:00,  9.09it/s]"
      }
     },
     "6da668e61ff548bcab9dbbe995b4330f": {
      "model_module": "@jupyter-widgets/controls",
      "model_module_version": "1.1.0",
      "model_name": "HBoxModel",
      "state": {
       "children": [
        "IPY_MODEL_f68f8cfdf04e4232992cc9e76c100d8f",
        "IPY_MODEL_b745ff4f488447a7b17badd5286037c6"
       ],
       "layout": "IPY_MODEL_080cb2f2167c44709c0e1f888156ead2"
      }
     },
     "6e3d478b54a74d9db42207d70b95f436": {
      "model_module": "@jupyter-widgets/controls",
      "model_module_version": "1.1.0",
      "model_name": "DescriptionStyleModel",
      "state": {
       "description_width": ""
      }
     },
     "6e74b6f31173404fb7ef069eb499936b": {
      "model_module": "@jupyter-widgets/base",
      "model_module_version": "1.0.0",
      "model_name": "LayoutModel",
      "state": {}
     },
     "705b1c20e46c4a60b901f74453c6a79c": {
      "model_module": "@jupyter-widgets/base",
      "model_module_version": "1.0.0",
      "model_name": "LayoutModel",
      "state": {}
     },
     "709cdc4db76e4ff09a7355f96a19dd68": {
      "model_module": "@jupyter-widgets/controls",
      "model_module_version": "1.1.0",
      "model_name": "ProgressStyleModel",
      "state": {
       "description_width": ""
      }
     },
     "70eadd196a744985bad68973f77dc6a9": {
      "model_module": "@jupyter-widgets/controls",
      "model_module_version": "1.1.0",
      "model_name": "IntProgressModel",
      "state": {
       "bar_style": "success",
       "layout": "IPY_MODEL_8dc339e0e3cc4c77954dd76b1571799b",
       "max": 41,
       "style": "IPY_MODEL_660a0754e59643ef9bac6e0a7ec9dd96",
       "value": 41
      }
     },
     "717423d8eb1b45f3ba7e17acacba835b": {
      "model_module": "@jupyter-widgets/controls",
      "model_module_version": "1.1.0",
      "model_name": "HBoxModel",
      "state": {
       "children": [
        "IPY_MODEL_f7f400c783fe4e0b8294eeebf0683018",
        "IPY_MODEL_3a8b6c37294c4d8b91ffdd2b0135f94c"
       ],
       "layout": "IPY_MODEL_cae92ac0caff4a4bbf3fe55961cf06bf"
      }
     },
     "734b0d53213f4d71b4109c76553db211": {
      "model_module": "@jupyter-widgets/base",
      "model_module_version": "1.0.0",
      "model_name": "LayoutModel",
      "state": {}
     },
     "7386b20b5b0f4eab8d081d3d0861c2a3": {
      "model_module": "@jupyter-widgets/base",
      "model_module_version": "1.0.0",
      "model_name": "LayoutModel",
      "state": {}
     },
     "7485be91078d469181549579a4da73cc": {
      "model_module": "@jupyter-widgets/controls",
      "model_module_version": "1.1.0",
      "model_name": "HTMLModel",
      "state": {
       "layout": "IPY_MODEL_bdd2e21f99cc4c9c833681d038e5c495",
       "style": "IPY_MODEL_a42e8c353bf3493fb2288103cfb1aec7",
       "value": "100% 30/30 [00:01&lt;00:00, 22.61it/s]"
      }
     },
     "75056c1443ac4f1dbbffe7ba4bb64646": {
      "model_module": "@jupyter-widgets/controls",
      "model_module_version": "1.1.0",
      "model_name": "IntProgressModel",
      "state": {
       "bar_style": "danger",
       "layout": "IPY_MODEL_0b8db65db4c34933bd2ef05fc5b94dee",
       "max": 30,
       "style": "IPY_MODEL_4deb7a7989d34beeac3b795c3b4a7ad0"
      }
     },
     "7575d59a9b394650beb7b8f70f1342f6": {
      "model_module": "@jupyter-widgets/controls",
      "model_module_version": "1.1.0",
      "model_name": "HBoxModel",
      "state": {
       "children": [
        "IPY_MODEL_f6955500c9254fd091aad60f64aeb9dd",
        "IPY_MODEL_7485be91078d469181549579a4da73cc"
       ],
       "layout": "IPY_MODEL_10f889b4506340e48885bc35e3e0140c"
      }
     },
     "75c6b2f694c042b8ba45b8f41c96da8f": {
      "model_module": "@jupyter-widgets/base",
      "model_module_version": "1.0.0",
      "model_name": "LayoutModel",
      "state": {}
     },
     "76830af5677a4960a36517bdd005fea6": {
      "model_module": "@jupyter-widgets/base",
      "model_module_version": "1.0.0",
      "model_name": "LayoutModel",
      "state": {}
     },
     "7753f597daf04db3b34bbf274981939b": {
      "model_module": "@jupyter-widgets/controls",
      "model_module_version": "1.1.0",
      "model_name": "DescriptionStyleModel",
      "state": {
       "description_width": ""
      }
     },
     "77c3101fd4924059b14b58ed96553ea1": {
      "model_module": "@jupyter-widgets/controls",
      "model_module_version": "1.1.0",
      "model_name": "IntProgressModel",
      "state": {
       "bar_style": "success",
       "layout": "IPY_MODEL_ebb9b3305d6b4148b898f57786fc94b7",
       "max": 30,
       "style": "IPY_MODEL_f29aa3dc72d443399f5256b30eea79a1",
       "value": 30
      }
     },
     "77ec7759db22474b8309af7e18e4e008": {
      "model_module": "@jupyter-widgets/controls",
      "model_module_version": "1.1.0",
      "model_name": "HBoxModel",
      "state": {
       "children": [
        "IPY_MODEL_86b8532c91b04eb989a4a36242e1c09e",
        "IPY_MODEL_98905612a06f428bbfc062f0cbff48a5"
       ],
       "layout": "IPY_MODEL_a39f28af0eb4473c80f0c5b9c63f5bca"
      }
     },
     "786dea337d184f12a20d52f134a2f378": {
      "model_module": "@jupyter-widgets/base",
      "model_module_version": "1.0.0",
      "model_name": "LayoutModel",
      "state": {}
     },
     "7983ecad98254e05a08bfa6f8011438e": {
      "model_module": "@jupyter-widgets/controls",
      "model_module_version": "1.1.0",
      "model_name": "HTMLModel",
      "state": {
       "layout": "IPY_MODEL_0f138947133a438ea84313c13853c044",
       "style": "IPY_MODEL_5a53aee9d31d45e681441a3acd70980d",
       "value": "100% 41/41 [00:01&lt;00:00, 32.36it/s]"
      }
     },
     "79bb277e25bf408ca5d2001bb0a6d6b2": {
      "model_module": "@jupyter-widgets/controls",
      "model_module_version": "1.1.0",
      "model_name": "HBoxModel",
      "state": {
       "children": [
        "IPY_MODEL_d329e4aa8d744b3082198cc585125707",
        "IPY_MODEL_16edc8a58bef4f07a384694c1e5b5201"
       ],
       "layout": "IPY_MODEL_585537637add4b2c8dffd2257f3678af"
      }
     },
     "7b5c86efc687422ea37bb511ce2faccf": {
      "model_module": "@jupyter-widgets/base",
      "model_module_version": "1.0.0",
      "model_name": "LayoutModel",
      "state": {}
     },
     "7b88eee2b6064c7481dfc4bd00b1ffa2": {
      "model_module": "@jupyter-widgets/base",
      "model_module_version": "1.0.0",
      "model_name": "LayoutModel",
      "state": {}
     },
     "7c25dfb58a0949e08c4a2863a22c53eb": {
      "model_module": "@jupyter-widgets/base",
      "model_module_version": "1.0.0",
      "model_name": "LayoutModel",
      "state": {}
     },
     "7d1543d638f146319d536d7224443866": {
      "model_module": "@jupyter-widgets/base",
      "model_module_version": "1.0.0",
      "model_name": "LayoutModel",
      "state": {}
     },
     "7d1cf082d3bc431f91c6a1dd73eb5596": {
      "model_module": "@jupyter-widgets/controls",
      "model_module_version": "1.1.0",
      "model_name": "IntProgressModel",
      "state": {
       "bar_style": "success",
       "layout": "IPY_MODEL_feb83d10ed314347b9eb5504c37aeb57",
       "max": 41,
       "style": "IPY_MODEL_26bef1d9bce845aca4176c084e2feac8",
       "value": 41
      }
     },
     "7d53fb70e8c84453aca2d0f81ade4d70": {
      "model_module": "@jupyter-widgets/controls",
      "model_module_version": "1.1.0",
      "model_name": "IntProgressModel",
      "state": {
       "bar_style": "success",
       "layout": "IPY_MODEL_904ff5d878b64432937be4069f0b5c96",
       "max": 30,
       "style": "IPY_MODEL_42b6a53a7a4745c1be8e9b7edf17196b",
       "value": 30
      }
     },
     "7e43bbcd387348e98092753f44d1943b": {
      "model_module": "@jupyter-widgets/controls",
      "model_module_version": "1.1.0",
      "model_name": "ProgressStyleModel",
      "state": {
       "description_width": ""
      }
     },
     "7fa3954edfce4e26988cb494a36ea2d8": {
      "model_module": "@jupyter-widgets/controls",
      "model_module_version": "1.1.0",
      "model_name": "HTMLModel",
      "state": {
       "layout": "IPY_MODEL_c357ca854a764aaa982d590c1f94bdcc",
       "style": "IPY_MODEL_b39d0d70ba7b4f2a812c367bab4fde44",
       "value": "100% 41/41 [00:01&lt;00:00, 27.11it/s]"
      }
     },
     "80de2b9608644a728e0b39a2234e4be6": {
      "model_module": "@jupyter-widgets/controls",
      "model_module_version": "1.1.0",
      "model_name": "HTMLModel",
      "state": {
       "layout": "IPY_MODEL_9b496963c3a3421aab447b417a62d7bf",
       "style": "IPY_MODEL_1c8c2df6c36341a19bb0066f83fb8f02",
       "value": "  0% 0/30 [00:00&lt;?, ?it/s]"
      }
     },
     "8317b8f558a845babf1d16d377d91cbd": {
      "model_module": "@jupyter-widgets/base",
      "model_module_version": "1.0.0",
      "model_name": "LayoutModel",
      "state": {}
     },
     "836698f67897454c85fad365e490edf6": {
      "model_module": "@jupyter-widgets/controls",
      "model_module_version": "1.1.0",
      "model_name": "DescriptionStyleModel",
      "state": {
       "description_width": ""
      }
     },
     "84fa250e77ab4702b9fe8e4b3902770e": {
      "model_module": "@jupyter-widgets/controls",
      "model_module_version": "1.1.0",
      "model_name": "ProgressStyleModel",
      "state": {
       "description_width": ""
      }
     },
     "850532171d004ac7b27fd5dbdaaba421": {
      "model_module": "@jupyter-widgets/controls",
      "model_module_version": "1.1.0",
      "model_name": "IntProgressModel",
      "state": {
       "bar_style": "success",
       "layout": "IPY_MODEL_efc6370cb19b41859eb2e0c340a7d884",
       "max": 30,
       "style": "IPY_MODEL_9e65560082084e8b83ee032c20bf42ed",
       "value": 30
      }
     },
     "862ff703e6664cb1b08f9517f692171e": {
      "model_module": "@jupyter-widgets/controls",
      "model_module_version": "1.1.0",
      "model_name": "HBoxModel",
      "state": {
       "children": [
        "IPY_MODEL_381cbbd20b7441638b39ef9ca6f7f9ff",
        "IPY_MODEL_afb6a43ee16e49389bc93d65c01a80b5"
       ],
       "layout": "IPY_MODEL_75c6b2f694c042b8ba45b8f41c96da8f"
      }
     },
     "86b8532c91b04eb989a4a36242e1c09e": {
      "model_module": "@jupyter-widgets/controls",
      "model_module_version": "1.1.0",
      "model_name": "IntProgressModel",
      "state": {
       "bar_style": "success",
       "layout": "IPY_MODEL_e35d5e5f66d2489b8b1163e1ff8852f6",
       "max": 30,
       "style": "IPY_MODEL_1147f14d3f5a40e691512ca5c141c3bb",
       "value": 30
      }
     },
     "8861c5f8222b411eb286506ab15a1854": {
      "model_module": "@jupyter-widgets/base",
      "model_module_version": "1.0.0",
      "model_name": "LayoutModel",
      "state": {}
     },
     "891397ae9f1e4b61ad49ab324bcd802a": {
      "model_module": "@jupyter-widgets/base",
      "model_module_version": "1.0.0",
      "model_name": "LayoutModel",
      "state": {}
     },
     "89842751bb72479a8bd29ab112b33971": {
      "model_module": "@jupyter-widgets/controls",
      "model_module_version": "1.1.0",
      "model_name": "DescriptionStyleModel",
      "state": {
       "description_width": ""
      }
     },
     "89edcc0c31b04254a5350cc5de995006": {
      "model_module": "@jupyter-widgets/controls",
      "model_module_version": "1.1.0",
      "model_name": "HBoxModel",
      "state": {
       "children": [
        "IPY_MODEL_7d1cf082d3bc431f91c6a1dd73eb5596",
        "IPY_MODEL_3baa29d214cd408ea6915dcf17f0a55e"
       ],
       "layout": "IPY_MODEL_2a8474cadd354475a3135b628f7f746f"
      }
     },
     "8a17f7c2ea014e50b1fb021e4152364e": {
      "model_module": "@jupyter-widgets/base",
      "model_module_version": "1.0.0",
      "model_name": "LayoutModel",
      "state": {}
     },
     "8a534efad4e541e58a695ee69e181581": {
      "model_module": "@jupyter-widgets/base",
      "model_module_version": "1.0.0",
      "model_name": "LayoutModel",
      "state": {}
     },
     "8aba9257ebc942a5adb2a03994b35628": {
      "model_module": "@jupyter-widgets/base",
      "model_module_version": "1.0.0",
      "model_name": "LayoutModel",
      "state": {}
     },
     "8af9f92c877142a0b4660d46e43a9fa2": {
      "model_module": "@jupyter-widgets/base",
      "model_module_version": "1.0.0",
      "model_name": "LayoutModel",
      "state": {}
     },
     "8afffba1027a45cc92b1bf62a4266cb0": {
      "model_module": "@jupyter-widgets/controls",
      "model_module_version": "1.1.0",
      "model_name": "IntProgressModel",
      "state": {
       "bar_style": "success",
       "layout": "IPY_MODEL_76830af5677a4960a36517bdd005fea6",
       "max": 41,
       "style": "IPY_MODEL_02b97111654948caab33746e10b4513c",
       "value": 41
      }
     },
     "8b34c05ee7d44129adf3633470090b88": {
      "model_module": "@jupyter-widgets/controls",
      "model_module_version": "1.1.0",
      "model_name": "DescriptionStyleModel",
      "state": {
       "description_width": ""
      }
     },
     "8b38fe6a03bb417ca5dd8c72e4557767": {
      "model_module": "@jupyter-widgets/controls",
      "model_module_version": "1.1.0",
      "model_name": "ProgressStyleModel",
      "state": {
       "description_width": ""
      }
     },
     "8b7d91e205074da2aea13f9cdd65e909": {
      "model_module": "@jupyter-widgets/base",
      "model_module_version": "1.0.0",
      "model_name": "LayoutModel",
      "state": {}
     },
     "8bd4875f2dbe451d8d81aed93ea97548": {
      "model_module": "@jupyter-widgets/controls",
      "model_module_version": "1.1.0",
      "model_name": "ProgressStyleModel",
      "state": {
       "description_width": ""
      }
     },
     "8c522823db734702b1951158f1eac82b": {
      "model_module": "@jupyter-widgets/controls",
      "model_module_version": "1.1.0",
      "model_name": "IntProgressModel",
      "state": {
       "bar_style": "danger",
       "layout": "IPY_MODEL_8cef93424e734736a435496f15794791",
       "max": 30,
       "style": "IPY_MODEL_d59bdfdb8ad240b599494307eb800a56"
      }
     },
     "8cef93424e734736a435496f15794791": {
      "model_module": "@jupyter-widgets/base",
      "model_module_version": "1.0.0",
      "model_name": "LayoutModel",
      "state": {}
     },
     "8d029d0656944eb787860c12731da9fa": {
      "model_module": "@jupyter-widgets/controls",
      "model_module_version": "1.1.0",
      "model_name": "IntProgressModel",
      "state": {
       "bar_style": "success",
       "layout": "IPY_MODEL_5581cd0b43cd4f40b257092d22851d52",
       "max": 41,
       "style": "IPY_MODEL_e764fd50a8944bfe816b6ba78efa3471",
       "value": 41
      }
     },
     "8d1e435bf32f4661acc8ff4737d5df32": {
      "model_module": "@jupyter-widgets/controls",
      "model_module_version": "1.1.0",
      "model_name": "HBoxModel",
      "state": {
       "children": [
        "IPY_MODEL_48f01e3169e54cd3be0451466b39f09c",
        "IPY_MODEL_c13cda1cb3de4382ba8d70d1abe21ae0"
       ],
       "layout": "IPY_MODEL_32eb3e20795e45708a4fa63bd2e41ea9"
      }
     },
     "8d3a3598e1e1463f913ee2a6f4922a27": {
      "model_module": "@jupyter-widgets/controls",
      "model_module_version": "1.1.0",
      "model_name": "IntProgressModel",
      "state": {
       "bar_style": "danger",
       "layout": "IPY_MODEL_955d11caa9e5452b9318a51c5515a91e",
       "max": 30,
       "style": "IPY_MODEL_52258731db214deea791f4b9a0d4f8c8"
      }
     },
     "8dc339e0e3cc4c77954dd76b1571799b": {
      "model_module": "@jupyter-widgets/base",
      "model_module_version": "1.0.0",
      "model_name": "LayoutModel",
      "state": {}
     },
     "8e5d598232ab47d7bec60fd62ad0e22f": {
      "model_module": "@jupyter-widgets/controls",
      "model_module_version": "1.1.0",
      "model_name": "IntProgressModel",
      "state": {
       "bar_style": "danger",
       "layout": "IPY_MODEL_4e4dc7809a804ea78ab266288cdcac20",
       "max": 30,
       "style": "IPY_MODEL_289b776d562241e4b9b91e22935c3094"
      }
     },
     "9034cbe730d74ecc8640799260c98d57": {
      "model_module": "@jupyter-widgets/base",
      "model_module_version": "1.0.0",
      "model_name": "LayoutModel",
      "state": {}
     },
     "904ff5d878b64432937be4069f0b5c96": {
      "model_module": "@jupyter-widgets/base",
      "model_module_version": "1.0.0",
      "model_name": "LayoutModel",
      "state": {}
     },
     "93504b3ca84440a3b32a1999ee237842": {
      "model_module": "@jupyter-widgets/controls",
      "model_module_version": "1.1.0",
      "model_name": "HTMLModel",
      "state": {
       "layout": "IPY_MODEL_1e40e0ecad2541239b8e85abeb898d3e",
       "style": "IPY_MODEL_2d9b13dcb24d4f4bbda7c41c692b2d8b",
       "value": "100% 30/30 [00:01&lt;00:00, 20.27it/s]"
      }
     },
     "93d117e453fd4aa5ba0eac1364bcdae4": {
      "model_module": "@jupyter-widgets/controls",
      "model_module_version": "1.1.0",
      "model_name": "HBoxModel",
      "state": {
       "children": [
        "IPY_MODEL_d1d965948c8c47f7ad8f514c853213d8",
        "IPY_MODEL_2b77a5c4520740c5952ed955a71e379c"
       ],
       "layout": "IPY_MODEL_f9e24f8932fb4295be0b9d1d7d76591a"
      }
     },
     "94a880a043e74303941c925aaf0b4ecd": {
      "model_module": "@jupyter-widgets/controls",
      "model_module_version": "1.1.0",
      "model_name": "ProgressStyleModel",
      "state": {
       "description_width": ""
      }
     },
     "954b96ab94344c998ffaaf62056e98f9": {
      "model_module": "@jupyter-widgets/base",
      "model_module_version": "1.0.0",
      "model_name": "LayoutModel",
      "state": {}
     },
     "955d11caa9e5452b9318a51c5515a91e": {
      "model_module": "@jupyter-widgets/base",
      "model_module_version": "1.0.0",
      "model_name": "LayoutModel",
      "state": {}
     },
     "96a33137563448179b2357e6f395f267": {
      "model_module": "@jupyter-widgets/base",
      "model_module_version": "1.0.0",
      "model_name": "LayoutModel",
      "state": {}
     },
     "96a8553b282146fd8022f665bde82dbf": {
      "model_module": "@jupyter-widgets/controls",
      "model_module_version": "1.1.0",
      "model_name": "HTMLModel",
      "state": {
       "layout": "IPY_MODEL_a68a9576c7af437d844a8d23ad304138",
       "style": "IPY_MODEL_ffa7db63de1b4b73b8b46b520c9ff1cc",
       "value": "100% 30/30 [00:01&lt;00:00, 22.71it/s]"
      }
     },
     "96b454f3e0d84903961117588078bd54": {
      "model_module": "@jupyter-widgets/base",
      "model_module_version": "1.0.0",
      "model_name": "LayoutModel",
      "state": {}
     },
     "98905612a06f428bbfc062f0cbff48a5": {
      "model_module": "@jupyter-widgets/controls",
      "model_module_version": "1.1.0",
      "model_name": "HTMLModel",
      "state": {
       "layout": "IPY_MODEL_a435df579f3a4e85ae69a1d2029217c1",
       "style": "IPY_MODEL_3352fda540c2431ba39d3c1954fbf5ac",
       "value": "100% 30/30 [00:01&lt;00:00, 18.88it/s]"
      }
     },
     "9936d4801ba849cdb3e9d3f60550af06": {
      "model_module": "@jupyter-widgets/base",
      "model_module_version": "1.0.0",
      "model_name": "LayoutModel",
      "state": {}
     },
     "9b3c5b8140494b7eb2a7217ce378d713": {
      "model_module": "@jupyter-widgets/base",
      "model_module_version": "1.0.0",
      "model_name": "LayoutModel",
      "state": {}
     },
     "9b496963c3a3421aab447b417a62d7bf": {
      "model_module": "@jupyter-widgets/base",
      "model_module_version": "1.0.0",
      "model_name": "LayoutModel",
      "state": {}
     },
     "9bffa461bc3d4407aeaf8fd34ac87cd0": {
      "model_module": "@jupyter-widgets/controls",
      "model_module_version": "1.1.0",
      "model_name": "HBoxModel",
      "state": {
       "children": [
        "IPY_MODEL_c67b884f865f4b34867d08debb859de7",
        "IPY_MODEL_6d01a63aa64e4aeda17f33ac2f6dabe3"
       ],
       "layout": "IPY_MODEL_116c3762f7914b68a1e7e48c3dffd63f"
      }
     },
     "9c9c1ae2aba94ded9925dc94c957be4f": {
      "model_module": "@jupyter-widgets/controls",
      "model_module_version": "1.1.0",
      "model_name": "HTMLModel",
      "state": {
       "layout": "IPY_MODEL_7386b20b5b0f4eab8d081d3d0861c2a3",
       "style": "IPY_MODEL_3b64086fb67a4e099cc6580646d94016",
       "value": "100% 41/41 [00:01&lt;00:00, 31.94it/s]"
      }
     },
     "9de26d85a54248d2bcec9757942b98b3": {
      "model_module": "@jupyter-widgets/controls",
      "model_module_version": "1.1.0",
      "model_name": "ProgressStyleModel",
      "state": {
       "description_width": ""
      }
     },
     "9e052f48e62b454282b897a214353917": {
      "model_module": "@jupyter-widgets/controls",
      "model_module_version": "1.1.0",
      "model_name": "DescriptionStyleModel",
      "state": {
       "description_width": ""
      }
     },
     "9e65560082084e8b83ee032c20bf42ed": {
      "model_module": "@jupyter-widgets/controls",
      "model_module_version": "1.1.0",
      "model_name": "ProgressStyleModel",
      "state": {
       "description_width": ""
      }
     },
     "9e8c7b2c726a46fb9de6b711f47ece67": {
      "model_module": "@jupyter-widgets/base",
      "model_module_version": "1.0.0",
      "model_name": "LayoutModel",
      "state": {}
     },
     "9e9cffe3a5b048439a509bc497cac8fe": {
      "model_module": "@jupyter-widgets/controls",
      "model_module_version": "1.1.0",
      "model_name": "DescriptionStyleModel",
      "state": {
       "description_width": ""
      }
     },
     "9f2da83569da469ebc6fc728484beae7": {
      "model_module": "@jupyter-widgets/controls",
      "model_module_version": "1.1.0",
      "model_name": "ProgressStyleModel",
      "state": {
       "description_width": ""
      }
     },
     "9f31b1e328524549853be60eb5e7ff5f": {
      "model_module": "@jupyter-widgets/controls",
      "model_module_version": "1.1.0",
      "model_name": "IntProgressModel",
      "state": {
       "bar_style": "danger",
       "layout": "IPY_MODEL_aee6c772dac646a588e4f590609b3f64",
       "max": 30,
       "style": "IPY_MODEL_e346b2f75205438cbdacaaf0c91d1951"
      }
     },
     "9f5d8b9b5b4e4d85881d7aa6bf830b3f": {
      "model_module": "@jupyter-widgets/controls",
      "model_module_version": "1.1.0",
      "model_name": "HBoxModel",
      "state": {
       "children": [
        "IPY_MODEL_edf04281bc744914866da424b5f85870",
        "IPY_MODEL_616cec472be14a0b9856d04156a6d74b"
       ],
       "layout": "IPY_MODEL_6893a493ba874c9f827fdcd193f06709"
      }
     },
     "9fb28313615b44ca9d291e5715d9b72e": {
      "model_module": "@jupyter-widgets/controls",
      "model_module_version": "1.1.0",
      "model_name": "HBoxModel",
      "state": {
       "children": [
        "IPY_MODEL_77c3101fd4924059b14b58ed96553ea1",
        "IPY_MODEL_fe9e0a1c75f84010bc497a9b8a3832bc"
       ],
       "layout": "IPY_MODEL_f67c26db63344a03947557a538640e6f"
      }
     },
     "a016ea31c869403f87c81ad5b13164cd": {
      "model_module": "@jupyter-widgets/controls",
      "model_module_version": "1.1.0",
      "model_name": "HTMLModel",
      "state": {
       "layout": "IPY_MODEL_4841d86cf22e4e2f90292ac5b17f392c",
       "style": "IPY_MODEL_eb49c8779b824e149ea11b7f5d78573a",
       "value": "  0% 0/30 [00:00&lt;?, ?it/s]"
      }
     },
     "a02e9ec81c624f16b168b13768cec7b2": {
      "model_module": "@jupyter-widgets/controls",
      "model_module_version": "1.1.0",
      "model_name": "ProgressStyleModel",
      "state": {
       "description_width": ""
      }
     },
     "a0395eb7488f4adab9dcdb2b6221e52a": {
      "model_module": "@jupyter-widgets/base",
      "model_module_version": "1.0.0",
      "model_name": "LayoutModel",
      "state": {}
     },
     "a0a670b64eda48968f663e9de21d57b4": {
      "model_module": "@jupyter-widgets/controls",
      "model_module_version": "1.1.0",
      "model_name": "HTMLModel",
      "state": {
       "layout": "IPY_MODEL_7b5c86efc687422ea37bb511ce2faccf",
       "style": "IPY_MODEL_67c7b3d6daf140e9acf419975ac7a479",
       "value": "100% 41/41 [00:01&lt;00:00, 24.14it/s]"
      }
     },
     "a11098dd013648d7bf691dc5a4bb61af": {
      "model_module": "@jupyter-widgets/controls",
      "model_module_version": "1.1.0",
      "model_name": "DescriptionStyleModel",
      "state": {
       "description_width": ""
      }
     },
     "a18b44fc170f4c3dba00e28aab484a71": {
      "model_module": "@jupyter-widgets/controls",
      "model_module_version": "1.1.0",
      "model_name": "HTMLModel",
      "state": {
       "layout": "IPY_MODEL_5fcbe9c049f6452f8886476eb3601bd6",
       "style": "IPY_MODEL_c6db036b9b6e4e2d81c52abbbf8cdcd3",
       "value": "100% 41/41 [00:01&lt;00:00, 31.03it/s]"
      }
     },
     "a256611c0d21427ead72d7adf939c505": {
      "model_module": "@jupyter-widgets/controls",
      "model_module_version": "1.1.0",
      "model_name": "ProgressStyleModel",
      "state": {
       "description_width": ""
      }
     },
     "a2850911db954233babfea3071c3b9b1": {
      "model_module": "@jupyter-widgets/controls",
      "model_module_version": "1.1.0",
      "model_name": "DescriptionStyleModel",
      "state": {
       "description_width": ""
      }
     },
     "a33c226ee89d45a5907e48b295061d25": {
      "model_module": "@jupyter-widgets/controls",
      "model_module_version": "1.1.0",
      "model_name": "HBoxModel",
      "state": {
       "children": [
        "IPY_MODEL_544323fc699f40eab9ee1220dbebfd32",
        "IPY_MODEL_55128309a85e4661aee500483b656533"
       ],
       "layout": "IPY_MODEL_3881f28bd5a84011a4c17ae185d9123e"
      }
     },
     "a39f28af0eb4473c80f0c5b9c63f5bca": {
      "model_module": "@jupyter-widgets/base",
      "model_module_version": "1.0.0",
      "model_name": "LayoutModel",
      "state": {}
     },
     "a42e8c353bf3493fb2288103cfb1aec7": {
      "model_module": "@jupyter-widgets/controls",
      "model_module_version": "1.1.0",
      "model_name": "DescriptionStyleModel",
      "state": {
       "description_width": ""
      }
     },
     "a435df579f3a4e85ae69a1d2029217c1": {
      "model_module": "@jupyter-widgets/base",
      "model_module_version": "1.0.0",
      "model_name": "LayoutModel",
      "state": {}
     },
     "a43fa9c1e9224f9491d2e1ce908412f2": {
      "model_module": "@jupyter-widgets/controls",
      "model_module_version": "1.1.0",
      "model_name": "ProgressStyleModel",
      "state": {
       "description_width": ""
      }
     },
     "a49b1e2ac1b24851be236e0cf5b46668": {
      "model_module": "@jupyter-widgets/controls",
      "model_module_version": "1.1.0",
      "model_name": "IntProgressModel",
      "state": {
       "bar_style": "success",
       "layout": "IPY_MODEL_0a17bba10ccd4e4c9969c321d90fb20f",
       "max": 41,
       "style": "IPY_MODEL_c7c0a6eead97457dbeecfc580e0a6acf",
       "value": 41
      }
     },
     "a4ad8180fa5d47aa82cefe6cfb93d0c2": {
      "model_module": "@jupyter-widgets/base",
      "model_module_version": "1.0.0",
      "model_name": "LayoutModel",
      "state": {}
     },
     "a4d4c8937d1d4d9587a4bbcded84c26b": {
      "model_module": "@jupyter-widgets/controls",
      "model_module_version": "1.1.0",
      "model_name": "HBoxModel",
      "state": {
       "children": [
        "IPY_MODEL_f36df7fb3b7c426fb724fd557bd31628",
        "IPY_MODEL_32c15923a47b4b58972f20ce8e509147"
       ],
       "layout": "IPY_MODEL_a4ad8180fa5d47aa82cefe6cfb93d0c2"
      }
     },
     "a62b9ae073e142c68a12622652271466": {
      "model_module": "@jupyter-widgets/controls",
      "model_module_version": "1.1.0",
      "model_name": "IntProgressModel",
      "state": {
       "bar_style": "success",
       "layout": "IPY_MODEL_cd01f93a9bdd44429de9c0c9af1aedb1",
       "max": 41,
       "style": "IPY_MODEL_6a99adeeb0cc4169b0b9cf80ecf2990a",
       "value": 41
      }
     },
     "a66acfd5ce524f34851b12c6324a500b": {
      "model_module": "@jupyter-widgets/controls",
      "model_module_version": "1.1.0",
      "model_name": "ProgressStyleModel",
      "state": {
       "description_width": ""
      }
     },
     "a68a9576c7af437d844a8d23ad304138": {
      "model_module": "@jupyter-widgets/base",
      "model_module_version": "1.0.0",
      "model_name": "LayoutModel",
      "state": {}
     },
     "a6d451dfdebd4ccb88a0c02ca88c1abf": {
      "model_module": "@jupyter-widgets/base",
      "model_module_version": "1.0.0",
      "model_name": "LayoutModel",
      "state": {}
     },
     "a798d7fcca594289863092219cdfb693": {
      "model_module": "@jupyter-widgets/controls",
      "model_module_version": "1.1.0",
      "model_name": "HBoxModel",
      "state": {
       "children": [
        "IPY_MODEL_ecdf4ce8ece845faa935cf5e4d417e26",
        "IPY_MODEL_403b96dd210947ce9e85c9e465cb94f7"
       ],
       "layout": "IPY_MODEL_6e74b6f31173404fb7ef069eb499936b"
      }
     },
     "a8d66ab4250841b8ba3c903e734c145e": {
      "model_module": "@jupyter-widgets/controls",
      "model_module_version": "1.1.0",
      "model_name": "IntProgressModel",
      "state": {
       "bar_style": "danger",
       "layout": "IPY_MODEL_8b7d91e205074da2aea13f9cdd65e909",
       "max": 30,
       "style": "IPY_MODEL_aba0f819ae2b4beb96028acb55664393"
      }
     },
     "aabb03d81178410ba55d73ab977a0331": {
      "model_module": "@jupyter-widgets/controls",
      "model_module_version": "1.1.0",
      "model_name": "DescriptionStyleModel",
      "state": {
       "description_width": ""
      }
     },
     "aba0f819ae2b4beb96028acb55664393": {
      "model_module": "@jupyter-widgets/controls",
      "model_module_version": "1.1.0",
      "model_name": "ProgressStyleModel",
      "state": {
       "description_width": ""
      }
     },
     "aee6c772dac646a588e4f590609b3f64": {
      "model_module": "@jupyter-widgets/base",
      "model_module_version": "1.0.0",
      "model_name": "LayoutModel",
      "state": {}
     },
     "afb6a43ee16e49389bc93d65c01a80b5": {
      "model_module": "@jupyter-widgets/controls",
      "model_module_version": "1.1.0",
      "model_name": "HTMLModel",
      "state": {
       "layout": "IPY_MODEL_31bccd44db9e43d5854b9d66127e734f",
       "style": "IPY_MODEL_836698f67897454c85fad365e490edf6",
       "value": "100% 41/41 [00:02&lt;00:00, 18.42it/s]"
      }
     },
     "b047264e55d04416a571f4ad44ccc757": {
      "model_module": "@jupyter-widgets/controls",
      "model_module_version": "1.1.0",
      "model_name": "HBoxModel",
      "state": {
       "children": [
        "IPY_MODEL_70eadd196a744985bad68973f77dc6a9",
        "IPY_MODEL_9c9c1ae2aba94ded9925dc94c957be4f"
       ],
       "layout": "IPY_MODEL_b141977bc9964b8ab6173978597f956b"
      }
     },
     "b05cc5ffb1bd4acfb58a8b1d888133e8": {
      "model_module": "@jupyter-widgets/base",
      "model_module_version": "1.0.0",
      "model_name": "LayoutModel",
      "state": {}
     },
     "b11f77343ef44957937222fc6febecd3": {
      "model_module": "@jupyter-widgets/base",
      "model_module_version": "1.0.0",
      "model_name": "LayoutModel",
      "state": {}
     },
     "b141977bc9964b8ab6173978597f956b": {
      "model_module": "@jupyter-widgets/base",
      "model_module_version": "1.0.0",
      "model_name": "LayoutModel",
      "state": {}
     },
     "b17879dd6fb349ac9f5932fdcb1dcb41": {
      "model_module": "@jupyter-widgets/base",
      "model_module_version": "1.0.0",
      "model_name": "LayoutModel",
      "state": {}
     },
     "b1c4b151ed7a4591b48f50e4d880a7bc": {
      "model_module": "@jupyter-widgets/controls",
      "model_module_version": "1.1.0",
      "model_name": "DescriptionStyleModel",
      "state": {
       "description_width": ""
      }
     },
     "b1de27ebe86a4a3c8d4040cfe5971f70": {
      "model_module": "@jupyter-widgets/base",
      "model_module_version": "1.0.0",
      "model_name": "LayoutModel",
      "state": {}
     },
     "b2024691bc2a4266aa1d62a6721b67e7": {
      "model_module": "@jupyter-widgets/base",
      "model_module_version": "1.0.0",
      "model_name": "LayoutModel",
      "state": {}
     },
     "b2b873938b0d4c93a1bf93b5b3c52a9a": {
      "model_module": "@jupyter-widgets/controls",
      "model_module_version": "1.1.0",
      "model_name": "IntProgressModel",
      "state": {
       "bar_style": "success",
       "layout": "IPY_MODEL_dfb22647477448f480d57822f494f511",
       "max": 41,
       "style": "IPY_MODEL_2e8a7c0329274c0fbb00e058d32cbac0",
       "value": 41
      }
     },
     "b39d0d70ba7b4f2a812c367bab4fde44": {
      "model_module": "@jupyter-widgets/controls",
      "model_module_version": "1.1.0",
      "model_name": "DescriptionStyleModel",
      "state": {
       "description_width": ""
      }
     },
     "b3a0d4fd06cb45a3abbac850d69dfc9b": {
      "model_module": "@jupyter-widgets/controls",
      "model_module_version": "1.1.0",
      "model_name": "DescriptionStyleModel",
      "state": {
       "description_width": ""
      }
     },
     "b3b763fa9abf43ddaa4f394b73a4d697": {
      "model_module": "@jupyter-widgets/base",
      "model_module_version": "1.0.0",
      "model_name": "LayoutModel",
      "state": {}
     },
     "b3c9b49256bd4f4fb2b439e12d5fd00a": {
      "model_module": "@jupyter-widgets/base",
      "model_module_version": "1.0.0",
      "model_name": "LayoutModel",
      "state": {}
     },
     "b514419b12d84f2db296195d07f306b7": {
      "model_module": "@jupyter-widgets/controls",
      "model_module_version": "1.1.0",
      "model_name": "DescriptionStyleModel",
      "state": {
       "description_width": ""
      }
     },
     "b52d3ca2ee86454ba3ac9d63bfc314c2": {
      "model_module": "@jupyter-widgets/controls",
      "model_module_version": "1.1.0",
      "model_name": "HTMLModel",
      "state": {
       "layout": "IPY_MODEL_364d931d8df54e089e803c431046fdbd",
       "style": "IPY_MODEL_aabb03d81178410ba55d73ab977a0331",
       "value": "100% 30/30 [00:19&lt;00:00,  1.55it/s]"
      }
     },
     "b5f9827d326a4dee9461862266671c16": {
      "model_module": "@jupyter-widgets/base",
      "model_module_version": "1.0.0",
      "model_name": "LayoutModel",
      "state": {}
     },
     "b6c45586772e44a7bd4b90050b7c3f8d": {
      "model_module": "@jupyter-widgets/controls",
      "model_module_version": "1.1.0",
      "model_name": "IntProgressModel",
      "state": {
       "bar_style": "danger",
       "layout": "IPY_MODEL_4773034632b34304a75c6311d0640a7f",
       "max": 41,
       "style": "IPY_MODEL_d2fe95c7c40c4be4b5e4ae6bbf889d9f"
      }
     },
     "b6fa08ec0c58463fbc3142f5e339938d": {
      "model_module": "@jupyter-widgets/controls",
      "model_module_version": "1.1.0",
      "model_name": "DescriptionStyleModel",
      "state": {
       "description_width": ""
      }
     },
     "b745ff4f488447a7b17badd5286037c6": {
      "model_module": "@jupyter-widgets/controls",
      "model_module_version": "1.1.0",
      "model_name": "HTMLModel",
      "state": {
       "layout": "IPY_MODEL_1adf935f31364cb8bab671094a9b7925",
       "style": "IPY_MODEL_b1c4b151ed7a4591b48f50e4d880a7bc",
       "value": "100% 30/30 [00:01&lt;00:00, 19.94it/s]"
      }
     },
     "b7c17089339e48dd80c3f175cb6419c0": {
      "model_module": "@jupyter-widgets/controls",
      "model_module_version": "1.1.0",
      "model_name": "ProgressStyleModel",
      "state": {
       "description_width": ""
      }
     },
     "b86413a0eec642bfafbc6f4ca456348f": {
      "model_module": "@jupyter-widgets/controls",
      "model_module_version": "1.1.0",
      "model_name": "HTMLModel",
      "state": {
       "layout": "IPY_MODEL_d976d0eafcfb4dd596669334cc3e9727",
       "style": "IPY_MODEL_53f3610889dd471d82327baa93451c0b",
       "value": "  0% 0/30 [00:00&lt;?, ?it/s]"
      }
     },
     "ba068f1aff104f2fb1905783f8d05b64": {
      "model_module": "@jupyter-widgets/base",
      "model_module_version": "1.0.0",
      "model_name": "LayoutModel",
      "state": {}
     },
     "bc422abf78944901baad4461dd8ff04d": {
      "model_module": "@jupyter-widgets/base",
      "model_module_version": "1.0.0",
      "model_name": "LayoutModel",
      "state": {}
     },
     "bd0f407761264de1a24b9898bac6a1b7": {
      "model_module": "@jupyter-widgets/base",
      "model_module_version": "1.0.0",
      "model_name": "LayoutModel",
      "state": {}
     },
     "bdd2e21f99cc4c9c833681d038e5c495": {
      "model_module": "@jupyter-widgets/base",
      "model_module_version": "1.0.0",
      "model_name": "LayoutModel",
      "state": {}
     },
     "bdf43d19d8e0493282fa5e7494b267bb": {
      "model_module": "@jupyter-widgets/controls",
      "model_module_version": "1.1.0",
      "model_name": "HBoxModel",
      "state": {
       "children": [
        "IPY_MODEL_850532171d004ac7b27fd5dbdaaba421",
        "IPY_MODEL_93504b3ca84440a3b32a1999ee237842"
       ],
       "layout": "IPY_MODEL_e4368152a612487c9e922394f2a41612"
      }
     },
     "be0ee428c4db42b99288e29dcc74c926": {
      "model_module": "@jupyter-widgets/base",
      "model_module_version": "1.0.0",
      "model_name": "LayoutModel",
      "state": {}
     },
     "be6a3afb752e40c4aae3a6cc69eace61": {
      "model_module": "@jupyter-widgets/controls",
      "model_module_version": "1.1.0",
      "model_name": "HBoxModel",
      "state": {
       "children": [
        "IPY_MODEL_0aedab6848e14124b1b40e84f6e9728a",
        "IPY_MODEL_d497ddbaaaab4ab5a10615378e4026cc"
       ],
       "layout": "IPY_MODEL_4050ac47b3e34360a16ae592c783a4f0"
      }
     },
     "bebf8676f4a644a4a7779f1940a66d9c": {
      "model_module": "@jupyter-widgets/controls",
      "model_module_version": "1.1.0",
      "model_name": "IntProgressModel",
      "state": {
       "bar_style": "success",
       "layout": "IPY_MODEL_9936d4801ba849cdb3e9d3f60550af06",
       "max": 41,
       "style": "IPY_MODEL_058574d28fc5488e8d14cd1cc261f28f",
       "value": 41
      }
     },
     "bf7cee5342e443c88cf997af5d97a245": {
      "model_module": "@jupyter-widgets/controls",
      "model_module_version": "1.1.0",
      "model_name": "HTMLModel",
      "state": {
       "layout": "IPY_MODEL_08a97204510e40d79a49d2b447c6aaf7",
       "style": "IPY_MODEL_b514419b12d84f2db296195d07f306b7",
       "value": "  0% 0/30 [00:00&lt;?, ?it/s]"
      }
     },
     "bfec4db4dd2b446da821b4d78287fa01": {
      "model_module": "@jupyter-widgets/base",
      "model_module_version": "1.0.0",
      "model_name": "LayoutModel",
      "state": {}
     },
     "bff3c45d8de6403c919357c12d55494e": {
      "model_module": "@jupyter-widgets/controls",
      "model_module_version": "1.1.0",
      "model_name": "ProgressStyleModel",
      "state": {
       "description_width": ""
      }
     },
     "c002775b3f774973aea2d4fea77c8184": {
      "model_module": "@jupyter-widgets/controls",
      "model_module_version": "1.1.0",
      "model_name": "DescriptionStyleModel",
      "state": {
       "description_width": ""
      }
     },
     "c024ea5b527441a7a4af7c20ef91f39c": {
      "model_module": "@jupyter-widgets/base",
      "model_module_version": "1.0.0",
      "model_name": "LayoutModel",
      "state": {}
     },
     "c074ce748e6e48b9b97ab353bd1f3de1": {
      "model_module": "@jupyter-widgets/base",
      "model_module_version": "1.0.0",
      "model_name": "LayoutModel",
      "state": {}
     },
     "c13cda1cb3de4382ba8d70d1abe21ae0": {
      "model_module": "@jupyter-widgets/controls",
      "model_module_version": "1.1.0",
      "model_name": "HTMLModel",
      "state": {
       "layout": "IPY_MODEL_39bbdb39ce6b436fa46f315c8415b647",
       "style": "IPY_MODEL_fb6206a587694ff2b66d9a1112f231f3",
       "value": "  0% 0/30 [00:00&lt;?, ?it/s]"
      }
     },
     "c21a7ff293cc4c01aad2c74b05dd3990": {
      "model_module": "@jupyter-widgets/controls",
      "model_module_version": "1.1.0",
      "model_name": "HBoxModel",
      "state": {
       "children": [
        "IPY_MODEL_75056c1443ac4f1dbbffe7ba4bb64646",
        "IPY_MODEL_57635f9221934e3e8a898e0361ef7918"
       ],
       "layout": "IPY_MODEL_622992f451c5441c9cb8f875d580809d"
      }
     },
     "c29b3cc4991a461794c1003657c6dff6": {
      "model_module": "@jupyter-widgets/controls",
      "model_module_version": "1.1.0",
      "model_name": "IntProgressModel",
      "state": {
       "bar_style": "success",
       "layout": "IPY_MODEL_891397ae9f1e4b61ad49ab324bcd802a",
       "max": 41,
       "style": "IPY_MODEL_a66acfd5ce524f34851b12c6324a500b",
       "value": 41
      }
     },
     "c357ca854a764aaa982d590c1f94bdcc": {
      "model_module": "@jupyter-widgets/base",
      "model_module_version": "1.0.0",
      "model_name": "LayoutModel",
      "state": {}
     },
     "c36830a703024058ab9ba3dcad79f2a9": {
      "model_module": "@jupyter-widgets/controls",
      "model_module_version": "1.1.0",
      "model_name": "DescriptionStyleModel",
      "state": {
       "description_width": ""
      }
     },
     "c3e9113be6ce4694a71758a39df49b87": {
      "model_module": "@jupyter-widgets/base",
      "model_module_version": "1.0.0",
      "model_name": "LayoutModel",
      "state": {}
     },
     "c403eb472b954806a05455336118b3ad": {
      "model_module": "@jupyter-widgets/base",
      "model_module_version": "1.0.0",
      "model_name": "LayoutModel",
      "state": {}
     },
     "c6190b83d72e4e3b9a4fc04fc6f7a6e8": {
      "model_module": "@jupyter-widgets/base",
      "model_module_version": "1.0.0",
      "model_name": "LayoutModel",
      "state": {}
     },
     "c67b884f865f4b34867d08debb859de7": {
      "model_module": "@jupyter-widgets/controls",
      "model_module_version": "1.1.0",
      "model_name": "IntProgressModel",
      "state": {
       "bar_style": "success",
       "layout": "IPY_MODEL_b11f77343ef44957937222fc6febecd3",
       "max": 30,
       "style": "IPY_MODEL_8bd4875f2dbe451d8d81aed93ea97548",
       "value": 30
      }
     },
     "c6db036b9b6e4e2d81c52abbbf8cdcd3": {
      "model_module": "@jupyter-widgets/controls",
      "model_module_version": "1.1.0",
      "model_name": "DescriptionStyleModel",
      "state": {
       "description_width": ""
      }
     },
     "c7c0a6eead97457dbeecfc580e0a6acf": {
      "model_module": "@jupyter-widgets/controls",
      "model_module_version": "1.1.0",
      "model_name": "ProgressStyleModel",
      "state": {
       "description_width": ""
      }
     },
     "c7eec37affbd491cb87401e76419222f": {
      "model_module": "@jupyter-widgets/base",
      "model_module_version": "1.0.0",
      "model_name": "LayoutModel",
      "state": {}
     },
     "c894c914894149c9bcff3f618e4e3af0": {
      "model_module": "@jupyter-widgets/controls",
      "model_module_version": "1.1.0",
      "model_name": "ProgressStyleModel",
      "state": {
       "description_width": ""
      }
     },
     "c9b85d36756e410a84e482c8482cd3a1": {
      "model_module": "@jupyter-widgets/controls",
      "model_module_version": "1.1.0",
      "model_name": "DescriptionStyleModel",
      "state": {
       "description_width": ""
      }
     },
     "ca78f8bb975448e28c175a4325707567": {
      "model_module": "@jupyter-widgets/base",
      "model_module_version": "1.0.0",
      "model_name": "LayoutModel",
      "state": {}
     },
     "caba961cdae44c5a86648e3e9d86440a": {
      "model_module": "@jupyter-widgets/controls",
      "model_module_version": "1.1.0",
      "model_name": "IntProgressModel",
      "state": {
       "bar_style": "success",
       "layout": "IPY_MODEL_a6d451dfdebd4ccb88a0c02ca88c1abf",
       "max": 41,
       "style": "IPY_MODEL_3901c7adc3084a6d9d32e3c92674eec2",
       "value": 41
      }
     },
     "cae92ac0caff4a4bbf3fe55961cf06bf": {
      "model_module": "@jupyter-widgets/base",
      "model_module_version": "1.0.0",
      "model_name": "LayoutModel",
      "state": {}
     },
     "cb21e89709fa47a1bb68792c9487ea10": {
      "model_module": "@jupyter-widgets/base",
      "model_module_version": "1.0.0",
      "model_name": "LayoutModel",
      "state": {}
     },
     "cd01f93a9bdd44429de9c0c9af1aedb1": {
      "model_module": "@jupyter-widgets/base",
      "model_module_version": "1.0.0",
      "model_name": "LayoutModel",
      "state": {}
     },
     "ce4585b9ce9a4bdfa6ec57e81a7249a4": {
      "model_module": "@jupyter-widgets/controls",
      "model_module_version": "1.1.0",
      "model_name": "ProgressStyleModel",
      "state": {
       "description_width": ""
      }
     },
     "ce7ea71f18194689b19e1c7eda52023b": {
      "model_module": "@jupyter-widgets/controls",
      "model_module_version": "1.1.0",
      "model_name": "DescriptionStyleModel",
      "state": {
       "description_width": ""
      }
     },
     "ceac7707c5f2445dafa4104f8867e48f": {
      "model_module": "@jupyter-widgets/base",
      "model_module_version": "1.0.0",
      "model_name": "LayoutModel",
      "state": {}
     },
     "ceea3d9f32da40dbb9e94b4fb66df1ca": {
      "model_module": "@jupyter-widgets/controls",
      "model_module_version": "1.1.0",
      "model_name": "HBoxModel",
      "state": {
       "children": [
        "IPY_MODEL_a49b1e2ac1b24851be236e0cf5b46668",
        "IPY_MODEL_a0a670b64eda48968f663e9de21d57b4"
       ],
       "layout": "IPY_MODEL_c3e9113be6ce4694a71758a39df49b87"
      }
     },
     "d0d863c1b92e47258c3bd01ca222ac80": {
      "model_module": "@jupyter-widgets/controls",
      "model_module_version": "1.1.0",
      "model_name": "HBoxModel",
      "state": {
       "children": [
        "IPY_MODEL_8d3a3598e1e1463f913ee2a6f4922a27",
        "IPY_MODEL_e98041e4d36540faa4f119a4dd803b79"
       ],
       "layout": "IPY_MODEL_f06ee342baf14184bc00d331618d3993"
      }
     },
     "d0eb2de6f5b94a8abfdccadeb1851ac4": {
      "model_module": "@jupyter-widgets/base",
      "model_module_version": "1.0.0",
      "model_name": "LayoutModel",
      "state": {}
     },
     "d10ea7d9cf1e4990827b0288ac6bec6f": {
      "model_module": "@jupyter-widgets/controls",
      "model_module_version": "1.1.0",
      "model_name": "ProgressStyleModel",
      "state": {
       "description_width": ""
      }
     },
     "d12ca19fabeb46218e4957443d557ed2": {
      "model_module": "@jupyter-widgets/controls",
      "model_module_version": "1.1.0",
      "model_name": "ProgressStyleModel",
      "state": {
       "description_width": ""
      }
     },
     "d1d965948c8c47f7ad8f514c853213d8": {
      "model_module": "@jupyter-widgets/controls",
      "model_module_version": "1.1.0",
      "model_name": "IntProgressModel",
      "state": {
       "bar_style": "danger",
       "layout": "IPY_MODEL_1c35199b09f04937855a10da9ac22fcb",
       "max": 30,
       "style": "IPY_MODEL_7e43bbcd387348e98092753f44d1943b"
      }
     },
     "d2fe95c7c40c4be4b5e4ae6bbf889d9f": {
      "model_module": "@jupyter-widgets/controls",
      "model_module_version": "1.1.0",
      "model_name": "ProgressStyleModel",
      "state": {
       "description_width": ""
      }
     },
     "d329e4aa8d744b3082198cc585125707": {
      "model_module": "@jupyter-widgets/controls",
      "model_module_version": "1.1.0",
      "model_name": "IntProgressModel",
      "state": {
       "bar_style": "success",
       "layout": "IPY_MODEL_c074ce748e6e48b9b97ab353bd1f3de1",
       "max": 41,
       "style": "IPY_MODEL_d12ca19fabeb46218e4957443d557ed2",
       "value": 41
      }
     },
     "d41c286b5bc24f7aaa323d7f7bdf8090": {
      "model_module": "@jupyter-widgets/controls",
      "model_module_version": "1.1.0",
      "model_name": "HBoxModel",
      "state": {
       "children": [
        "IPY_MODEL_8d029d0656944eb787860c12731da9fa",
        "IPY_MODEL_08b13a976b564a50bcac00c482bbc21a"
       ],
       "layout": "IPY_MODEL_6af3532eedd34339a2aaafa22166e8fe"
      }
     },
     "d497ddbaaaab4ab5a10615378e4026cc": {
      "model_module": "@jupyter-widgets/controls",
      "model_module_version": "1.1.0",
      "model_name": "HTMLModel",
      "state": {
       "layout": "IPY_MODEL_9b3c5b8140494b7eb2a7217ce378d713",
       "style": "IPY_MODEL_5ce1f9bb49964396b2f00cc8af6f0c44",
       "value": " 43% 13/30 [02:00&lt;02:36,  9.19s/it]"
      }
     },
     "d4a10e80fd3743bba60e193100491a86": {
      "model_module": "@jupyter-widgets/controls",
      "model_module_version": "1.1.0",
      "model_name": "HTMLModel",
      "state": {
       "layout": "IPY_MODEL_ed2b533dd4e64605b48c788ae58949b5",
       "style": "IPY_MODEL_558669fe0fd54b1a9ef18e20fdbf0f46",
       "value": "100% 30/30 [00:20&lt;00:00,  1.39it/s]"
      }
     },
     "d52c9758487b435c92c856e78f8d8822": {
      "model_module": "@jupyter-widgets/base",
      "model_module_version": "1.0.0",
      "model_name": "LayoutModel",
      "state": {}
     },
     "d59bdfdb8ad240b599494307eb800a56": {
      "model_module": "@jupyter-widgets/controls",
      "model_module_version": "1.1.0",
      "model_name": "ProgressStyleModel",
      "state": {
       "description_width": ""
      }
     },
     "d66f636ffe974fd18773d3c400bf95f8": {
      "model_module": "@jupyter-widgets/base",
      "model_module_version": "1.0.0",
      "model_name": "LayoutModel",
      "state": {}
     },
     "d6bdf48a306b40269d08fca4caad122a": {
      "model_module": "@jupyter-widgets/controls",
      "model_module_version": "1.1.0",
      "model_name": "IntProgressModel",
      "state": {
       "bar_style": "danger",
       "layout": "IPY_MODEL_31d5731e2b3449849e1008fad8701838",
       "max": 30,
       "style": "IPY_MODEL_84fa250e77ab4702b9fe8e4b3902770e"
      }
     },
     "d8485667a7e94e60805657b4fc90aa6b": {
      "model_module": "@jupyter-widgets/controls",
      "model_module_version": "1.1.0",
      "model_name": "HTMLModel",
      "state": {
       "layout": "IPY_MODEL_ca78f8bb975448e28c175a4325707567",
       "style": "IPY_MODEL_64dfe0f56f7640ef9444165c87e55348",
       "value": "100% 41/41 [00:01&lt;00:00, 22.18it/s]"
      }
     },
     "d90d1604b82c41cd8cbe890f506de7d5": {
      "model_module": "@jupyter-widgets/base",
      "model_module_version": "1.0.0",
      "model_name": "LayoutModel",
      "state": {}
     },
     "d976d0eafcfb4dd596669334cc3e9727": {
      "model_module": "@jupyter-widgets/base",
      "model_module_version": "1.0.0",
      "model_name": "LayoutModel",
      "state": {}
     },
     "da2270036f774fbea0854ac405f102e6": {
      "model_module": "@jupyter-widgets/controls",
      "model_module_version": "1.1.0",
      "model_name": "HBoxModel",
      "state": {
       "children": [
        "IPY_MODEL_a62b9ae073e142c68a12622652271466",
        "IPY_MODEL_e604ae1f4abb4860af10ab79285ff640"
       ],
       "layout": "IPY_MODEL_3d91ba23210e4dfcba6dabf53d3b5efe"
      }
     },
     "db59bbb1282e42368a7ee0b957710895": {
      "model_module": "@jupyter-widgets/controls",
      "model_module_version": "1.1.0",
      "model_name": "IntProgressModel",
      "state": {
       "bar_style": "success",
       "layout": "IPY_MODEL_9e8c7b2c726a46fb9de6b711f47ece67",
       "max": 41,
       "style": "IPY_MODEL_94a880a043e74303941c925aaf0b4ecd",
       "value": 41
      }
     },
     "dd82096a43a5482ab4319f96eb854ea7": {
      "model_module": "@jupyter-widgets/controls",
      "model_module_version": "1.1.0",
      "model_name": "HBoxModel",
      "state": {
       "children": [
        "IPY_MODEL_8e5d598232ab47d7bec60fd62ad0e22f",
        "IPY_MODEL_80de2b9608644a728e0b39a2234e4be6"
       ],
       "layout": "IPY_MODEL_0d3ad477b69547b2a89742ffe2f0cd50"
      }
     },
     "ddd8d016b5744ff4af31b46cb0420def": {
      "model_module": "@jupyter-widgets/controls",
      "model_module_version": "1.1.0",
      "model_name": "HBoxModel",
      "state": {
       "children": [
        "IPY_MODEL_f10198449d884111a306c62d4b41ee52",
        "IPY_MODEL_f1f2819fce454462ac00a0f784f1ec17"
       ],
       "layout": "IPY_MODEL_5c2c6d23faa04baaafc809ed4929e193"
      }
     },
     "ddf05137d182489dbc962d5cd15c1c54": {
      "model_module": "@jupyter-widgets/controls",
      "model_module_version": "1.1.0",
      "model_name": "IntProgressModel",
      "state": {
       "bar_style": "success",
       "layout": "IPY_MODEL_8aba9257ebc942a5adb2a03994b35628",
       "max": 30,
       "style": "IPY_MODEL_091b70682a5c4ab799caa5871793bd52",
       "value": 30
      }
     },
     "ddfc53b6b95449b7989c1bdf36b44a0a": {
      "model_module": "@jupyter-widgets/controls",
      "model_module_version": "1.1.0",
      "model_name": "DescriptionStyleModel",
      "state": {
       "description_width": ""
      }
     },
     "dea5281c87ae43c7934c88d3ce2fec08": {
      "model_module": "@jupyter-widgets/controls",
      "model_module_version": "1.1.0",
      "model_name": "HBoxModel",
      "state": {
       "children": [
        "IPY_MODEL_5d87d8a171e04fcb99db3e936f4913a6",
        "IPY_MODEL_605877e612c2458c9d6e3fb5b8042d23"
       ],
       "layout": "IPY_MODEL_ef7f073127fd47b688f7f4dfcba64407"
      }
     },
     "dfb22647477448f480d57822f494f511": {
      "model_module": "@jupyter-widgets/base",
      "model_module_version": "1.0.0",
      "model_name": "LayoutModel",
      "state": {}
     },
     "e1e9aaba48c642f38b54faa7a2cd60e8": {
      "model_module": "@jupyter-widgets/controls",
      "model_module_version": "1.1.0",
      "model_name": "DescriptionStyleModel",
      "state": {
       "description_width": ""
      }
     },
     "e1fc708561364e37aabf008e620428ef": {
      "model_module": "@jupyter-widgets/controls",
      "model_module_version": "1.1.0",
      "model_name": "ProgressStyleModel",
      "state": {
       "description_width": ""
      }
     },
     "e234680b30214254850c0abb629daae5": {
      "model_module": "@jupyter-widgets/base",
      "model_module_version": "1.0.0",
      "model_name": "LayoutModel",
      "state": {}
     },
     "e29f37a9bb464ba5ad5564088e566d2b": {
      "model_module": "@jupyter-widgets/controls",
      "model_module_version": "1.1.0",
      "model_name": "HTMLModel",
      "state": {
       "layout": "IPY_MODEL_238a6830d3a5434ea8067b5abddda302",
       "style": "IPY_MODEL_b3a0d4fd06cb45a3abbac850d69dfc9b",
       "value": "  0% 0/30 [00:00&lt;?, ?it/s]"
      }
     },
     "e346b2f75205438cbdacaaf0c91d1951": {
      "model_module": "@jupyter-widgets/controls",
      "model_module_version": "1.1.0",
      "model_name": "ProgressStyleModel",
      "state": {
       "description_width": ""
      }
     },
     "e35d5e5f66d2489b8b1163e1ff8852f6": {
      "model_module": "@jupyter-widgets/base",
      "model_module_version": "1.0.0",
      "model_name": "LayoutModel",
      "state": {}
     },
     "e4368152a612487c9e922394f2a41612": {
      "model_module": "@jupyter-widgets/base",
      "model_module_version": "1.0.0",
      "model_name": "LayoutModel",
      "state": {}
     },
     "e604ae1f4abb4860af10ab79285ff640": {
      "model_module": "@jupyter-widgets/controls",
      "model_module_version": "1.1.0",
      "model_name": "HTMLModel",
      "state": {
       "layout": "IPY_MODEL_61fb88974f82483ba3717a6ffcb96dfb",
       "style": "IPY_MODEL_3297bc7bed544ce08bf315a2a642f7d1",
       "value": "100% 41/41 [00:01&lt;00:00, 23.53it/s]"
      }
     },
     "e644e083b7374c728d113566e63bc601": {
      "model_module": "@jupyter-widgets/controls",
      "model_module_version": "1.1.0",
      "model_name": "HBoxModel",
      "state": {
       "children": [
        "IPY_MODEL_24a52a8fe11a4eb5a177b82a8a615a22",
        "IPY_MODEL_f3e6f6bccbea4d5cb5e0b6f77a51343e"
       ],
       "layout": "IPY_MODEL_1837f1d24c9a439c918d17efe2d2433a"
      }
     },
     "e7100e5023b340238d0441f8ade8bc3f": {
      "model_module": "@jupyter-widgets/controls",
      "model_module_version": "1.1.0",
      "model_name": "DescriptionStyleModel",
      "state": {
       "description_width": ""
      }
     },
     "e721519642124b88a7420ba382530137": {
      "model_module": "@jupyter-widgets/controls",
      "model_module_version": "1.1.0",
      "model_name": "DescriptionStyleModel",
      "state": {
       "description_width": ""
      }
     },
     "e764fd50a8944bfe816b6ba78efa3471": {
      "model_module": "@jupyter-widgets/controls",
      "model_module_version": "1.1.0",
      "model_name": "ProgressStyleModel",
      "state": {
       "description_width": ""
      }
     },
     "e7e151a53b55479f835bd2d4423fbb06": {
      "model_module": "@jupyter-widgets/controls",
      "model_module_version": "1.1.0",
      "model_name": "IntProgressModel",
      "state": {
       "bar_style": "danger",
       "layout": "IPY_MODEL_0610fb1339664cde9a484a4c51de0e1a",
       "max": 30,
       "style": "IPY_MODEL_f202b91a81e745d0bf02d968438545aa"
      }
     },
     "e81317a3f6c941cca7b7e9a7eb51405f": {
      "model_module": "@jupyter-widgets/controls",
      "model_module_version": "1.1.0",
      "model_name": "IntProgressModel",
      "state": {
       "bar_style": "success",
       "layout": "IPY_MODEL_fef69f968d9348aeb81298b569fb52f6",
       "max": 30,
       "style": "IPY_MODEL_a256611c0d21427ead72d7adf939c505",
       "value": 30
      }
     },
     "e98041e4d36540faa4f119a4dd803b79": {
      "model_module": "@jupyter-widgets/controls",
      "model_module_version": "1.1.0",
      "model_name": "HTMLModel",
      "state": {
       "layout": "IPY_MODEL_fac055f63e3546afb98dbadf4f9b3f81",
       "style": "IPY_MODEL_10c366dd7d024f9885011188bf9d7939",
       "value": "  0% 0/30 [00:00&lt;?, ?it/s]"
      }
     },
     "ea7badef0b0f45519c3ccf128d569e01": {
      "model_module": "@jupyter-widgets/controls",
      "model_module_version": "1.1.0",
      "model_name": "HTMLModel",
      "state": {
       "layout": "IPY_MODEL_c403eb472b954806a05455336118b3ad",
       "style": "IPY_MODEL_9e9cffe3a5b048439a509bc497cac8fe",
       "value": "100% 41/41 [00:01&lt;00:00, 34.25it/s]"
      }
     },
     "ea977314e8c84bb2b6ab8f5f55e09624": {
      "model_module": "@jupyter-widgets/controls",
      "model_module_version": "1.1.0",
      "model_name": "HTMLModel",
      "state": {
       "layout": "IPY_MODEL_21f1c5c4834542b98741add219322ef1",
       "style": "IPY_MODEL_1c2fe8fb5ddc4825adaea7f2aecf1bb9",
       "value": "100% 41/41 [00:01&lt;00:00, 26.52it/s]"
      }
     },
     "eafa0c4be39d4d7180e55408b04d4a00": {
      "model_module": "@jupyter-widgets/base",
      "model_module_version": "1.0.0",
      "model_name": "LayoutModel",
      "state": {}
     },
     "eb49c8779b824e149ea11b7f5d78573a": {
      "model_module": "@jupyter-widgets/controls",
      "model_module_version": "1.1.0",
      "model_name": "DescriptionStyleModel",
      "state": {
       "description_width": ""
      }
     },
     "ebb9b3305d6b4148b898f57786fc94b7": {
      "model_module": "@jupyter-widgets/base",
      "model_module_version": "1.0.0",
      "model_name": "LayoutModel",
      "state": {}
     },
     "ec2106cc894a49f6acf6d7ea05caad30": {
      "model_module": "@jupyter-widgets/controls",
      "model_module_version": "1.1.0",
      "model_name": "HBoxModel",
      "state": {
       "children": [
        "IPY_MODEL_9f31b1e328524549853be60eb5e7ff5f",
        "IPY_MODEL_a016ea31c869403f87c81ad5b13164cd"
       ],
       "layout": "IPY_MODEL_b17879dd6fb349ac9f5932fdcb1dcb41"
      }
     },
     "ec23ab605a9f4531a129cd5f2fec5024": {
      "model_module": "@jupyter-widgets/controls",
      "model_module_version": "1.1.0",
      "model_name": "DescriptionStyleModel",
      "state": {
       "description_width": ""
      }
     },
     "ecdf4ce8ece845faa935cf5e4d417e26": {
      "model_module": "@jupyter-widgets/controls",
      "model_module_version": "1.1.0",
      "model_name": "IntProgressModel",
      "state": {
       "bar_style": "success",
       "layout": "IPY_MODEL_0a42d39b150340d7a7c8ede08cdc2e07",
       "max": 41,
       "style": "IPY_MODEL_a02e9ec81c624f16b168b13768cec7b2",
       "value": 41
      }
     },
     "ed2b533dd4e64605b48c788ae58949b5": {
      "model_module": "@jupyter-widgets/base",
      "model_module_version": "1.0.0",
      "model_name": "LayoutModel",
      "state": {}
     },
     "edf04281bc744914866da424b5f85870": {
      "model_module": "@jupyter-widgets/controls",
      "model_module_version": "1.1.0",
      "model_name": "IntProgressModel",
      "state": {
       "bar_style": "success",
       "layout": "IPY_MODEL_c6190b83d72e4e3b9a4fc04fc6f7a6e8",
       "max": 41,
       "style": "IPY_MODEL_ce4585b9ce9a4bdfa6ec57e81a7249a4",
       "value": 41
      }
     },
     "ef7f073127fd47b688f7f4dfcba64407": {
      "model_module": "@jupyter-widgets/base",
      "model_module_version": "1.0.0",
      "model_name": "LayoutModel",
      "state": {}
     },
     "efc6370cb19b41859eb2e0c340a7d884": {
      "model_module": "@jupyter-widgets/base",
      "model_module_version": "1.0.0",
      "model_name": "LayoutModel",
      "state": {}
     },
     "f06ee342baf14184bc00d331618d3993": {
      "model_module": "@jupyter-widgets/base",
      "model_module_version": "1.0.0",
      "model_name": "LayoutModel",
      "state": {}
     },
     "f10198449d884111a306c62d4b41ee52": {
      "model_module": "@jupyter-widgets/controls",
      "model_module_version": "1.1.0",
      "model_name": "IntProgressModel",
      "state": {
       "bar_style": "success",
       "layout": "IPY_MODEL_b5f9827d326a4dee9461862266671c16",
       "max": 30,
       "style": "IPY_MODEL_1417566d83c74b77b3fa9538b1fb4a76",
       "value": 30
      }
     },
     "f160743d9b7e46ff970f0c7a850f7cdb": {
      "model_module": "@jupyter-widgets/controls",
      "model_module_version": "1.1.0",
      "model_name": "HTMLModel",
      "state": {
       "layout": "IPY_MODEL_60f769047eb0475d9f7686104d164fef",
       "style": "IPY_MODEL_08e643936b0c48f6b1da208b34e6c7d9",
       "value": "100% 41/41 [00:01&lt;00:00, 31.35it/s]"
      }
     },
     "f1f2819fce454462ac00a0f784f1ec17": {
      "model_module": "@jupyter-widgets/controls",
      "model_module_version": "1.1.0",
      "model_name": "HTMLModel",
      "state": {
       "layout": "IPY_MODEL_d90d1604b82c41cd8cbe890f506de7d5",
       "style": "IPY_MODEL_9e052f48e62b454282b897a214353917",
       "value": "100% 30/30 [00:21&lt;00:00,  1.38it/s]"
      }
     },
     "f202b91a81e745d0bf02d968438545aa": {
      "model_module": "@jupyter-widgets/controls",
      "model_module_version": "1.1.0",
      "model_name": "ProgressStyleModel",
      "state": {
       "description_width": ""
      }
     },
     "f29aa3dc72d443399f5256b30eea79a1": {
      "model_module": "@jupyter-widgets/controls",
      "model_module_version": "1.1.0",
      "model_name": "ProgressStyleModel",
      "state": {
       "description_width": ""
      }
     },
     "f36df7fb3b7c426fb724fd557bd31628": {
      "model_module": "@jupyter-widgets/controls",
      "model_module_version": "1.1.0",
      "model_name": "IntProgressModel",
      "state": {
       "bar_style": "success",
       "layout": "IPY_MODEL_c024ea5b527441a7a4af7c20ef91f39c",
       "max": 30,
       "style": "IPY_MODEL_0dbfd0e87d9c4865abe11ab302bd2563",
       "value": 30
      }
     },
     "f3e6f6bccbea4d5cb5e0b6f77a51343e": {
      "model_module": "@jupyter-widgets/controls",
      "model_module_version": "1.1.0",
      "model_name": "HTMLModel",
      "state": {
       "layout": "IPY_MODEL_e234680b30214254850c0abb629daae5",
       "style": "IPY_MODEL_6e3d478b54a74d9db42207d70b95f436",
       "value": "100% 30/30 [00:03&lt;00:00,  9.74it/s]"
      }
     },
     "f6327bc3260d4d2eaf09aca93a57d6c2": {
      "model_module": "@jupyter-widgets/base",
      "model_module_version": "1.0.0",
      "model_name": "LayoutModel",
      "state": {}
     },
     "f67c26db63344a03947557a538640e6f": {
      "model_module": "@jupyter-widgets/base",
      "model_module_version": "1.0.0",
      "model_name": "LayoutModel",
      "state": {}
     },
     "f68f8cfdf04e4232992cc9e76c100d8f": {
      "model_module": "@jupyter-widgets/controls",
      "model_module_version": "1.1.0",
      "model_name": "IntProgressModel",
      "state": {
       "bar_style": "success",
       "layout": "IPY_MODEL_3a034d179d5c44baaa6dd9838fdc283a",
       "max": 30,
       "style": "IPY_MODEL_8b38fe6a03bb417ca5dd8c72e4557767",
       "value": 30
      }
     },
     "f6909277f513485281fd60f35d9edfb8": {
      "model_module": "@jupyter-widgets/controls",
      "model_module_version": "1.1.0",
      "model_name": "HBoxModel",
      "state": {
       "children": [
        "IPY_MODEL_caba961cdae44c5a86648e3e9d86440a",
        "IPY_MODEL_298f2bf4890b415192ca8ddcd4eed799"
       ],
       "layout": "IPY_MODEL_96a33137563448179b2357e6f395f267"
      }
     },
     "f6955500c9254fd091aad60f64aeb9dd": {
      "model_module": "@jupyter-widgets/controls",
      "model_module_version": "1.1.0",
      "model_name": "IntProgressModel",
      "state": {
       "bar_style": "success",
       "layout": "IPY_MODEL_8a534efad4e541e58a695ee69e181581",
       "max": 30,
       "style": "IPY_MODEL_194d4bc6a5ae4417927f101821c088e3",
       "value": 30
      }
     },
     "f7f3f522d234498981d7eb16b7d16579": {
      "model_module": "@jupyter-widgets/controls",
      "model_module_version": "1.1.0",
      "model_name": "HTMLModel",
      "state": {
       "layout": "IPY_MODEL_8861c5f8222b411eb286506ab15a1854",
       "style": "IPY_MODEL_b6fa08ec0c58463fbc3142f5e339938d",
       "value": "100% 41/41 [00:01&lt;00:00, 34.45it/s]"
      }
     },
     "f7f400c783fe4e0b8294eeebf0683018": {
      "model_module": "@jupyter-widgets/controls",
      "model_module_version": "1.1.0",
      "model_name": "IntProgressModel",
      "state": {
       "bar_style": "danger",
       "layout": "IPY_MODEL_8317b8f558a845babf1d16d377d91cbd",
       "max": 30,
       "style": "IPY_MODEL_3c357ffe5d064f13a4a613e3cb1b930c"
      }
     },
     "f8a238c3263c4ed98f0d8a415c9f0e7a": {
      "model_module": "@jupyter-widgets/controls",
      "model_module_version": "1.1.0",
      "model_name": "DescriptionStyleModel",
      "state": {
       "description_width": ""
      }
     },
     "f8c35c67b84f4c20a5bac03b1ad44565": {
      "model_module": "@jupyter-widgets/base",
      "model_module_version": "1.0.0",
      "model_name": "LayoutModel",
      "state": {}
     },
     "f8ed5c552f1d44b3ad43d0bcb7e6d2eb": {
      "model_module": "@jupyter-widgets/controls",
      "model_module_version": "1.1.0",
      "model_name": "DescriptionStyleModel",
      "state": {
       "description_width": ""
      }
     },
     "f97e7fa496a04e4d9e103b560b35abbd": {
      "model_module": "@jupyter-widgets/controls",
      "model_module_version": "1.1.0",
      "model_name": "HBoxModel",
      "state": {
       "children": [
        "IPY_MODEL_5e35b28e8a07450893fb42ca3a306870",
        "IPY_MODEL_17a52a6b419d480da6f2cd2205fe53ed"
       ],
       "layout": "IPY_MODEL_a0395eb7488f4adab9dcdb2b6221e52a"
      }
     },
     "f9d2394bbcb446eeb0532ec02e502fb6": {
      "model_module": "@jupyter-widgets/controls",
      "model_module_version": "1.1.0",
      "model_name": "HBoxModel",
      "state": {
       "children": [
        "IPY_MODEL_33cb520e195e44f19bad2cb117a925ab",
        "IPY_MODEL_7fa3954edfce4e26988cb494a36ea2d8"
       ],
       "layout": "IPY_MODEL_bc422abf78944901baad4461dd8ff04d"
      }
     },
     "f9e24f8932fb4295be0b9d1d7d76591a": {
      "model_module": "@jupyter-widgets/base",
      "model_module_version": "1.0.0",
      "model_name": "LayoutModel",
      "state": {}
     },
     "fac055f63e3546afb98dbadf4f9b3f81": {
      "model_module": "@jupyter-widgets/base",
      "model_module_version": "1.0.0",
      "model_name": "LayoutModel",
      "state": {}
     },
     "fb6206a587694ff2b66d9a1112f231f3": {
      "model_module": "@jupyter-widgets/controls",
      "model_module_version": "1.1.0",
      "model_name": "DescriptionStyleModel",
      "state": {
       "description_width": ""
      }
     },
     "fd0adb100f7c462c8e7a68cbf206b672": {
      "model_module": "@jupyter-widgets/controls",
      "model_module_version": "1.1.0",
      "model_name": "DescriptionStyleModel",
      "state": {
       "description_width": ""
      }
     },
     "fdc8e9baffb54631bc0cb5c907b944d4": {
      "model_module": "@jupyter-widgets/controls",
      "model_module_version": "1.1.0",
      "model_name": "ProgressStyleModel",
      "state": {
       "description_width": ""
      }
     },
     "fe9e0a1c75f84010bc497a9b8a3832bc": {
      "model_module": "@jupyter-widgets/controls",
      "model_module_version": "1.1.0",
      "model_name": "HTMLModel",
      "state": {
       "layout": "IPY_MODEL_7c25dfb58a0949e08c4a2863a22c53eb",
       "style": "IPY_MODEL_c002775b3f774973aea2d4fea77c8184",
       "value": "100% 30/30 [00:20&lt;00:00,  1.45it/s]"
      }
     },
     "feb83d10ed314347b9eb5504c37aeb57": {
      "model_module": "@jupyter-widgets/base",
      "model_module_version": "1.0.0",
      "model_name": "LayoutModel",
      "state": {}
     },
     "febc28993ead45b89fb0e9ee4b0dbf24": {
      "model_module": "@jupyter-widgets/base",
      "model_module_version": "1.0.0",
      "model_name": "LayoutModel",
      "state": {}
     },
     "fef69f968d9348aeb81298b569fb52f6": {
      "model_module": "@jupyter-widgets/base",
      "model_module_version": "1.0.0",
      "model_name": "LayoutModel",
      "state": {}
     },
     "ffa7db63de1b4b73b8b46b520c9ff1cc": {
      "model_module": "@jupyter-widgets/controls",
      "model_module_version": "1.1.0",
      "model_name": "DescriptionStyleModel",
      "state": {
       "description_width": ""
      }
     },
     "ffe76efe508640cd8df9d0bbfeaadc87": {
      "model_module": "@jupyter-widgets/controls",
      "model_module_version": "1.1.0",
      "model_name": "DescriptionStyleModel",
      "state": {
       "description_width": ""
      }
     }
    },
    "version_major": 2,
    "version_minor": 0
   }
  }
 },
 "nbformat": 4,
 "nbformat_minor": 2
}
